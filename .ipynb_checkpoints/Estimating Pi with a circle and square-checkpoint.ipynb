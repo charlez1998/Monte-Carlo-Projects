{
 "cells": [
  {
   "cell_type": "code",
   "execution_count": 1,
   "metadata": {},
   "outputs": [],
   "source": [
    "import turtle \n",
    "import random\n",
    "import matplotlib.pyplot as plt \n",
    "import math"
   ]
  },
  {
   "cell_type": "code",
   "execution_count": 6,
   "metadata": {},
   "outputs": [],
   "source": [
    "myPen = turtle.Turtle()\n",
    "\n",
    "# Draw the square\n",
    "for i in range(4):\n",
    "    myPen.forward(100)  # Move the turtle forward by 100 units\n",
    "    myPen.left(90) # Turn the turtle to the left by 90 degrees\n",
    "    \n",
    "# draw the circle\n",
    "myPen.penup()\n",
    "myPen.goto(50, 0)\n",
    "myPen.pendown()\n",
    "myPen.circle(50)"
   ]
  },
  {
   "cell_type": "code",
   "execution_count": 9,
   "metadata": {},
   "outputs": [],
   "source": [
    "#count points within and outside the circle\n",
    "\n",
    "in_circle = 0\n",
    "out_circle = 0\n",
    "\n",
    "pi_values = []"
   ]
  },
  {
   "cell_type": "code",
   "execution_count": null,
   "metadata": {},
   "outputs": [],
   "source": [
    "for i in range(5):\n",
    "    for j in range(1000):\n",
    "        \n",
    "        x = random.randrange(-100,100)\n",
    "        y = random.randrange(-100,100)\n",
    "        \n",
    "        if (x**2 + y**2 > 100**2):\n",
    "            myPen.color(\"black\")\n",
    "            myPen.up()\n",
    "            myPen.goto(x,y)\n",
    "            myPen.down()\n",
    "            myPen.dot()\n",
    "            out_circle = out_circle + 1\n",
    "        else:\n",
    "            myPen.color(\"red\")\n",
    "            myPen.up()\n",
    "            myPen.goto(x,y)\n",
    "            myPen.down()\n",
    "            myPen.dot()\n",
    "            in_circle = in_circle + 1\n",
    "        \n",
    "        pi = 4.0 * in_circle / (in_circle + out_circle)\n",
    "        \n",
    "        pi_values.append(pi)\n",
    "        \n",
    "    print(pi_values[-1])"
   ]
  },
  {
   "cell_type": "code",
   "execution_count": null,
   "metadata": {},
   "outputs": [],
   "source": [
    "#plot Pi values\n",
    "plt.axhline(y = math.pi, color = 'red', linestyle = \"-\")\n",
    "plt.plot(pi_values)\n",
    "plt.xlabel('Iterations')\n",
    "plt.ylabel(\"Value of Pi\")\n",
    "plt.show()"
   ]
  },
  {
   "cell_type": "code",
   "execution_count": null,
   "metadata": {},
   "outputs": [],
   "source": []
  }
 ],
 "metadata": {
  "kernelspec": {
   "display_name": "Python 3",
   "language": "python",
   "name": "python3"
  },
  "language_info": {
   "codemirror_mode": {
    "name": "ipython",
    "version": 3
   },
   "file_extension": ".py",
   "mimetype": "text/x-python",
   "name": "python",
   "nbconvert_exporter": "python",
   "pygments_lexer": "ipython3",
   "version": "3.8.3"
  }
 },
 "nbformat": 4,
 "nbformat_minor": 4
}
