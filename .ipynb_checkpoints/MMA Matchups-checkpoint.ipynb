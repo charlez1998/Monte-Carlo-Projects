{
 "cells": [
  {
   "cell_type": "code",
   "execution_count": 2,
   "metadata": {},
   "outputs": [],
   "source": [
    "#get data on ways fighter won/lost through dec, won/lost through sub, won/lost through ko/tko  \n",
    "#tabulate outcomes in a table such as: Outcome, % chance, winner \n",
    "#FRONT END: give the user the ability to input two fighters (drop down menu)\n",
    "# ---- FINISHED --- \n",
    "#extra: prevent users from picking two fighters that are from different weight classes\n",
    "#--- LONG RUN --- \n",
    "# Improve model where it takes # of strikes (successful, attempted) , ground game/submissions duration, takedowns (successful, attempted)\n",
    "# into consideration "
   ]
  },
  {
   "cell_type": "code",
   "execution_count": 3,
   "metadata": {},
   "outputs": [],
   "source": [
    "#get accuracy of model by spitting data into train/test"
   ]
  },
  {
   "cell_type": "code",
   "execution_count": null,
   "metadata": {},
   "outputs": [],
   "source": []
  }
 ],
 "metadata": {
  "kernelspec": {
   "display_name": "Python 3",
   "language": "python",
   "name": "python3"
  },
  "language_info": {
   "codemirror_mode": {
    "name": "ipython",
    "version": 3
   },
   "file_extension": ".py",
   "mimetype": "text/x-python",
   "name": "python",
   "nbconvert_exporter": "python",
   "pygments_lexer": "ipython3",
   "version": "3.8.3"
  }
 },
 "nbformat": 4,
 "nbformat_minor": 4
}
