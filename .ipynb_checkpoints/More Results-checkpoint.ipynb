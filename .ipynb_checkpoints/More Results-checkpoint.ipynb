{
 "cells": [
  {
   "cell_type": "code",
   "execution_count": 3,
   "id": "ea1b00f6",
   "metadata": {},
   "outputs": [],
   "source": [
    "from UFC_MC_Simulator import *"
   ]
  },
  {
   "cell_type": "code",
   "execution_count": 2,
   "id": "c529a5e8",
   "metadata": {},
   "outputs": [
    {
     "name": "stdout",
     "output_type": "stream",
     "text": [
      "╒═══════════════════════╤══════════════╤═══════════════╕\n",
      "│ Fighter               │ Win Method   │ Probability   │\n",
      "╞═══════════════════════╪══════════════╪═══════════════╡\n",
      "│ Jairzinho Rozenstruik │ Decision     │ 0.0%          │\n",
      "├───────────────────────┼──────────────┼───────────────┤\n",
      "│ Jairzinho Rozenstruik │ KO           │ 36.22%        │\n",
      "├───────────────────────┼──────────────┼───────────────┤\n",
      "│ Jairzinho Rozenstruik │ Submission   │ 0.0%          │\n",
      "├───────────────────────┼──────────────┼───────────────┤\n",
      "│ Jailton Almeida       │ Decision     │ 0.03%         │\n",
      "├───────────────────────┼──────────────┼───────────────┤\n",
      "│ Jailton Almeida       │ KO           │ 31.24%        │\n",
      "├───────────────────────┼──────────────┼───────────────┤\n",
      "│ Jailton Almeida       │ Submission   │ 32.51%        │\n",
      "╘═══════════════════════╧══════════════╧═══════════════╛\n"
     ]
    }
   ],
   "source": [
    "matchup_df = get_fighter_parameters(\"Jairzinho Rozenstruik\", \"Jailton Almeida\")\n",
    "matchesSim(matchup_df, 10000)\n",
    "#jailton submission\n",
    "#winner wrong, 2nd option correct"
   ]
  },
  {
   "cell_type": "code",
   "execution_count": 3,
   "id": "9f825800",
   "metadata": {},
   "outputs": [
    {
     "name": "stdout",
     "output_type": "stream",
     "text": [
      "╒═══════════════╤══════════════╤═══════════════╕\n",
      "│ Fighter       │ Win Method   │ Probability   │\n",
      "╞═══════════════╪══════════════╪═══════════════╡\n",
      "│ Johnny Walker │ Decision     │ 0.43%         │\n",
      "├───────────────┼──────────────┼───────────────┤\n",
      "│ Johnny Walker │ KO           │ 71.99%        │\n",
      "├───────────────┼──────────────┼───────────────┤\n",
      "│ Johnny Walker │ Submission   │ 0.17%         │\n",
      "├───────────────┼──────────────┼───────────────┤\n",
      "│ Anthony Smith │ Decision     │ 0.63%         │\n",
      "├───────────────┼──────────────┼───────────────┤\n",
      "│ Anthony Smith │ KO           │ 26.59%        │\n",
      "├───────────────┼──────────────┼───────────────┤\n",
      "│ Anthony Smith │ Submission   │ 0.19%         │\n",
      "╘═══════════════╧══════════════╧═══════════════╛\n"
     ]
    }
   ],
   "source": [
    "matchup_df = get_fighter_parameters(\"Johnny Walker\", \"Anthony Smith\")\n",
    "matchesSim(matchup_df, 10000)\n",
    "#johnny decision\n",
    "#winner correct, method wrong"
   ]
  },
  {
   "cell_type": "code",
   "execution_count": 4,
   "id": "854732af",
   "metadata": {},
   "outputs": [
    {
     "name": "stdout",
     "output_type": "stream",
     "text": [
      "╒══════════════════╤══════════════╤═══════════════╕\n",
      "│ Fighter          │ Win Method   │ Probability   │\n",
      "╞══════════════════╪══════════════╪═══════════════╡\n",
      "│ Daniel Rodriguez │ Decision     │ 22.72%        │\n",
      "├──────────────────┼──────────────┼───────────────┤\n",
      "│ Daniel Rodriguez │ KO           │ 0.28%         │\n",
      "├──────────────────┼──────────────┼───────────────┤\n",
      "│ Daniel Rodriguez │ Submission   │ 0.01%         │\n",
      "├──────────────────┼──────────────┼───────────────┤\n",
      "│ Ian Garry        │ Decision     │ 48.39%        │\n",
      "├──────────────────┼──────────────┼───────────────┤\n",
      "│ Ian Garry        │ KO           │ 28.59%        │\n",
      "├──────────────────┼──────────────┼───────────────┤\n",
      "│ Ian Garry        │ Submission   │ 0.01%         │\n",
      "╘══════════════════╧══════════════╧═══════════════╛\n"
     ]
    }
   ],
   "source": [
    "matchup_df = get_fighter_parameters(\"Daniel Rodriguez\", \"Ian Garry\")\n",
    "matchesSim(matchup_df, 10000)\n",
    "#ian ko\n",
    "#winner correct, 2nd method correct"
   ]
  },
  {
   "cell_type": "code",
   "execution_count": 5,
   "id": "6e4f8f51",
   "metadata": {},
   "outputs": [
    {
     "name": "stdout",
     "output_type": "stream",
     "text": [
      "╒═══════════════╤══════════════╤═══════════════╕\n",
      "│ Fighter       │ Win Method   │ Probability   │\n",
      "╞═══════════════╪══════════════╪═══════════════╡\n",
      "│ Carlos Ulberg │ Decision     │ 0.28%         │\n",
      "├───────────────┼──────────────┼───────────────┤\n",
      "│ Carlos Ulberg │ KO           │ 54.6%         │\n",
      "├───────────────┼──────────────┼───────────────┤\n",
      "│ Carlos Ulberg │ Submission   │ 0.0%          │\n",
      "├───────────────┼──────────────┼───────────────┤\n",
      "│ Ihor Potieria │ Decision     │ 0.0%          │\n",
      "├───────────────┼──────────────┼───────────────┤\n",
      "│ Ihor Potieria │ KO           │ 45.12%        │\n",
      "├───────────────┼──────────────┼───────────────┤\n",
      "│ Ihor Potieria │ Submission   │ 0.0%          │\n",
      "╘═══════════════╧══════════════╧═══════════════╛\n"
     ]
    }
   ],
   "source": [
    "matchup_df = get_fighter_parameters(\"Carlos Ulberg\", \"Ihor Potieria\")\n",
    "matchesSim(matchup_df, 10000)\n",
    "#carlos ko\n",
    "#perfect"
   ]
  },
  {
   "cell_type": "code",
   "execution_count": 6,
   "id": "fcc90f11",
   "metadata": {},
   "outputs": [
    {
     "name": "stdout",
     "output_type": "stream",
     "text": [
      "╒═════════════╤══════════════╤═══════════════╕\n",
      "│ Fighter     │ Win Method   │ Probability   │\n",
      "╞═════════════╪══════════════╪═══════════════╡\n",
      "│ Tim Means   │ Decision     │ 8.44%         │\n",
      "├─────────────┼──────────────┼───────────────┤\n",
      "│ Tim Means   │ KO           │ 0.95%         │\n",
      "├─────────────┼──────────────┼───────────────┤\n",
      "│ Tim Means   │ Submission   │ 0.0%          │\n",
      "├─────────────┼──────────────┼───────────────┤\n",
      "│ Alex Morono │ Decision     │ 90.58%        │\n",
      "├─────────────┼──────────────┼───────────────┤\n",
      "│ Alex Morono │ KO           │ 0.0%          │\n",
      "├─────────────┼──────────────┼───────────────┤\n",
      "│ Alex Morono │ Submission   │ 0.03%         │\n",
      "╘═════════════╧══════════════╧═══════════════╛\n"
     ]
    }
   ],
   "source": [
    "matchup_df = get_fighter_parameters(\"Tim Means\", \"Alex Morono\")\n",
    "matchesSim(matchup_df, 10000)\n",
    "#alex submission\n",
    "#winner correct, method wrong"
   ]
  },
  {
   "cell_type": "code",
   "execution_count": 7,
   "id": "eff2c959",
   "metadata": {},
   "outputs": [
    {
     "name": "stdout",
     "output_type": "stream",
     "text": [
      "╒═════════════╤══════════════╤═══════════════╕\n",
      "│ Fighter     │ Win Method   │ Probability   │\n",
      "╞═════════════╪══════════════╪═══════════════╡\n",
      "│ Matt Brown  │ Decision     │ 17.23%        │\n",
      "├─────────────┼──────────────┼───────────────┤\n",
      "│ Matt Brown  │ KO           │ 29.14%        │\n",
      "├─────────────┼──────────────┼───────────────┤\n",
      "│ Matt Brown  │ Submission   │ 0.0%          │\n",
      "├─────────────┼──────────────┼───────────────┤\n",
      "│ Court McGee │ Decision     │ 53.2%         │\n",
      "├─────────────┼──────────────┼───────────────┤\n",
      "│ Court McGee │ KO           │ 0.0%          │\n",
      "├─────────────┼──────────────┼───────────────┤\n",
      "│ Court McGee │ Submission   │ 0.43%         │\n",
      "╘═════════════╧══════════════╧═══════════════╛\n"
     ]
    }
   ],
   "source": [
    "matchup_df = get_fighter_parameters(\"Matt Brown\", \"Court McGee\")\n",
    "matchesSim(matchup_df, 10000)\n",
    "#matt ko\n",
    "#winner wrong, 2nd method correct"
   ]
  },
  {
   "cell_type": "code",
   "execution_count": 8,
   "id": "4436e4c3",
   "metadata": {},
   "outputs": [
    {
     "name": "stdout",
     "output_type": "stream",
     "text": [
      "╒═══════════════╤══════════════╤═══════════════╕\n",
      "│ Fighter       │ Win Method   │ Probability   │\n",
      "╞═══════════════╪══════════════╪═══════════════╡\n",
      "│ Karl Williams │ Decision     │ 100.0%        │\n",
      "├───────────────┼──────────────┼───────────────┤\n",
      "│ Karl Williams │ KO           │ 0.0%          │\n",
      "├───────────────┼──────────────┼───────────────┤\n",
      "│ Karl Williams │ Submission   │ 0.0%          │\n",
      "├───────────────┼──────────────┼───────────────┤\n",
      "│ Chase Sherman │ Decision     │ 0.0%          │\n",
      "├───────────────┼──────────────┼───────────────┤\n",
      "│ Chase Sherman │ KO           │ 0.0%          │\n",
      "├───────────────┼──────────────┼───────────────┤\n",
      "│ Chase Sherman │ Submission   │ 0.0%          │\n",
      "╘═══════════════╧══════════════╧═══════════════╛\n"
     ]
    }
   ],
   "source": [
    "matchup_df = get_fighter_parameters(\"Karl Williams\", \"Chase Sherman\")\n",
    "matchesSim(matchup_df, 10000)\n",
    "#karl decision\n",
    "#perfect"
   ]
  },
  {
   "cell_type": "code",
   "execution_count": 9,
   "id": "651b1d85",
   "metadata": {},
   "outputs": [
    {
     "name": "stdout",
     "output_type": "stream",
     "text": [
      "╒══════════════════════════╤══════════════╤═══════════════╕\n",
      "│ Fighter                  │ Win Method   │ Probability   │\n",
      "╞══════════════════════════╪══════════════╪═══════════════╡\n",
      "│ Cody Stamann             │ Decision     │ 90.19%        │\n",
      "├──────────────────────────┼──────────────┼───────────────┤\n",
      "│ Cody Stamann             │ KO           │ 0.14%         │\n",
      "├──────────────────────────┼──────────────┼───────────────┤\n",
      "│ Cody Stamann             │ Submission   │ 0.0%          │\n",
      "├──────────────────────────┼──────────────┼───────────────┤\n",
      "│ Douglas Silva de Andrade │ Decision     │ 8.96%         │\n",
      "├──────────────────────────┼──────────────┼───────────────┤\n",
      "│ Douglas Silva de Andrade │ KO           │ 0.03%         │\n",
      "├──────────────────────────┼──────────────┼───────────────┤\n",
      "│ Douglas Silva de Andrade │ Submission   │ 0.68%         │\n",
      "╘══════════════════════════╧══════════════╧═══════════════╛\n"
     ]
    }
   ],
   "source": [
    "matchup_df = get_fighter_parameters(\"Cody Stamann\", \"Douglas Silva de Andrade\")\n",
    "matchesSim(matchup_df, 10000)\n",
    "#douglas decision\n",
    "#winner wrong, 2nd method correct"
   ]
  },
  {
   "cell_type": "code",
   "execution_count": 10,
   "id": "9e56dd5e",
   "metadata": {},
   "outputs": [
    {
     "name": "stdout",
     "output_type": "stream",
     "text": [
      "╒═════════════╤══════════════╤═══════════════╕\n",
      "│ Fighter     │ Win Method   │ Probability   │\n",
      "╞═════════════╪══════════════╪═══════════════╡\n",
      "│ Ji Yeon Kim │ Decision     │ 99.56%        │\n",
      "├─────────────┼──────────────┼───────────────┤\n",
      "│ Ji Yeon Kim │ KO           │ 0.0%          │\n",
      "├─────────────┼──────────────┼───────────────┤\n",
      "│ Ji Yeon Kim │ Submission   │ 0.0%          │\n",
      "├─────────────┼──────────────┼───────────────┤\n",
      "│ Mandy Bohm  │ Decision     │ 0.44%         │\n",
      "├─────────────┼──────────────┼───────────────┤\n",
      "│ Mandy Bohm  │ KO           │ 0.0%          │\n",
      "├─────────────┼──────────────┼───────────────┤\n",
      "│ Mandy Bohm  │ Submission   │ 0.0%          │\n",
      "╘═════════════╧══════════════╧═══════════════╛\n"
     ]
    }
   ],
   "source": [
    "matchup_df = get_fighter_parameters(\"Ji Yeon Kim\", \"Mandy Bohm\")\n",
    "matchesSim(matchup_df, 10000)\n",
    "#mandy decision\n",
    "#winner wrong, 2nd method correct"
   ]
  },
  {
   "cell_type": "code",
   "execution_count": 11,
   "id": "e0209237",
   "metadata": {},
   "outputs": [
    {
     "name": "stdout",
     "output_type": "stream",
     "text": [
      "╒══════════════╤══════════════╤═══════════════╕\n",
      "│ Fighter      │ Win Method   │ Probability   │\n",
      "╞══════════════╪══════════════╪═══════════════╡\n",
      "│ Bryan Battle │ Decision     │ 64.31%        │\n",
      "├──────────────┼──────────────┼───────────────┤\n",
      "│ Bryan Battle │ KO           │ 3.54%         │\n",
      "├──────────────┼──────────────┼───────────────┤\n",
      "│ Bryan Battle │ Submission   │ 3.6%          │\n",
      "├──────────────┼──────────────┼───────────────┤\n",
      "│ Gabe Green   │ Decision     │ 24.91%        │\n",
      "├──────────────┼──────────────┼───────────────┤\n",
      "│ Gabe Green   │ KO           │ 3.64%         │\n",
      "├──────────────┼──────────────┼───────────────┤\n",
      "│ Gabe Green   │ Submission   │ 0.0%          │\n",
      "╘══════════════╧══════════════╧═══════════════╛\n"
     ]
    }
   ],
   "source": [
    "matchup_df = get_fighter_parameters(\"Bryan Battle\", \"Gabe Green\")\n",
    "matchesSim(matchup_df, 10000)\n",
    "#bryan ko\n",
    "#winner correct, method wrong"
   ]
  },
  {
   "cell_type": "code",
   "execution_count": 12,
   "id": "f7bcf550",
   "metadata": {},
   "outputs": [],
   "source": [
    "#Final Results:\n",
    "#perfect: 2/10\n",
    "#2nd outcome accepted: 7/10 \n",
    "#only winner correct: 6/10 "
   ]
  },
  {
   "cell_type": "code",
   "execution_count": 13,
   "id": "a8120d58",
   "metadata": {},
   "outputs": [
    {
     "name": "stdout",
     "output_type": "stream",
     "text": [
      "╒════════════════╤══════════════╤═══════════════╕\n",
      "│ Fighter        │ Win Method   │ Probability   │\n",
      "╞════════════════╪══════════════╪═══════════════╡\n",
      "│ Mackenzie Dern │ Decision     │ 60.36%        │\n",
      "├────────────────┼──────────────┼───────────────┤\n",
      "│ Mackenzie Dern │ KO           │ 0.0%          │\n",
      "├────────────────┼──────────────┼───────────────┤\n",
      "│ Mackenzie Dern │ Submission   │ 7.23%         │\n",
      "├────────────────┼──────────────┼───────────────┤\n",
      "│ Angela Hill    │ Decision     │ 32.41%        │\n",
      "├────────────────┼──────────────┼───────────────┤\n",
      "│ Angela Hill    │ KO           │ 0.0%          │\n",
      "├────────────────┼──────────────┼───────────────┤\n",
      "│ Angela Hill    │ Submission   │ 0.0%          │\n",
      "╘════════════════╧══════════════╧═══════════════╛\n"
     ]
    }
   ],
   "source": [
    "matchup_df = get_fighter_parameters(\"Mackenzie Dern\", \"Angela Hill\")\n",
    "matchesSim(matchup_df, 10000)\n",
    "#mackenzie decision\n",
    "#perfect"
   ]
  },
  {
   "cell_type": "code",
   "execution_count": 14,
   "id": "76c5d8a7",
   "metadata": {},
   "outputs": [
    {
     "name": "stdout",
     "output_type": "stream",
     "text": [
      "╒═══════════════════╤══════════════╤═══════════════╕\n",
      "│ Fighter           │ Win Method   │ Probability   │\n",
      "╞═══════════════════╪══════════════╪═══════════════╡\n",
      "│ Anthony Hernandez │ Decision     │ 5.16%         │\n",
      "├───────────────────┼──────────────┼───────────────┤\n",
      "│ Anthony Hernandez │ KO           │ 1.24%         │\n",
      "├───────────────────┼──────────────┼───────────────┤\n",
      "│ Anthony Hernandez │ Submission   │ 31.09%        │\n",
      "├───────────────────┼──────────────┼───────────────┤\n",
      "│ Edmen Shahbazyan  │ Decision     │ 0.03%         │\n",
      "├───────────────────┼──────────────┼───────────────┤\n",
      "│ Edmen Shahbazyan  │ KO           │ 57.33%        │\n",
      "├───────────────────┼──────────────┼───────────────┤\n",
      "│ Edmen Shahbazyan  │ Submission   │ 5.15%         │\n",
      "╘═══════════════════╧══════════════╧═══════════════╛\n"
     ]
    }
   ],
   "source": [
    "matchup_df = get_fighter_parameters(\"Anthony Hernandez\", \"Edmen Shahbazyan\")\n",
    "matchesSim(matchup_df, 10000)\n",
    "#anthony ko\n",
    "#all wrong"
   ]
  },
  {
   "cell_type": "code",
   "execution_count": 25,
   "id": "4691b44b",
   "metadata": {},
   "outputs": [
    {
     "name": "stdout",
     "output_type": "stream",
     "text": [
      "╒═══════════════╤══════════════╤═══════════════╕\n",
      "│ Fighter       │ Win Method   │ Probability   │\n",
      "╞═══════════════╪══════════════╪═══════════════╡\n",
      "│ Loopy Godinez │ Decision     │ 49.929%       │\n",
      "├───────────────┼──────────────┼───────────────┤\n",
      "│ Loopy Godinez │ KO           │ 0.0%          │\n",
      "├───────────────┼──────────────┼───────────────┤\n",
      "│ Loopy Godinez │ Submission   │ 0.13%         │\n",
      "├───────────────┼──────────────┼───────────────┤\n",
      "│ Emily Ducote  │ Decision     │ 49.941%       │\n",
      "├───────────────┼──────────────┼───────────────┤\n",
      "│ Emily Ducote  │ KO           │ 0.0%          │\n",
      "├───────────────┼──────────────┼───────────────┤\n",
      "│ Emily Ducote  │ Submission   │ 0.0%          │\n",
      "╘═══════════════╧══════════════╧═══════════════╛\n"
     ]
    }
   ],
   "source": [
    "matchup_df = get_fighter_parameters(\"Loopy Godinez\", \"Emily Ducote\")\n",
    "matchesSim(matchup_df, 10000)\n",
    "#lupita decision\n",
    "#winner wrong, 2nd method correct"
   ]
  },
  {
   "cell_type": "code",
   "execution_count": 16,
   "id": "db4b7121",
   "metadata": {},
   "outputs": [
    {
     "name": "stdout",
     "output_type": "stream",
     "text": [
      "╒═════════════════╤══════════════╤═══════════════╕\n",
      "│ Fighter         │ Win Method   │ Probability   │\n",
      "╞═════════════════╪══════════════╪═══════════════╡\n",
      "│ Joaquin Buckley │ Decision     │ 1.71%         │\n",
      "├─────────────────┼──────────────┼───────────────┤\n",
      "│ Joaquin Buckley │ KO           │ 61.43%        │\n",
      "├─────────────────┼──────────────┼───────────────┤\n",
      "│ Joaquin Buckley │ Submission   │ 0.0%          │\n",
      "├─────────────────┼──────────────┼───────────────┤\n",
      "│ Andre Fialho    │ Decision     │ 0.01%         │\n",
      "├─────────────────┼──────────────┼───────────────┤\n",
      "│ Andre Fialho    │ KO           │ 36.85%        │\n",
      "├─────────────────┼──────────────┼───────────────┤\n",
      "│ Andre Fialho    │ Submission   │ 0.0%          │\n",
      "╘═════════════════╧══════════════╧═══════════════╛\n"
     ]
    }
   ],
   "source": [
    "matchup_df = get_fighter_parameters(\"Joaquin Buckley\", \"Andre Fialho\")\n",
    "matchesSim(matchup_df, 10000)\n",
    "#joaquin ko\n",
    "#perfect"
   ]
  },
  {
   "cell_type": "code",
   "execution_count": 17,
   "id": "198ffeb3",
   "metadata": {},
   "outputs": [
    {
     "name": "stdout",
     "output_type": "stream",
     "text": [
      "╒═════════════════╤══════════════╤═══════════════╕\n",
      "│ Fighter         │ Win Method   │ Probability   │\n",
      "╞═════════════════╪══════════════╪═══════════════╡\n",
      "│ Diego Ferreira  │ Decision     │ 41.58%        │\n",
      "├─────────────────┼──────────────┼───────────────┤\n",
      "│ Diego Ferreira  │ KO           │ 4.15%         │\n",
      "├─────────────────┼──────────────┼───────────────┤\n",
      "│ Diego Ferreira  │ Submission   │ 7.1%          │\n",
      "├─────────────────┼──────────────┼───────────────┤\n",
      "│ Michael Johnson │ Decision     │ 27.02%        │\n",
      "├─────────────────┼──────────────┼───────────────┤\n",
      "│ Michael Johnson │ KO           │ 20.15%        │\n",
      "├─────────────────┼──────────────┼───────────────┤\n",
      "│ Michael Johnson │ Submission   │ 0.0%          │\n",
      "╘═════════════════╧══════════════╧═══════════════╛\n"
     ]
    }
   ],
   "source": [
    "matchup_df = get_fighter_parameters(\"Diego Ferreira\", \"Michael Johnson\")\n",
    "matchesSim(matchup_df, 10000)\n",
    "#diego ko\n",
    "#winner correct, method wrong"
   ]
  },
  {
   "cell_type": "code",
   "execution_count": 18,
   "id": "be3a22b4",
   "metadata": {},
   "outputs": [
    {
     "name": "stdout",
     "output_type": "stream",
     "text": [
      "╒══════════════════════╤══════════════╤═══════════════╕\n",
      "│ Fighter              │ Win Method   │ Probability   │\n",
      "╞══════════════════════╪══════════════╪═══════════════╡\n",
      "│ Viacheslav Borshchev │ Decision     │ 6.63%         │\n",
      "├──────────────────────┼──────────────┼───────────────┤\n",
      "│ Viacheslav Borshchev │ KO           │ 16.77%        │\n",
      "├──────────────────────┼──────────────┼───────────────┤\n",
      "│ Viacheslav Borshchev │ Submission   │ 0.0%          │\n",
      "├──────────────────────┼──────────────┼───────────────┤\n",
      "│ Maheshate            │ Decision     │ 69.68%        │\n",
      "├──────────────────────┼──────────────┼───────────────┤\n",
      "│ Maheshate            │ KO           │ 6.92%         │\n",
      "├──────────────────────┼──────────────┼───────────────┤\n",
      "│ Maheshate            │ Submission   │ 0.0%          │\n",
      "╘══════════════════════╧══════════════╧═══════════════╛\n"
     ]
    }
   ],
   "source": [
    "matchup_df = get_fighter_parameters(\"Viacheslav Borshchev\", \"Maheshate\")\n",
    "matchesSim(matchup_df, 10000)\n",
    "#viacheslav ko\n",
    "#winner wrong, 2nd method correct"
   ]
  },
  {
   "cell_type": "code",
   "execution_count": 19,
   "id": "0690dd79",
   "metadata": {},
   "outputs": [
    {
     "name": "stdout",
     "output_type": "stream",
     "text": [
      "╒═══════════════════════╤══════════════╤═══════════════╕\n",
      "│ Fighter               │ Win Method   │ Probability   │\n",
      "╞═══════════════════════╪══════════════╪═══════════════╡\n",
      "│ Karolina Kowalkiewicz │ Decision     │ 64.16%        │\n",
      "├───────────────────────┼──────────────┼───────────────┤\n",
      "│ Karolina Kowalkiewicz │ KO           │ 0.0%          │\n",
      "├───────────────────────┼──────────────┼───────────────┤\n",
      "│ Karolina Kowalkiewicz │ Submission   │ 0.0%          │\n",
      "├───────────────────────┼──────────────┼───────────────┤\n",
      "│ Vanessa Demopoulos    │ Decision     │ 33.38%        │\n",
      "├───────────────────────┼──────────────┼───────────────┤\n",
      "│ Vanessa Demopoulos    │ KO           │ 0.0%          │\n",
      "├───────────────────────┼──────────────┼───────────────┤\n",
      "│ Vanessa Demopoulos    │ Submission   │ 2.46%         │\n",
      "╘═══════════════════════╧══════════════╧═══════════════╛\n"
     ]
    }
   ],
   "source": [
    "matchup_df = get_fighter_parameters(\"Karolina Kowalkiewicz\", \"Vanessa Demopoulos\")\n",
    "matchesSim(matchup_df, 10000)\n",
    "#karolina decision\n",
    "#perfect"
   ]
  },
  {
   "cell_type": "code",
   "execution_count": 20,
   "metadata": {},
   "outputs": [
    {
     "name": "stdout",
     "output_type": "stream",
     "text": [
      "╒════════════════╤══════════════╤═══════════════╕\n",
      "│ Fighter        │ Win Method   │ Probability   │\n",
      "╞════════════════╪══════════════╪═══════════════╡\n",
      "│ Gilbert Urbina │ Decision     │ 0.0%          │\n",
      "├────────────────┼──────────────┼───────────────┤\n",
      "│ Gilbert Urbina │ KO           │ 0.85%         │\n",
      "├────────────────┼──────────────┼───────────────┤\n",
      "│ Gilbert Urbina │ Submission   │ 0.0%          │\n",
      "├────────────────┼──────────────┼───────────────┤\n",
      "│ Orion Cosce    │ Decision     │ 0.8%          │\n",
      "├────────────────┼──────────────┼───────────────┤\n",
      "│ Orion Cosce    │ KO           │ 0.57%         │\n",
      "├────────────────┼──────────────┼───────────────┤\n",
      "│ Orion Cosce    │ Submission   │ 97.78%        │\n",
      "╘════════════════╧══════════════╧═══════════════╛\n"
     ]
    }
   ],
   "source": [
    "matchup_df = get_fighter_parameters(\"Gilbert Urbina\", \"Orion Cosce\")\n",
    "matchesSim(matchup_df, 10000)\n",
    "#gilbert ko\n",
    "#winner wrong, 2nd method correct"
   ]
  },
  {
   "cell_type": "code",
   "execution_count": 26,
   "metadata": {},
   "outputs": [
    {
     "name": "stdout",
     "output_type": "stream",
     "text": [
      "╒════════════════════╤══════════════╤═══════════════╕\n",
      "│ Fighter            │ Win Method   │ Probability   │\n",
      "╞════════════════════╪══════════════╪═══════════════╡\n",
      "│ Rodrigo Nascimento │ Decision     │ 23.932%       │\n",
      "├────────────────────┼──────────────┼───────────────┤\n",
      "│ Rodrigo Nascimento │ KO           │ 24.019%       │\n",
      "├────────────────────┼──────────────┼───────────────┤\n",
      "│ Rodrigo Nascimento │ Submission   │ 25.353%       │\n",
      "├────────────────────┼──────────────┼───────────────┤\n",
      "│ Ilir Latifi        │ Decision     │ 2.66%         │\n",
      "├────────────────────┼──────────────┼───────────────┤\n",
      "│ Ilir Latifi        │ KO           │ 23.954%       │\n",
      "├────────────────────┼──────────────┼───────────────┤\n",
      "│ Ilir Latifi        │ Submission   │ 0.082%        │\n",
      "╘════════════════════╧══════════════╧═══════════════╛\n"
     ]
    }
   ],
   "source": [
    "matchup_df = get_fighter_parameters(\"Rodrigo Nascimento\", \"Ilir Latifi\")\n",
    "matchesSim(matchup_df, 10000)\n",
    "#rodrigo decision\n",
    "#winner correct, method wrong"
   ]
  },
  {
   "cell_type": "code",
   "execution_count": 22,
   "metadata": {},
   "outputs": [
    {
     "name": "stdout",
     "output_type": "stream",
     "text": [
      "╒══════════════╤══════════════╤═══════════════╕\n",
      "│ Fighter      │ Win Method   │ Probability   │\n",
      "╞══════════════╪══════════════╪═══════════════╡\n",
      "│ Chase Hooper │ Decision     │ 99.99%        │\n",
      "├──────────────┼──────────────┼───────────────┤\n",
      "│ Chase Hooper │ KO           │ 0.01%         │\n",
      "├──────────────┼──────────────┼───────────────┤\n",
      "│ Chase Hooper │ Submission   │ 0.0%          │\n",
      "├──────────────┼──────────────┼───────────────┤\n",
      "│ Nick Fiore   │ Decision     │ 0.0%          │\n",
      "├──────────────┼──────────────┼───────────────┤\n",
      "│ Nick Fiore   │ KO           │ 0.0%          │\n",
      "├──────────────┼──────────────┼───────────────┤\n",
      "│ Nick Fiore   │ Submission   │ 0.0%          │\n",
      "╘══════════════╧══════════════╧═══════════════╛\n"
     ]
    }
   ],
   "source": [
    "matchup_df = get_fighter_parameters(\"Chase Hooper\", \"Nick Fiore\")\n",
    "matchesSim(matchup_df, 10000)\n",
    "#chase decision\n",
    "#perfect"
   ]
  },
  {
   "cell_type": "code",
   "execution_count": 23,
   "metadata": {},
   "outputs": [
    {
     "name": "stdout",
     "output_type": "stream",
     "text": [
      "╒═══════════════════╤══════════════╤═══════════════╕\n",
      "│ Fighter           │ Win Method   │ Probability   │\n",
      "╞═══════════════════╪══════════════╪═══════════════╡\n",
      "│ Natalia Silva     │ Decision     │ 16.61%        │\n",
      "├───────────────────┼──────────────┼───────────────┤\n",
      "│ Natalia Silva     │ KO           │ 78.65%        │\n",
      "├───────────────────┼──────────────┼───────────────┤\n",
      "│ Natalia Silva     │ Submission   │ 0.01%         │\n",
      "├───────────────────┼──────────────┼───────────────┤\n",
      "│ Victoria Leonardo │ Decision     │ 2.42%         │\n",
      "├───────────────────┼──────────────┼───────────────┤\n",
      "│ Victoria Leonardo │ KO           │ 2.31%         │\n",
      "├───────────────────┼──────────────┼───────────────┤\n",
      "│ Victoria Leonardo │ Submission   │ 0.0%          │\n",
      "╘═══════════════════╧══════════════╧═══════════════╛\n"
     ]
    }
   ],
   "source": [
    "matchup_df = get_fighter_parameters(\"Natalia Silva\", \"Victoria Leonardo\")\n",
    "matchesSim(matchup_df, 10000)\n",
    "#natalia ko\n",
    "#perfect"
   ]
  },
  {
   "cell_type": "code",
   "execution_count": 24,
   "metadata": {},
   "outputs": [
    {
     "name": "stdout",
     "output_type": "stream",
     "text": [
      "╒════════════════╤══════════════╤═══════════════╕\n",
      "│ Fighter        │ Win Method   │ Probability   │\n",
      "╞════════════════╪══════════════╪═══════════════╡\n",
      "│ Themba Gorimbo │ Decision     │ 0.0%          │\n",
      "├────────────────┼──────────────┼───────────────┤\n",
      "│ Themba Gorimbo │ KO           │ 0.0%          │\n",
      "├────────────────┼──────────────┼───────────────┤\n",
      "│ Themba Gorimbo │ Submission   │ 0.04%         │\n",
      "├────────────────┼──────────────┼───────────────┤\n",
      "│ Takashi Sato   │ Decision     │ 0.0%          │\n",
      "├────────────────┼──────────────┼───────────────┤\n",
      "│ Takashi Sato   │ KO           │ 0.02%         │\n",
      "├────────────────┼──────────────┼───────────────┤\n",
      "│ Takashi Sato   │ Submission   │ 99.94%        │\n",
      "╘════════════════╧══════════════╧═══════════════╛\n"
     ]
    }
   ],
   "source": [
    "matchup_df = get_fighter_parameters(\"Themba Gorimbo\", \"Takashi Sato\")\n",
    "matchesSim(matchup_df, 10000)\n",
    "#themba decision \n",
    "#all wrong"
   ]
  },
  {
   "cell_type": "code",
   "execution_count": null,
   "metadata": {},
   "outputs": [],
   "source": [
    "#Results:\n",
    "#perfect: 5/12\n",
    "#2nd outcome accepted:8/12\n",
    "#winner only: 7/12 "
   ]
  }
 ],
 "metadata": {
  "kernelspec": {
   "display_name": "Python 3",
   "language": "python",
   "name": "python3"
  },
  "language_info": {
   "codemirror_mode": {
    "name": "ipython",
    "version": 3
   },
   "file_extension": ".py",
   "mimetype": "text/x-python",
   "name": "python",
   "nbconvert_exporter": "python",
   "pygments_lexer": "ipython3",
   "version": "3.8.3"
  }
 },
 "nbformat": 4,
 "nbformat_minor": 5
}
