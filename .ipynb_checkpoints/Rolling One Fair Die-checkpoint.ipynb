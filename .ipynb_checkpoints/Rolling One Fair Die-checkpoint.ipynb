{
 "cells": [
  {
   "cell_type": "code",
   "execution_count": 1,
   "metadata": {},
   "outputs": [],
   "source": [
    "import random"
   ]
  },
  {
   "cell_type": "code",
   "execution_count": 25,
   "metadata": {},
   "outputs": [],
   "source": [
    "def simulate(num_rolls):\n",
    "    results = {1: 0, 2: 0, 3: 0, 4: 0, 5: 0, 6: 0}\n",
    "\n",
    "    for i in range(num_rolls):\n",
    "        roll = random.randint(1, 6)\n",
    "        results[roll] += 1\n",
    "            \n",
    "    if num_rolls >= 1000 and num_rolls < 10000:\n",
    "        for key in results:\n",
    "            frequency = results[key] / num_rolls\n",
    "            print(\"Dice Face {} occurred with frequency {:0.3f}\".format(key,frequency))\n",
    "    elif num_rolls >= 10000:\n",
    "        for key in results:\n",
    "            frequency = results[key] / num_rolls\n",
    "            print(\"Dice Face {} occurred with frequency {:0.5f}\".format(key,frequency))\n",
    "    else:\n",
    "        for key in results:\n",
    "            frequency = results[key] / num_rolls\n",
    "            print(\"Dice Face {} occurred with frequency {:0.2f}\".format(key,frequency))"
   ]
  },
  {
   "cell_type": "code",
   "execution_count": 39,
   "metadata": {},
   "outputs": [
    {
     "name": "stdout",
     "output_type": "stream",
     "text": [
      "Dice Face 1 occurred with frequency 0.20\n",
      "Dice Face 2 occurred with frequency 0.30\n",
      "Dice Face 3 occurred with frequency 0.10\n",
      "Dice Face 4 occurred with frequency 0.10\n",
      "Dice Face 5 occurred with frequency 0.10\n",
      "Dice Face 6 occurred with frequency 0.20\n"
     ]
    }
   ],
   "source": [
    "simulate(10)"
   ]
  },
  {
   "cell_type": "code",
   "execution_count": 35,
   "metadata": {},
   "outputs": [
    {
     "name": "stdout",
     "output_type": "stream",
     "text": [
      "Dice Face 1 occurred with frequency 0.16\n",
      "Dice Face 2 occurred with frequency 0.17\n",
      "Dice Face 3 occurred with frequency 0.18\n",
      "Dice Face 4 occurred with frequency 0.12\n",
      "Dice Face 5 occurred with frequency 0.18\n",
      "Dice Face 6 occurred with frequency 0.19\n"
     ]
    }
   ],
   "source": [
    "simulate(100)"
   ]
  },
  {
   "cell_type": "code",
   "execution_count": 36,
   "metadata": {},
   "outputs": [
    {
     "name": "stdout",
     "output_type": "stream",
     "text": [
      "Dice Face 1 occurred with frequency 0.145\n",
      "Dice Face 2 occurred with frequency 0.152\n",
      "Dice Face 3 occurred with frequency 0.177\n",
      "Dice Face 4 occurred with frequency 0.168\n",
      "Dice Face 5 occurred with frequency 0.177\n",
      "Dice Face 6 occurred with frequency 0.181\n"
     ]
    }
   ],
   "source": [
    "simulate(1000)"
   ]
  },
  {
   "cell_type": "code",
   "execution_count": 37,
   "metadata": {},
   "outputs": [
    {
     "name": "stdout",
     "output_type": "stream",
     "text": [
      "Dice Face 1 occurred with frequency 0.17040\n",
      "Dice Face 2 occurred with frequency 0.17010\n",
      "Dice Face 3 occurred with frequency 0.16400\n",
      "Dice Face 4 occurred with frequency 0.16000\n",
      "Dice Face 5 occurred with frequency 0.16920\n",
      "Dice Face 6 occurred with frequency 0.16630\n"
     ]
    }
   ],
   "source": [
    "simulate(10000)"
   ]
  },
  {
   "cell_type": "code",
   "execution_count": 38,
   "metadata": {},
   "outputs": [
    {
     "name": "stdout",
     "output_type": "stream",
     "text": [
      "Dice Face 1 occurred with frequency 0.16668\n",
      "Dice Face 2 occurred with frequency 0.16665\n",
      "Dice Face 3 occurred with frequency 0.16658\n",
      "Dice Face 4 occurred with frequency 0.16665\n",
      "Dice Face 5 occurred with frequency 0.16672\n",
      "Dice Face 6 occurred with frequency 0.16672\n"
     ]
    }
   ],
   "source": [
    "simulate(100000000)"
   ]
  },
  {
   "cell_type": "code",
   "execution_count": null,
   "metadata": {},
   "outputs": [],
   "source": []
  }
 ],
 "metadata": {
  "kernelspec": {
   "display_name": "Python 3",
   "language": "python",
   "name": "python3"
  },
  "language_info": {
   "codemirror_mode": {
    "name": "ipython",
    "version": 3
   },
   "file_extension": ".py",
   "mimetype": "text/x-python",
   "name": "python",
   "nbconvert_exporter": "python",
   "pygments_lexer": "ipython3",
   "version": "3.8.3"
  }
 },
 "nbformat": 4,
 "nbformat_minor": 4
}
