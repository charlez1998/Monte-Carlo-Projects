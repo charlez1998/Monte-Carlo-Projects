{
 "cells": [
  {
   "cell_type": "code",
   "execution_count": 38,
   "metadata": {},
   "outputs": [],
   "source": [
    "#get data on ways fighter won/lost through dec, won/lost through sub, won/lost through ko/tko  \n",
    "#tabulate outcomes in a table such as: Outcome, % chance, winner \n",
    "#FRONT END: give the user the ability to input two fighters (drop down menu)\n",
    "# ---- FINISHED --- \n",
    "#extra: prevent users from picking two fighters that are from different weight classes\n",
    "#--- LONG RUN --- \n",
    "# Improve model where it takes # of strikes (successful, attempted) , ground game/submissions duration, takedowns (successful, attempted)\n",
    "# into consideration "
   ]
  },
  {
   "cell_type": "code",
   "execution_count": 39,
   "metadata": {},
   "outputs": [],
   "source": [
    "import pandas as pd \n",
    "import matplotlib.pyplot as plt\n",
    "import seaborn as sns"
   ]
  },
  {
   "cell_type": "code",
   "execution_count": 40,
   "metadata": {},
   "outputs": [],
   "source": [
    "df = pd.read_csv(\"UFC Matches April 2023.csv\")"
   ]
  },
  {
   "cell_type": "code",
   "execution_count": 41,
   "metadata": {},
   "outputs": [
    {
     "data": {
      "text/html": [
       "<div>\n",
       "<style scoped>\n",
       "    .dataframe tbody tr th:only-of-type {\n",
       "        vertical-align: middle;\n",
       "    }\n",
       "\n",
       "    .dataframe tbody tr th {\n",
       "        vertical-align: top;\n",
       "    }\n",
       "\n",
       "    .dataframe thead th {\n",
       "        text-align: right;\n",
       "    }\n",
       "</style>\n",
       "<table border=\"1\" class=\"dataframe\">\n",
       "  <thead>\n",
       "    <tr style=\"text-align: right;\">\n",
       "      <th></th>\n",
       "      <th>Full Name</th>\n",
       "      <th>Weight</th>\n",
       "      <th>Matchup</th>\n",
       "      <th>Outcome</th>\n",
       "      <th>Method</th>\n",
       "      <th>Round</th>\n",
       "      <th>Time</th>\n",
       "    </tr>\n",
       "  </thead>\n",
       "  <tbody>\n",
       "    <tr>\n",
       "      <th>0</th>\n",
       "      <td>Tom Aaron</td>\n",
       "      <td>WEIGHT: 155 lbs.</td>\n",
       "      <td>NaN</td>\n",
       "      <td>NaN</td>\n",
       "      <td>NaN</td>\n",
       "      <td>NaN</td>\n",
       "      <td>NaN</td>\n",
       "    </tr>\n",
       "    <tr>\n",
       "      <th>1</th>\n",
       "      <td>Tom Aaron</td>\n",
       "      <td>WEIGHT: 155 lbs.</td>\n",
       "      <td>Tom Aaron\\n \\n Matt Ricehouse</td>\n",
       "      <td>LOSS</td>\n",
       "      <td>U-DEC</td>\n",
       "      <td>3.0</td>\n",
       "      <td>5:00</td>\n",
       "    </tr>\n",
       "    <tr>\n",
       "      <th>2</th>\n",
       "      <td>Tom Aaron</td>\n",
       "      <td>WEIGHT: 155 lbs.</td>\n",
       "      <td>Tom Aaron\\n \\n Eric Steenberg</td>\n",
       "      <td>WIN</td>\n",
       "      <td>SUB</td>\n",
       "      <td>1.0</td>\n",
       "      <td>0:56</td>\n",
       "    </tr>\n",
       "    <tr>\n",
       "      <th>3</th>\n",
       "      <td>Danny Abbadi</td>\n",
       "      <td>WEIGHT: 155 lbs.</td>\n",
       "      <td>NaN</td>\n",
       "      <td>NaN</td>\n",
       "      <td>NaN</td>\n",
       "      <td>NaN</td>\n",
       "      <td>NaN</td>\n",
       "    </tr>\n",
       "    <tr>\n",
       "      <th>4</th>\n",
       "      <td>Danny Abbadi</td>\n",
       "      <td>WEIGHT: 155 lbs.</td>\n",
       "      <td>Danny Abbadi\\n \\n Jorge Gurgel</td>\n",
       "      <td>LOSS</td>\n",
       "      <td>S-DEC</td>\n",
       "      <td>3.0</td>\n",
       "      <td>5:00</td>\n",
       "    </tr>\n",
       "  </tbody>\n",
       "</table>\n",
       "</div>"
      ],
      "text/plain": [
       "      Full Name            Weight                         Matchup Outcome  \\\n",
       "0     Tom Aaron  WEIGHT: 155 lbs.                             NaN     NaN   \n",
       "1     Tom Aaron  WEIGHT: 155 lbs.   Tom Aaron\\n \\n Matt Ricehouse    LOSS   \n",
       "2     Tom Aaron  WEIGHT: 155 lbs.   Tom Aaron\\n \\n Eric Steenberg     WIN   \n",
       "3  Danny Abbadi  WEIGHT: 155 lbs.                             NaN     NaN   \n",
       "4  Danny Abbadi  WEIGHT: 155 lbs.  Danny Abbadi\\n \\n Jorge Gurgel    LOSS   \n",
       "\n",
       "  Method  Round  Time  \n",
       "0    NaN    NaN   NaN  \n",
       "1  U-DEC    3.0  5:00  \n",
       "2    SUB    1.0  0:56  \n",
       "3    NaN    NaN   NaN  \n",
       "4  S-DEC    3.0  5:00  "
      ]
     },
     "execution_count": 41,
     "metadata": {},
     "output_type": "execute_result"
    }
   ],
   "source": [
    "df.head()"
   ]
  },
  {
   "cell_type": "markdown",
   "metadata": {},
   "source": [
    "## Data Cleaning"
   ]
  },
  {
   "cell_type": "markdown",
   "metadata": {},
   "source": [
    "We have to clean our dataset then group each fighter and get their distributions to determine their likelihood of winning/losing via decision, tko/ko or submission."
   ]
  },
  {
   "cell_type": "code",
   "execution_count": 42,
   "metadata": {},
   "outputs": [],
   "source": [
    "# delete first row of every fighter\n",
    "nulls = df[[\"Matchup\", \"Outcome\", 'Method', 'Round', 'Time']].isnull().all(axis=1) \n",
    "df = df.loc[~nulls, :]\n",
    "\n",
    "#find matches that are upcoming and delete them\n",
    "df = df[df[\"Outcome\"] != 'NEXT']\n",
    "\n",
    "# delete \"weight text\" in weight column\n",
    "df['Weight'] = df['Weight'].str.replace('WEIGHT: ', '')\n",
    "\n",
    "# keep only opponents name in matchup column\n",
    "def remove_name(orig_matchup):\n",
    "    last_index = orig_matchup.rfind('\\n')\n",
    "    new_string = orig_matchup[last_index +1:]\n",
    "    return new_string.strip()\n",
    "\n",
    "df['Matchup'] = df['Matchup'].apply(lambda x: remove_name(x))\n",
    "\n",
    "#discovered there is a duplicate fighter name \n",
    "df.loc[[19227, 19228, 19229, 19230, 19231], 'Full Name'] = \"Bruno Blindado Silva\""
   ]
  },
  {
   "cell_type": "code",
   "execution_count": 43,
   "metadata": {},
   "outputs": [],
   "source": [
    "unique_methods = df['Method'].unique()"
   ]
  },
  {
   "cell_type": "code",
   "execution_count": 44,
   "metadata": {},
   "outputs": [
    {
     "data": {
      "text/plain": [
       "array(['U-DEC', 'SUB', 'S-DEC', 'KO/TKO', 'Overturned', 'Other', 'M-DEC',\n",
       "       'CNC', 'DQ', 'SUB ', 'KO/TKO ', 'S-DEC ', 'Decision', 'U-DEC ',\n",
       "       'M-DEC ', 'Overturned ', 'CNC '], dtype=object)"
      ]
     },
     "execution_count": 44,
     "metadata": {},
     "output_type": "execute_result"
    }
   ],
   "source": [
    "unique_methods"
   ]
  },
  {
   "cell_type": "code",
   "execution_count": 45,
   "metadata": {},
   "outputs": [],
   "source": [
    "unique_outcomes = df['Outcome'].unique()"
   ]
  },
  {
   "cell_type": "code",
   "execution_count": 46,
   "metadata": {},
   "outputs": [
    {
     "data": {
      "text/plain": [
       "array(['LOSS', 'WIN', 'NC', 'DRAW'], dtype=object)"
      ]
     },
     "execution_count": 46,
     "metadata": {},
     "output_type": "execute_result"
    }
   ],
   "source": [
    "unique_outcomes"
   ]
  },
  {
   "cell_type": "code",
   "execution_count": 47,
   "metadata": {},
   "outputs": [],
   "source": [
    "removed_outcomes = ['NC', 'DRAW']\n",
    "removed_methods = ['Overturned', 'Other', 'CNC', 'DQ', 'Overturned ', 'CNC ']"
   ]
  },
  {
   "cell_type": "code",
   "execution_count": 48,
   "metadata": {},
   "outputs": [
    {
     "name": "stderr",
     "output_type": "stream",
     "text": [
      "<ipython-input-48-fcbd382802ee>:3: SettingWithCopyWarning: \n",
      "A value is trying to be set on a copy of a slice from a DataFrame.\n",
      "Try using .loc[row_indexer,col_indexer] = value instead\n",
      "\n",
      "See the caveats in the documentation: https://pandas.pydata.org/pandas-docs/stable/user_guide/indexing.html#returning-a-view-versus-a-copy\n",
      "  filtered_df2['Method'] = filtered_df2['Method'].apply(lambda x: x.strip())\n"
     ]
    }
   ],
   "source": [
    "filtered_df1 = df.loc[~df['Method'].isin(removed_methods)]\n",
    "filtered_df2 = filtered_df1.loc[~df['Outcome'].isin(removed_outcomes)]\n",
    "filtered_df2['Method'] = filtered_df2['Method'].apply(lambda x: x.strip())"
   ]
  },
  {
   "cell_type": "code",
   "execution_count": 53,
   "metadata": {},
   "outputs": [
    {
     "name": "stderr",
     "output_type": "stream",
     "text": [
      "C:\\Users\\charl\\anaconda3\\lib\\site-packages\\pandas\\core\\indexing.py:845: SettingWithCopyWarning: \n",
      "A value is trying to be set on a copy of a slice from a DataFrame.\n",
      "Try using .loc[row_indexer,col_indexer] = value instead\n",
      "\n",
      "See the caveats in the documentation: https://pandas.pydata.org/pandas-docs/stable/user_guide/indexing.html#returning-a-view-versus-a-copy\n",
      "  self.obj[key] = _infer_fill_value(value)\n",
      "C:\\Users\\charl\\anaconda3\\lib\\site-packages\\pandas\\core\\indexing.py:966: SettingWithCopyWarning: \n",
      "A value is trying to be set on a copy of a slice from a DataFrame.\n",
      "Try using .loc[row_indexer,col_indexer] = value instead\n",
      "\n",
      "See the caveats in the documentation: https://pandas.pydata.org/pandas-docs/stable/user_guide/indexing.html#returning-a-view-versus-a-copy\n",
      "  self.obj[item] = s\n",
      "<ipython-input-53-b70eb490e4b0>:17: SettingWithCopyWarning: \n",
      "A value is trying to be set on a copy of a slice from a DataFrame.\n",
      "Try using .loc[row_indexer,col_indexer] = value instead\n",
      "\n",
      "See the caveats in the documentation: https://pandas.pydata.org/pandas-docs/stable/user_guide/indexing.html#returning-a-view-versus-a-copy\n",
      "  filtered_df2['Weight Class'] = filtered_df2['Weight'].apply(lambda x: next((k for k, v in weight_mapping.items() if x in v), 'Unknown'))\n"
     ]
    }
   ],
   "source": [
    "filtered_df2.loc[df['Weight'] == '--', 'Weight Class'] = 'Unknown'\n",
    "\n",
    "weight_mapping = {\n",
    "    'Strawweight': range(0, 116),\n",
    "    'Flyweight': range(116, 126),\n",
    "    'Bantamweight': range(126, 136),\n",
    "    'Featherweight': range(136, 146),\n",
    "    'Lightweight': range(146, 156),\n",
    "    'Welterweight': range(156, 171),\n",
    "    'Middleweight': range(171, 186),\n",
    "    'Light Heavyweight': range(186, 206),\n",
    "    'Heavyweight': range(206, 266)\n",
    "}\n",
    "\n",
    "mask = filtered_df2['Weight'] != '--'\n",
    "filtered_df2.loc[mask, 'Weight'] = filtered_df2.loc[mask, 'Weight'].str.replace('lbs.', '').astype(int)\n",
    "filtered_df2['Weight Class'] = filtered_df2['Weight'].apply(lambda x: next((k for k, v in weight_mapping.items() if x in v), 'Unknown'))"
   ]
  },
  {
   "cell_type": "code",
   "execution_count": 56,
   "metadata": {},
   "outputs": [],
   "source": [
    "decisions = ['U-DEC', 'S-DEC', 'M-DEC', 'Decision']\n",
    "kos = ['KO/TKO']\n",
    "submissions = ['SUB']"
   ]
  },
  {
   "cell_type": "code",
   "execution_count": 60,
   "metadata": {},
   "outputs": [
    {
     "name": "stderr",
     "output_type": "stream",
     "text": [
      "<ipython-input-60-8ecffb6333a8>:1: SettingWithCopyWarning: \n",
      "A value is trying to be set on a copy of a slice from a DataFrame.\n",
      "Try using .loc[row_indexer,col_indexer] = value instead\n",
      "\n",
      "See the caveats in the documentation: https://pandas.pydata.org/pandas-docs/stable/user_guide/indexing.html#returning-a-view-versus-a-copy\n",
      "  filtered_df2['Method'] = filtered_df2['Method'].replace(decisions, 'Decision')\n",
      "<ipython-input-60-8ecffb6333a8>:2: SettingWithCopyWarning: \n",
      "A value is trying to be set on a copy of a slice from a DataFrame.\n",
      "Try using .loc[row_indexer,col_indexer] = value instead\n",
      "\n",
      "See the caveats in the documentation: https://pandas.pydata.org/pandas-docs/stable/user_guide/indexing.html#returning-a-view-versus-a-copy\n",
      "  filtered_df2['Method'] = filtered_df2['Method'].replace(submissions, 'Submission')\n"
     ]
    }
   ],
   "source": [
    "filtered_df2['Method'] = filtered_df2['Method'].replace(decisions, 'Decision')\n",
    "filtered_df2['Method'] = filtered_df2['Method'].replace(submissions, 'Submission')"
   ]
  },
  {
   "cell_type": "code",
   "execution_count": 61,
   "metadata": {},
   "outputs": [],
   "source": [
    "df = filtered_df2"
   ]
  },
  {
   "cell_type": "code",
   "execution_count": 62,
   "metadata": {},
   "outputs": [
    {
     "data": {
      "text/html": [
       "<div>\n",
       "<style scoped>\n",
       "    .dataframe tbody tr th:only-of-type {\n",
       "        vertical-align: middle;\n",
       "    }\n",
       "\n",
       "    .dataframe tbody tr th {\n",
       "        vertical-align: top;\n",
       "    }\n",
       "\n",
       "    .dataframe thead th {\n",
       "        text-align: right;\n",
       "    }\n",
       "</style>\n",
       "<table border=\"1\" class=\"dataframe\">\n",
       "  <thead>\n",
       "    <tr style=\"text-align: right;\">\n",
       "      <th></th>\n",
       "      <th>Full Name</th>\n",
       "      <th>Weight</th>\n",
       "      <th>Matchup</th>\n",
       "      <th>Outcome</th>\n",
       "      <th>Method</th>\n",
       "      <th>Round</th>\n",
       "      <th>Time</th>\n",
       "      <th>Weight Class</th>\n",
       "    </tr>\n",
       "  </thead>\n",
       "  <tbody>\n",
       "    <tr>\n",
       "      <th>1</th>\n",
       "      <td>Tom Aaron</td>\n",
       "      <td>155</td>\n",
       "      <td>Matt Ricehouse</td>\n",
       "      <td>LOSS</td>\n",
       "      <td>Decision</td>\n",
       "      <td>3.0</td>\n",
       "      <td>5:00</td>\n",
       "      <td>Lightweight</td>\n",
       "    </tr>\n",
       "    <tr>\n",
       "      <th>2</th>\n",
       "      <td>Tom Aaron</td>\n",
       "      <td>155</td>\n",
       "      <td>Eric Steenberg</td>\n",
       "      <td>WIN</td>\n",
       "      <td>Submission</td>\n",
       "      <td>1.0</td>\n",
       "      <td>0:56</td>\n",
       "      <td>Lightweight</td>\n",
       "    </tr>\n",
       "    <tr>\n",
       "      <th>4</th>\n",
       "      <td>Danny Abbadi</td>\n",
       "      <td>155</td>\n",
       "      <td>Jorge Gurgel</td>\n",
       "      <td>LOSS</td>\n",
       "      <td>Decision</td>\n",
       "      <td>3.0</td>\n",
       "      <td>5:00</td>\n",
       "      <td>Lightweight</td>\n",
       "    </tr>\n",
       "    <tr>\n",
       "      <th>5</th>\n",
       "      <td>Danny Abbadi</td>\n",
       "      <td>155</td>\n",
       "      <td>Kalib Starnes</td>\n",
       "      <td>LOSS</td>\n",
       "      <td>Submission</td>\n",
       "      <td>1.0</td>\n",
       "      <td>2:56</td>\n",
       "      <td>Lightweight</td>\n",
       "    </tr>\n",
       "    <tr>\n",
       "      <th>7</th>\n",
       "      <td>Nariman Abbasov</td>\n",
       "      <td>155</td>\n",
       "      <td>Ismael Bonfim</td>\n",
       "      <td>LOSS</td>\n",
       "      <td>Decision</td>\n",
       "      <td>3.0</td>\n",
       "      <td>5:00</td>\n",
       "      <td>Lightweight</td>\n",
       "    </tr>\n",
       "    <tr>\n",
       "      <th>...</th>\n",
       "      <td>...</td>\n",
       "      <td>...</td>\n",
       "      <td>...</td>\n",
       "      <td>...</td>\n",
       "      <td>...</td>\n",
       "      <td>...</td>\n",
       "      <td>...</td>\n",
       "      <td>...</td>\n",
       "    </tr>\n",
       "    <tr>\n",
       "      <th>22976</th>\n",
       "      <td>Alex Zuniga</td>\n",
       "      <td>145</td>\n",
       "      <td>Bryan Caraway</td>\n",
       "      <td>LOSS</td>\n",
       "      <td>Decision</td>\n",
       "      <td>3.0</td>\n",
       "      <td>5:00</td>\n",
       "      <td>Featherweight</td>\n",
       "    </tr>\n",
       "    <tr>\n",
       "      <th>22979</th>\n",
       "      <td>Allan Zuniga</td>\n",
       "      <td>155</td>\n",
       "      <td>John Gunther</td>\n",
       "      <td>LOSS</td>\n",
       "      <td>Decision</td>\n",
       "      <td>3.0</td>\n",
       "      <td>5:00</td>\n",
       "      <td>Lightweight</td>\n",
       "    </tr>\n",
       "    <tr>\n",
       "      <th>22981</th>\n",
       "      <td>Virgil Zwicker</td>\n",
       "      <td>205</td>\n",
       "      <td>Guto Inocente</td>\n",
       "      <td>LOSS</td>\n",
       "      <td>Decision</td>\n",
       "      <td>3.0</td>\n",
       "      <td>5:00</td>\n",
       "      <td>Light Heavyweight</td>\n",
       "    </tr>\n",
       "    <tr>\n",
       "      <th>22982</th>\n",
       "      <td>Virgil Zwicker</td>\n",
       "      <td>205</td>\n",
       "      <td>Brett Albee</td>\n",
       "      <td>WIN</td>\n",
       "      <td>KO/TKO</td>\n",
       "      <td>1.0</td>\n",
       "      <td>1:46</td>\n",
       "      <td>Light Heavyweight</td>\n",
       "    </tr>\n",
       "    <tr>\n",
       "      <th>22983</th>\n",
       "      <td>Virgil Zwicker</td>\n",
       "      <td>205</td>\n",
       "      <td>Lavar Johnson</td>\n",
       "      <td>LOSS</td>\n",
       "      <td>KO/TKO</td>\n",
       "      <td>1.0</td>\n",
       "      <td>2:17</td>\n",
       "      <td>Light Heavyweight</td>\n",
       "    </tr>\n",
       "  </tbody>\n",
       "</table>\n",
       "<p>18488 rows × 8 columns</p>\n",
       "</div>"
      ],
      "text/plain": [
       "             Full Name Weight         Matchup Outcome      Method  Round  \\\n",
       "1            Tom Aaron    155  Matt Ricehouse    LOSS    Decision    3.0   \n",
       "2            Tom Aaron    155  Eric Steenberg     WIN  Submission    1.0   \n",
       "4         Danny Abbadi    155    Jorge Gurgel    LOSS    Decision    3.0   \n",
       "5         Danny Abbadi    155   Kalib Starnes    LOSS  Submission    1.0   \n",
       "7      Nariman Abbasov    155   Ismael Bonfim    LOSS    Decision    3.0   \n",
       "...                ...    ...             ...     ...         ...    ...   \n",
       "22976      Alex Zuniga    145   Bryan Caraway    LOSS    Decision    3.0   \n",
       "22979     Allan Zuniga    155    John Gunther    LOSS    Decision    3.0   \n",
       "22981   Virgil Zwicker    205   Guto Inocente    LOSS    Decision    3.0   \n",
       "22982   Virgil Zwicker    205     Brett Albee     WIN      KO/TKO    1.0   \n",
       "22983   Virgil Zwicker    205   Lavar Johnson    LOSS      KO/TKO    1.0   \n",
       "\n",
       "       Time       Weight Class  \n",
       "1      5:00        Lightweight  \n",
       "2      0:56        Lightweight  \n",
       "4      5:00        Lightweight  \n",
       "5      2:56        Lightweight  \n",
       "7      5:00        Lightweight  \n",
       "...     ...                ...  \n",
       "22976  5:00      Featherweight  \n",
       "22979  5:00        Lightweight  \n",
       "22981  5:00  Light Heavyweight  \n",
       "22982  1:46  Light Heavyweight  \n",
       "22983  2:17  Light Heavyweight  \n",
       "\n",
       "[18488 rows x 8 columns]"
      ]
     },
     "execution_count": 62,
     "metadata": {},
     "output_type": "execute_result"
    }
   ],
   "source": [
    "df"
   ]
  },
  {
   "cell_type": "markdown",
   "metadata": {},
   "source": [
    "## Exploratory Data Analysis (EDA)"
   ]
  },
  {
   "cell_type": "code",
   "execution_count": 37,
   "metadata": {},
   "outputs": [],
   "source": [
    "# decision_df = df[df['Method'].isin(decisions)]\n",
    "# decision_count = decision_df['Method'].count()\n",
    "\n",
    "# ko_df = df[df['Method'].isin(kos)]\n",
    "# ko_count = ko_df['Method'].count()\n",
    "\n",
    "# submission_df = df[df['Method'].isin(submissions)]\n",
    "# submission_count = submission_df['Method'].count()\n",
    "\n",
    "# print(decision_count/len(df))\n",
    "# print(ko_count/len(df))\n",
    "# print(submission_count/len(df))"
   ]
  },
  {
   "cell_type": "code",
   "execution_count": 19,
   "metadata": {},
   "outputs": [],
   "source": [
    "#what is the most common method of winning?"
   ]
  },
  {
   "cell_type": "code",
   "execution_count": 20,
   "metadata": {
    "scrolled": true
   },
   "outputs": [
    {
     "data": {
      "image/png": "[encoded data removed]",
      "text/plain": [
       "<Figure size 640x480 with 1 Axes>"
      ]
     },
     "metadata": {},
     "output_type": "display_data"
    }
   ],
   "source": [
    "# divide entries into three different lists\n",
    "decisions = ['U-DEC', 'S-DEC', 'M-DEC', 'Decision']\n",
    "kos = ['KO/TKO']\n",
    "submissions = ['SUB']\n",
    "\n",
    "# create a dictionary to store the frequency of each category\n",
    "categories = {'Decision': len([x for x in df[\"Method\"] if x in decisions]),\n",
    "              'KO/TKO': len([x for x in df[\"Method\"] if x in kos]),\n",
    "              'Submission': len([x for x in df[\"Method\"] if x in submissions])}\n",
    "\n",
    "ax = sns.barplot(x=list(categories.keys()), y=list(categories.values()))\n",
    "for p in ax.patches:\n",
    "    ax.annotate('{:.2f}%'.format(100*p.get_height()/len(df)), (p.get_x()+0.25, p.get_y()+p.get_height()/2))\n",
    "\n",
    "# create a bar plot using seaborn\n",
    "sns.barplot(x=list(categories.keys()), y=list(categories.values()))\n",
    "\n",
    "plt.title(\"Frequency of Win Methods in the UFC\")\n",
    "plt.xlabel(\"Method\")\n",
    "plt.ylabel(\"Frequency\")\n",
    "\n",
    "plt.show()"
   ]
  },
  {
   "cell_type": "code",
   "execution_count": 21,
   "metadata": {},
   "outputs": [],
   "source": [
    "#for fighters that win through ko/submission what round does it typically occur in?"
   ]
  },
  {
   "cell_type": "code",
   "execution_count": 22,
   "metadata": {},
   "outputs": [
    {
     "data": {
      "image/png": "[encoded data removed]",
      "text/plain": [
       "<Figure size 640x480 with 1 Axes>"
      ]
     },
     "metadata": {},
     "output_type": "display_data"
    }
   ],
   "source": [
    "only_submissions = df[df[\"Method\"] == \"SUB\"]\n",
    "\n",
    "# group by round and count frequency\n",
    "round_freq = only_submissions.groupby(\"Round\")[\"Round\"].count()\n",
    "\n",
    "# create bar plot using seaborn\n",
    "ax = sns.barplot(x=round_freq.index, y=round_freq.values)\n",
    "plt.title(\"Submission Frequency by Round\")\n",
    "plt.xlabel(\"Round\")\n",
    "plt.ylabel(\"Frequency\")\n",
    "\n",
    "total = round_freq.sum()\n",
    "for p in ax.patches:\n",
    "    height = p.get_height()\n",
    "    ax.text(p.get_x()+p.get_width()/2., height+1, '{:.4f}%'.format(height/total*100), ha=\"center\")\n",
    "    \n",
    "plt.show()"
   ]
  },
  {
   "cell_type": "code",
   "execution_count": 23,
   "metadata": {},
   "outputs": [
    {
     "data": {
      "image/png": "[encoded data removed]",
      "text/plain": [
       "<Figure size 640x480 with 1 Axes>"
      ]
     },
     "metadata": {},
     "output_type": "display_data"
    }
   ],
   "source": [
    "only_kos = df[df[\"Method\"] == \"KO/TKO\"]\n",
    "\n",
    "# group by round and count frequency\n",
    "round_freq = only_kos.groupby(\"Round\")[\"Round\"].count()\n",
    "\n",
    "# create bar plot using seaborn\n",
    "ax = sns.barplot(x=round_freq.index, y=round_freq.values)\n",
    "plt.title(\"KO/TKO Frequency by Round\")\n",
    "plt.xlabel(\"Round\")\n",
    "plt.ylabel(\"Frequency\")\n",
    "\n",
    "total = round_freq.sum()\n",
    "for p in ax.patches:\n",
    "    height = p.get_height()\n",
    "    ax.text(p.get_x()+p.get_width()/2., height+1, '{:.4f}%'.format(height/total*100), ha=\"center\")\n",
    "    \n",
    "plt.show()"
   ]
  },
  {
   "cell_type": "code",
   "execution_count": 25,
   "metadata": {},
   "outputs": [],
   "source": [
    "#is there a discrepancy in the way fighters win across different weight classes?"
   ]
  },
  {
   "cell_type": "code",
   "execution_count": 72,
   "metadata": {},
   "outputs": [
    {
     "data": {
      "image/png": "[encoded data removed]",
      "text/plain": [
       "<Figure size 640x480 with 1 Axes>"
      ]
     },
     "metadata": {},
     "output_type": "display_data"
    }
   ],
   "source": [
    "order = ['Strawweight', 'Flyweight', 'Bantamweight', 'Featherweight', 'Lightweight', 'Welterweight', 'Middleweight', 'Light Heavyweight', 'Heavyweight']\n",
    "\n",
    "# create a fake dataframe with some example data\n",
    "data = {'Weight Class': df[\"Weight Class\"],'Method': df[\"Method\"]}\n",
    "df = pd.DataFrame(data)\n",
    "\n",
    "# create a crosstab to count the frequency of methods by weight class\n",
    "ct = pd.crosstab(df['Weight Class'], df['Method'])\n",
    "\n",
    "ct = ct.reindex(order)\n",
    "\n",
    "# create the stacked bar chart\n",
    "ax = ct.plot(kind='bar', stacked=True)\n",
    "\n",
    "# calculate the total count for each weight class\n",
    "totals = ct.sum(axis=1)\n",
    "\n",
    "# set the chart title and axis labels\n",
    "ax.set_title('Win Method by Weight Class')\n",
    "ax.set_xlabel('Weight Class')\n",
    "ax.set_ylabel('Frequency')\n",
    "\n",
    "ax.grid(False)\n",
    "\n",
    "# display the chart\n",
    "plt.show()"
   ]
  },
  {
   "cell_type": "code",
   "execution_count": 76,
   "metadata": {},
   "outputs": [],
   "source": [
    "order = ['Strawweight', 'Flyweight', 'Bantamweight', 'Featherweight', 'Lightweight', 'Welterweight', 'Middleweight', 'Light Heavyweight', 'Heavyweight']\n",
    "\n",
    "# create a fake dataframe with some example data\n",
    "data = {'Weight Class': df[\"Weight Class\"], 'Method': df[\"Method\"]}\n",
    "df = pd.DataFrame(data)\n",
    "\n",
    "# create a crosstab to count the frequency of methods by weight class\n",
    "ct = pd.crosstab(df['Weight Class'], df['Method'], normalize='index')\n",
    "\n",
    "# re-order the rows based on the defined order of weight classes\n",
    "ct = ct.reindex(order)\n",
    "\n",
    "ct.index.name = None\n",
    "ct.columns.name = None\n",
    "\n",
    "# format the percentages as strings and create a table\n",
    "table = ct.applymap(lambda x: '{:.2f}%'.format(100*x))"
   ]
  },
  {
   "cell_type": "code",
   "execution_count": 77,
   "metadata": {},
   "outputs": [
    {
     "data": {
      "text/html": [
       "<div>\n",
       "<style scoped>\n",
       "    .dataframe tbody tr th:only-of-type {\n",
       "        vertical-align: middle;\n",
       "    }\n",
       "\n",
       "    .dataframe tbody tr th {\n",
       "        vertical-align: top;\n",
       "    }\n",
       "\n",
       "    .dataframe thead th {\n",
       "        text-align: right;\n",
       "    }\n",
       "</style>\n",
       "<table border=\"1\" class=\"dataframe\">\n",
       "  <thead>\n",
       "    <tr style=\"text-align: right;\">\n",
       "      <th></th>\n",
       "      <th>Decision</th>\n",
       "      <th>KO/TKO</th>\n",
       "      <th>Submission</th>\n",
       "    </tr>\n",
       "  </thead>\n",
       "  <tbody>\n",
       "    <tr>\n",
       "      <th>Strawweight</th>\n",
       "      <td>61.87%</td>\n",
       "      <td>15.33%</td>\n",
       "      <td>22.80%</td>\n",
       "    </tr>\n",
       "    <tr>\n",
       "      <th>Flyweight</th>\n",
       "      <td>55.87%</td>\n",
       "      <td>21.13%</td>\n",
       "      <td>22.99%</td>\n",
       "    </tr>\n",
       "    <tr>\n",
       "      <th>Bantamweight</th>\n",
       "      <td>53.20%</td>\n",
       "      <td>27.17%</td>\n",
       "      <td>19.62%</td>\n",
       "    </tr>\n",
       "    <tr>\n",
       "      <th>Featherweight</th>\n",
       "      <td>50.85%</td>\n",
       "      <td>28.35%</td>\n",
       "      <td>20.80%</td>\n",
       "    </tr>\n",
       "    <tr>\n",
       "      <th>Lightweight</th>\n",
       "      <td>46.17%</td>\n",
       "      <td>29.13%</td>\n",
       "      <td>24.70%</td>\n",
       "    </tr>\n",
       "    <tr>\n",
       "      <th>Welterweight</th>\n",
       "      <td>44.91%</td>\n",
       "      <td>33.39%</td>\n",
       "      <td>21.70%</td>\n",
       "    </tr>\n",
       "    <tr>\n",
       "      <th>Middleweight</th>\n",
       "      <td>36.60%</td>\n",
       "      <td>39.79%</td>\n",
       "      <td>23.60%</td>\n",
       "    </tr>\n",
       "    <tr>\n",
       "      <th>Light Heavyweight</th>\n",
       "      <td>33.15%</td>\n",
       "      <td>46.24%</td>\n",
       "      <td>20.61%</td>\n",
       "    </tr>\n",
       "    <tr>\n",
       "      <th>Heavyweight</th>\n",
       "      <td>25.21%</td>\n",
       "      <td>52.24%</td>\n",
       "      <td>22.55%</td>\n",
       "    </tr>\n",
       "  </tbody>\n",
       "</table>\n",
       "</div>"
      ],
      "text/plain": [
       "                  Decision  KO/TKO Submission\n",
       "Strawweight         61.87%  15.33%     22.80%\n",
       "Flyweight           55.87%  21.13%     22.99%\n",
       "Bantamweight        53.20%  27.17%     19.62%\n",
       "Featherweight       50.85%  28.35%     20.80%\n",
       "Lightweight         46.17%  29.13%     24.70%\n",
       "Welterweight        44.91%  33.39%     21.70%\n",
       "Middleweight        36.60%  39.79%     23.60%\n",
       "Light Heavyweight   33.15%  46.24%     20.61%\n",
       "Heavyweight         25.21%  52.24%     22.55%"
      ]
     },
     "execution_count": 77,
     "metadata": {},
     "output_type": "execute_result"
    }
   ],
   "source": [
    "table"
   ]
  },
  {
   "cell_type": "code",
   "execution_count": 267,
   "metadata": {},
   "outputs": [],
   "source": [
    "def transform_dataset(df):\n",
    "    data = {\n",
    "    'Total Fights': df.groupby(['Full Name'])['Matchup'].count(),\n",
    "    'Total Wins': df.loc[df['Outcome'] == 'WIN'].groupby(['Full Name'])['Outcome'].count(),\n",
    "    'Total Losses': df.loc[df['Outcome'] == 'LOSS'].groupby(['Full Name'])['Outcome'].count(),\n",
    "    'Wins By Decision': df.loc[(df['Outcome'] == 'WIN') & (df['Method'].isin(decisions))].groupby(['Full Name'])['Outcome'].count(),\n",
    "    'Wins By KO': df.loc[(df['Outcome'] == 'WIN') & (df['Method'].isin(kos))].groupby(['Full Name'])['Outcome'].count(),\n",
    "    'Wins By Submission': df.loc[(df['Outcome'] == 'WIN') & (df['Method'].isin(submissions))].groupby(['Full Name'])['Outcome'].count(),\n",
    "    'Loss By Decision': df.loc[(df['Outcome'] == 'LOSS') & (df['Method'].isin(decisions))].groupby(['Full Name'])['Outcome'].count(),\n",
    "    'Loss By KO': df.loc[(df['Outcome'] == 'LOSS') & (df['Method'].isin(kos))].groupby(['Full Name'])['Outcome'].count(),\n",
    "    'Loss By Submission': df.loc[(df['Outcome'] == 'LOSS') & (df['Method'].isin(submissions))].groupby(['Full Name'])['Outcome'].count()\n",
    "}\n",
    "    fighter_stats = pd.DataFrame(data)\n",
    "    fighter_stats.fillna(0, inplace=True)\n",
    "    return fighter_stats"
   ]
  },
  {
   "cell_type": "code",
   "execution_count": 268,
   "metadata": {},
   "outputs": [],
   "source": [
    "df = transform_dataset(df)"
   ]
  },
  {
   "cell_type": "code",
   "execution_count": 269,
   "metadata": {},
   "outputs": [
    {
     "data": {
      "text/html": [
       "<div>\n",
       "<style scoped>\n",
       "    .dataframe tbody tr th:only-of-type {\n",
       "        vertical-align: middle;\n",
       "    }\n",
       "\n",
       "    .dataframe tbody tr th {\n",
       "        vertical-align: top;\n",
       "    }\n",
       "\n",
       "    .dataframe thead th {\n",
       "        text-align: right;\n",
       "    }\n",
       "</style>\n",
       "<table border=\"1\" class=\"dataframe\">\n",
       "  <thead>\n",
       "    <tr style=\"text-align: right;\">\n",
       "      <th></th>\n",
       "      <th>Total Fights</th>\n",
       "      <th>Total Wins</th>\n",
       "      <th>Total Losses</th>\n",
       "      <th>Wins By Decision</th>\n",
       "      <th>Wins By KO</th>\n",
       "      <th>Wins By Submission</th>\n",
       "      <th>Loss By Decision</th>\n",
       "      <th>Loss By KO</th>\n",
       "      <th>Loss By Submission</th>\n",
       "    </tr>\n",
       "  </thead>\n",
       "  <tbody>\n",
       "    <tr>\n",
       "      <th>AJ Dobson</th>\n",
       "      <td>3</td>\n",
       "      <td>1.0</td>\n",
       "      <td>2.0</td>\n",
       "      <td>0.0</td>\n",
       "      <td>0.0</td>\n",
       "      <td>1.0</td>\n",
       "      <td>2.0</td>\n",
       "      <td>0.0</td>\n",
       "      <td>0.0</td>\n",
       "    </tr>\n",
       "    <tr>\n",
       "      <th>AJ Fletcher</th>\n",
       "      <td>4</td>\n",
       "      <td>2.0</td>\n",
       "      <td>2.0</td>\n",
       "      <td>0.0</td>\n",
       "      <td>1.0</td>\n",
       "      <td>1.0</td>\n",
       "      <td>2.0</td>\n",
       "      <td>0.0</td>\n",
       "      <td>0.0</td>\n",
       "    </tr>\n",
       "    <tr>\n",
       "      <th>AJ Fonseca</th>\n",
       "      <td>1</td>\n",
       "      <td>0.0</td>\n",
       "      <td>1.0</td>\n",
       "      <td>0.0</td>\n",
       "      <td>0.0</td>\n",
       "      <td>0.0</td>\n",
       "      <td>1.0</td>\n",
       "      <td>0.0</td>\n",
       "      <td>0.0</td>\n",
       "    </tr>\n",
       "    <tr>\n",
       "      <th>AJ Matthews</th>\n",
       "      <td>1</td>\n",
       "      <td>0.0</td>\n",
       "      <td>1.0</td>\n",
       "      <td>0.0</td>\n",
       "      <td>0.0</td>\n",
       "      <td>0.0</td>\n",
       "      <td>0.0</td>\n",
       "      <td>1.0</td>\n",
       "      <td>0.0</td>\n",
       "    </tr>\n",
       "    <tr>\n",
       "      <th>Aalon Cruz</th>\n",
       "      <td>3</td>\n",
       "      <td>1.0</td>\n",
       "      <td>2.0</td>\n",
       "      <td>0.0</td>\n",
       "      <td>1.0</td>\n",
       "      <td>0.0</td>\n",
       "      <td>0.0</td>\n",
       "      <td>2.0</td>\n",
       "      <td>0.0</td>\n",
       "    </tr>\n",
       "  </tbody>\n",
       "</table>\n",
       "</div>"
      ],
      "text/plain": [
       "             Total Fights  Total Wins  Total Losses  Wins By Decision  \\\n",
       "AJ Dobson               3         1.0           2.0               0.0   \n",
       "AJ Fletcher             4         2.0           2.0               0.0   \n",
       "AJ Fonseca              1         0.0           1.0               0.0   \n",
       "AJ Matthews             1         0.0           1.0               0.0   \n",
       "Aalon Cruz              3         1.0           2.0               0.0   \n",
       "\n",
       "             Wins By KO  Wins By Submission  Loss By Decision  Loss By KO  \\\n",
       "AJ Dobson           0.0                 1.0               2.0         0.0   \n",
       "AJ Fletcher         1.0                 1.0               2.0         0.0   \n",
       "AJ Fonseca          0.0                 0.0               1.0         0.0   \n",
       "AJ Matthews         0.0                 0.0               0.0         1.0   \n",
       "Aalon Cruz          1.0                 0.0               0.0         2.0   \n",
       "\n",
       "             Loss By Submission  \n",
       "AJ Dobson                   0.0  \n",
       "AJ Fletcher                 0.0  \n",
       "AJ Fonseca                  0.0  \n",
       "AJ Matthews                 0.0  \n",
       "Aalon Cruz                  0.0  "
      ]
     },
     "execution_count": 269,
     "metadata": {},
     "output_type": "execute_result"
    }
   ],
   "source": [
    "df.head()"
   ]
  },
  {
   "cell_type": "markdown",
   "metadata": {},
   "source": [
    "## Monte Carlo Simulation"
   ]
  },
  {
   "cell_type": "code",
   "execution_count": 270,
   "metadata": {},
   "outputs": [],
   "source": [
    "import math\n",
    "import random as rnd\n",
    "import numpy.random as npr\n",
    "import scipy.stats as ss"
   ]
  },
  {
   "cell_type": "code",
   "execution_count": 271,
   "metadata": {},
   "outputs": [],
   "source": [
    "def calculate_p(statistic, total_fights):\n",
    "    return statistic/total_fights\n",
    "\n",
    "# def calculate_sd(statistic, total_fights):\n",
    "#     mean = calculate_p(statistic, total_fights)\n",
    "#     return math.sqrt((total_fights*mean)*(1-mean))\n",
    "\n",
    "def calculate_sd(statistic, total_fights):\n",
    "    p = calculate_p(statistic, total_fights)\n",
    "    return math.sqrt((p*(1-p))/total_fights)\n",
    "\n",
    "# def calculate_sd(statistic, total_fights):\n",
    "#     p = calculate_p(statistic, total_fights)\n",
    "\n",
    "#     if total_fights >= 15:\n",
    "#         return math.sqrt((p*(1-p))/total_fights)\n",
    "#     else:\n",
    "#         return math.sqrt((total_fights*p)*(1-p))"
   ]
  },
  {
   "cell_type": "code",
   "execution_count": 272,
   "metadata": {},
   "outputs": [],
   "source": [
    "def get_fighter_parameters(fighter1, fighter2):\n",
    "    data = {\n",
    "        \n",
    "        \"Decision Wins\" : [df.loc[fighter1, \"Wins By Decision\"], df.loc[fighter2, \"Wins By Decision\"]],\n",
    "        \n",
    "        \"KO Wins\" : [df.loc[fighter1, \"Wins By KO\"], df.loc[fighter2, \"Wins By KO\"]],\n",
    "        \n",
    "        \"Sub Wins\" : [df.loc[fighter1, \"Wins By Submission\"], df.loc[fighter2, \"Wins By Submission\"]],\n",
    "        \n",
    "        \"Decision Losses\" : [df.loc[fighter1, \"Loss By Decision\"], df.loc[fighter2, \"Loss By Decision\"]],\n",
    "        \n",
    "        \"KO Losses\" : [df.loc[fighter1, \"Loss By KO\"], df.loc[fighter2, \"Loss By KO\"]],\n",
    "        \n",
    "        \"Sub Losses\" : [df.loc[fighter1, \"Loss By Submission\"], df.loc[fighter2, \"Loss By Submission\"]],\n",
    "        \n",
    "        \"Decision Wins Prop\" : [calculate_p(df.loc[fighter1, \"Wins By Decision\"], df.loc[fighter1, \"Total Fights\"]),\n",
    "                                   calculate_p(df.loc[fighter2, \"Wins By Decision\"], df.loc[fighter2, \"Total Fights\"])], \n",
    "            \n",
    "        \"Decision Wins SD\" : [calculate_sd(df.loc[fighter1, \"Wins By Decision\"], df.loc[fighter1, \"Total Fights\"]),\n",
    "                                   calculate_sd(df.loc[fighter2, \"Wins By Decision\"], df.loc[fighter2, \"Total Fights\"])],\n",
    "        \n",
    "        \"KO Wins Prop\" : [calculate_p(df.loc[fighter1, \"Wins By KO\"], df.loc[fighter1, \"Total Fights\"]),\n",
    "                                   calculate_p(df.loc[fighter2, \"Wins By KO\"], df.loc[fighter2, \"Total Fights\"])], \n",
    "            \n",
    "        'KO Wins SD' : [calculate_sd(df.loc[fighter1, \"Wins By KO\"], df.loc[fighter1, \"Total Fights\"]),\n",
    "                                   calculate_sd(df.loc[fighter2, \"Wins By KO\"], df.loc[fighter2, \"Total Fights\"])], \n",
    "           \n",
    "        'Sub Wins Prop' : [calculate_p(df.loc[fighter1, \"Wins By Submission\"], df.loc[fighter1, \"Total Fights\"]),\n",
    "                                   calculate_p(df.loc[fighter2, \"Wins By Submission\"], df.loc[fighter2, \"Total Fights\"])],\n",
    "           \n",
    "        'Sub Wins SD' : [calculate_sd(df.loc[fighter1, \"Wins By Submission\"], df.loc[fighter1, \"Total Fights\"]),\n",
    "                                   calculate_sd(df.loc[fighter2, \"Wins By Submission\"], df.loc[fighter2, \"Total Fights\"])], \n",
    "            \n",
    "        'Decision Loss Prop' : [calculate_p(df.loc[fighter1, \"Loss By Decision\"], df.loc[fighter1, \"Total Fights\"]),\n",
    "                                   calculate_p(df.loc[fighter2, \"Loss By Decision\"], df.loc[fighter2, \"Total Fights\"])], \n",
    "            \n",
    "        'Decision Loss SD' : [calculate_sd(df.loc[fighter1, \"Loss By Decision\"], df.loc[fighter1, \"Total Fights\"]),\n",
    "                                   calculate_sd(df.loc[fighter2, \"Loss By Decision\"], df.loc[fighter2, \"Total Fights\"])], \n",
    "            \n",
    "        'KO Loss Prop' : [calculate_p(df.loc[fighter1, \"Loss By KO\"], df.loc[fighter1, \"Total Fights\"]),\n",
    "                                   calculate_p(df.loc[fighter2, \"Loss By KO\"], df.loc[fighter2, \"Total Fights\"])], \n",
    "            \n",
    "        'KO Loss SD' : [calculate_sd(df.loc[fighter1, \"Loss By KO\"], df.loc[fighter1, \"Total Fights\"]),\n",
    "                                   calculate_sd(df.loc[fighter2, \"Loss By KO\"], df.loc[fighter2, \"Total Fights\"])], \n",
    "           \n",
    "        'Sub Loss Prop' : [calculate_p(df.loc[fighter1, \"Loss By Submission\"], df.loc[fighter1, \"Total Fights\"]),\n",
    "                                   calculate_p(df.loc[fighter2, \"Loss By Submission\"], df.loc[fighter2, \"Total Fights\"])], \n",
    "            \n",
    "        'Sub Loss SD' : [calculate_sd(df.loc[fighter1, \"Loss By Submission\"], df.loc[fighter1, \"Total Fights\"]),\n",
    "                                   calculate_sd(df.loc[fighter2, \"Loss By Submission\"], df.loc[fighter2, \"Total Fights\"])],\n",
    "        'Number of Matches' : [df.loc[fighter1, \"Total Fights\"], df.loc[fighter2, \"Total Fights\"]]\n",
    "           \n",
    "           }\n",
    "    \n",
    "    fighter_parameter_df = pd.DataFrame(data=data, index = [fighter1, fighter2])\n",
    "    return fighter_parameter_df"
   ]
  },
  {
   "cell_type": "code",
   "execution_count": 273,
   "metadata": {},
   "outputs": [],
   "source": [
    "# def gameSim(): binomial count\n",
    "#     results = []\n",
    "#     fighter1_dec_score = (rnd.gauss(matchup_df.iloc[0]['Decision Wins'],matchup_df.iloc[0]['Decision Wins SD'])+ \n",
    "#                               rnd.gauss(matchup_df.iloc[1]['Decision Losses'],matchup_df.iloc[1]['Decision Loss SD']))/2\n",
    "#     fighter1_ko_score = (rnd.gauss(matchup_df.iloc[0]['KO Wins'],matchup_df.iloc[0]['KO Wins SD'])+ \n",
    "#                               rnd.gauss(matchup_df.iloc[1]['KO Losses'],matchup_df.iloc[1]['KO Loss SD']))/2\n",
    "#     fighter1_sub_score = (rnd.gauss(matchup_df.iloc[0]['Sub Wins'],matchup_df.iloc[0]['Sub Wins SD'])+ \n",
    "#                               rnd.gauss(matchup_df.iloc[1]['Sub Losses'],matchup_df.iloc[1]['Sub Loss SD']))/2\n",
    "#     fighter2_dec_score = (rnd.gauss(matchup_df.iloc[1]['Decision Wins'],matchup_df.iloc[1]['Decision Wins SD'])+ \n",
    "#                               rnd.gauss(matchup_df.iloc[0]['Decision Losses'],matchup_df.iloc[0]['Decision Loss SD']))/2\n",
    "#     fighter2_ko_score = (rnd.gauss(matchup_df.iloc[1]['KO Wins'],matchup_df.iloc[1]['KO Wins SD'])+ \n",
    "#                               rnd.gauss(matchup_df.iloc[0]['KO Losses'],matchup_df.iloc[0]['KO Loss SD']))/2\n",
    "#     fighter2_sub_score = (rnd.gauss(matchup_df.iloc[1]['Sub Wins'],matchup_df.iloc[1]['Sub Wins SD'])+ \n",
    "#                               rnd.gauss(matchup_df.iloc[0]['Sub Losses'],matchup_df.iloc[0]['Sub Loss SD']))/2   \n",
    "    \n",
    "#     results.append(fighter1_dec_score)\n",
    "#     results.append(fighter1_ko_score)\n",
    "#     results.append(fighter1_sub_score)    \n",
    "#     results.append(fighter2_dec_score)    \n",
    "#     results.append(fighter2_ko_score)    \n",
    "#     results.append(fighter2_sub_score)\n",
    "    \n",
    "    \n",
    "#     if max(results) == results[0]:\n",
    "#         return \"f1_dec\"\n",
    "#     elif max(results) == results[1]:\n",
    "#         return \"f1_ko\"\n",
    "#     elif max(results) == results[2]:\n",
    "#         return \"f1_sub\"\n",
    "#     elif max(results) == results[3]:\n",
    "#         return \"f2_dec\"\n",
    "#     elif max(results) == results[4]:\n",
    "#         return \"f2_ko\"\n",
    "#     elif max(results) == results[5]:\n",
    "#         return \"f2_sub\"\n",
    "#     else: return rnd.choice([\"f1_dec\", \"f1_ko\", \"f1_sub\", \"f2_dec\", \"f2_ko\", \"f2_sub\"])"
   ]
  },
  {
   "cell_type": "code",
   "execution_count": 274,
   "metadata": {},
   "outputs": [],
   "source": [
    "# def gameSim(): binomial\n",
    "#     results = []\n",
    "#     fighter1_dec_score = (npr.binomial(matchup_df.iloc[0][\"Number of Matches\"], matchup_df.iloc[0]['Decision Wins Prop'])+ \n",
    "#                               npr.binomial(matchup_df.iloc[1]['Number of Matches'], matchup_df.iloc[1]['Decision Loss Prop']))/2\n",
    "#     fighter1_ko_score = (npr.binomial(matchup_df.iloc[0][\"Number of Matches\"], matchup_df.iloc[0]['KO Wins Prop'])+ \n",
    "#                               npr.binomial(matchup_df.iloc[1]['Number of Matches'], matchup_df.iloc[1]['KO Loss Prop']))/2\n",
    "#     fighter1_sub_score = (npr.binomial(matchup_df.iloc[0][\"Number of Matches\"], matchup_df.iloc[0]['Sub Wins Prop'])+ \n",
    "#                               npr.binomial(matchup_df.iloc[1]['Number of Matches'], matchup_df.iloc[1]['Sub Loss Prop']))/2\n",
    "#     fighter2_dec_score = (npr.binomial(matchup_df.iloc[1]['Number of Matches'], matchup_df.iloc[1]['Decision Wins Prop'])+ \n",
    "#                               npr.binomial(matchup_df.iloc[0]['Number of Matches'], matchup_df.iloc[0]['Decision Loss Prop']))/2\n",
    "#     fighter2_ko_score = (npr.binomial(matchup_df.iloc[1]['Number of Matches'], matchup_df.iloc[1]['KO Wins Prop'])+ \n",
    "#                               npr.binomial(matchup_df.iloc[0]['Number of Matches'], matchup_df.iloc[0]['KO Loss Prop']))/2\n",
    "#     fighter2_sub_score = (npr.binomial(matchup_df.iloc[1]['Number of Matches'], matchup_df.iloc[1]['Sub Wins Prop'])+ \n",
    "#                               npr.binomial(matchup_df.iloc[0]['Number of Matches'], matchup_df.iloc[0]['Sub Loss Prop']))/2  \n",
    "    \n",
    "#     results.append(fighter1_dec_score)\n",
    "#     results.append(fighter1_ko_score)\n",
    "#     results.append(fighter1_sub_score)    \n",
    "#     results.append(fighter2_dec_score)    \n",
    "#     results.append(fighter2_ko_score)    \n",
    "#     results.append(fighter2_sub_score)\n",
    "    \n",
    "    \n",
    "#     if max(results) == results[0]:\n",
    "#         return \"f1_dec\"\n",
    "#     elif max(results) == results[1]:\n",
    "#         return \"f1_ko\"\n",
    "#     elif max(results) == results[2]:\n",
    "#         return \"f1_sub\"\n",
    "#     elif max(results) == results[3]:\n",
    "#         return \"f2_dec\"\n",
    "#     elif max(results) == results[4]:\n",
    "#         return \"f2_ko\"\n",
    "#     elif max(results) == results[5]:\n",
    "#         return \"f2_sub\"\n",
    "#     else: return rnd.choice([\"f1_dec\", \"f1_ko\", \"f1_sub\", \"f2_dec\", \"f2_ko\", \"f2_sub\"])"
   ]
  },
  {
   "cell_type": "code",
   "execution_count": 275,
   "metadata": {},
   "outputs": [],
   "source": [
    "#binomial prop \n",
    "def gameSim(): \n",
    "    results = []\n",
    "    fighter1_dec_score = (rnd.gauss(matchup_df.iloc[0]['Decision Wins Prop'],matchup_df.iloc[0]['Decision Wins SD'])+ \n",
    "                              rnd.gauss(matchup_df.iloc[1]['Decision Loss Prop'],matchup_df.iloc[1]['Decision Loss SD']))/2\n",
    "    fighter1_ko_score = (rnd.gauss(matchup_df.iloc[0]['KO Wins Prop'],matchup_df.iloc[0]['KO Wins SD'])+ \n",
    "                              rnd.gauss(matchup_df.iloc[1]['KO Loss Prop'],matchup_df.iloc[1]['KO Loss SD']))/2\n",
    "    fighter1_sub_score = (rnd.gauss(matchup_df.iloc[0]['Sub Wins Prop'],matchup_df.iloc[0]['Sub Wins SD'])+ \n",
    "                              rnd.gauss(matchup_df.iloc[1]['Sub Loss Prop'],matchup_df.iloc[1]['Sub Loss SD']))/2\n",
    "    fighter2_dec_score = (rnd.gauss(matchup_df.iloc[1]['Decision Wins Prop'],matchup_df.iloc[1]['Decision Wins SD'])+ \n",
    "                              rnd.gauss(matchup_df.iloc[0]['Decision Loss Prop'],matchup_df.iloc[0]['Decision Loss SD']))/2\n",
    "    fighter2_ko_score = (rnd.gauss(matchup_df.iloc[1]['KO Wins Prop'],matchup_df.iloc[1]['KO Wins SD'])+ \n",
    "                              rnd.gauss(matchup_df.iloc[0]['KO Loss Prop'],matchup_df.iloc[0]['KO Loss SD']))/2\n",
    "    fighter2_sub_score = (rnd.gauss(matchup_df.iloc[1]['Sub Wins Prop'],matchup_df.iloc[1]['Sub Wins SD'])+ \n",
    "                              rnd.gauss(matchup_df.iloc[0]['Sub Loss Prop'],matchup_df.iloc[0]['Sub Loss SD']))/2   \n",
    "    \n",
    "    results.append(fighter1_dec_score)\n",
    "    results.append(fighter1_ko_score)\n",
    "    results.append(fighter1_sub_score)    \n",
    "    results.append(fighter2_dec_score)    \n",
    "    results.append(fighter2_ko_score)    \n",
    "    results.append(fighter2_sub_score)\n",
    "    \n",
    "    \n",
    "    if max(results) == results[0]:\n",
    "        return \"f1_dec\"\n",
    "    elif max(results) == results[1]:\n",
    "        return \"f1_ko\"\n",
    "    elif max(results) == results[2]:\n",
    "        return \"f1_sub\"\n",
    "    elif max(results) == results[3]:\n",
    "        return \"f2_dec\"\n",
    "    elif max(results) == results[4]:\n",
    "        return \"f2_ko\"\n",
    "    elif max(results) == results[5]:\n",
    "        return \"f2_sub\"\n",
    "    else: return rnd.choice([\"f1_dec\", \"f1_ko\", \"f1_sub\", \"f2_dec\", \"f2_ko\", \"f2_sub\"])"
   ]
  },
  {
   "cell_type": "code",
   "execution_count": 276,
   "metadata": {},
   "outputs": [],
   "source": [
    "# mixed\n",
    "# def gameSim(): \n",
    "#     results = []\n",
    "    \n",
    "#     if matchup_df.iloc[0][\"Number of Matches\"] >= 15 and matchup_df.iloc[1][\"Number of Matches\"] >= 15:\n",
    "#         fighter1_dec_score = (rnd.gauss(matchup_df.iloc[0]['Decision Wins Prop'],matchup_df.iloc[0]['Decision Wins SD'])+ \n",
    "#                               rnd.gauss(matchup_df.iloc[1]['Decision Loss Prop'],matchup_df.iloc[1]['Decision Loss SD']))/2\n",
    "#         fighter1_ko_score = (rnd.gauss(matchup_df.iloc[0]['KO Wins Prop'],matchup_df.iloc[0]['KO Wins SD'])+ \n",
    "#                               rnd.gauss(matchup_df.iloc[1]['KO Loss Prop'],matchup_df.iloc[1]['KO Loss SD']))/2\n",
    "#         fighter1_sub_score = (rnd.gauss(matchup_df.iloc[0]['Sub Wins Prop'],matchup_df.iloc[0]['Sub Wins SD'])+ \n",
    "#                               rnd.gauss(matchup_df.iloc[1]['Sub Loss Prop'],matchup_df.iloc[1]['Sub Loss SD']))/2\n",
    "#         fighter2_dec_score = (rnd.gauss(matchup_df.iloc[1]['Decision Wins Prop'],matchup_df.iloc[1]['Decision Wins SD'])+ \n",
    "#                               rnd.gauss(matchup_df.iloc[0]['Decision Loss Prop'],matchup_df.iloc[0]['Decision Loss SD']))/2\n",
    "#         fighter2_ko_score = (rnd.gauss(matchup_df.iloc[1]['KO Wins Prop'],matchup_df.iloc[1]['KO Wins SD'])+ \n",
    "#                               rnd.gauss(matchup_df.iloc[0]['KO Loss Prop'],matchup_df.iloc[0]['KO Loss SD']))/2\n",
    "#         fighter2_sub_score = (rnd.gauss(matchup_df.iloc[1]['Sub Wins Prop'],matchup_df.iloc[1]['Sub Wins SD'])+ \n",
    "#                               rnd.gauss(matchup_df.iloc[0]['Sub Loss Prop'],matchup_df.iloc[0]['Sub Loss SD']))/2  \n",
    "        \n",
    "#     elif matchup_df.iloc[0][\"Number of Matches\"] >= 15 and matchup_df.iloc[1][\"Number of Matches\"] < 15:\n",
    "#         fighter1_dec_score = (rnd.gauss(matchup_df.iloc[0]['Decision Wins Prop'],matchup_df.iloc[0]['Decision Wins SD'])+\n",
    "#                             npr.binomial(matchup_df.iloc[1]['Number of Matches'], matchup_df.iloc[1]['Decision Loss Prop']))/2\n",
    "#         fighter1_ko_score = (rnd.gauss(matchup_df.iloc[0]['KO Wins Prop'],matchup_df.iloc[0]['KO Wins SD'])+\n",
    "#                             npr.binomial(matchup_df.iloc[1]['Number of Matches'], matchup_df.iloc[1]['KO Loss Prop']))/2\n",
    "#         fighter1_sub_score = (rnd.gauss(matchup_df.iloc[0]['Sub Wins Prop'],matchup_df.iloc[0]['Sub Wins SD'])+\n",
    "#                             npr.binomial(matchup_df.iloc[1]['Number of Matches'], matchup_df.iloc[1]['Sub Loss Prop']))/2\n",
    "#         fighter2_dec_score = (rnd.gauss(matchup_df.iloc[1]['Decision Wins Prop'],matchup_df.iloc[1]['Decision Wins SD'])+ \n",
    "#                             npr.binomial(matchup_df.iloc[0]['Number of Matches'], matchup_df.iloc[0]['Decision Loss Prop']))/2\n",
    "#         fighter2_ko_score = (rnd.gauss(matchup_df.iloc[1]['KO Wins Prop'],matchup_df.iloc[1]['KO Wins SD'])+\n",
    "#                             npr.binomial(matchup_df.iloc[0]['Number of Matches'], matchup_df.iloc[0]['KO Loss Prop']))/2\n",
    "#         fighter2_sub_score = (rnd.gauss(matchup_df.iloc[1]['Sub Wins Prop'],matchup_df.iloc[1]['Sub Wins SD'])+\n",
    "#                             npr.binomial(matchup_df.iloc[0]['Number of Matches'], matchup_df.iloc[0]['Sub Loss Prop']))/2 \n",
    "        \n",
    "#     elif matchup_df.iloc[0][\"Number of Matches\"] < 15 and matchup_df.iloc[1][\"Number of Matches\"] >= 15:\n",
    "#         fighter1_dec_score = (npr.binomial(matchup_df.iloc[0][\"Number of Matches\"], matchup_df.iloc[0]['Decision Wins Prop'])+ \n",
    "#                             rnd.gauss(matchup_df.iloc[1]['Decision Loss Prop'],matchup_df.iloc[1]['Decision Loss SD']))/2\n",
    "#         fighter1_ko_score = (npr.binomial(matchup_df.iloc[0][\"Number of Matches\"], matchup_df.iloc[0]['KO Wins Prop'])+\n",
    "#                             rnd.gauss(matchup_df.iloc[1]['KO Loss Prop'],matchup_df.iloc[1]['KO Loss SD']))/2\n",
    "#         fighter1_sub_score = (npr.binomial(matchup_df.iloc[0][\"Number of Matches\"], matchup_df.iloc[0]['Sub Wins Prop'])+\n",
    "#                             rnd.gauss(matchup_df.iloc[1]['Sub Loss Prop'],matchup_df.iloc[1]['Sub Loss SD']))/2\n",
    "#         fighter2_dec_score = (npr.binomial(matchup_df.iloc[1]['Number of Matches'], matchup_df.iloc[1]['Decision Wins Prop'])+\n",
    "#                             rnd.gauss(matchup_df.iloc[0]['Decision Loss Prop'],matchup_df.iloc[0]['Decision Loss SD']))/2\n",
    "#         fighter2_ko_score = (npr.binomial(matchup_df.iloc[1]['Number of Matches'], matchup_df.iloc[1]['KO Wins Prop'])+ \n",
    "#                             rnd.gauss(matchup_df.iloc[0]['KO Loss Prop'],matchup_df.iloc[0]['KO Loss SD']))/2\n",
    "#         fighter2_sub_score = (npr.binomial(matchup_df.iloc[1]['Number of Matches'], matchup_df.iloc[1]['Sub Wins Prop'])+ \n",
    "#                             rnd.gauss(matchup_df.iloc[0]['Sub Loss Prop'],matchup_df.iloc[0]['Sub Loss SD']))/2\n",
    "    \n",
    "#     else: \n",
    "#         fighter1_dec_score = (npr.binomial(matchup_df.iloc[0][\"Number of Matches\"], matchup_df.iloc[0]['Decision Wins Prop'])+ \n",
    "#                               npr.binomial(matchup_df.iloc[1]['Number of Matches'], matchup_df.iloc[1]['Decision Loss Prop']))/2\n",
    "#         fighter1_ko_score = (npr.binomial(matchup_df.iloc[0][\"Number of Matches\"], matchup_df.iloc[0]['KO Wins Prop'])+ \n",
    "#                               npr.binomial(matchup_df.iloc[1]['Number of Matches'], matchup_df.iloc[1]['KO Loss Prop']))/2\n",
    "#         fighter1_sub_score = (npr.binomial(matchup_df.iloc[0][\"Number of Matches\"], matchup_df.iloc[0]['Sub Wins Prop'])+ \n",
    "#                               npr.binomial(matchup_df.iloc[1]['Number of Matches'], matchup_df.iloc[1]['Sub Loss Prop']))/2\n",
    "#         fighter2_dec_score = (npr.binomial(matchup_df.iloc[1]['Number of Matches'], matchup_df.iloc[1]['Decision Wins Prop'])+ \n",
    "#                               npr.binomial(matchup_df.iloc[0]['Number of Matches'], matchup_df.iloc[0]['Decision Loss Prop']))/2\n",
    "#         fighter2_ko_score = (npr.binomial(matchup_df.iloc[1]['Number of Matches'], matchup_df.iloc[1]['KO Wins Prop'])+ \n",
    "#                               npr.binomial(matchup_df.iloc[0]['Number of Matches'], matchup_df.iloc[0]['KO Loss Prop']))/2\n",
    "#         fighter2_sub_score = (npr.binomial(matchup_df.iloc[1]['Number of Matches'], matchup_df.iloc[1]['Sub Wins Prop'])+ \n",
    "#                               npr.binomial(matchup_df.iloc[0]['Number of Matches'], matchup_df.iloc[0]['Sub Loss Prop']))/2 \n",
    "    \n",
    "#     results.append(fighter1_dec_score)\n",
    "#     results.append(fighter1_ko_score)\n",
    "#     results.append(fighter1_sub_score)    \n",
    "#     results.append(fighter2_dec_score)    \n",
    "#     results.append(fighter2_ko_score)    \n",
    "#     results.append(fighter2_sub_score)\n",
    "    \n",
    "    \n",
    "#     if max(results) == results[0]:\n",
    "#         return \"f1_dec\"\n",
    "#     elif max(results) == results[1]:\n",
    "#         return \"f1_ko\"\n",
    "#     elif max(results) == results[2]:\n",
    "#         return \"f1_sub\"\n",
    "#     elif max(results) == results[3]:\n",
    "#         return \"f2_dec\"\n",
    "#     elif max(results) == results[4]:\n",
    "#         return \"f2_ko\"\n",
    "#     elif max(results) == results[5]:\n",
    "#         return \"f2_sub\"\n",
    "#     else: return rnd.choice([\"f1_dec\", \"f1_ko\", \"f1_sub\", \"f2_dec\", \"f2_ko\", \"f2_sub\"])"
   ]
  },
  {
   "cell_type": "code",
   "execution_count": 277,
   "metadata": {},
   "outputs": [],
   "source": [
    "def gamesSim(ns):\n",
    "    matchesout = []\n",
    "    fighter1_decwin = 0\n",
    "    fighter1_kowin = 0\n",
    "    fighter1_subwin = 0\n",
    "    fighter2_decwin = 0\n",
    "    fighter2_kowin = 0\n",
    "    fighter2_subwin = 0\n",
    "    tie = 0\n",
    "    for i in range(ns):\n",
    "        gm = gameSim()\n",
    "        matchesout.append(gm)\n",
    "        if gm == \"f1_dec\":\n",
    "            fighter1_decwin +=1 \n",
    "        elif gm == \"f1_ko\":\n",
    "            fighter1_kowin +=1 \n",
    "        elif gm == \"f1_sub\":\n",
    "            fighter1_subwin +=1 \n",
    "        elif gm == \"f2_dec\":\n",
    "            fighter2_decwin +=1 \n",
    "        elif gm == \"f2_ko\":\n",
    "            fighter2_kowin +=1 \n",
    "        else:\n",
    "            fighter2_subwin +=1 \n",
    "\n",
    "    \n",
    "    print(matchup_df.index[0] +' Decision Win ', round((fighter1_decwin/ns)*100,3),'%')\n",
    "    print(matchup_df.index[0] +' KO Win ', round((fighter1_kowin/ns)*100,3),'%')\n",
    "    print(matchup_df.index[0] +' Submission Win ', round((fighter1_subwin/ns)*100,3),'%')\n",
    "    print(matchup_df.index[1] +' Decision Win ', round((fighter2_decwin/ns)*100,3),'%')\n",
    "    print(matchup_df.index[1] +' KO Win ', round((fighter2_kowin/ns)*100,3),'%')\n",
    "    print(matchup_df.index[1] +' Submission Win ', round((fighter2_subwin/ns)*100,3),'%')\n",
    "    #print('Tie ', (tie/ns)*100, '%')\n",
    "    \n",
    "    #return matchesout"
   ]
  },
  {
   "cell_type": "markdown",
   "metadata": {},
   "source": [
    "## Predictions on UFC Fight Night: Pavlovich vs Blaydes"
   ]
  },
  {
   "cell_type": "markdown",
   "metadata": {},
   "source": [
    "### Sergei Pavlovich vs Curtis Blaydes"
   ]
  },
  {
   "cell_type": "code",
   "execution_count": 278,
   "metadata": {},
   "outputs": [
    {
     "name": "stdout",
     "output_type": "stream",
     "text": [
      "Sergei Pavlovich Decision Win  0.0 %\n",
      "Sergei Pavlovich KO Win  93.03 %\n",
      "Sergei Pavlovich Submission Win  0.0 %\n",
      "Curtis Blaydes Decision Win  0.04 %\n",
      "Curtis Blaydes KO Win  6.93 %\n",
      "Curtis Blaydes Submission Win  0.0 %\n"
     ]
    }
   ],
   "source": [
    "matchup_df = get_fighter_parameters(\"Sergei Pavlovich\", \"Curtis Blaydes\")\n",
    "gamesSim(10000)\n",
    "#sergei ko\n",
    "\n",
    "#perfect"
   ]
  },
  {
   "cell_type": "markdown",
   "metadata": {},
   "source": [
    "### Brad Tavares vs Bruno Silva"
   ]
  },
  {
   "cell_type": "code",
   "execution_count": 279,
   "metadata": {
    "scrolled": false
   },
   "outputs": [
    {
     "name": "stdout",
     "output_type": "stream",
     "text": [
      "Brad Tavares Decision Win  54.34 %\n",
      "Brad Tavares KO Win  0.0 %\n",
      "Brad Tavares Submission Win  0.33 %\n",
      "Bruno Blindado Silva Decision Win  0.0 %\n",
      "Bruno Blindado Silva KO Win  45.33 %\n",
      "Bruno Blindado Silva Submission Win  0.0 %\n"
     ]
    }
   ],
   "source": [
    "matchup_df = get_fighter_parameters(\"Brad Tavares\", \"Bruno Blindado Silva\")\n",
    "gamesSim(10000)\n",
    "#bruno silva ko\n",
    "\n",
    "#------------------------------>= 15 swapped\n",
    "#winner wrong, 2nd option correct\n",
    "\n",
    "#------------------------------ binomial\n",
    "#winner wrong, 2nd option correct\n",
    "\n",
    "#----------------------------- binomial prop\n",
    "#winner wrong, 2nd option correct\n",
    "\n",
    "#----------------------------- binomial prop\n",
    "#winner wrong, 2nd option correct"
   ]
  },
  {
   "cell_type": "markdown",
   "metadata": {},
   "source": [
    "### Bobby Green vs Jared Gordon - No Contest"
   ]
  },
  {
   "cell_type": "code",
   "execution_count": 280,
   "metadata": {},
   "outputs": [],
   "source": [
    "#matchup_df = get_fighter_parameters(\"Bobby Green\", \"Jared Gordon\")\n",
    "#gamesSim(10000)"
   ]
  },
  {
   "cell_type": "markdown",
   "metadata": {},
   "source": [
    "### Iasmin Lucindo vs Brogan Walker"
   ]
  },
  {
   "cell_type": "code",
   "execution_count": 281,
   "metadata": {},
   "outputs": [
    {
     "name": "stdout",
     "output_type": "stream",
     "text": [
      "Iasmin Lucindo Decision Win  0.0 %\n",
      "Iasmin Lucindo KO Win  100.0 %\n",
      "Iasmin Lucindo Submission Win  0.0 %\n",
      "Brogan Walker Decision Win  0.0 %\n",
      "Brogan Walker KO Win  0.0 %\n",
      "Brogan Walker Submission Win  0.0 %\n"
     ]
    }
   ],
   "source": [
    "matchup_df = get_fighter_parameters(\"Iasmin Lucindo\", \"Brogan Walker\")\n",
    "gamesSim(10000)\n",
    "#iasmin decision\n",
    "#winner correct, method wrong"
   ]
  },
  {
   "cell_type": "markdown",
   "metadata": {},
   "source": [
    "### Jeremiah Wells vs Matthew Semelsberger"
   ]
  },
  {
   "cell_type": "code",
   "execution_count": 282,
   "metadata": {},
   "outputs": [
    {
     "name": "stdout",
     "output_type": "stream",
     "text": [
      "Jeremiah Wells Decision Win  3.66 %\n",
      "Jeremiah Wells KO Win  64.63 %\n",
      "Jeremiah Wells Submission Win  12.24 %\n",
      "Matthew Semelsberger Decision Win  15.62 %\n",
      "Matthew Semelsberger KO Win  3.85 %\n",
      "Matthew Semelsberger Submission Win  0.0 %\n"
     ]
    }
   ],
   "source": [
    "matchup_df = get_fighter_parameters(\"Jeremiah Wells\", \"Matthew Semelsberger\")\n",
    "gamesSim(10000)\n",
    "#jeremiah decision\n",
    "\n",
    "#------------------- >=15 swapped\n",
    "#winner correct, method wrong\n",
    "\n",
    "#--------------------------------- binomial\n",
    "#winner wrong, 2nd option correct\n",
    "\n",
    "#--------------------------------- binomial prop\n",
    "#winner correct, method wrong\n",
    "\n",
    "#----------------------------- binomial prop\n",
    "#all wrong"
   ]
  },
  {
   "cell_type": "markdown",
   "metadata": {},
   "source": [
    "### Rick Glenn vs Christos Giagos"
   ]
  },
  {
   "cell_type": "code",
   "execution_count": 283,
   "metadata": {},
   "outputs": [
    {
     "name": "stdout",
     "output_type": "stream",
     "text": [
      "Ricky Glenn Decision Win  38.04 %\n",
      "Ricky Glenn KO Win  0.78 %\n",
      "Ricky Glenn Submission Win  1.16 %\n",
      "Christos Giagos Decision Win  59.88 %\n",
      "Christos Giagos KO Win  0.0 %\n",
      "Christos Giagos Submission Win  0.14 %\n"
     ]
    }
   ],
   "source": [
    "matchup_df = get_fighter_parameters(\"Ricky Glenn\", \"Christos Giagos\")\n",
    "gamesSim(10000)\n",
    "#christos ko\n",
    "\n",
    "#---------------------------- >= 15 swapped\n",
    "#winner correct, method wrong\n",
    "\n",
    "#---------------------------- >= binomial\n",
    "#winner correct, method wrong\n",
    "\n",
    "#--------------------------------- binomial\n",
    "#winner correct, method wrong\n",
    "\n",
    "#----------------------------- binomial prop\n",
    "#winner correct, method wrong"
   ]
  },
  {
   "cell_type": "markdown",
   "metadata": {},
   "source": [
    "### Rani Yahya vs Montel Jackson"
   ]
  },
  {
   "cell_type": "code",
   "execution_count": 284,
   "metadata": {},
   "outputs": [
    {
     "name": "stdout",
     "output_type": "stream",
     "text": [
      "Rani Yahya Decision Win  15.2 %\n",
      "Rani Yahya KO Win  0.0 %\n",
      "Rani Yahya Submission Win  8.46 %\n",
      "Montel Jackson Decision Win  75.42 %\n",
      "Montel Jackson KO Win  0.92 %\n",
      "Montel Jackson Submission Win  0.0 %\n"
     ]
    }
   ],
   "source": [
    "matchup_df = get_fighter_parameters(\"Rani Yahya\", \"Montel Jackson\")\n",
    "gamesSim(10000)\n",
    "#montel ko \n",
    "\n",
    "#----------------------------->= 15 swapped \n",
    "#winner correct, method wrong\n",
    "\n",
    "#----------------------------->= binomial \n",
    "#winner wrong, 2nd option correct\n",
    "\n",
    "#--------------------------------- binomial prop\n",
    "#winner correct, method wrong\n",
    "\n",
    "#----------------------------- binomial prop\n",
    "#winner wrong, 2nd option correct"
   ]
  },
  {
   "cell_type": "markdown",
   "metadata": {},
   "source": [
    "### Karol Rosa vs Norma Dumont"
   ]
  },
  {
   "cell_type": "code",
   "execution_count": 285,
   "metadata": {},
   "outputs": [
    {
     "name": "stdout",
     "output_type": "stream",
     "text": [
      "Karol Rosa Decision Win  68.61 %\n",
      "Karol Rosa KO Win  0.0 %\n",
      "Karol Rosa Submission Win  0.0 %\n",
      "Norma Dumont Decision Win  31.39 %\n",
      "Norma Dumont KO Win  0.0 %\n",
      "Norma Dumont Submission Win  0.0 %\n"
     ]
    }
   ],
   "source": [
    "matchup_df = get_fighter_parameters(\"Karol Rosa\", \"Norma Dumont\")\n",
    "gamesSim(10000)\n",
    "#norma decision\n",
    "\n",
    "#------------------------------->= 15 swapped\n",
    "#winner wrong, 2nd option correct\n",
    "\n",
    "#------------------------------- binomial\n",
    "#winner wrong, 2nd option correct\n",
    "\n",
    "#--------------------------------- binomial prop\n",
    "#winner wrong, 2nd option correct\n",
    "\n",
    "#----------------------------- binomial prop\n",
    "#winner wrong, 2nd option correct"
   ]
  },
  {
   "cell_type": "markdown",
   "metadata": {},
   "source": [
    "### Mohammed Usman vs Junior Tafa - N/A (Junior Tafa's first fight recorded on fightmetric)"
   ]
  },
  {
   "cell_type": "markdown",
   "metadata": {},
   "source": [
    "### Francis Marshall vs William Gomis"
   ]
  },
  {
   "cell_type": "code",
   "execution_count": 286,
   "metadata": {},
   "outputs": [
    {
     "name": "stdout",
     "output_type": "stream",
     "text": [
      "Francis Marshall Decision Win  7.54 %\n",
      "Francis Marshall KO Win  7.81 %\n",
      "Francis Marshall Submission Win  0.0 %\n",
      "William Gomis Decision Win  84.65 %\n",
      "William Gomis KO Win  0.0 %\n",
      "William Gomis Submission Win  0.0 %\n"
     ]
    }
   ],
   "source": [
    "matchup_df = get_fighter_parameters(\"Francis Marshall\", \"William Gomis\")\n",
    "gamesSim(10000)\n",
    "#william decision\n",
    "#perfect\n",
    "\n",
    "#----------------- binomial\n",
    "#all wrong\n",
    "\n",
    "#--------------------------------- binomial prop\n",
    "#perfect\n",
    "\n",
    "#----------------------------- binomial prop\n",
    "#all wrong"
   ]
  },
  {
   "cell_type": "markdown",
   "metadata": {},
   "source": [
    "### Brady Hiestand vs Batgerel Danaa"
   ]
  },
  {
   "cell_type": "code",
   "execution_count": 287,
   "metadata": {},
   "outputs": [
    {
     "name": "stdout",
     "output_type": "stream",
     "text": [
      "Brady Hiestand Decision Win  64.1 %\n",
      "Brady Hiestand KO Win  0.44 %\n",
      "Brady Hiestand Submission Win  0.0 %\n",
      "Batgerel Danaa Decision Win  21.53 %\n",
      "Batgerel Danaa KO Win  13.93 %\n",
      "Batgerel Danaa Submission Win  0.0 %\n"
     ]
    }
   ],
   "source": [
    "matchup_df = get_fighter_parameters(\"Brady Hiestand\", \"Batgerel Danaa\")\n",
    "gamesSim(10000)\n",
    "#brady ko\n",
    "\n",
    "#------------------------------ >= 15 swapped\n",
    "#winner correct, method wrong\n",
    "\n",
    "#------------------------------ binomial\n",
    "#winner correct, method wrong\n",
    "\n",
    "#--------------------------------- binomial prop\n",
    "#winner correct, method wrong\n",
    "\n",
    "#----------------------------- binomial prop\n",
    "#winner correct, method wrong"
   ]
  },
  {
   "cell_type": "code",
   "execution_count": 288,
   "metadata": {},
   "outputs": [],
   "source": [
    "#-------------------------------------- >= 15 swapped\n",
    "#perfect: 2/9 \n",
    "#2nd accepted: 4/9\n",
    "#winner: 7/9 winner correct\n",
    "\n",
    "#--------------------------------------- binomial \n",
    "#perfect: 1/9 \n",
    "#2nd accepted: 5/9\n",
    "#winner: 5/9\n",
    "\n",
    "#-------------------------------------- binomial prop \n",
    "#perfect: 2/9 perfect \n",
    "#2nd accepted: 4/9 \n",
    "#winner: 7/9 "
   ]
  },
  {
   "cell_type": "markdown",
   "metadata": {},
   "source": [
    "## Predictions on UFC Fight Night: Song vs Simón"
   ]
  },
  {
   "cell_type": "markdown",
   "metadata": {},
   "source": [
    "### Song Yadong vs Ricky Simón"
   ]
  },
  {
   "cell_type": "code",
   "execution_count": 289,
   "metadata": {},
   "outputs": [
    {
     "name": "stdout",
     "output_type": "stream",
     "text": [
      "Song Yadong Decision Win  13.65 %\n",
      "Song Yadong KO Win  32.96 %\n",
      "Song Yadong Submission Win  0.0 %\n",
      "Ricky Simon Decision Win  50.31 %\n",
      "Ricky Simon KO Win  0.68 %\n",
      "Ricky Simon Submission Win  2.4 %\n"
     ]
    }
   ],
   "source": [
    "matchup_df = get_fighter_parameters(\"Song Yadong\", \"Ricky Simon\")\n",
    "gamesSim(10000)\n",
    "#song ko\n",
    "\n",
    "#winner wrong, 2nd option correct "
   ]
  },
  {
   "cell_type": "markdown",
   "metadata": {},
   "source": [
    "### Caio Borralho vs Michal Oleksiejczuk"
   ]
  },
  {
   "cell_type": "code",
   "execution_count": 290,
   "metadata": {},
   "outputs": [
    {
     "name": "stdout",
     "output_type": "stream",
     "text": [
      "Caio Borralho Decision Win  90.65 %\n",
      "Caio Borralho KO Win  0.26 %\n",
      "Caio Borralho Submission Win  0.08 %\n",
      "Michal Oleksiejczuk Decision Win  0.0 %\n",
      "Michal Oleksiejczuk KO Win  9.01 %\n",
      "Michal Oleksiejczuk Submission Win  0.0 %\n"
     ]
    }
   ],
   "source": [
    "matchup_df = get_fighter_parameters(\"Caio Borralho\", \"Michal Oleksiejczuk\")\n",
    "gamesSim(10000)\n",
    "#caio submission\n",
    "\n",
    "#----------------------------- >= 15 swapped\n",
    "#winner correct, method wrong"
   ]
  },
  {
   "cell_type": "markdown",
   "metadata": {},
   "source": [
    "### Rodolfo Vieira vs Cody Brundage"
   ]
  },
  {
   "cell_type": "code",
   "execution_count": 291,
   "metadata": {},
   "outputs": [
    {
     "name": "stdout",
     "output_type": "stream",
     "text": [
      "Rodolfo Vieira Decision Win  2.2 %\n",
      "Rodolfo Vieira KO Win  17.81 %\n",
      "Rodolfo Vieira Submission Win  55.43 %\n",
      "Cody Brundage Decision Win  1.99 %\n",
      "Cody Brundage KO Win  2.08 %\n",
      "Cody Brundage Submission Win  20.49 %\n"
     ]
    }
   ],
   "source": [
    "matchup_df = get_fighter_parameters(\"Rodolfo Vieira\", \"Cody Brundage\")\n",
    "gamesSim(10000)\n",
    "#rodolfo submission\n",
    "#perfect"
   ]
  },
  {
   "cell_type": "markdown",
   "metadata": {},
   "source": [
    "### Julian Erosa vs Fernando Padilla - N/A (Fernando Padilla's first fight recorded on fightmetric)"
   ]
  },
  {
   "cell_type": "markdown",
   "metadata": {},
   "source": [
    "### Marcos Rogério de Lima vs Waldo Cortes-Acosta"
   ]
  },
  {
   "cell_type": "code",
   "execution_count": 292,
   "metadata": {},
   "outputs": [
    {
     "name": "stdout",
     "output_type": "stream",
     "text": [
      "Marcos Rogerio de Lima Decision Win  5.42 %\n",
      "Marcos Rogerio de Lima KO Win  69.3 %\n",
      "Marcos Rogerio de Lima Submission Win  0.01 %\n",
      "Cody Brundage Decision Win  0.02 %\n",
      "Cody Brundage KO Win  1.4 %\n",
      "Cody Brundage Submission Win  23.85 %\n"
     ]
    }
   ],
   "source": [
    "matchup_df = get_fighter_parameters(\"Marcos Rogerio de Lima\", \"Cody Brundage\")\n",
    "gamesSim(10000)\n",
    "#marcos decision\n",
    "\n",
    "#---------------------------- >=15 swapped\n",
    "#winner correct, 3rd option correct"
   ]
  },
  {
   "cell_type": "markdown",
   "metadata": {},
   "source": [
    "### Josh Quinlan vs Trey Waters"
   ]
  },
  {
   "cell_type": "code",
   "execution_count": 293,
   "metadata": {},
   "outputs": [
    {
     "name": "stdout",
     "output_type": "stream",
     "text": [
      "Josh Quinlan Decision Win  0.0 %\n",
      "Josh Quinlan KO Win  100.0 %\n",
      "Josh Quinlan Submission Win  0.0 %\n",
      "Trey Waters Decision Win  0.0 %\n",
      "Trey Waters KO Win  0.0 %\n",
      "Trey Waters Submission Win  0.0 %\n"
     ]
    }
   ],
   "source": [
    "matchup_df = get_fighter_parameters(\"Josh Quinlan\", \"Trey Waters\")\n",
    "gamesSim(10000)\n",
    "#trey decision\n",
    "#all wrong "
   ]
  },
  {
   "cell_type": "markdown",
   "metadata": {},
   "source": [
    "### Martin Buday vs Jake Collier"
   ]
  },
  {
   "cell_type": "code",
   "execution_count": 294,
   "metadata": {},
   "outputs": [
    {
     "name": "stdout",
     "output_type": "stream",
     "text": [
      "Martin Buday Decision Win  71.82 %\n",
      "Martin Buday KO Win  27.81 %\n",
      "Martin Buday Submission Win  0.0 %\n",
      "Jake Collier Decision Win  0.37 %\n",
      "Jake Collier KO Win  0.0 %\n",
      "Jake Collier Submission Win  0.0 %\n"
     ]
    }
   ],
   "source": [
    "matchup_df = get_fighter_parameters(\"Martin Buday\", \"Jake Collier\")\n",
    "gamesSim(10000)\n",
    "#martin decision\n",
    "#perfect"
   ]
  },
  {
   "cell_type": "markdown",
   "metadata": {},
   "source": [
    "### Cody Durden vs Charles Johnson"
   ]
  },
  {
   "cell_type": "code",
   "execution_count": 295,
   "metadata": {},
   "outputs": [
    {
     "name": "stdout",
     "output_type": "stream",
     "text": [
      "Cody Durden Decision Win  85.57 %\n",
      "Cody Durden KO Win  1.03 %\n",
      "Cody Durden Submission Win  0.0 %\n",
      "Charles Johnson Decision Win  2.49 %\n",
      "Charles Johnson KO Win  2.86 %\n",
      "Charles Johnson Submission Win  8.05 %\n"
     ]
    }
   ],
   "source": [
    "matchup_df = get_fighter_parameters(\"Cody Durden\", \"Charles Johnson\")\n",
    "gamesSim(10000)\n",
    "#cody decision\n",
    "#perfect"
   ]
  },
  {
   "cell_type": "code",
   "execution_count": 296,
   "metadata": {},
   "outputs": [],
   "source": [
    "#3/7 perfect\n",
    "#4/7 if 2nd highest outcome is accepted\n",
    "#5/7 winner correct"
   ]
  },
  {
   "cell_type": "markdown",
   "metadata": {},
   "source": [
    "### Stephanie Egger vs Irina Alekseeva - N/A (Irina Alekseeva first fight recorded on fightmetric)"
   ]
  },
  {
   "cell_type": "markdown",
   "metadata": {},
   "source": [
    "### Journey Newson vs Marcus McGhee - N/A (Marcus McGhee first fight recorded on fightmetric)"
   ]
  },
  {
   "cell_type": "markdown",
   "metadata": {},
   "source": [
    "### Hailey Cowan vs Jamey-Lyn Horth - N/A (Jamey-Lyn Horth first fight recorded on fightmetric)"
   ]
  },
  {
   "cell_type": "markdown",
   "metadata": {},
   "source": [
    "## Predictions on UFC 288: Sterling vs. Cejudo"
   ]
  },
  {
   "cell_type": "markdown",
   "metadata": {},
   "source": [
    "### Aljamain Sterling vs Henry Cejudo"
   ]
  },
  {
   "cell_type": "code",
   "execution_count": 297,
   "metadata": {},
   "outputs": [
    {
     "name": "stdout",
     "output_type": "stream",
     "text": [
      "Aljamain Sterling Decision Win  27.42 %\n",
      "Aljamain Sterling KO Win  0.26 %\n",
      "Aljamain Sterling Submission Win  0.29 %\n",
      "Henry Cejudo Decision Win  63.49 %\n",
      "Henry Cejudo KO Win  8.54 %\n",
      "Henry Cejudo Submission Win  0.0 %\n"
     ]
    }
   ],
   "source": [
    "matchup_df = get_fighter_parameters(\"Aljamain Sterling\", \"Henry Cejudo\")\n",
    "gamesSim(10000)\n",
    "#aljamain decision\n",
    "\n",
    "#------------------- >=15 swapped\n",
    "#perfect\n",
    "\n",
    "#------------------- >=20 swapped\n",
    "#all wrong, 2nd option correct\n",
    "\n",
    "#------------------- binomial\n",
    "#perfect\n",
    "\n",
    "#--------------------------------- binomial prop\n",
    "#winner wrong, 2nd option correct\n"
   ]
  },
  {
   "cell_type": "markdown",
   "metadata": {},
   "source": [
    "### Belal Muhammad vs Gilbert Burns"
   ]
  },
  {
   "cell_type": "code",
   "execution_count": 298,
   "metadata": {},
   "outputs": [
    {
     "name": "stdout",
     "output_type": "stream",
     "text": [
      "Belal Muhammad Decision Win  93.73 %\n",
      "Belal Muhammad KO Win  0.03 %\n",
      "Belal Muhammad Submission Win  0.0 %\n",
      "Gilbert Burns Decision Win  6.2 %\n",
      "Gilbert Burns KO Win  0.01 %\n",
      "Gilbert Burns Submission Win  0.03 %\n"
     ]
    }
   ],
   "source": [
    "matchup_df = get_fighter_parameters(\"Belal Muhammad\", \"Gilbert Burns\")\n",
    "gamesSim(10000)\n",
    "#belal decision\n",
    "\n",
    "#------------------- >=15 swapped\n",
    "#perfect\n",
    "\n",
    "#------------------- >=20 swapped\n",
    "#all wrong, 2nd option correct\n",
    "\n",
    "#------------------- binomial\n",
    "#perfect\n",
    "\n",
    "#--------------------------------- binomial prop\n",
    "#perfect"
   ]
  },
  {
   "cell_type": "markdown",
   "metadata": {},
   "source": [
    "### Jessica Andrade vs Yan Xiaonan"
   ]
  },
  {
   "cell_type": "code",
   "execution_count": 299,
   "metadata": {},
   "outputs": [
    {
     "name": "stdout",
     "output_type": "stream",
     "text": [
      "Jessica Andrade Decision Win  1.33 %\n",
      "Jessica Andrade KO Win  0.17 %\n",
      "Jessica Andrade Submission Win  0.0 %\n",
      "Yan Xiaonan Decision Win  98.5 %\n",
      "Yan Xiaonan KO Win  0.0 %\n",
      "Yan Xiaonan Submission Win  0.0 %\n"
     ]
    }
   ],
   "source": [
    "matchup_df = get_fighter_parameters(\"Jessica Andrade\", \"Yan Xiaonan\")\n",
    "gamesSim(10000)\n",
    "#yan ko\n",
    "\n",
    "#---------------------------- >= 15 swapped\n",
    "#all wrong, method wrong\n",
    "\n",
    "#---------------------------- >= 20 swapped\n",
    "#all wrong, method wrong\n",
    "\n",
    "#------------------------ binomial\n",
    "#winner correct, method wrong\n",
    "\n",
    "#--------------------------------- binomial prop\n",
    "#winner correct, method wrong\n"
   ]
  },
  {
   "cell_type": "markdown",
   "metadata": {},
   "source": [
    "### Movsar Evloev vs Bryce Mitchell"
   ]
  },
  {
   "cell_type": "code",
   "execution_count": 300,
   "metadata": {},
   "outputs": [
    {
     "name": "stdout",
     "output_type": "stream",
     "text": [
      "Movsar Evloev Decision Win  95.35 %\n",
      "Movsar Evloev KO Win  0.0 %\n",
      "Movsar Evloev Submission Win  0.0 %\n",
      "Bryce Mitchell Decision Win  4.65 %\n",
      "Bryce Mitchell KO Win  0.0 %\n",
      "Bryce Mitchell Submission Win  0.0 %\n"
     ]
    }
   ],
   "source": [
    "matchup_df = get_fighter_parameters(\"Movsar Evloev\", \"Bryce Mitchell\")\n",
    "gamesSim(10000)\n",
    "#movsar decision\n",
    "#perfect"
   ]
  },
  {
   "cell_type": "markdown",
   "metadata": {},
   "source": [
    "### Kron Gracie vs Charles Jourdain"
   ]
  },
  {
   "cell_type": "code",
   "execution_count": 301,
   "metadata": {},
   "outputs": [
    {
     "name": "stdout",
     "output_type": "stream",
     "text": [
      "Kron Gracie Decision Win  13.57 %\n",
      "Kron Gracie KO Win  0.0 %\n",
      "Kron Gracie Submission Win  43.03 %\n",
      "Charles Jourdain Decision Win  42.25 %\n",
      "Charles Jourdain KO Win  1.1 %\n",
      "Charles Jourdain Submission Win  0.05 %\n"
     ]
    }
   ],
   "source": [
    "matchup_df = get_fighter_parameters(\"Kron Gracie\", \"Charles Jourdain\")\n",
    "gamesSim(10000)\n",
    "#charles decision\n",
    "\n",
    "#------------------>= 15 swapped\n",
    "#perfect\n",
    "\n",
    "#------------------>= 20 swapped\n",
    "#all wrong, 2nd option correct\n",
    "\n",
    "#------------------ binomial\n",
    "#all wrong\n",
    "\n",
    "#--------------------------------- binomial prop\n",
    "#perfect\n",
    "#summing percentages: winner wrong\n"
   ]
  },
  {
   "cell_type": "markdown",
   "metadata": {},
   "source": [
    "### Drew Dober vs Matt Frevola"
   ]
  },
  {
   "cell_type": "code",
   "execution_count": 302,
   "metadata": {},
   "outputs": [
    {
     "name": "stdout",
     "output_type": "stream",
     "text": [
      "Drew Dober Decision Win  1.41 %\n",
      "Drew Dober KO Win  82.99 %\n",
      "Drew Dober Submission Win  0.0 %\n",
      "Matt Frevola Decision Win  10.31 %\n",
      "Matt Frevola KO Win  1.61 %\n",
      "Matt Frevola Submission Win  3.68 %\n"
     ]
    }
   ],
   "source": [
    "matchup_df = get_fighter_parameters(\"Drew Dober\", \"Matt Frevola\")\n",
    "gamesSim(10000)\n",
    "#matt ko\n",
    "\n",
    "#------------------ >= 15 swapped\n",
    "#all wrong, method wrong\n",
    "\n",
    "#------------------ >= 20 swapped\n",
    "#all wrong, method wrong \n",
    "\n",
    "#---------------------------- binomial\n",
    "#all wrong\n",
    "\n",
    "#--------------------------------- binomial prop\n",
    "#winner wrong, method wrong\n"
   ]
  },
  {
   "cell_type": "markdown",
   "metadata": {},
   "source": [
    "### Kennedy Nzechukwu vs Devin Clark"
   ]
  },
  {
   "cell_type": "code",
   "execution_count": 303,
   "metadata": {},
   "outputs": [
    {
     "name": "stdout",
     "output_type": "stream",
     "text": [
      "Kennedy Nzechukwu Decision Win  0.93 %\n",
      "Kennedy Nzechukwu KO Win  69.86 %\n",
      "Kennedy Nzechukwu Submission Win  0.13 %\n",
      "Devin Clark Decision Win  29.04 %\n",
      "Devin Clark KO Win  0.04 %\n",
      "Devin Clark Submission Win  0.0 %\n"
     ]
    }
   ],
   "source": [
    "matchup_df = get_fighter_parameters(\"Kennedy Nzechukwu\", \"Devin Clark\")\n",
    "gamesSim(10000)\n",
    "#kennedy submission\n",
    "\n",
    "#------------------------------ >= 15 swapped\n",
    "#winner wrong, 3rd option correct\n",
    "\n",
    "#------------------------------ >= 20 swapped\n",
    "#winner correct, method wrong\n",
    "\n",
    "#------------------------------ binomial\n",
    "#winner correct, method wrong\n",
    "\n",
    "#--------------------------------- binomial prop\n",
    "#winner correct, method wrong\n"
   ]
  },
  {
   "cell_type": "markdown",
   "metadata": {},
   "source": [
    "### Khaos Williams vs Rolando Bedoya - N/A (Rolando Bedoya first fight recorded on fightmetric)"
   ]
  },
  {
   "cell_type": "markdown",
   "metadata": {},
   "source": [
    "### Marina Rodriguez vs Virna Jandiroba"
   ]
  },
  {
   "cell_type": "code",
   "execution_count": 304,
   "metadata": {},
   "outputs": [
    {
     "name": "stdout",
     "output_type": "stream",
     "text": [
      "Marina Rodriguez Decision Win  97.62 %\n",
      "Marina Rodriguez KO Win  0.21 %\n",
      "Marina Rodriguez Submission Win  0.0 %\n",
      "Virna Jandiroba Decision Win  0.65 %\n",
      "Virna Jandiroba KO Win  0.58 %\n",
      "Virna Jandiroba Submission Win  0.94 %\n"
     ]
    }
   ],
   "source": [
    "matchup_df = get_fighter_parameters(\"Marina Rodriguez\", \"Virna Jandiroba\")\n",
    "gamesSim(10000)\n",
    "#virna decision\n",
    "\n",
    "#--------------------- >= 15 swapped\n",
    "#all wrong, method wrong\n",
    "\n",
    "#--------------------- >= 20 swapped\n",
    "#all wrong, method wrong\n",
    "\n",
    "#--------------------- binomial \n",
    "#winner wrong, 2nd option correct\n",
    "\n",
    "#--------------------------------- binomial prop\n",
    "#all wrong\n"
   ]
  },
  {
   "cell_type": "markdown",
   "metadata": {},
   "source": [
    "### Braxton Smith vs Parker Porter - N/A (Braxton Smith first fight recorded on fightmetric)"
   ]
  },
  {
   "cell_type": "markdown",
   "metadata": {},
   "source": [
    "### Phil Hawes vs Ikram Aliskerov"
   ]
  },
  {
   "cell_type": "code",
   "execution_count": 305,
   "metadata": {},
   "outputs": [
    {
     "name": "stdout",
     "output_type": "stream",
     "text": [
      "Phil Hawes Decision Win  0.0 %\n",
      "Phil Hawes KO Win  0.01 %\n",
      "Phil Hawes Submission Win  0.0 %\n",
      "Ikram Aliskerov Decision Win  0.0 %\n",
      "Ikram Aliskerov KO Win  0.03 %\n",
      "Ikram Aliskerov Submission Win  99.96 %\n"
     ]
    }
   ],
   "source": [
    "matchup_df = get_fighter_parameters(\"Phil Hawes\", \"Ikram Aliskerov\")\n",
    "gamesSim(10000)\n",
    "#ikram ko\n",
    "\n",
    "#---------------------------- >= 15 swapped\n",
    "#winner correct, 3rd option correct\n",
    "\n",
    "#---------------------------- >= 20 swapped\n",
    "#winner correct, 2nd option correct\n",
    "\n",
    "#---------------------------- binomial\n",
    "#winner wrong, 2nd option correct\n",
    "\n",
    "#--------------------------------- binomial prop\n",
    "#winner correct, method wrong"
   ]
  },
  {
   "cell_type": "markdown",
   "metadata": {},
   "source": [
    "### Rafael Estevam vs Zhalgas Zhumagulov - Cancelled"
   ]
  },
  {
   "cell_type": "markdown",
   "metadata": {},
   "source": [
    "### Joseph Holmes vs Claudio Ribeiro"
   ]
  },
  {
   "cell_type": "code",
   "execution_count": 306,
   "metadata": {},
   "outputs": [
    {
     "name": "stdout",
     "output_type": "stream",
     "text": [
      "Joseph Holmes Decision Win  0.0 %\n",
      "Joseph Holmes KO Win  32.16 %\n",
      "Joseph Holmes Submission Win  27.24 %\n",
      "Claudio Ribeiro Decision Win  4.43 %\n",
      "Claudio Ribeiro KO Win  31.93 %\n",
      "Claudio Ribeiro Submission Win  4.24 %\n"
     ]
    }
   ],
   "source": [
    "matchup_df = get_fighter_parameters(\"Joseph Holmes\", \"Claudio Ribeiro\")\n",
    "gamesSim(10000)\n",
    "#claudio ko\n",
    "\n",
    "#--------------------- >=15 swapped\n",
    "#perfect\n",
    "\n",
    "#--------------------- >=20 swapped\n",
    "#perfect\n",
    "\n",
    "#--------------------- binomial\n",
    "#all wrong\n",
    "\n",
    "#--------------------------------- binomial prop\n",
    "#winner wrong, 2nd option correct"
   ]
  },
  {
   "cell_type": "markdown",
   "metadata": {},
   "source": [
    "### Daniel Santos vs Johnny Munoz - Cancelled"
   ]
  },
  {
   "cell_type": "code",
   "execution_count": 307,
   "metadata": {},
   "outputs": [],
   "source": [
    "#------------------------------- binomial\n",
    "#perfect: 3/10\n",
    "#2nd accepted: 5/10\n",
    "#winner: 5/10\n",
    "\n",
    "#--------------------------------- binomial prop\n",
    "#3/10 perfect\n",
    "#5/10 if 2nd option is accepted\n",
    "#5/10 winner correct (summing)"
   ]
  },
  {
   "cell_type": "code",
   "execution_count": 308,
   "metadata": {},
   "outputs": [],
   "source": [
    "#try as n gets larger mean np is paired with sd sqrt(npq) and compare to current and to binomial"
   ]
  },
  {
   "cell_type": "code",
   "execution_count": 309,
   "metadata": {},
   "outputs": [],
   "source": [
    "#https://courses.lumenlearning.com/introstats1/chapter/a-population-proportion/"
   ]
  },
  {
   "cell_type": "code",
   "execution_count": null,
   "metadata": {},
   "outputs": [],
   "source": []
  }
 ],
 "metadata": {
  "kernelspec": {
   "display_name": "Python 3",
   "language": "python",
   "name": "python3"
  },
  "language_info": {
   "codemirror_mode": {
    "name": "ipython",
    "version": 3
   },
   "file_extension": ".py",
   "mimetype": "text/x-python",
   "name": "python",
   "nbconvert_exporter": "python",
   "pygments_lexer": "ipython3",
   "version": "3.8.3"
  }
 },
 "nbformat": 4,
 "nbformat_minor": 4
}
