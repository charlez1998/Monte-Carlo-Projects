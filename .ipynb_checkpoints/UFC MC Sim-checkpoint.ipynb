{
 "cells": [
  {
   "cell_type": "code",
   "execution_count": 3,
   "metadata": {},
   "outputs": [],
   "source": [
    "#get data on ways fighter won/lost through dec, won/lost through sub, won/lost through ko/tko  \n",
    "#tabulate outcomes in a table such as: Outcome, % chance, winner \n",
    "#FRONT END: give the user the ability to input two fighters (drop down menu)\n",
    "# ---- FINISHED --- \n",
    "#extra: prevent users from picking two fighters that are from different weight classes\n",
    "#--- LONG RUN --- \n",
    "# Improve model where it takes # of strikes (successful, attempted) , ground game/submissions duration, takedowns (successful, attempted)\n",
    "# into consideration "
   ]
  },
  {
   "cell_type": "code",
   "execution_count": 4,
   "metadata": {},
   "outputs": [],
   "source": [
    "#get accuracy of model by spitting data into train/test\n",
    "import pandas as pd "
   ]
  },
  {
   "cell_type": "code",
   "execution_count": 5,
   "metadata": {},
   "outputs": [],
   "source": [
    "df = pd.read_csv(\"UFC Matches April 2023.csv\", )"
   ]
  },
  {
   "cell_type": "code",
   "execution_count": 6,
   "metadata": {},
   "outputs": [
    {
     "data": {
      "text/html": [
       "<div>\n",
       "<style scoped>\n",
       "    .dataframe tbody tr th:only-of-type {\n",
       "        vertical-align: middle;\n",
       "    }\n",
       "\n",
       "    .dataframe tbody tr th {\n",
       "        vertical-align: top;\n",
       "    }\n",
       "\n",
       "    .dataframe thead th {\n",
       "        text-align: right;\n",
       "    }\n",
       "</style>\n",
       "<table border=\"1\" class=\"dataframe\">\n",
       "  <thead>\n",
       "    <tr style=\"text-align: right;\">\n",
       "      <th></th>\n",
       "      <th>Full Name</th>\n",
       "      <th>Weight</th>\n",
       "      <th>Matchup</th>\n",
       "      <th>Outcome</th>\n",
       "      <th>Method</th>\n",
       "      <th>Round</th>\n",
       "      <th>Time</th>\n",
       "    </tr>\n",
       "  </thead>\n",
       "  <tbody>\n",
       "    <tr>\n",
       "      <th>0</th>\n",
       "      <td>Tom Aaron</td>\n",
       "      <td>WEIGHT: 155 lbs.</td>\n",
       "      <td>NaN</td>\n",
       "      <td>NaN</td>\n",
       "      <td>NaN</td>\n",
       "      <td>NaN</td>\n",
       "      <td>NaN</td>\n",
       "    </tr>\n",
       "    <tr>\n",
       "      <th>1</th>\n",
       "      <td>Tom Aaron</td>\n",
       "      <td>WEIGHT: 155 lbs.</td>\n",
       "      <td>Tom Aaron\\n \\n Matt Ricehouse</td>\n",
       "      <td>LOSS</td>\n",
       "      <td>U-DEC</td>\n",
       "      <td>3.0</td>\n",
       "      <td>5:00</td>\n",
       "    </tr>\n",
       "    <tr>\n",
       "      <th>2</th>\n",
       "      <td>Tom Aaron</td>\n",
       "      <td>WEIGHT: 155 lbs.</td>\n",
       "      <td>Tom Aaron\\n \\n Eric Steenberg</td>\n",
       "      <td>WIN</td>\n",
       "      <td>SUB</td>\n",
       "      <td>1.0</td>\n",
       "      <td>0:56</td>\n",
       "    </tr>\n",
       "    <tr>\n",
       "      <th>3</th>\n",
       "      <td>Danny Abbadi</td>\n",
       "      <td>WEIGHT: 155 lbs.</td>\n",
       "      <td>NaN</td>\n",
       "      <td>NaN</td>\n",
       "      <td>NaN</td>\n",
       "      <td>NaN</td>\n",
       "      <td>NaN</td>\n",
       "    </tr>\n",
       "    <tr>\n",
       "      <th>4</th>\n",
       "      <td>Danny Abbadi</td>\n",
       "      <td>WEIGHT: 155 lbs.</td>\n",
       "      <td>Danny Abbadi\\n \\n Jorge Gurgel</td>\n",
       "      <td>LOSS</td>\n",
       "      <td>S-DEC</td>\n",
       "      <td>3.0</td>\n",
       "      <td>5:00</td>\n",
       "    </tr>\n",
       "  </tbody>\n",
       "</table>\n",
       "</div>"
      ],
      "text/plain": [
       "      Full Name            Weight                         Matchup Outcome  \\\n",
       "0     Tom Aaron  WEIGHT: 155 lbs.                             NaN     NaN   \n",
       "1     Tom Aaron  WEIGHT: 155 lbs.   Tom Aaron\\n \\n Matt Ricehouse    LOSS   \n",
       "2     Tom Aaron  WEIGHT: 155 lbs.   Tom Aaron\\n \\n Eric Steenberg     WIN   \n",
       "3  Danny Abbadi  WEIGHT: 155 lbs.                             NaN     NaN   \n",
       "4  Danny Abbadi  WEIGHT: 155 lbs.  Danny Abbadi\\n \\n Jorge Gurgel    LOSS   \n",
       "\n",
       "  Method  Round  Time  \n",
       "0    NaN    NaN   NaN  \n",
       "1  U-DEC    3.0  5:00  \n",
       "2    SUB    1.0  0:56  \n",
       "3    NaN    NaN   NaN  \n",
       "4  S-DEC    3.0  5:00  "
      ]
     },
     "execution_count": 6,
     "metadata": {},
     "output_type": "execute_result"
    }
   ],
   "source": [
    "df.head()"
   ]
  },
  {
   "cell_type": "markdown",
   "metadata": {},
   "source": [
    "## Data Cleaning"
   ]
  },
  {
   "cell_type": "markdown",
   "metadata": {},
   "source": [
    "We have to clean our dataset then group each fighter and get their distributions to determine their likelihood of winning/losing via decision, tko/ko or submission."
   ]
  },
  {
   "cell_type": "code",
   "execution_count": 7,
   "metadata": {},
   "outputs": [],
   "source": [
    "# delete first row of every fighter\n",
    "nulls = df[[\"Matchup\", \"Outcome\", 'Method', 'Round', 'Time']].isnull().all(axis=1) \n",
    "df = df.loc[~nulls, :]\n",
    "\n",
    "#find matches that are upcoming and delete them\n",
    "df = df[df[\"Outcome\"] != 'NEXT']\n",
    "\n",
    "# delete \"weight text\" in weight column\n",
    "df['Weight'] = df['Weight'].str.replace('WEIGHT: ', '')\n",
    "\n",
    "# keep only opponents name in matchup column\n",
    "def remove_name(orig_matchup):\n",
    "    last_index = orig_matchup.rfind('\\n')\n",
    "    new_string = orig_matchup[last_index +1:]\n",
    "    return new_string.strip()\n",
    "\n",
    "df['Matchup'] = df['Matchup'].apply(lambda x: remove_name(x))"
   ]
  },
  {
   "cell_type": "code",
   "execution_count": 8,
   "metadata": {},
   "outputs": [],
   "source": [
    "unique_methods = df['Method'].unique()"
   ]
  },
  {
   "cell_type": "code",
   "execution_count": 9,
   "metadata": {
    "scrolled": true
   },
   "outputs": [
    {
     "data": {
      "text/plain": [
       "array(['U-DEC', 'SUB', 'S-DEC', 'KO/TKO', 'Overturned', 'Other', 'M-DEC',\n",
       "       'CNC', 'DQ', 'SUB ', 'KO/TKO ', 'S-DEC ', 'Decision', 'U-DEC ',\n",
       "       'M-DEC ', 'Overturned ', 'CNC '], dtype=object)"
      ]
     },
     "execution_count": 9,
     "metadata": {},
     "output_type": "execute_result"
    }
   ],
   "source": [
    "unique_methods"
   ]
  },
  {
   "cell_type": "code",
   "execution_count": 10,
   "metadata": {},
   "outputs": [],
   "source": [
    "unique_outcomes = df['Outcome'].unique()"
   ]
  },
  {
   "cell_type": "code",
   "execution_count": 11,
   "metadata": {},
   "outputs": [
    {
     "data": {
      "text/plain": [
       "array(['LOSS', 'WIN', 'NC', 'DRAW'], dtype=object)"
      ]
     },
     "execution_count": 11,
     "metadata": {},
     "output_type": "execute_result"
    }
   ],
   "source": [
    "unique_outcomes"
   ]
  },
  {
   "cell_type": "code",
   "execution_count": 12,
   "metadata": {},
   "outputs": [],
   "source": [
    "removed_outcomes = ['NC', 'DRAW']\n",
    "removed_methods = ['Overturned', 'Other', 'CNC', 'DQ', 'Overturned ', 'CNC ']"
   ]
  },
  {
   "cell_type": "code",
   "execution_count": 13,
   "metadata": {},
   "outputs": [],
   "source": [
    "filtered_df1 = df.loc[~df['Method'].isin(removed_methods)]\n",
    "filtered_df2 = filtered_df1.loc[~df['Outcome'].isin(removed_outcomes)]"
   ]
  },
  {
   "cell_type": "code",
   "execution_count": 14,
   "metadata": {},
   "outputs": [
    {
     "data": {
      "text/html": [
       "<div>\n",
       "<style scoped>\n",
       "    .dataframe tbody tr th:only-of-type {\n",
       "        vertical-align: middle;\n",
       "    }\n",
       "\n",
       "    .dataframe tbody tr th {\n",
       "        vertical-align: top;\n",
       "    }\n",
       "\n",
       "    .dataframe thead th {\n",
       "        text-align: right;\n",
       "    }\n",
       "</style>\n",
       "<table border=\"1\" class=\"dataframe\">\n",
       "  <thead>\n",
       "    <tr style=\"text-align: right;\">\n",
       "      <th></th>\n",
       "      <th>Full Name</th>\n",
       "      <th>Weight</th>\n",
       "      <th>Matchup</th>\n",
       "      <th>Outcome</th>\n",
       "      <th>Method</th>\n",
       "      <th>Round</th>\n",
       "      <th>Time</th>\n",
       "    </tr>\n",
       "  </thead>\n",
       "  <tbody>\n",
       "    <tr>\n",
       "      <th>1</th>\n",
       "      <td>Tom Aaron</td>\n",
       "      <td>155 lbs.</td>\n",
       "      <td>Matt Ricehouse</td>\n",
       "      <td>LOSS</td>\n",
       "      <td>U-DEC</td>\n",
       "      <td>3.0</td>\n",
       "      <td>5:00</td>\n",
       "    </tr>\n",
       "    <tr>\n",
       "      <th>2</th>\n",
       "      <td>Tom Aaron</td>\n",
       "      <td>155 lbs.</td>\n",
       "      <td>Eric Steenberg</td>\n",
       "      <td>WIN</td>\n",
       "      <td>SUB</td>\n",
       "      <td>1.0</td>\n",
       "      <td>0:56</td>\n",
       "    </tr>\n",
       "    <tr>\n",
       "      <th>4</th>\n",
       "      <td>Danny Abbadi</td>\n",
       "      <td>155 lbs.</td>\n",
       "      <td>Jorge Gurgel</td>\n",
       "      <td>LOSS</td>\n",
       "      <td>S-DEC</td>\n",
       "      <td>3.0</td>\n",
       "      <td>5:00</td>\n",
       "    </tr>\n",
       "    <tr>\n",
       "      <th>5</th>\n",
       "      <td>Danny Abbadi</td>\n",
       "      <td>155 lbs.</td>\n",
       "      <td>Kalib Starnes</td>\n",
       "      <td>LOSS</td>\n",
       "      <td>SUB</td>\n",
       "      <td>1.0</td>\n",
       "      <td>2:56</td>\n",
       "    </tr>\n",
       "    <tr>\n",
       "      <th>7</th>\n",
       "      <td>Nariman Abbasov</td>\n",
       "      <td>155 lbs.</td>\n",
       "      <td>Ismael Bonfim</td>\n",
       "      <td>LOSS</td>\n",
       "      <td>U-DEC</td>\n",
       "      <td>3.0</td>\n",
       "      <td>5:00</td>\n",
       "    </tr>\n",
       "    <tr>\n",
       "      <th>...</th>\n",
       "      <td>...</td>\n",
       "      <td>...</td>\n",
       "      <td>...</td>\n",
       "      <td>...</td>\n",
       "      <td>...</td>\n",
       "      <td>...</td>\n",
       "      <td>...</td>\n",
       "    </tr>\n",
       "    <tr>\n",
       "      <th>22976</th>\n",
       "      <td>Alex Zuniga</td>\n",
       "      <td>145 lbs.</td>\n",
       "      <td>Bryan Caraway</td>\n",
       "      <td>LOSS</td>\n",
       "      <td>U-DEC</td>\n",
       "      <td>3.0</td>\n",
       "      <td>5:00</td>\n",
       "    </tr>\n",
       "    <tr>\n",
       "      <th>22979</th>\n",
       "      <td>Allan Zuniga</td>\n",
       "      <td>155 lbs.</td>\n",
       "      <td>John Gunther</td>\n",
       "      <td>LOSS</td>\n",
       "      <td>M-DEC</td>\n",
       "      <td>3.0</td>\n",
       "      <td>5:00</td>\n",
       "    </tr>\n",
       "    <tr>\n",
       "      <th>22981</th>\n",
       "      <td>Virgil Zwicker</td>\n",
       "      <td>205 lbs.</td>\n",
       "      <td>Guto Inocente</td>\n",
       "      <td>LOSS</td>\n",
       "      <td>U-DEC</td>\n",
       "      <td>3.0</td>\n",
       "      <td>5:00</td>\n",
       "    </tr>\n",
       "    <tr>\n",
       "      <th>22982</th>\n",
       "      <td>Virgil Zwicker</td>\n",
       "      <td>205 lbs.</td>\n",
       "      <td>Brett Albee</td>\n",
       "      <td>WIN</td>\n",
       "      <td>KO/TKO</td>\n",
       "      <td>1.0</td>\n",
       "      <td>1:46</td>\n",
       "    </tr>\n",
       "    <tr>\n",
       "      <th>22983</th>\n",
       "      <td>Virgil Zwicker</td>\n",
       "      <td>205 lbs.</td>\n",
       "      <td>Lavar Johnson</td>\n",
       "      <td>LOSS</td>\n",
       "      <td>KO/TKO</td>\n",
       "      <td>1.0</td>\n",
       "      <td>2:17</td>\n",
       "    </tr>\n",
       "  </tbody>\n",
       "</table>\n",
       "<p>18488 rows × 7 columns</p>\n",
       "</div>"
      ],
      "text/plain": [
       "             Full Name    Weight         Matchup Outcome  Method  Round  Time\n",
       "1            Tom Aaron  155 lbs.  Matt Ricehouse    LOSS   U-DEC    3.0  5:00\n",
       "2            Tom Aaron  155 lbs.  Eric Steenberg     WIN     SUB    1.0  0:56\n",
       "4         Danny Abbadi  155 lbs.    Jorge Gurgel    LOSS   S-DEC    3.0  5:00\n",
       "5         Danny Abbadi  155 lbs.   Kalib Starnes    LOSS     SUB    1.0  2:56\n",
       "7      Nariman Abbasov  155 lbs.   Ismael Bonfim    LOSS   U-DEC    3.0  5:00\n",
       "...                ...       ...             ...     ...     ...    ...   ...\n",
       "22976      Alex Zuniga  145 lbs.   Bryan Caraway    LOSS   U-DEC    3.0  5:00\n",
       "22979     Allan Zuniga  155 lbs.    John Gunther    LOSS   M-DEC    3.0  5:00\n",
       "22981   Virgil Zwicker  205 lbs.   Guto Inocente    LOSS   U-DEC    3.0  5:00\n",
       "22982   Virgil Zwicker  205 lbs.     Brett Albee     WIN  KO/TKO    1.0  1:46\n",
       "22983   Virgil Zwicker  205 lbs.   Lavar Johnson    LOSS  KO/TKO    1.0  2:17\n",
       "\n",
       "[18488 rows x 7 columns]"
      ]
     },
     "execution_count": 14,
     "metadata": {},
     "output_type": "execute_result"
    }
   ],
   "source": [
    "filtered_df2"
   ]
  },
  {
   "cell_type": "code",
   "execution_count": 15,
   "metadata": {},
   "outputs": [],
   "source": [
    "df = filtered_df2"
   ]
  },
  {
   "cell_type": "markdown",
   "metadata": {},
   "source": [
    "## Exploratory Data Analysis (EDA)"
   ]
  },
  {
   "cell_type": "code",
   "execution_count": 16,
   "metadata": {},
   "outputs": [],
   "source": [
    "#questions that could be of importance:\n",
    "#what is the most common method of winning?\n",
    "#for fighters that win through ko/submission what round does it typically occur in?\n",
    "#is there a discrepancy in the way fighters win across different weight classes?"
   ]
  },
  {
   "cell_type": "code",
   "execution_count": 17,
   "metadata": {},
   "outputs": [],
   "source": [
    "#Jan vs. Izzy:\n",
    "\n",
    "#Outcome\t% chance\tWinner\n",
    "#KO\t44.9%\tJan\n",
    "#DEC\t29.1%\tIsrael\n",
    "#DEC\t13.2%\tJan\n",
    "#KO\t9.48%\tIsrael\n",
    "#SUB\t2.9%\tIsrael\n",
    "#SUB\t.4%\tJan"
   ]
  },
  {
   "cell_type": "code",
   "execution_count": 18,
   "metadata": {},
   "outputs": [],
   "source": [
    "#name, total matches, wins, losses, wins by dec, wins by sub, wins by ko/tko, loss by dec, loss by sub, loss by ko/tko"
   ]
  },
  {
   "cell_type": "code",
   "execution_count": 19,
   "metadata": {},
   "outputs": [],
   "source": [
    "decisions = ['U-DEC', 'S-DEC', 'M-DEC', 'S-DEC ', 'U-DEC ', 'M-DEC ']\n",
    "kos = ['KO/TKO', 'KO/TKO ']\n",
    "submissions = ['SUB', 'SUB ']\n",
    "\n",
    "\n",
    "data = {\n",
    "    'Total Fights': df.groupby(['Full Name'])['Matchup'].count(),\n",
    "    'Total Wins': df.loc[df['Outcome'] == 'WIN'].groupby(['Full Name'])['Outcome'].count(),\n",
    "    'Total Losses': df.loc[df['Outcome'] == 'LOSS'].groupby(['Full Name'])['Outcome'].count(),\n",
    "    'Wins By Decision': df.loc[(df['Outcome'] == 'WIN') & (df['Method'].isin(decisions))].groupby(['Full Name'])['Outcome'].count(),\n",
    "    'Wins By KO': df.loc[(df['Outcome'] == 'WIN') & (df['Method'].isin(kos))].groupby(['Full Name'])['Outcome'].count(),\n",
    "    'Wins By Submission': df.loc[(df['Outcome'] == 'WIN') & (df['Method'].isin(submissions))].groupby(['Full Name'])['Outcome'].count(),\n",
    "    'Loss By Decision': df.loc[(df['Outcome'] == 'LOSS') & (df['Method'].isin(decisions))].groupby(['Full Name'])['Outcome'].count(),\n",
    "    'Loss By KO': df.loc[(df['Outcome'] == 'LOSS') & (df['Method'].isin(kos))].groupby(['Full Name'])['Outcome'].count(),\n",
    "    'Loss By Submission': df.loc[(df['Outcome'] == 'LOSS') & (df['Method'].isin(submissions))].groupby(['Full Name'])['Outcome'].count()\n",
    "}"
   ]
  },
  {
   "cell_type": "code",
   "execution_count": 20,
   "metadata": {},
   "outputs": [],
   "source": [
    "fighter_stats = pd.DataFrame(data)"
   ]
  },
  {
   "cell_type": "code",
   "execution_count": 21,
   "metadata": {},
   "outputs": [],
   "source": [
    "#df[df['Full Name'] == 'AJ Fonseca']"
   ]
  },
  {
   "cell_type": "code",
   "execution_count": 22,
   "metadata": {},
   "outputs": [],
   "source": [
    "fighter_stats.fillna(0, inplace=True)"
   ]
  },
  {
   "cell_type": "code",
   "execution_count": 23,
   "metadata": {},
   "outputs": [
    {
     "data": {
      "text/html": [
       "<div>\n",
       "<style scoped>\n",
       "    .dataframe tbody tr th:only-of-type {\n",
       "        vertical-align: middle;\n",
       "    }\n",
       "\n",
       "    .dataframe tbody tr th {\n",
       "        vertical-align: top;\n",
       "    }\n",
       "\n",
       "    .dataframe thead th {\n",
       "        text-align: right;\n",
       "    }\n",
       "</style>\n",
       "<table border=\"1\" class=\"dataframe\">\n",
       "  <thead>\n",
       "    <tr style=\"text-align: right;\">\n",
       "      <th></th>\n",
       "      <th>Total Fights</th>\n",
       "      <th>Total Wins</th>\n",
       "      <th>Total Losses</th>\n",
       "      <th>Wins By Decision</th>\n",
       "      <th>Wins By KO</th>\n",
       "      <th>Wins By Submission</th>\n",
       "      <th>Loss By Decision</th>\n",
       "      <th>Loss By KO</th>\n",
       "      <th>Loss By Submission</th>\n",
       "    </tr>\n",
       "  </thead>\n",
       "  <tbody>\n",
       "    <tr>\n",
       "      <th>AJ Dobson</th>\n",
       "      <td>3</td>\n",
       "      <td>1.0</td>\n",
       "      <td>2.0</td>\n",
       "      <td>0.0</td>\n",
       "      <td>0.0</td>\n",
       "      <td>1.0</td>\n",
       "      <td>2.0</td>\n",
       "      <td>0.0</td>\n",
       "      <td>0.0</td>\n",
       "    </tr>\n",
       "    <tr>\n",
       "      <th>AJ Fletcher</th>\n",
       "      <td>4</td>\n",
       "      <td>2.0</td>\n",
       "      <td>2.0</td>\n",
       "      <td>0.0</td>\n",
       "      <td>1.0</td>\n",
       "      <td>1.0</td>\n",
       "      <td>2.0</td>\n",
       "      <td>0.0</td>\n",
       "      <td>0.0</td>\n",
       "    </tr>\n",
       "    <tr>\n",
       "      <th>AJ Fonseca</th>\n",
       "      <td>1</td>\n",
       "      <td>0.0</td>\n",
       "      <td>1.0</td>\n",
       "      <td>0.0</td>\n",
       "      <td>0.0</td>\n",
       "      <td>0.0</td>\n",
       "      <td>1.0</td>\n",
       "      <td>0.0</td>\n",
       "      <td>0.0</td>\n",
       "    </tr>\n",
       "    <tr>\n",
       "      <th>AJ Matthews</th>\n",
       "      <td>1</td>\n",
       "      <td>0.0</td>\n",
       "      <td>1.0</td>\n",
       "      <td>0.0</td>\n",
       "      <td>0.0</td>\n",
       "      <td>0.0</td>\n",
       "      <td>0.0</td>\n",
       "      <td>1.0</td>\n",
       "      <td>0.0</td>\n",
       "    </tr>\n",
       "    <tr>\n",
       "      <th>Aalon Cruz</th>\n",
       "      <td>3</td>\n",
       "      <td>1.0</td>\n",
       "      <td>2.0</td>\n",
       "      <td>0.0</td>\n",
       "      <td>1.0</td>\n",
       "      <td>0.0</td>\n",
       "      <td>0.0</td>\n",
       "      <td>2.0</td>\n",
       "      <td>0.0</td>\n",
       "    </tr>\n",
       "    <tr>\n",
       "      <th>...</th>\n",
       "      <td>...</td>\n",
       "      <td>...</td>\n",
       "      <td>...</td>\n",
       "      <td>...</td>\n",
       "      <td>...</td>\n",
       "      <td>...</td>\n",
       "      <td>...</td>\n",
       "      <td>...</td>\n",
       "      <td>...</td>\n",
       "    </tr>\n",
       "    <tr>\n",
       "      <th>Zhang Tiequan</th>\n",
       "      <td>6</td>\n",
       "      <td>2.0</td>\n",
       "      <td>4.0</td>\n",
       "      <td>0.0</td>\n",
       "      <td>0.0</td>\n",
       "      <td>2.0</td>\n",
       "      <td>3.0</td>\n",
       "      <td>1.0</td>\n",
       "      <td>0.0</td>\n",
       "    </tr>\n",
       "    <tr>\n",
       "      <th>Zhang Weili</th>\n",
       "      <td>9</td>\n",
       "      <td>7.0</td>\n",
       "      <td>2.0</td>\n",
       "      <td>3.0</td>\n",
       "      <td>2.0</td>\n",
       "      <td>2.0</td>\n",
       "      <td>1.0</td>\n",
       "      <td>1.0</td>\n",
       "      <td>0.0</td>\n",
       "    </tr>\n",
       "    <tr>\n",
       "      <th>Zoila Frausto</th>\n",
       "      <td>2</td>\n",
       "      <td>1.0</td>\n",
       "      <td>1.0</td>\n",
       "      <td>1.0</td>\n",
       "      <td>0.0</td>\n",
       "      <td>0.0</td>\n",
       "      <td>0.0</td>\n",
       "      <td>0.0</td>\n",
       "      <td>1.0</td>\n",
       "    </tr>\n",
       "    <tr>\n",
       "      <th>Zubaira Tukhugov</th>\n",
       "      <td>8</td>\n",
       "      <td>5.0</td>\n",
       "      <td>3.0</td>\n",
       "      <td>3.0</td>\n",
       "      <td>2.0</td>\n",
       "      <td>0.0</td>\n",
       "      <td>3.0</td>\n",
       "      <td>0.0</td>\n",
       "      <td>0.0</td>\n",
       "    </tr>\n",
       "    <tr>\n",
       "      <th>Zviad Lazishvili</th>\n",
       "      <td>1</td>\n",
       "      <td>0.0</td>\n",
       "      <td>1.0</td>\n",
       "      <td>0.0</td>\n",
       "      <td>0.0</td>\n",
       "      <td>0.0</td>\n",
       "      <td>1.0</td>\n",
       "      <td>0.0</td>\n",
       "      <td>0.0</td>\n",
       "    </tr>\n",
       "  </tbody>\n",
       "</table>\n",
       "<p>3546 rows × 9 columns</p>\n",
       "</div>"
      ],
      "text/plain": [
       "                  Total Fights  Total Wins  Total Losses  Wins By Decision  \\\n",
       "AJ Dobson                    3         1.0           2.0               0.0   \n",
       "AJ Fletcher                  4         2.0           2.0               0.0   \n",
       "AJ Fonseca                   1         0.0           1.0               0.0   \n",
       "AJ Matthews                  1         0.0           1.0               0.0   \n",
       "Aalon Cruz                   3         1.0           2.0               0.0   \n",
       "...                        ...         ...           ...               ...   \n",
       "Zhang Tiequan                6         2.0           4.0               0.0   \n",
       "Zhang Weili                  9         7.0           2.0               3.0   \n",
       "Zoila Frausto                2         1.0           1.0               1.0   \n",
       "Zubaira Tukhugov             8         5.0           3.0               3.0   \n",
       "Zviad Lazishvili             1         0.0           1.0               0.0   \n",
       "\n",
       "                  Wins By KO  Wins By Submission  Loss By Decision  \\\n",
       "AJ Dobson                0.0                 1.0               2.0   \n",
       "AJ Fletcher              1.0                 1.0               2.0   \n",
       "AJ Fonseca               0.0                 0.0               1.0   \n",
       "AJ Matthews              0.0                 0.0               0.0   \n",
       "Aalon Cruz               1.0                 0.0               0.0   \n",
       "...                      ...                 ...               ...   \n",
       "Zhang Tiequan            0.0                 2.0               3.0   \n",
       "Zhang Weili              2.0                 2.0               1.0   \n",
       "Zoila Frausto            0.0                 0.0               0.0   \n",
       "Zubaira Tukhugov         2.0                 0.0               3.0   \n",
       "Zviad Lazishvili         0.0                 0.0               1.0   \n",
       "\n",
       "                  Loss By KO  Loss By Submission  \n",
       "AJ Dobson                0.0                 0.0  \n",
       "AJ Fletcher              0.0                 0.0  \n",
       "AJ Fonseca               0.0                 0.0  \n",
       "AJ Matthews              1.0                 0.0  \n",
       "Aalon Cruz               2.0                 0.0  \n",
       "...                      ...                 ...  \n",
       "Zhang Tiequan            1.0                 0.0  \n",
       "Zhang Weili              1.0                 0.0  \n",
       "Zoila Frausto            0.0                 1.0  \n",
       "Zubaira Tukhugov         0.0                 0.0  \n",
       "Zviad Lazishvili         0.0                 0.0  \n",
       "\n",
       "[3546 rows x 9 columns]"
      ]
     },
     "execution_count": 23,
     "metadata": {},
     "output_type": "execute_result"
    }
   ],
   "source": [
    "fighter_stats"
   ]
  },
  {
   "cell_type": "code",
   "execution_count": 32,
   "metadata": {},
   "outputs": [],
   "source": [
    "df = fighter_stats"
   ]
  },
  {
   "cell_type": "markdown",
   "metadata": {},
   "source": [
    "## Monte Carlo Simulation"
   ]
  },
  {
   "cell_type": "code",
   "execution_count": 48,
   "metadata": {},
   "outputs": [],
   "source": [
    "import math\n",
    "import random as rnd"
   ]
  },
  {
   "cell_type": "code",
   "execution_count": 29,
   "metadata": {},
   "outputs": [],
   "source": [
    "def calculate_mean(statistic, total_fights):\n",
    "    return statistic/total_fights\n",
    "\n",
    "def calculate_sd(statistic, total_fights):\n",
    "    mean = calculate_mean(statistic, total_fights)\n",
    "    return math.sqrt(mean*(1-mean))/total_fights"
   ]
  },
  {
   "cell_type": "code",
   "execution_count": 39,
   "metadata": {},
   "outputs": [],
   "source": [
    "def get_fighter_parameters(fighter1, fighter2):\n",
    "    data = {\"Decision Wins Mean\" : [calculate_mean(df.loc[fighter1, \"Wins By Decision\"], df.loc[fighter1, \"Total Fights\"]),\n",
    "                                   calculate_mean(df.loc[fighter2, \"Wins By Decision\"], df.loc[fighter2, \"Total Fights\"])], \n",
    "            \n",
    "           \"Decision Wins SD\" : [calculate_sd(df.loc[fighter1, \"Wins By Decision\"], df.loc[fighter1, \"Total Fights\"]),\n",
    "                                   calculate_sd(df.loc[fighter2, \"Wins By Decision\"], df.loc[fighter2, \"Total Fights\"])],\n",
    "            \n",
    "           \"KO Wins Mean\" : [calculate_mean(df.loc[fighter1, \"Wins By KO\"], df.loc[fighter1, \"Total Fights\"]),\n",
    "                                   calculate_mean(df.loc[fighter2, \"Wins By KO\"], df.loc[fighter2, \"Total Fights\"])], \n",
    "            \n",
    "            'KO Wins SD' : [calculate_sd(df.loc[fighter1, \"Wins By KO\"], df.loc[fighter1, \"Total Fights\"]),\n",
    "                                   calculate_sd(df.loc[fighter2, \"Wins By KO\"], df.loc[fighter2, \"Total Fights\"])], \n",
    "           \n",
    "            'Sub Wins Mean' : [calculate_mean(df.loc[fighter1, \"Wins By Submission\"], df.loc[fighter1, \"Total Fights\"]),\n",
    "                                   calculate_mean(df.loc[fighter2, \"Wins By Submission\"], df.loc[fighter2, \"Total Fights\"])],\n",
    "           \n",
    "            'Sub Wins SD' : [calculate_sd(df.loc[fighter1, \"Wins By Submission\"], df.loc[fighter1, \"Total Fights\"]),\n",
    "                                   calculate_sd(df.loc[fighter2, \"Wins By Submission\"], df.loc[fighter2, \"Total Fights\"])], \n",
    "            \n",
    "            'Decision Loss Mean' : [calculate_mean(df.loc[fighter1, \"Loss By Decision\"], df.loc[fighter1, \"Total Fights\"]),\n",
    "                                   calculate_mean(df.loc[fighter2, \"Loss By Decision\"], df.loc[fighter2, \"Total Fights\"])], \n",
    "            \n",
    "            'Decision Loss SD' : [calculate_sd(df.loc[fighter1, \"Loss By Decision\"], df.loc[fighter1, \"Total Fights\"]),\n",
    "                                   calculate_sd(df.loc[fighter2, \"Loss By Decision\"], df.loc[fighter2, \"Total Fights\"])], \n",
    "            \n",
    "            'KO Loss Mean' : [calculate_mean(df.loc[fighter1, \"Loss By KO\"], df.loc[fighter1, \"Total Fights\"]),\n",
    "                                   calculate_mean(df.loc[fighter2, \"Loss By KO\"], df.loc[fighter2, \"Total Fights\"])], \n",
    "            \n",
    "            'KO Loss SD' : [calculate_sd(df.loc[fighter1, \"Loss By KO\"], df.loc[fighter1, \"Total Fights\"]),\n",
    "                                   calculate_sd(df.loc[fighter2, \"Loss By KO\"], df.loc[fighter2, \"Total Fights\"])], \n",
    "           \n",
    "            'Sub Loss Mean' : [calculate_mean(df.loc[fighter1, \"Loss By Submission\"], df.loc[fighter1, \"Total Fights\"]),\n",
    "                                   calculate_mean(df.loc[fighter2, \"Loss By Submission\"], df.loc[fighter2, \"Total Fights\"])], \n",
    "            \n",
    "            'Sub Loss SD' : [calculate_sd(df.loc[fighter1, \"Loss By Submission\"], df.loc[fighter1, \"Total Fights\"]),\n",
    "                                   calculate_sd(df.loc[fighter2, \"Loss By Submission\"], df.loc[fighter2, \"Total Fights\"])]}\n",
    "    \n",
    "    fighter_parameter_df = pd.DataFrame(data=data, index = [fighter1, fighter2])\n",
    "    return fighter_parameter_df"
   ]
  },
  {
   "cell_type": "code",
   "execution_count": 46,
   "metadata": {},
   "outputs": [],
   "source": [
    "matchup_df = get_fighter_parameters(\"Israel Adesanya\", \"Jon Jones\")"
   ]
  },
  {
   "cell_type": "code",
   "execution_count": 61,
   "metadata": {},
   "outputs": [],
   "source": [
    "def gameSim():\n",
    "    results = []\n",
    "    #GSWScore = (rnd.gauss(gswmeanpts,gswsdpts)+ rnd.gauss(clmeanopp,clsdopp))/2\n",
    "    fighter1_dec_score = (rnd.gauss(matchup_df.iloc[0]['Decision Wins Mean'],matchup_df.iloc[0]['Decision Wins SD'])+ \n",
    "                          rnd.gauss(matchup_df.iloc[1]['Decision Loss Mean'],matchup_df.iloc[1]['Decision Loss SD']))/2\n",
    "    fighter1_ko_score = (rnd.gauss(matchup_df.iloc[0]['KO Wins Mean'],matchup_df.iloc[0]['KO Wins SD'])+ \n",
    "                          rnd.gauss(matchup_df.iloc[1]['KO Loss Mean'],matchup_df.iloc[1]['KO Loss SD']))/2\n",
    "    fighter1_sub_score = (rnd.gauss(matchup_df.iloc[0]['Sub Wins Mean'],matchup_df.iloc[0]['Sub Wins SD'])+ \n",
    "                          rnd.gauss(matchup_df.iloc[1]['Sub Loss Mean'],matchup_df.iloc[1]['Sub Loss SD']))/2\n",
    "    fighter2_dec_score = (rnd.gauss(matchup_df.iloc[1]['Decision Wins Mean'],matchup_df.iloc[1]['Decision Wins SD'])+ \n",
    "                          rnd.gauss(matchup_df.iloc[0]['Decision Loss Mean'],matchup_df.iloc[0]['Decision Loss SD']))/2\n",
    "    fighter2_ko_score = (rnd.gauss(matchup_df.iloc[1]['KO Wins Mean'],matchup_df.iloc[1]['KO Wins SD'])+ \n",
    "                          rnd.gauss(matchup_df.iloc[0]['KO Loss Mean'],matchup_df.iloc[0]['KO Loss SD']))/2\n",
    "    fighter2_sub_score = (rnd.gauss(matchup_df.iloc[1]['Sub Wins Mean'],matchup_df.iloc[1]['Sub Wins SD'])+ \n",
    "                          rnd.gauss(matchup_df.iloc[0]['Sub Loss Mean'],matchup_df.iloc[0]['Sub Loss SD']))/2\n",
    "    \n",
    "    results.append(fighter1_dec_score)\n",
    "    results.append(fighter1_ko_score)\n",
    "    results.append(fighter1_sub_score)    \n",
    "    results.append(fighter2_dec_score)    \n",
    "    results.append(fighter2_ko_score)    \n",
    "    results.append(fighter2_sub_score)    \n",
    "    print(results)\n",
    "    #if int(round(GSWScore)) > int(round(CLScore)):\n",
    "    #    return 1\n",
    "    #elif int(round(GSWScore)) < int(round(CLScore)):\n",
    "     #   return -1\n",
    "    #else: return 0"
   ]
  },
  {
   "cell_type": "code",
   "execution_count": 62,
   "metadata": {},
   "outputs": [
    {
     "name": "stdout",
     "output_type": "stream",
     "text": [
      "[0.2526319189080937, 0.1429785280949982, 0.0, 0.2586104541045792, 0.14197600679029518, 0.13699103743644706]\n"
     ]
    }
   ],
   "source": [
    "gameSim()"
   ]
  },
  {
   "cell_type": "code",
   "execution_count": null,
   "metadata": {},
   "outputs": [],
   "source": []
  },
  {
   "cell_type": "code",
   "execution_count": null,
   "metadata": {},
   "outputs": [],
   "source": []
  }
 ],
 "metadata": {
  "kernelspec": {
   "display_name": "Python 3",
   "language": "python",
   "name": "python3"
  },
  "language_info": {
   "codemirror_mode": {
    "name": "ipython",
    "version": 3
   },
   "file_extension": ".py",
   "mimetype": "text/x-python",
   "name": "python",
   "nbconvert_exporter": "python",
   "pygments_lexer": "ipython3",
   "version": "3.8.3"
  }
 },
 "nbformat": 4,
 "nbformat_minor": 4
}
