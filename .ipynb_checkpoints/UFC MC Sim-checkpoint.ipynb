{
 "cells": [
  {
   "cell_type": "code",
   "execution_count": 84,
   "metadata": {},
   "outputs": [],
   "source": [
    "#get data on ways fighter won/lost through dec, won/lost through sub, won/lost through ko/tko  \n",
    "#tabulate outcomes in a table such as: Outcome, % chance, winner \n",
    "#FRONT END: give the user the ability to input two fighters (drop down menu)\n",
    "# ---- FINISHED --- \n",
    "#extra: prevent users from picking two fighters that are from different weight classes\n",
    "#--- LONG RUN --- \n",
    "# Improve model where it takes # of strikes (successful, attempted) , ground game/submissions duration, takedowns (successful, attempted)\n",
    "# into consideration "
   ]
  },
  {
   "cell_type": "code",
   "execution_count": 85,
   "metadata": {},
   "outputs": [],
   "source": [
    "#get accuracy of model by spitting data into train/test\n",
    "import pandas as pd "
   ]
  },
  {
   "cell_type": "code",
   "execution_count": 86,
   "metadata": {},
   "outputs": [],
   "source": [
    "df = pd.read_csv(\"UFC Matches April 2023.csv\")"
   ]
  },
  {
   "cell_type": "code",
   "execution_count": 87,
   "metadata": {},
   "outputs": [
    {
     "data": {
      "text/html": [
       "<div>\n",
       "<style scoped>\n",
       "    .dataframe tbody tr th:only-of-type {\n",
       "        vertical-align: middle;\n",
       "    }\n",
       "\n",
       "    .dataframe tbody tr th {\n",
       "        vertical-align: top;\n",
       "    }\n",
       "\n",
       "    .dataframe thead th {\n",
       "        text-align: right;\n",
       "    }\n",
       "</style>\n",
       "<table border=\"1\" class=\"dataframe\">\n",
       "  <thead>\n",
       "    <tr style=\"text-align: right;\">\n",
       "      <th></th>\n",
       "      <th>Full Name</th>\n",
       "      <th>Weight</th>\n",
       "      <th>Matchup</th>\n",
       "      <th>Outcome</th>\n",
       "      <th>Method</th>\n",
       "      <th>Round</th>\n",
       "      <th>Time</th>\n",
       "    </tr>\n",
       "  </thead>\n",
       "  <tbody>\n",
       "    <tr>\n",
       "      <th>0</th>\n",
       "      <td>Tom Aaron</td>\n",
       "      <td>WEIGHT: 155 lbs.</td>\n",
       "      <td>NaN</td>\n",
       "      <td>NaN</td>\n",
       "      <td>NaN</td>\n",
       "      <td>NaN</td>\n",
       "      <td>NaN</td>\n",
       "    </tr>\n",
       "    <tr>\n",
       "      <th>1</th>\n",
       "      <td>Tom Aaron</td>\n",
       "      <td>WEIGHT: 155 lbs.</td>\n",
       "      <td>Tom Aaron\\n \\n Matt Ricehouse</td>\n",
       "      <td>LOSS</td>\n",
       "      <td>U-DEC</td>\n",
       "      <td>3.0</td>\n",
       "      <td>5:00</td>\n",
       "    </tr>\n",
       "    <tr>\n",
       "      <th>2</th>\n",
       "      <td>Tom Aaron</td>\n",
       "      <td>WEIGHT: 155 lbs.</td>\n",
       "      <td>Tom Aaron\\n \\n Eric Steenberg</td>\n",
       "      <td>WIN</td>\n",
       "      <td>SUB</td>\n",
       "      <td>1.0</td>\n",
       "      <td>0:56</td>\n",
       "    </tr>\n",
       "    <tr>\n",
       "      <th>3</th>\n",
       "      <td>Danny Abbadi</td>\n",
       "      <td>WEIGHT: 155 lbs.</td>\n",
       "      <td>NaN</td>\n",
       "      <td>NaN</td>\n",
       "      <td>NaN</td>\n",
       "      <td>NaN</td>\n",
       "      <td>NaN</td>\n",
       "    </tr>\n",
       "    <tr>\n",
       "      <th>4</th>\n",
       "      <td>Danny Abbadi</td>\n",
       "      <td>WEIGHT: 155 lbs.</td>\n",
       "      <td>Danny Abbadi\\n \\n Jorge Gurgel</td>\n",
       "      <td>LOSS</td>\n",
       "      <td>S-DEC</td>\n",
       "      <td>3.0</td>\n",
       "      <td>5:00</td>\n",
       "    </tr>\n",
       "  </tbody>\n",
       "</table>\n",
       "</div>"
      ],
      "text/plain": [
       "      Full Name            Weight                         Matchup Outcome  \\\n",
       "0     Tom Aaron  WEIGHT: 155 lbs.                             NaN     NaN   \n",
       "1     Tom Aaron  WEIGHT: 155 lbs.   Tom Aaron\\n \\n Matt Ricehouse    LOSS   \n",
       "2     Tom Aaron  WEIGHT: 155 lbs.   Tom Aaron\\n \\n Eric Steenberg     WIN   \n",
       "3  Danny Abbadi  WEIGHT: 155 lbs.                             NaN     NaN   \n",
       "4  Danny Abbadi  WEIGHT: 155 lbs.  Danny Abbadi\\n \\n Jorge Gurgel    LOSS   \n",
       "\n",
       "  Method  Round  Time  \n",
       "0    NaN    NaN   NaN  \n",
       "1  U-DEC    3.0  5:00  \n",
       "2    SUB    1.0  0:56  \n",
       "3    NaN    NaN   NaN  \n",
       "4  S-DEC    3.0  5:00  "
      ]
     },
     "execution_count": 87,
     "metadata": {},
     "output_type": "execute_result"
    }
   ],
   "source": [
    "df.head()"
   ]
  },
  {
   "cell_type": "markdown",
   "metadata": {},
   "source": [
    "## Data Cleaning"
   ]
  },
  {
   "cell_type": "markdown",
   "metadata": {},
   "source": [
    "We have to clean our dataset then group each fighter and get their distributions to determine their likelihood of winning/losing via decision, tko/ko or submission."
   ]
  },
  {
   "cell_type": "code",
   "execution_count": 88,
   "metadata": {},
   "outputs": [],
   "source": [
    "# delete first row of every fighter\n",
    "nulls = df[[\"Matchup\", \"Outcome\", 'Method', 'Round', 'Time']].isnull().all(axis=1) \n",
    "df = df.loc[~nulls, :]\n",
    "\n",
    "#find matches that are upcoming and delete them\n",
    "df = df[df[\"Outcome\"] != 'NEXT']\n",
    "\n",
    "# delete \"weight text\" in weight column\n",
    "df['Weight'] = df['Weight'].str.replace('WEIGHT: ', '')\n",
    "\n",
    "# keep only opponents name in matchup column\n",
    "def remove_name(orig_matchup):\n",
    "    last_index = orig_matchup.rfind('\\n')\n",
    "    new_string = orig_matchup[last_index +1:]\n",
    "    return new_string.strip()\n",
    "\n",
    "df['Matchup'] = df['Matchup'].apply(lambda x: remove_name(x))"
   ]
  },
  {
   "cell_type": "code",
   "execution_count": 89,
   "metadata": {},
   "outputs": [],
   "source": [
    "unique_methods = df['Method'].unique()"
   ]
  },
  {
   "cell_type": "code",
   "execution_count": 90,
   "metadata": {
    "scrolled": true
   },
   "outputs": [
    {
     "data": {
      "text/plain": [
       "array(['U-DEC', 'SUB', 'S-DEC', 'KO/TKO', 'Overturned', 'Other', 'M-DEC',\n",
       "       'CNC', 'DQ', 'SUB ', 'KO/TKO ', 'S-DEC ', 'Decision', 'U-DEC ',\n",
       "       'M-DEC ', 'Overturned ', 'CNC '], dtype=object)"
      ]
     },
     "execution_count": 90,
     "metadata": {},
     "output_type": "execute_result"
    }
   ],
   "source": [
    "unique_methods"
   ]
  },
  {
   "cell_type": "code",
   "execution_count": 91,
   "metadata": {},
   "outputs": [],
   "source": [
    "unique_outcomes = df['Outcome'].unique()"
   ]
  },
  {
   "cell_type": "code",
   "execution_count": 92,
   "metadata": {},
   "outputs": [
    {
     "data": {
      "text/plain": [
       "array(['LOSS', 'WIN', 'NC', 'DRAW'], dtype=object)"
      ]
     },
     "execution_count": 92,
     "metadata": {},
     "output_type": "execute_result"
    }
   ],
   "source": [
    "unique_outcomes"
   ]
  },
  {
   "cell_type": "code",
   "execution_count": 93,
   "metadata": {},
   "outputs": [],
   "source": [
    "removed_outcomes = ['NC', 'DRAW']\n",
    "removed_methods = ['Overturned', 'Other', 'CNC', 'DQ', 'Overturned ', 'CNC ']"
   ]
  },
  {
   "cell_type": "code",
   "execution_count": 94,
   "metadata": {},
   "outputs": [],
   "source": [
    "filtered_df1 = df.loc[~df['Method'].isin(removed_methods)]\n",
    "filtered_df2 = filtered_df1.loc[~df['Outcome'].isin(removed_outcomes)]"
   ]
  },
  {
   "cell_type": "code",
   "execution_count": 95,
   "metadata": {},
   "outputs": [
    {
     "data": {
      "text/html": [
       "<div>\n",
       "<style scoped>\n",
       "    .dataframe tbody tr th:only-of-type {\n",
       "        vertical-align: middle;\n",
       "    }\n",
       "\n",
       "    .dataframe tbody tr th {\n",
       "        vertical-align: top;\n",
       "    }\n",
       "\n",
       "    .dataframe thead th {\n",
       "        text-align: right;\n",
       "    }\n",
       "</style>\n",
       "<table border=\"1\" class=\"dataframe\">\n",
       "  <thead>\n",
       "    <tr style=\"text-align: right;\">\n",
       "      <th></th>\n",
       "      <th>Full Name</th>\n",
       "      <th>Weight</th>\n",
       "      <th>Matchup</th>\n",
       "      <th>Outcome</th>\n",
       "      <th>Method</th>\n",
       "      <th>Round</th>\n",
       "      <th>Time</th>\n",
       "    </tr>\n",
       "  </thead>\n",
       "  <tbody>\n",
       "    <tr>\n",
       "      <th>1</th>\n",
       "      <td>Tom Aaron</td>\n",
       "      <td>155 lbs.</td>\n",
       "      <td>Matt Ricehouse</td>\n",
       "      <td>LOSS</td>\n",
       "      <td>U-DEC</td>\n",
       "      <td>3.0</td>\n",
       "      <td>5:00</td>\n",
       "    </tr>\n",
       "    <tr>\n",
       "      <th>2</th>\n",
       "      <td>Tom Aaron</td>\n",
       "      <td>155 lbs.</td>\n",
       "      <td>Eric Steenberg</td>\n",
       "      <td>WIN</td>\n",
       "      <td>SUB</td>\n",
       "      <td>1.0</td>\n",
       "      <td>0:56</td>\n",
       "    </tr>\n",
       "    <tr>\n",
       "      <th>4</th>\n",
       "      <td>Danny Abbadi</td>\n",
       "      <td>155 lbs.</td>\n",
       "      <td>Jorge Gurgel</td>\n",
       "      <td>LOSS</td>\n",
       "      <td>S-DEC</td>\n",
       "      <td>3.0</td>\n",
       "      <td>5:00</td>\n",
       "    </tr>\n",
       "    <tr>\n",
       "      <th>5</th>\n",
       "      <td>Danny Abbadi</td>\n",
       "      <td>155 lbs.</td>\n",
       "      <td>Kalib Starnes</td>\n",
       "      <td>LOSS</td>\n",
       "      <td>SUB</td>\n",
       "      <td>1.0</td>\n",
       "      <td>2:56</td>\n",
       "    </tr>\n",
       "    <tr>\n",
       "      <th>7</th>\n",
       "      <td>Nariman Abbasov</td>\n",
       "      <td>155 lbs.</td>\n",
       "      <td>Ismael Bonfim</td>\n",
       "      <td>LOSS</td>\n",
       "      <td>U-DEC</td>\n",
       "      <td>3.0</td>\n",
       "      <td>5:00</td>\n",
       "    </tr>\n",
       "    <tr>\n",
       "      <th>...</th>\n",
       "      <td>...</td>\n",
       "      <td>...</td>\n",
       "      <td>...</td>\n",
       "      <td>...</td>\n",
       "      <td>...</td>\n",
       "      <td>...</td>\n",
       "      <td>...</td>\n",
       "    </tr>\n",
       "    <tr>\n",
       "      <th>22976</th>\n",
       "      <td>Alex Zuniga</td>\n",
       "      <td>145 lbs.</td>\n",
       "      <td>Bryan Caraway</td>\n",
       "      <td>LOSS</td>\n",
       "      <td>U-DEC</td>\n",
       "      <td>3.0</td>\n",
       "      <td>5:00</td>\n",
       "    </tr>\n",
       "    <tr>\n",
       "      <th>22979</th>\n",
       "      <td>Allan Zuniga</td>\n",
       "      <td>155 lbs.</td>\n",
       "      <td>John Gunther</td>\n",
       "      <td>LOSS</td>\n",
       "      <td>M-DEC</td>\n",
       "      <td>3.0</td>\n",
       "      <td>5:00</td>\n",
       "    </tr>\n",
       "    <tr>\n",
       "      <th>22981</th>\n",
       "      <td>Virgil Zwicker</td>\n",
       "      <td>205 lbs.</td>\n",
       "      <td>Guto Inocente</td>\n",
       "      <td>LOSS</td>\n",
       "      <td>U-DEC</td>\n",
       "      <td>3.0</td>\n",
       "      <td>5:00</td>\n",
       "    </tr>\n",
       "    <tr>\n",
       "      <th>22982</th>\n",
       "      <td>Virgil Zwicker</td>\n",
       "      <td>205 lbs.</td>\n",
       "      <td>Brett Albee</td>\n",
       "      <td>WIN</td>\n",
       "      <td>KO/TKO</td>\n",
       "      <td>1.0</td>\n",
       "      <td>1:46</td>\n",
       "    </tr>\n",
       "    <tr>\n",
       "      <th>22983</th>\n",
       "      <td>Virgil Zwicker</td>\n",
       "      <td>205 lbs.</td>\n",
       "      <td>Lavar Johnson</td>\n",
       "      <td>LOSS</td>\n",
       "      <td>KO/TKO</td>\n",
       "      <td>1.0</td>\n",
       "      <td>2:17</td>\n",
       "    </tr>\n",
       "  </tbody>\n",
       "</table>\n",
       "<p>18488 rows × 7 columns</p>\n",
       "</div>"
      ],
      "text/plain": [
       "             Full Name    Weight         Matchup Outcome  Method  Round  Time\n",
       "1            Tom Aaron  155 lbs.  Matt Ricehouse    LOSS   U-DEC    3.0  5:00\n",
       "2            Tom Aaron  155 lbs.  Eric Steenberg     WIN     SUB    1.0  0:56\n",
       "4         Danny Abbadi  155 lbs.    Jorge Gurgel    LOSS   S-DEC    3.0  5:00\n",
       "5         Danny Abbadi  155 lbs.   Kalib Starnes    LOSS     SUB    1.0  2:56\n",
       "7      Nariman Abbasov  155 lbs.   Ismael Bonfim    LOSS   U-DEC    3.0  5:00\n",
       "...                ...       ...             ...     ...     ...    ...   ...\n",
       "22976      Alex Zuniga  145 lbs.   Bryan Caraway    LOSS   U-DEC    3.0  5:00\n",
       "22979     Allan Zuniga  155 lbs.    John Gunther    LOSS   M-DEC    3.0  5:00\n",
       "22981   Virgil Zwicker  205 lbs.   Guto Inocente    LOSS   U-DEC    3.0  5:00\n",
       "22982   Virgil Zwicker  205 lbs.     Brett Albee     WIN  KO/TKO    1.0  1:46\n",
       "22983   Virgil Zwicker  205 lbs.   Lavar Johnson    LOSS  KO/TKO    1.0  2:17\n",
       "\n",
       "[18488 rows x 7 columns]"
      ]
     },
     "execution_count": 95,
     "metadata": {},
     "output_type": "execute_result"
    }
   ],
   "source": [
    "filtered_df2"
   ]
  },
  {
   "cell_type": "code",
   "execution_count": 96,
   "metadata": {},
   "outputs": [],
   "source": [
    "df = filtered_df2"
   ]
  },
  {
   "cell_type": "code",
   "execution_count": 104,
   "metadata": {},
   "outputs": [],
   "source": [
    "df_dup = filtered_df2"
   ]
  },
  {
   "cell_type": "markdown",
   "metadata": {},
   "source": [
    "### Train - Test Split"
   ]
  },
  {
   "cell_type": "code",
   "execution_count": 97,
   "metadata": {},
   "outputs": [],
   "source": [
    "fighter_counts = df.groupby('Full Name').count()\n",
    "#fighter_counts = fighter_counts[fighter_counts['Outcome'] >= 5]\n",
    "fighter_counts = fighter_counts[fighter_counts['Outcome'] >= 10]\n",
    "df_filtered = df[df['Full Name'].isin(fighter_counts.index)]"
   ]
  },
  {
   "cell_type": "code",
   "execution_count": 98,
   "metadata": {},
   "outputs": [],
   "source": [
    "df_sampled = df_filtered.groupby('Full Name').apply(lambda x: x.sample(n=1, random_state=1))"
   ]
  },
  {
   "cell_type": "code",
   "execution_count": 99,
   "metadata": {},
   "outputs": [],
   "source": [
    "df_sampled = df_sampled.reset_index(drop=True)"
   ]
  },
  {
   "cell_type": "code",
   "execution_count": 100,
   "metadata": {},
   "outputs": [
    {
     "data": {
      "text/html": [
       "<div>\n",
       "<style scoped>\n",
       "    .dataframe tbody tr th:only-of-type {\n",
       "        vertical-align: middle;\n",
       "    }\n",
       "\n",
       "    .dataframe tbody tr th {\n",
       "        vertical-align: top;\n",
       "    }\n",
       "\n",
       "    .dataframe thead th {\n",
       "        text-align: right;\n",
       "    }\n",
       "</style>\n",
       "<table border=\"1\" class=\"dataframe\">\n",
       "  <thead>\n",
       "    <tr style=\"text-align: right;\">\n",
       "      <th></th>\n",
       "      <th>Full Name</th>\n",
       "      <th>Weight</th>\n",
       "      <th>Matchup</th>\n",
       "      <th>Outcome</th>\n",
       "      <th>Method</th>\n",
       "      <th>Round</th>\n",
       "      <th>Time</th>\n",
       "    </tr>\n",
       "  </thead>\n",
       "  <tbody>\n",
       "    <tr>\n",
       "      <th>0</th>\n",
       "      <td>Aaron Riley</td>\n",
       "      <td>155 lbs.</td>\n",
       "      <td>Joe Brammer</td>\n",
       "      <td>WIN</td>\n",
       "      <td>U-DEC</td>\n",
       "      <td>3.0</td>\n",
       "      <td>5:00</td>\n",
       "    </tr>\n",
       "    <tr>\n",
       "      <th>1</th>\n",
       "      <td>Aaron Rosa</td>\n",
       "      <td>205 lbs.</td>\n",
       "      <td>Joey Beltran</td>\n",
       "      <td>LOSS</td>\n",
       "      <td>KO/TKO</td>\n",
       "      <td>3.0</td>\n",
       "      <td>1:26</td>\n",
       "    </tr>\n",
       "    <tr>\n",
       "      <th>2</th>\n",
       "      <td>Aaron Simpson</td>\n",
       "      <td>170 lbs.</td>\n",
       "      <td>Ronny Markes</td>\n",
       "      <td>LOSS</td>\n",
       "      <td>S-DEC</td>\n",
       "      <td>3.0</td>\n",
       "      <td>5:00</td>\n",
       "    </tr>\n",
       "    <tr>\n",
       "      <th>3</th>\n",
       "      <td>Abdul Razak Alhassan</td>\n",
       "      <td>185 lbs.</td>\n",
       "      <td>Alessio Di Chirico</td>\n",
       "      <td>WIN</td>\n",
       "      <td>KO/TKO</td>\n",
       "      <td>1.0</td>\n",
       "      <td>0:17</td>\n",
       "    </tr>\n",
       "    <tr>\n",
       "      <th>4</th>\n",
       "      <td>Abel Trujillo</td>\n",
       "      <td>155 lbs.</td>\n",
       "      <td>Marcus LeVesseur</td>\n",
       "      <td>WIN</td>\n",
       "      <td>KO/TKO</td>\n",
       "      <td>2.0</td>\n",
       "      <td>3:56</td>\n",
       "    </tr>\n",
       "    <tr>\n",
       "      <th>...</th>\n",
       "      <td>...</td>\n",
       "      <td>...</td>\n",
       "      <td>...</td>\n",
       "      <td>...</td>\n",
       "      <td>...</td>\n",
       "      <td>...</td>\n",
       "      <td>...</td>\n",
       "    </tr>\n",
       "    <tr>\n",
       "      <th>1256</th>\n",
       "      <td>Zelg Galesic</td>\n",
       "      <td>185 lbs.</td>\n",
       "      <td>Taiei Kin</td>\n",
       "      <td>WIN</td>\n",
       "      <td>KO/TKO</td>\n",
       "      <td>1.0</td>\n",
       "      <td>1:05</td>\n",
       "    </tr>\n",
       "    <tr>\n",
       "      <th>1257</th>\n",
       "      <td>Zhalgas Zhumagulov</td>\n",
       "      <td>125 lbs.</td>\n",
       "      <td>Manel Kape</td>\n",
       "      <td>LOSS</td>\n",
       "      <td>KO/TKO</td>\n",
       "      <td>1.0</td>\n",
       "      <td>4:02</td>\n",
       "    </tr>\n",
       "    <tr>\n",
       "      <th>1258</th>\n",
       "      <td>Zhang Tiequan</td>\n",
       "      <td>155 lbs.</td>\n",
       "      <td>Darren Elkins</td>\n",
       "      <td>LOSS</td>\n",
       "      <td>U-DEC</td>\n",
       "      <td>3.0</td>\n",
       "      <td>5:00</td>\n",
       "    </tr>\n",
       "    <tr>\n",
       "      <th>1259</th>\n",
       "      <td>Zhang Weili</td>\n",
       "      <td>115 lbs.</td>\n",
       "      <td>Danielle Taylor</td>\n",
       "      <td>WIN</td>\n",
       "      <td>U-DEC</td>\n",
       "      <td>3.0</td>\n",
       "      <td>5:00</td>\n",
       "    </tr>\n",
       "    <tr>\n",
       "      <th>1260</th>\n",
       "      <td>Zubaira Tukhugov</td>\n",
       "      <td>155 lbs.</td>\n",
       "      <td>Douglas Silva de Andrade</td>\n",
       "      <td>WIN</td>\n",
       "      <td>U-DEC</td>\n",
       "      <td>3.0</td>\n",
       "      <td>5:00</td>\n",
       "    </tr>\n",
       "  </tbody>\n",
       "</table>\n",
       "<p>1261 rows × 7 columns</p>\n",
       "</div>"
      ],
      "text/plain": [
       "                 Full Name    Weight                   Matchup Outcome  \\\n",
       "0              Aaron Riley  155 lbs.               Joe Brammer     WIN   \n",
       "1               Aaron Rosa  205 lbs.              Joey Beltran    LOSS   \n",
       "2            Aaron Simpson  170 lbs.              Ronny Markes    LOSS   \n",
       "3     Abdul Razak Alhassan  185 lbs.        Alessio Di Chirico     WIN   \n",
       "4            Abel Trujillo  155 lbs.          Marcus LeVesseur     WIN   \n",
       "...                    ...       ...                       ...     ...   \n",
       "1256          Zelg Galesic  185 lbs.                 Taiei Kin     WIN   \n",
       "1257    Zhalgas Zhumagulov  125 lbs.                Manel Kape    LOSS   \n",
       "1258         Zhang Tiequan  155 lbs.             Darren Elkins    LOSS   \n",
       "1259           Zhang Weili  115 lbs.           Danielle Taylor     WIN   \n",
       "1260      Zubaira Tukhugov  155 lbs.  Douglas Silva de Andrade     WIN   \n",
       "\n",
       "       Method  Round  Time  \n",
       "0       U-DEC    3.0  5:00  \n",
       "1      KO/TKO    3.0  1:26  \n",
       "2       S-DEC    3.0  5:00  \n",
       "3     KO/TKO     1.0  0:17  \n",
       "4      KO/TKO    2.0  3:56  \n",
       "...       ...    ...   ...  \n",
       "1256   KO/TKO    1.0  1:05  \n",
       "1257   KO/TKO    1.0  4:02  \n",
       "1258    U-DEC    3.0  5:00  \n",
       "1259    U-DEC    3.0  5:00  \n",
       "1260    U-DEC    3.0  5:00  \n",
       "\n",
       "[1261 rows x 7 columns]"
      ]
     },
     "execution_count": 100,
     "metadata": {},
     "output_type": "execute_result"
    }
   ],
   "source": [
    "df_sampled"
   ]
  },
  {
   "cell_type": "code",
   "execution_count": 101,
   "metadata": {},
   "outputs": [],
   "source": [
    "test_list = []\n",
    "for index, row in df_sampled.iterrows():\n",
    "    test_list.append((row['Full Name'] , row['Matchup']))"
   ]
  },
  {
   "cell_type": "code",
   "execution_count": 105,
   "metadata": {},
   "outputs": [],
   "source": [
    "for index, row in df_sampled.iterrows():\n",
    "    df_dup = df_dup.drop(df_dup[(df_dup['Full Name'] == row['Full Name']) & (df_dup['Weight'] == row['Weight']) & (df_dup['Matchup'] == row['Matchup']) & (df_dup['Outcome'] == row['Outcome']) & (df_dup['Method'] == row['Method']) & (df_dup['Round'] == row['Round']) & (df_dup['Time'] == row['Time'])].index)"
   ]
  },
  {
   "cell_type": "code",
   "execution_count": 107,
   "metadata": {},
   "outputs": [],
   "source": [
    "training_df = df_dup"
   ]
  },
  {
   "cell_type": "markdown",
   "metadata": {},
   "source": [
    "## Exploratory Data Analysis (EDA)"
   ]
  },
  {
   "cell_type": "code",
   "execution_count": 187,
   "metadata": {},
   "outputs": [],
   "source": [
    "#questions that could be of importance:\n",
    "#what is the most common method of winning?\n",
    "#for fighters that win through ko/submission what round does it typically occur in?\n",
    "#is there a discrepancy in the way fighters win across different weight classes?"
   ]
  },
  {
   "cell_type": "code",
   "execution_count": 110,
   "metadata": {},
   "outputs": [],
   "source": [
    "decisions = ['U-DEC', 'S-DEC', 'M-DEC', 'S-DEC ', 'U-DEC ', 'M-DEC ']\n",
    "kos = ['KO/TKO', 'KO/TKO ']\n",
    "submissions = ['SUB', 'SUB ']"
   ]
  },
  {
   "cell_type": "code",
   "execution_count": 15,
   "metadata": {},
   "outputs": [
    {
     "name": "stdout",
     "output_type": "stream",
     "text": [
      "0.4286023366508005\n",
      "0.34714409346603203\n",
      "0.223929035049762\n"
     ]
    }
   ],
   "source": [
    "#calculating proportions of outcomes\n",
    "decision_df = df[df['Method'].isin(decisions)]\n",
    "decision_count = decision_df['Method'].count()\n",
    "\n",
    "ko_df = df[df['Method'].isin(kos)]\n",
    "ko_count = ko_df['Method'].count()\n",
    "\n",
    "submission_df = df[df['Method'].isin(submissions)]\n",
    "submission_count = submission_df['Method'].count()\n",
    "\n",
    "print(decision_count/len(df))\n",
    "print(ko_count/len(df))\n",
    "print(submission_count/len(df))"
   ]
  },
  {
   "cell_type": "code",
   "execution_count": null,
   "metadata": {},
   "outputs": [],
   "source": [
    "#make multipliers?\n",
    "#0.4286023366508005 --> 43% end by decision\n",
    "#0.34714409346603203 --> 35% end by ko\n",
    "#0.223929035049762 --> 22% end by submission"
   ]
  },
  {
   "cell_type": "code",
   "execution_count": 111,
   "metadata": {},
   "outputs": [],
   "source": [
    "def transform_dataset(df):\n",
    "    data = {\n",
    "    'Total Fights': df.groupby(['Full Name'])['Matchup'].count(),\n",
    "    'Total Wins': df.loc[df['Outcome'] == 'WIN'].groupby(['Full Name'])['Outcome'].count(),\n",
    "    'Total Losses': df.loc[df['Outcome'] == 'LOSS'].groupby(['Full Name'])['Outcome'].count(),\n",
    "    'Wins By Decision': df.loc[(df['Outcome'] == 'WIN') & (df['Method'].isin(decisions))].groupby(['Full Name'])['Outcome'].count(),\n",
    "    'Wins By KO': df.loc[(df['Outcome'] == 'WIN') & (df['Method'].isin(kos))].groupby(['Full Name'])['Outcome'].count(),\n",
    "    'Wins By Submission': df.loc[(df['Outcome'] == 'WIN') & (df['Method'].isin(submissions))].groupby(['Full Name'])['Outcome'].count(),\n",
    "    'Loss By Decision': df.loc[(df['Outcome'] == 'LOSS') & (df['Method'].isin(decisions))].groupby(['Full Name'])['Outcome'].count(),\n",
    "    'Loss By KO': df.loc[(df['Outcome'] == 'LOSS') & (df['Method'].isin(kos))].groupby(['Full Name'])['Outcome'].count(),\n",
    "    'Loss By Submission': df.loc[(df['Outcome'] == 'LOSS') & (df['Method'].isin(submissions))].groupby(['Full Name'])['Outcome'].count()\n",
    "}\n",
    "    fighter_stats = pd.DataFrame(data)\n",
    "    fighter_stats.fillna(0, inplace=True)\n",
    "    return fighter_stats"
   ]
  },
  {
   "cell_type": "code",
   "execution_count": 113,
   "metadata": {},
   "outputs": [],
   "source": [
    "df = transform_dataset(training_df)"
   ]
  },
  {
   "cell_type": "markdown",
   "metadata": {},
   "source": [
    "## Monte Carlo Simulation"
   ]
  },
  {
   "cell_type": "code",
   "execution_count": 114,
   "metadata": {},
   "outputs": [],
   "source": [
    "import math\n",
    "import random as rnd"
   ]
  },
  {
   "cell_type": "code",
   "execution_count": 115,
   "metadata": {},
   "outputs": [],
   "source": [
    "def calculate_mean(statistic, total_fights):\n",
    "    return statistic/total_fights\n",
    "\n",
    "def calculate_sd(statistic, total_fights):\n",
    "    mean = calculate_mean(statistic, total_fights)\n",
    "    return math.sqrt((mean*(1-mean))/total_fights)"
   ]
  },
  {
   "cell_type": "code",
   "execution_count": 116,
   "metadata": {},
   "outputs": [],
   "source": [
    "def get_fighter_parameters(fighter1, fighter2):\n",
    "    data = {\"Decision Wins Mean\" : [calculate_mean(df.loc[fighter1, \"Wins By Decision\"], df.loc[fighter1, \"Total Fights\"]),\n",
    "                                   calculate_mean(df.loc[fighter2, \"Wins By Decision\"], df.loc[fighter2, \"Total Fights\"])], \n",
    "            \n",
    "           \"Decision Wins SD\" : [calculate_sd(df.loc[fighter1, \"Wins By Decision\"], df.loc[fighter1, \"Total Fights\"]),\n",
    "                                   calculate_sd(df.loc[fighter2, \"Wins By Decision\"], df.loc[fighter2, \"Total Fights\"])],\n",
    "            \n",
    "           \"KO Wins Mean\" : [calculate_mean(df.loc[fighter1, \"Wins By KO\"], df.loc[fighter1, \"Total Fights\"]),\n",
    "                                   calculate_mean(df.loc[fighter2, \"Wins By KO\"], df.loc[fighter2, \"Total Fights\"])], \n",
    "            \n",
    "            'KO Wins SD' : [calculate_sd(df.loc[fighter1, \"Wins By KO\"], df.loc[fighter1, \"Total Fights\"]),\n",
    "                                   calculate_sd(df.loc[fighter2, \"Wins By KO\"], df.loc[fighter2, \"Total Fights\"])], \n",
    "           \n",
    "            'Sub Wins Mean' : [calculate_mean(df.loc[fighter1, \"Wins By Submission\"], df.loc[fighter1, \"Total Fights\"]),\n",
    "                                   calculate_mean(df.loc[fighter2, \"Wins By Submission\"], df.loc[fighter2, \"Total Fights\"])],\n",
    "           \n",
    "            'Sub Wins SD' : [calculate_sd(df.loc[fighter1, \"Wins By Submission\"], df.loc[fighter1, \"Total Fights\"]),\n",
    "                                   calculate_sd(df.loc[fighter2, \"Wins By Submission\"], df.loc[fighter2, \"Total Fights\"])], \n",
    "            \n",
    "            'Decision Loss Mean' : [calculate_mean(df.loc[fighter1, \"Loss By Decision\"], df.loc[fighter1, \"Total Fights\"]),\n",
    "                                   calculate_mean(df.loc[fighter2, \"Loss By Decision\"], df.loc[fighter2, \"Total Fights\"])], \n",
    "            \n",
    "            'Decision Loss SD' : [calculate_sd(df.loc[fighter1, \"Loss By Decision\"], df.loc[fighter1, \"Total Fights\"]),\n",
    "                                   calculate_sd(df.loc[fighter2, \"Loss By Decision\"], df.loc[fighter2, \"Total Fights\"])], \n",
    "            \n",
    "            'KO Loss Mean' : [calculate_mean(df.loc[fighter1, \"Loss By KO\"], df.loc[fighter1, \"Total Fights\"]),\n",
    "                                   calculate_mean(df.loc[fighter2, \"Loss By KO\"], df.loc[fighter2, \"Total Fights\"])], \n",
    "            \n",
    "            'KO Loss SD' : [calculate_sd(df.loc[fighter1, \"Loss By KO\"], df.loc[fighter1, \"Total Fights\"]),\n",
    "                                   calculate_sd(df.loc[fighter2, \"Loss By KO\"], df.loc[fighter2, \"Total Fights\"])], \n",
    "           \n",
    "            'Sub Loss Mean' : [calculate_mean(df.loc[fighter1, \"Loss By Submission\"], df.loc[fighter1, \"Total Fights\"]),\n",
    "                                   calculate_mean(df.loc[fighter2, \"Loss By Submission\"], df.loc[fighter2, \"Total Fights\"])], \n",
    "            \n",
    "            'Sub Loss SD' : [calculate_sd(df.loc[fighter1, \"Loss By Submission\"], df.loc[fighter1, \"Total Fights\"]),\n",
    "                                   calculate_sd(df.loc[fighter2, \"Loss By Submission\"], df.loc[fighter2, \"Total Fights\"])]}\n",
    "    \n",
    "    fighter_parameter_df = pd.DataFrame(data=data, index = [fighter1, fighter2])\n",
    "    return fighter_parameter_df"
   ]
  },
  {
   "cell_type": "code",
   "execution_count": 124,
   "metadata": {},
   "outputs": [],
   "source": [
    "def gameSim():\n",
    "    results = []\n",
    "    fighter1_dec_score = (rnd.gauss(matchup_df.iloc[0]['Decision Wins Mean'],matchup_df.iloc[0]['Decision Wins SD'])+ \n",
    "                          rnd.gauss(matchup_df.iloc[1]['Decision Loss Mean'],matchup_df.iloc[1]['Decision Loss SD']))/2\n",
    "    fighter1_ko_score = (rnd.gauss(matchup_df.iloc[0]['KO Wins Mean'],matchup_df.iloc[0]['KO Wins SD'])+ \n",
    "                          rnd.gauss(matchup_df.iloc[1]['KO Loss Mean'],matchup_df.iloc[1]['KO Loss SD']))/2\n",
    "    fighter1_sub_score = (rnd.gauss(matchup_df.iloc[0]['Sub Wins Mean'],matchup_df.iloc[0]['Sub Wins SD'])+ \n",
    "                          rnd.gauss(matchup_df.iloc[1]['Sub Loss Mean'],matchup_df.iloc[1]['Sub Loss SD']))/2\n",
    "    fighter2_dec_score = (rnd.gauss(matchup_df.iloc[1]['Decision Wins Mean'],matchup_df.iloc[1]['Decision Wins SD'])+ \n",
    "                          rnd.gauss(matchup_df.iloc[0]['Decision Loss Mean'],matchup_df.iloc[0]['Decision Loss SD']))/2\n",
    "    fighter2_ko_score = (rnd.gauss(matchup_df.iloc[1]['KO Wins Mean'],matchup_df.iloc[1]['KO Wins SD'])+ \n",
    "                          rnd.gauss(matchup_df.iloc[0]['KO Loss Mean'],matchup_df.iloc[0]['KO Loss SD']))/2\n",
    "    fighter2_sub_score = (rnd.gauss(matchup_df.iloc[1]['Sub Wins Mean'],matchup_df.iloc[1]['Sub Wins SD'])+ \n",
    "                          rnd.gauss(matchup_df.iloc[0]['Sub Loss Mean'],matchup_df.iloc[0]['Sub Loss SD']))/2\n",
    "    \n",
    "    #results.append(fighter1_dec_score*0.5713976633491995)\n",
    "    #results.append(fighter1_ko_score*0.652855906533968)\n",
    "    #results.append(fighter1_sub_score*0.776070964950238)    \n",
    "    #results.append(fighter2_dec_score*0.5713976633491995)    \n",
    "    #results.append(fighter2_ko_score*0.652855906533968)    \n",
    "    #results.append(fighter2_sub_score*0.776070964950238)     \n",
    "    \n",
    "    results.append(fighter1_dec_score)\n",
    "    results.append(fighter1_ko_score)\n",
    "    results.append(fighter1_sub_score)    \n",
    "    results.append(fighter2_dec_score)    \n",
    "    results.append(fighter2_ko_score)    \n",
    "    results.append(fighter2_sub_score)\n",
    "    \n",
    "    #print(results)\n",
    "    if max(results) == results[0]:\n",
    "        return \"f1_dec\"\n",
    "    elif max(results) == results[1]:\n",
    "        return \"f1_ko\"\n",
    "    elif max(results) == results[2]:\n",
    "        return \"f1_sub\"\n",
    "    elif max(results) == results[3]:\n",
    "        return \"f2_dec\"\n",
    "    elif max(results) == results[4]:\n",
    "        return \"f2_ko\"\n",
    "    elif max(results) == results[5]:\n",
    "        return \"f2_sub\"\n",
    "    else: return \"tie\""
   ]
  },
  {
   "cell_type": "code",
   "execution_count": 125,
   "metadata": {},
   "outputs": [],
   "source": [
    "def gamesSim(ns):\n",
    "    matchesout = []\n",
    "    result_dict = {}\n",
    "    fighter1_decwin = 0\n",
    "    fighter1_kowin = 0\n",
    "    fighter1_subwin = 0\n",
    "    fighter2_decwin = 0\n",
    "    fighter2_kowin = 0\n",
    "    fighter2_subwin = 0\n",
    "    tie = 0\n",
    "    for i in range(ns):\n",
    "        gm = gameSim()\n",
    "        matchesout.append(gm)\n",
    "        if gm == \"f1_dec\":\n",
    "            fighter1_decwin +=1 \n",
    "        elif gm == \"f1_ko\":\n",
    "            fighter1_kowin +=1 \n",
    "        elif gm == \"f1_sub\":\n",
    "            fighter1_subwin +=1 \n",
    "        elif gm == \"f2_dec\":\n",
    "            fighter2_decwin +=1 \n",
    "        elif gm == \"f2_ko\":\n",
    "            fighter2_kowin +=1 \n",
    "        elif gm == \"f2_sub\":\n",
    "            fighter2_subwin +=1 \n",
    "        else: tie +=1 \n",
    "            \n",
    "    result_dict[matchup_df.index[0] +' Decision Win '] = round((fighter1_decwin/ns)*100,2)\n",
    "    result_dict[matchup_df.index[0] +' KO Win '] = round((fighter1_kowin/ns)*100,2)\n",
    "    result_dict[matchup_df.index[0] +' Submission Win '] = round((fighter1_subwin/ns)*100,2)\n",
    "    result_dict[matchup_df.index[1] +' Decision Win '] = round((fighter2_decwin/ns)*100,2)\n",
    "    result_dict[matchup_df.index[1] +' KO Win '] = round((fighter2_kowin/ns)*100,2)\n",
    "    result_dict[matchup_df.index[1] +' Submission Win '] = round((fighter2_subwin/ns)*100,2)\n",
    "    result_dict[\"Tie\"] = (tie/ns)*100\n",
    "    \n",
    "    #print(matchup_df.index[0] +' Decision Win ', round((fighter1_decwin/ns)*100,2),'%')\n",
    "    #print(matchup_df.index[0] +' KO Win ', round((fighter1_kowin/ns)*100,2),'%')\n",
    "    #print(matchup_df.index[0] +' Submission Win ', round((fighter1_subwin/ns)*100,2),'%')\n",
    "    #print(matchup_df.index[1] +' Decision Win ', round((fighter2_decwin/ns)*100,2),'%')\n",
    "    #print(matchup_df.index[1] +' KO Win ', round((fighter2_kowin/ns)*100,2),'%')\n",
    "    #print(matchup_df.index[1] +' Submission Win ', round((fighter2_subwin/ns)*100,2),'%')\n",
    "    #print('Tie ', (tie/ns)*100, '%')\n",
    "    \n",
    "    return max(result_dict, key=lambda k: result_dict[k])"
   ]
  },
  {
   "cell_type": "code",
   "execution_count": 126,
   "metadata": {},
   "outputs": [],
   "source": [
    "results_list = []\n",
    "for i in range(len(test_list)):\n",
    "    matchup_df = get_fighter_parameters(test_list[i][0], test_list[i][1])\n",
    "    results_list.append(gamesSim(1000))"
   ]
  },
  {
   "cell_type": "code",
   "execution_count": 150,
   "metadata": {},
   "outputs": [],
   "source": [
    "results = []\n",
    "for outcome in results_list:\n",
    "    outcome = outcome[:-1]\n",
    "    results.append(outcome)"
   ]
  },
  {
   "cell_type": "code",
   "execution_count": 159,
   "metadata": {},
   "outputs": [],
   "source": [
    "def method_simplify(df):\n",
    "    if df[\"Method\"] in decisions:\n",
    "        return \"Decision\"\n",
    "    elif df[\"Method\"] in kos:\n",
    "        return \"KO\"\n",
    "    else: \n",
    "        return \"Submission\""
   ]
  },
  {
   "cell_type": "code",
   "execution_count": 160,
   "metadata": {},
   "outputs": [],
   "source": [
    "df_sampled['Method Summary'] = df_sampled.apply(method_simplify, axis = 1)"
   ]
  },
  {
   "cell_type": "code",
   "execution_count": 162,
   "metadata": {},
   "outputs": [
    {
     "data": {
      "text/html": [
       "<div>\n",
       "<style scoped>\n",
       "    .dataframe tbody tr th:only-of-type {\n",
       "        vertical-align: middle;\n",
       "    }\n",
       "\n",
       "    .dataframe tbody tr th {\n",
       "        vertical-align: top;\n",
       "    }\n",
       "\n",
       "    .dataframe thead th {\n",
       "        text-align: right;\n",
       "    }\n",
       "</style>\n",
       "<table border=\"1\" class=\"dataframe\">\n",
       "  <thead>\n",
       "    <tr style=\"text-align: right;\">\n",
       "      <th></th>\n",
       "      <th>Full Name</th>\n",
       "      <th>Weight</th>\n",
       "      <th>Matchup</th>\n",
       "      <th>Outcome</th>\n",
       "      <th>Method</th>\n",
       "      <th>Round</th>\n",
       "      <th>Time</th>\n",
       "      <th>Method Summary</th>\n",
       "    </tr>\n",
       "  </thead>\n",
       "  <tbody>\n",
       "    <tr>\n",
       "      <th>0</th>\n",
       "      <td>Aaron Riley</td>\n",
       "      <td>155 lbs.</td>\n",
       "      <td>Joe Brammer</td>\n",
       "      <td>WIN</td>\n",
       "      <td>U-DEC</td>\n",
       "      <td>3.0</td>\n",
       "      <td>5:00</td>\n",
       "      <td>Decision</td>\n",
       "    </tr>\n",
       "    <tr>\n",
       "      <th>1</th>\n",
       "      <td>Aaron Rosa</td>\n",
       "      <td>205 lbs.</td>\n",
       "      <td>Joey Beltran</td>\n",
       "      <td>LOSS</td>\n",
       "      <td>KO/TKO</td>\n",
       "      <td>3.0</td>\n",
       "      <td>1:26</td>\n",
       "      <td>KO</td>\n",
       "    </tr>\n",
       "    <tr>\n",
       "      <th>2</th>\n",
       "      <td>Aaron Simpson</td>\n",
       "      <td>170 lbs.</td>\n",
       "      <td>Ronny Markes</td>\n",
       "      <td>LOSS</td>\n",
       "      <td>S-DEC</td>\n",
       "      <td>3.0</td>\n",
       "      <td>5:00</td>\n",
       "      <td>Decision</td>\n",
       "    </tr>\n",
       "    <tr>\n",
       "      <th>3</th>\n",
       "      <td>Abdul Razak Alhassan</td>\n",
       "      <td>185 lbs.</td>\n",
       "      <td>Alessio Di Chirico</td>\n",
       "      <td>WIN</td>\n",
       "      <td>KO/TKO</td>\n",
       "      <td>1.0</td>\n",
       "      <td>0:17</td>\n",
       "      <td>KO</td>\n",
       "    </tr>\n",
       "    <tr>\n",
       "      <th>4</th>\n",
       "      <td>Abel Trujillo</td>\n",
       "      <td>155 lbs.</td>\n",
       "      <td>Marcus LeVesseur</td>\n",
       "      <td>WIN</td>\n",
       "      <td>KO/TKO</td>\n",
       "      <td>2.0</td>\n",
       "      <td>3:56</td>\n",
       "      <td>KO</td>\n",
       "    </tr>\n",
       "  </tbody>\n",
       "</table>\n",
       "</div>"
      ],
      "text/plain": [
       "              Full Name    Weight             Matchup Outcome   Method  Round  \\\n",
       "0           Aaron Riley  155 lbs.         Joe Brammer     WIN    U-DEC    3.0   \n",
       "1            Aaron Rosa  205 lbs.        Joey Beltran    LOSS   KO/TKO    3.0   \n",
       "2         Aaron Simpson  170 lbs.        Ronny Markes    LOSS    S-DEC    3.0   \n",
       "3  Abdul Razak Alhassan  185 lbs.  Alessio Di Chirico     WIN  KO/TKO     1.0   \n",
       "4         Abel Trujillo  155 lbs.    Marcus LeVesseur     WIN   KO/TKO    2.0   \n",
       "\n",
       "   Time Method Summary  \n",
       "0  5:00       Decision  \n",
       "1  1:26             KO  \n",
       "2  5:00       Decision  \n",
       "3  0:17             KO  \n",
       "4  3:56             KO  "
      ]
     },
     "execution_count": 162,
     "metadata": {},
     "output_type": "execute_result"
    }
   ],
   "source": [
    "df_sampled.head()"
   ]
  },
  {
   "cell_type": "code",
   "execution_count": 178,
   "metadata": {},
   "outputs": [],
   "source": [
    "def construct_outcome_str(df):\n",
    "    if df[\"Outcome\"] == 'WIN':\n",
    "        return df['Full Name'] + \" \" + df[\"Method Summary\"] + \" \" + df[\"Outcome\"].title()\n",
    "    else:\n",
    "        return df['Matchup'] + \" \" + df[\"Method Summary\"] + \" \" + \"Win\""
   ]
  },
  {
   "cell_type": "code",
   "execution_count": 181,
   "metadata": {},
   "outputs": [],
   "source": [
    "df_sampled['Match Summary'] = df_sampled.apply(construct_outcome_str, axis = 1)"
   ]
  },
  {
   "cell_type": "code",
   "execution_count": 183,
   "metadata": {},
   "outputs": [],
   "source": [
    "df_sampled[\"Predicted Match Summary\"] = results"
   ]
  },
  {
   "cell_type": "code",
   "execution_count": 188,
   "metadata": {},
   "outputs": [
    {
     "data": {
      "text/html": [
       "<div>\n",
       "<style scoped>\n",
       "    .dataframe tbody tr th:only-of-type {\n",
       "        vertical-align: middle;\n",
       "    }\n",
       "\n",
       "    .dataframe tbody tr th {\n",
       "        vertical-align: top;\n",
       "    }\n",
       "\n",
       "    .dataframe thead th {\n",
       "        text-align: right;\n",
       "    }\n",
       "</style>\n",
       "<table border=\"1\" class=\"dataframe\">\n",
       "  <thead>\n",
       "    <tr style=\"text-align: right;\">\n",
       "      <th></th>\n",
       "      <th>Full Name</th>\n",
       "      <th>Weight</th>\n",
       "      <th>Matchup</th>\n",
       "      <th>Outcome</th>\n",
       "      <th>Method</th>\n",
       "      <th>Round</th>\n",
       "      <th>Time</th>\n",
       "      <th>Method Summary</th>\n",
       "      <th>Match Summary</th>\n",
       "      <th>Predicted Match Summary</th>\n",
       "    </tr>\n",
       "  </thead>\n",
       "  <tbody>\n",
       "    <tr>\n",
       "      <th>0</th>\n",
       "      <td>Aaron Riley</td>\n",
       "      <td>155 lbs.</td>\n",
       "      <td>Joe Brammer</td>\n",
       "      <td>WIN</td>\n",
       "      <td>U-DEC</td>\n",
       "      <td>3.0</td>\n",
       "      <td>5:00</td>\n",
       "      <td>Decision</td>\n",
       "      <td>Aaron Riley Decision Win</td>\n",
       "      <td>Aaron Riley Decision Win</td>\n",
       "    </tr>\n",
       "    <tr>\n",
       "      <th>1</th>\n",
       "      <td>Aaron Rosa</td>\n",
       "      <td>205 lbs.</td>\n",
       "      <td>Joey Beltran</td>\n",
       "      <td>LOSS</td>\n",
       "      <td>KO/TKO</td>\n",
       "      <td>3.0</td>\n",
       "      <td>1:26</td>\n",
       "      <td>KO</td>\n",
       "      <td>Joey Beltran KO Win</td>\n",
       "      <td>Aaron Rosa Decision Win</td>\n",
       "    </tr>\n",
       "    <tr>\n",
       "      <th>2</th>\n",
       "      <td>Aaron Simpson</td>\n",
       "      <td>170 lbs.</td>\n",
       "      <td>Ronny Markes</td>\n",
       "      <td>LOSS</td>\n",
       "      <td>S-DEC</td>\n",
       "      <td>3.0</td>\n",
       "      <td>5:00</td>\n",
       "      <td>Decision</td>\n",
       "      <td>Ronny Markes Decision Win</td>\n",
       "      <td>Aaron Simpson KO Win</td>\n",
       "    </tr>\n",
       "    <tr>\n",
       "      <th>3</th>\n",
       "      <td>Abdul Razak Alhassan</td>\n",
       "      <td>185 lbs.</td>\n",
       "      <td>Alessio Di Chirico</td>\n",
       "      <td>WIN</td>\n",
       "      <td>KO/TKO</td>\n",
       "      <td>1.0</td>\n",
       "      <td>0:17</td>\n",
       "      <td>KO</td>\n",
       "      <td>Abdul Razak Alhassan KO Win</td>\n",
       "      <td>Abdul Razak Alhassan KO Win</td>\n",
       "    </tr>\n",
       "    <tr>\n",
       "      <th>4</th>\n",
       "      <td>Abel Trujillo</td>\n",
       "      <td>155 lbs.</td>\n",
       "      <td>Marcus LeVesseur</td>\n",
       "      <td>WIN</td>\n",
       "      <td>KO/TKO</td>\n",
       "      <td>2.0</td>\n",
       "      <td>3:56</td>\n",
       "      <td>KO</td>\n",
       "      <td>Abel Trujillo KO Win</td>\n",
       "      <td>Abel Trujillo KO Win</td>\n",
       "    </tr>\n",
       "  </tbody>\n",
       "</table>\n",
       "</div>"
      ],
      "text/plain": [
       "              Full Name    Weight             Matchup Outcome   Method  Round  \\\n",
       "0           Aaron Riley  155 lbs.         Joe Brammer     WIN    U-DEC    3.0   \n",
       "1            Aaron Rosa  205 lbs.        Joey Beltran    LOSS   KO/TKO    3.0   \n",
       "2         Aaron Simpson  170 lbs.        Ronny Markes    LOSS    S-DEC    3.0   \n",
       "3  Abdul Razak Alhassan  185 lbs.  Alessio Di Chirico     WIN  KO/TKO     1.0   \n",
       "4         Abel Trujillo  155 lbs.    Marcus LeVesseur     WIN   KO/TKO    2.0   \n",
       "\n",
       "   Time Method Summary                Match Summary  \\\n",
       "0  5:00       Decision     Aaron Riley Decision Win   \n",
       "1  1:26             KO          Joey Beltran KO Win   \n",
       "2  5:00       Decision    Ronny Markes Decision Win   \n",
       "3  0:17             KO  Abdul Razak Alhassan KO Win   \n",
       "4  3:56             KO         Abel Trujillo KO Win   \n",
       "\n",
       "       Predicted Match Summary  \n",
       "0     Aaron Riley Decision Win  \n",
       "1      Aaron Rosa Decision Win  \n",
       "2         Aaron Simpson KO Win  \n",
       "3  Abdul Razak Alhassan KO Win  \n",
       "4         Abel Trujillo KO Win  "
      ]
     },
     "execution_count": 188,
     "metadata": {},
     "output_type": "execute_result"
    }
   ],
   "source": [
    "df_sampled.head()"
   ]
  },
  {
   "cell_type": "code",
   "execution_count": 185,
   "metadata": {},
   "outputs": [],
   "source": [
    "accuracy = ((df_sampled['Match Summary'] == df_sampled['Predicted Match Summary']).sum()/ len(df_sampled))*100 "
   ]
  },
  {
   "cell_type": "code",
   "execution_count": 186,
   "metadata": {},
   "outputs": [
    {
     "data": {
      "text/plain": [
       "48.53291038858049"
      ]
     },
     "execution_count": 186,
     "metadata": {},
     "output_type": "execute_result"
    }
   ],
   "source": [
    "accuracy"
   ]
  },
  {
   "cell_type": "code",
   "execution_count": null,
   "metadata": {},
   "outputs": [],
   "source": [
    "#accuracy for fighters with 5 or more fights = 48.53291038858049%"
   ]
  },
  {
   "cell_type": "code",
   "execution_count": null,
   "metadata": {},
   "outputs": [],
   "source": []
  }
 ],
 "metadata": {
  "kernelspec": {
   "display_name": "Python 3",
   "language": "python",
   "name": "python3"
  },
  "language_info": {
   "codemirror_mode": {
    "name": "ipython",
    "version": 3
   },
   "file_extension": ".py",
   "mimetype": "text/x-python",
   "name": "python",
   "nbconvert_exporter": "python",
   "pygments_lexer": "ipython3",
   "version": "3.8.3"
  }
 },
 "nbformat": 4,
 "nbformat_minor": 4
}
