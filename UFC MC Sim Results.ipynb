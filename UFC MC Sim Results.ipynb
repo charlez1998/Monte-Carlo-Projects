{
 "cells": [
  {
   "cell_type": "code",
   "execution_count": 158,
   "metadata": {},
   "outputs": [],
   "source": [
    "#get data on ways fighter won/lost through dec, won/lost through sub, won/lost through ko/tko  \n",
    "#tabulate outcomes in a table such as: Outcome, % chance, winner \n",
    "#FRONT END: give the user the ability to input two fighters (drop down menu)\n",
    "# ---- FINISHED --- \n",
    "#extra: prevent users from picking two fighters that are from different weight classes\n",
    "#--- LONG RUN --- \n",
    "# Improve model where it takes # of strikes (successful, attempted) , ground game/submissions duration, takedowns (successful, attempted)\n",
    "# into consideration "
   ]
  },
  {
   "cell_type": "code",
   "execution_count": 159,
   "metadata": {},
   "outputs": [],
   "source": [
    "import pandas as pd "
   ]
  },
  {
   "cell_type": "code",
   "execution_count": 160,
   "metadata": {},
   "outputs": [],
   "source": [
    "df = pd.read_csv(\"UFC Matches April 2023.csv\")"
   ]
  },
  {
   "cell_type": "code",
   "execution_count": 161,
   "metadata": {},
   "outputs": [
    {
     "data": {
      "text/html": [
       "<div>\n",
       "<style scoped>\n",
       "    .dataframe tbody tr th:only-of-type {\n",
       "        vertical-align: middle;\n",
       "    }\n",
       "\n",
       "    .dataframe tbody tr th {\n",
       "        vertical-align: top;\n",
       "    }\n",
       "\n",
       "    .dataframe thead th {\n",
       "        text-align: right;\n",
       "    }\n",
       "</style>\n",
       "<table border=\"1\" class=\"dataframe\">\n",
       "  <thead>\n",
       "    <tr style=\"text-align: right;\">\n",
       "      <th></th>\n",
       "      <th>Full Name</th>\n",
       "      <th>Weight</th>\n",
       "      <th>Matchup</th>\n",
       "      <th>Outcome</th>\n",
       "      <th>Method</th>\n",
       "      <th>Round</th>\n",
       "      <th>Time</th>\n",
       "    </tr>\n",
       "  </thead>\n",
       "  <tbody>\n",
       "    <tr>\n",
       "      <th>0</th>\n",
       "      <td>Tom Aaron</td>\n",
       "      <td>WEIGHT: 155 lbs.</td>\n",
       "      <td>NaN</td>\n",
       "      <td>NaN</td>\n",
       "      <td>NaN</td>\n",
       "      <td>NaN</td>\n",
       "      <td>NaN</td>\n",
       "    </tr>\n",
       "    <tr>\n",
       "      <th>1</th>\n",
       "      <td>Tom Aaron</td>\n",
       "      <td>WEIGHT: 155 lbs.</td>\n",
       "      <td>Tom Aaron\\n \\n Matt Ricehouse</td>\n",
       "      <td>LOSS</td>\n",
       "      <td>U-DEC</td>\n",
       "      <td>3.0</td>\n",
       "      <td>5:00</td>\n",
       "    </tr>\n",
       "    <tr>\n",
       "      <th>2</th>\n",
       "      <td>Tom Aaron</td>\n",
       "      <td>WEIGHT: 155 lbs.</td>\n",
       "      <td>Tom Aaron\\n \\n Eric Steenberg</td>\n",
       "      <td>WIN</td>\n",
       "      <td>SUB</td>\n",
       "      <td>1.0</td>\n",
       "      <td>0:56</td>\n",
       "    </tr>\n",
       "    <tr>\n",
       "      <th>3</th>\n",
       "      <td>Danny Abbadi</td>\n",
       "      <td>WEIGHT: 155 lbs.</td>\n",
       "      <td>NaN</td>\n",
       "      <td>NaN</td>\n",
       "      <td>NaN</td>\n",
       "      <td>NaN</td>\n",
       "      <td>NaN</td>\n",
       "    </tr>\n",
       "    <tr>\n",
       "      <th>4</th>\n",
       "      <td>Danny Abbadi</td>\n",
       "      <td>WEIGHT: 155 lbs.</td>\n",
       "      <td>Danny Abbadi\\n \\n Jorge Gurgel</td>\n",
       "      <td>LOSS</td>\n",
       "      <td>S-DEC</td>\n",
       "      <td>3.0</td>\n",
       "      <td>5:00</td>\n",
       "    </tr>\n",
       "  </tbody>\n",
       "</table>\n",
       "</div>"
      ],
      "text/plain": [
       "      Full Name            Weight                         Matchup Outcome  \\\n",
       "0     Tom Aaron  WEIGHT: 155 lbs.                             NaN     NaN   \n",
       "1     Tom Aaron  WEIGHT: 155 lbs.   Tom Aaron\\n \\n Matt Ricehouse    LOSS   \n",
       "2     Tom Aaron  WEIGHT: 155 lbs.   Tom Aaron\\n \\n Eric Steenberg     WIN   \n",
       "3  Danny Abbadi  WEIGHT: 155 lbs.                             NaN     NaN   \n",
       "4  Danny Abbadi  WEIGHT: 155 lbs.  Danny Abbadi\\n \\n Jorge Gurgel    LOSS   \n",
       "\n",
       "  Method  Round  Time  \n",
       "0    NaN    NaN   NaN  \n",
       "1  U-DEC    3.0  5:00  \n",
       "2    SUB    1.0  0:56  \n",
       "3    NaN    NaN   NaN  \n",
       "4  S-DEC    3.0  5:00  "
      ]
     },
     "execution_count": 161,
     "metadata": {},
     "output_type": "execute_result"
    }
   ],
   "source": [
    "df.head()"
   ]
  },
  {
   "cell_type": "code",
   "execution_count": 162,
   "metadata": {
    "scrolled": true
   },
   "outputs": [
    {
     "data": {
      "text/html": [
       "<div>\n",
       "<style scoped>\n",
       "    .dataframe tbody tr th:only-of-type {\n",
       "        vertical-align: middle;\n",
       "    }\n",
       "\n",
       "    .dataframe tbody tr th {\n",
       "        vertical-align: top;\n",
       "    }\n",
       "\n",
       "    .dataframe thead th {\n",
       "        text-align: right;\n",
       "    }\n",
       "</style>\n",
       "<table border=\"1\" class=\"dataframe\">\n",
       "  <thead>\n",
       "    <tr style=\"text-align: right;\">\n",
       "      <th></th>\n",
       "      <th>Full Name</th>\n",
       "      <th>Weight</th>\n",
       "      <th>Matchup</th>\n",
       "      <th>Outcome</th>\n",
       "      <th>Method</th>\n",
       "      <th>Round</th>\n",
       "      <th>Time</th>\n",
       "    </tr>\n",
       "  </thead>\n",
       "  <tbody>\n",
       "    <tr>\n",
       "      <th>19225</th>\n",
       "      <td>Bruno Silva</td>\n",
       "      <td>WEIGHT: 185 lbs.</td>\n",
       "      <td>NaN</td>\n",
       "      <td>NaN</td>\n",
       "      <td>NaN</td>\n",
       "      <td>NaN</td>\n",
       "      <td>NaN</td>\n",
       "    </tr>\n",
       "    <tr>\n",
       "      <th>19226</th>\n",
       "      <td>Bruno Silva</td>\n",
       "      <td>WEIGHT: 185 lbs.</td>\n",
       "      <td>Bruno Silva\\n\\nBrad Tavares</td>\n",
       "      <td>NEXT</td>\n",
       "      <td>NaN</td>\n",
       "      <td>NaN</td>\n",
       "      <td>NaN</td>\n",
       "    </tr>\n",
       "    <tr>\n",
       "      <th>19227</th>\n",
       "      <td>Bruno Silva</td>\n",
       "      <td>WEIGHT: 185 lbs.</td>\n",
       "      <td>Bruno Silva\\n\\nGerald Meerschaert</td>\n",
       "      <td>LOSS</td>\n",
       "      <td>SUB</td>\n",
       "      <td>3.0</td>\n",
       "      <td>1:39</td>\n",
       "    </tr>\n",
       "    <tr>\n",
       "      <th>19228</th>\n",
       "      <td>Bruno Silva</td>\n",
       "      <td>WEIGHT: 185 lbs.</td>\n",
       "      <td>Bruno Silva\\n\\nAlex Pereira</td>\n",
       "      <td>LOSS</td>\n",
       "      <td>U-DEC</td>\n",
       "      <td>3.0</td>\n",
       "      <td>5:00</td>\n",
       "    </tr>\n",
       "    <tr>\n",
       "      <th>19229</th>\n",
       "      <td>Bruno Silva</td>\n",
       "      <td>WEIGHT: 185 lbs.</td>\n",
       "      <td>Bruno Silva\\n\\nJordan Wright</td>\n",
       "      <td>WIN</td>\n",
       "      <td>KO/TKO</td>\n",
       "      <td>1.0</td>\n",
       "      <td>1:28</td>\n",
       "    </tr>\n",
       "    <tr>\n",
       "      <th>19230</th>\n",
       "      <td>Bruno Silva</td>\n",
       "      <td>WEIGHT: 185 lbs.</td>\n",
       "      <td>Bruno Silva\\n\\nAndrew Sanchez</td>\n",
       "      <td>WIN</td>\n",
       "      <td>KO/TKO</td>\n",
       "      <td>3.0</td>\n",
       "      <td>2:35</td>\n",
       "    </tr>\n",
       "    <tr>\n",
       "      <th>19231</th>\n",
       "      <td>Bruno Silva</td>\n",
       "      <td>WEIGHT: 185 lbs.</td>\n",
       "      <td>Bruno Silva\\n\\nWellington Turman</td>\n",
       "      <td>WIN</td>\n",
       "      <td>KO/TKO</td>\n",
       "      <td>1.0</td>\n",
       "      <td>4:45</td>\n",
       "    </tr>\n",
       "  </tbody>\n",
       "</table>\n",
       "</div>"
      ],
      "text/plain": [
       "         Full Name            Weight                            Matchup  \\\n",
       "19225  Bruno Silva  WEIGHT: 185 lbs.                                NaN   \n",
       "19226  Bruno Silva  WEIGHT: 185 lbs.        Bruno Silva\\n\\nBrad Tavares   \n",
       "19227  Bruno Silva  WEIGHT: 185 lbs.  Bruno Silva\\n\\nGerald Meerschaert   \n",
       "19228  Bruno Silva  WEIGHT: 185 lbs.        Bruno Silva\\n\\nAlex Pereira   \n",
       "19229  Bruno Silva  WEIGHT: 185 lbs.       Bruno Silva\\n\\nJordan Wright   \n",
       "19230  Bruno Silva  WEIGHT: 185 lbs.      Bruno Silva\\n\\nAndrew Sanchez   \n",
       "19231  Bruno Silva  WEIGHT: 185 lbs.   Bruno Silva\\n\\nWellington Turman   \n",
       "\n",
       "      Outcome   Method  Round  Time  \n",
       "19225     NaN      NaN    NaN   NaN  \n",
       "19226    NEXT      NaN    NaN   NaN  \n",
       "19227    LOSS      SUB    3.0  1:39  \n",
       "19228    LOSS    U-DEC    3.0  5:00  \n",
       "19229     WIN  KO/TKO     1.0  1:28  \n",
       "19230     WIN  KO/TKO     3.0  2:35  \n",
       "19231     WIN   KO/TKO    1.0  4:45  "
      ]
     },
     "execution_count": 162,
     "metadata": {},
     "output_type": "execute_result"
    }
   ],
   "source": [
    "df.loc[(df[\"Full Name\"] == \"Bruno Silva\") & (df[\"Weight\"] == \"WEIGHT: 185 lbs.\")]"
   ]
  },
  {
   "cell_type": "markdown",
   "metadata": {},
   "source": [
    "## Data Cleaning"
   ]
  },
  {
   "cell_type": "markdown",
   "metadata": {},
   "source": [
    "We have to clean our dataset then group each fighter and get their distributions to determine their likelihood of winning/losing via decision, tko/ko or submission."
   ]
  },
  {
   "cell_type": "code",
   "execution_count": 163,
   "metadata": {},
   "outputs": [],
   "source": [
    "# delete first row of every fighter\n",
    "nulls = df[[\"Matchup\", \"Outcome\", 'Method', 'Round', 'Time']].isnull().all(axis=1) \n",
    "df = df.loc[~nulls, :]\n",
    "\n",
    "#find matches that are upcoming and delete them\n",
    "df = df[df[\"Outcome\"] != 'NEXT']\n",
    "\n",
    "# delete \"weight text\" in weight column\n",
    "df['Weight'] = df['Weight'].str.replace('WEIGHT: ', '')\n",
    "\n",
    "# keep only opponents name in matchup column\n",
    "def remove_name(orig_matchup):\n",
    "    last_index = orig_matchup.rfind('\\n')\n",
    "    new_string = orig_matchup[last_index +1:]\n",
    "    return new_string.strip()\n",
    "\n",
    "df['Matchup'] = df['Matchup'].apply(lambda x: remove_name(x))\n",
    "\n",
    "#discovered there is a duplicate fighter name \n",
    "df.loc[[19227, 19228, 19229, 19230, 19231], 'Full Name'] = \"Bruno Blindado Silva\""
   ]
  },
  {
   "cell_type": "code",
   "execution_count": 164,
   "metadata": {},
   "outputs": [],
   "source": [
    "unique_methods = df['Method'].unique()"
   ]
  },
  {
   "cell_type": "code",
   "execution_count": 165,
   "metadata": {},
   "outputs": [
    {
     "data": {
      "text/plain": [
       "array(['U-DEC', 'SUB', 'S-DEC', 'KO/TKO', 'Overturned', 'Other', 'M-DEC',\n",
       "       'CNC', 'DQ', 'SUB ', 'KO/TKO ', 'S-DEC ', 'Decision', 'U-DEC ',\n",
       "       'M-DEC ', 'Overturned ', 'CNC '], dtype=object)"
      ]
     },
     "execution_count": 165,
     "metadata": {},
     "output_type": "execute_result"
    }
   ],
   "source": [
    "unique_methods"
   ]
  },
  {
   "cell_type": "code",
   "execution_count": 166,
   "metadata": {},
   "outputs": [],
   "source": [
    "unique_outcomes = df['Outcome'].unique()"
   ]
  },
  {
   "cell_type": "code",
   "execution_count": 167,
   "metadata": {},
   "outputs": [
    {
     "data": {
      "text/plain": [
       "array(['LOSS', 'WIN', 'NC', 'DRAW'], dtype=object)"
      ]
     },
     "execution_count": 167,
     "metadata": {},
     "output_type": "execute_result"
    }
   ],
   "source": [
    "unique_outcomes"
   ]
  },
  {
   "cell_type": "code",
   "execution_count": 168,
   "metadata": {},
   "outputs": [],
   "source": [
    "removed_outcomes = ['NC', 'DRAW']\n",
    "removed_methods = ['Overturned', 'Other', 'CNC', 'DQ', 'Overturned ', 'CNC ']"
   ]
  },
  {
   "cell_type": "code",
   "execution_count": 169,
   "metadata": {},
   "outputs": [
    {
     "name": "stderr",
     "output_type": "stream",
     "text": [
      "<ipython-input-169-fcbd382802ee>:3: SettingWithCopyWarning: \n",
      "A value is trying to be set on a copy of a slice from a DataFrame.\n",
      "Try using .loc[row_indexer,col_indexer] = value instead\n",
      "\n",
      "See the caveats in the documentation: https://pandas.pydata.org/pandas-docs/stable/user_guide/indexing.html#returning-a-view-versus-a-copy\n",
      "  filtered_df2['Method'] = filtered_df2['Method'].apply(lambda x: x.strip())\n"
     ]
    }
   ],
   "source": [
    "filtered_df1 = df.loc[~df['Method'].isin(removed_methods)]\n",
    "filtered_df2 = filtered_df1.loc[~df['Outcome'].isin(removed_outcomes)]\n",
    "filtered_df2['Method'] = filtered_df2['Method'].apply(lambda x: x.strip())"
   ]
  },
  {
   "cell_type": "code",
   "execution_count": 170,
   "metadata": {},
   "outputs": [],
   "source": [
    "df = filtered_df2"
   ]
  },
  {
   "cell_type": "markdown",
   "metadata": {},
   "source": [
    "## Exploratory Data Analysis (EDA)"
   ]
  },
  {
   "cell_type": "code",
   "execution_count": 171,
   "metadata": {},
   "outputs": [],
   "source": [
    "decisions = ['U-DEC', 'S-DEC', 'M-DEC', 'Decision']\n",
    "kos = ['KO/TKO']\n",
    "submissions = ['SUB']"
   ]
  },
  {
   "cell_type": "code",
   "execution_count": 172,
   "metadata": {},
   "outputs": [
    {
     "name": "stdout",
     "output_type": "stream",
     "text": [
      "0.428926871484206\n",
      "0.34714409346603203\n",
      "0.223929035049762\n"
     ]
    }
   ],
   "source": [
    "decision_df = df[df['Method'].isin(decisions)]\n",
    "decision_count = decision_df['Method'].count()\n",
    "\n",
    "ko_df = df[df['Method'].isin(kos)]\n",
    "ko_count = ko_df['Method'].count()\n",
    "\n",
    "submission_df = df[df['Method'].isin(submissions)]\n",
    "submission_count = submission_df['Method'].count()\n",
    "\n",
    "print(decision_count/len(df))\n",
    "print(ko_count/len(df))\n",
    "print(submission_count/len(df))"
   ]
  },
  {
   "cell_type": "code",
   "execution_count": 173,
   "metadata": {},
   "outputs": [],
   "source": [
    "#make multipliers?\n",
    "#0.4286023366508005 --> 43% end by decision\n",
    "#0.34714409346603203 --> 35% end by ko\n",
    "#0.223929035049762 --> 22% end by submission"
   ]
  },
  {
   "cell_type": "code",
   "execution_count": 174,
   "metadata": {},
   "outputs": [],
   "source": [
    "#questions that could be of importance:\n",
    "#what is the most common method of winning?\n",
    "#for fighters that win through ko/submission what round does it typically occur in?\n",
    "#is there a discrepancy in the way fighters win across different weight classes?"
   ]
  },
  {
   "cell_type": "code",
   "execution_count": 175,
   "metadata": {},
   "outputs": [],
   "source": [
    "def transform_dataset(df):\n",
    "    data = {\n",
    "    'Total Fights': df.groupby(['Full Name'])['Matchup'].count(),\n",
    "    'Total Wins': df.loc[df['Outcome'] == 'WIN'].groupby(['Full Name'])['Outcome'].count(),\n",
    "    'Total Losses': df.loc[df['Outcome'] == 'LOSS'].groupby(['Full Name'])['Outcome'].count(),\n",
    "    'Wins By Decision': df.loc[(df['Outcome'] == 'WIN') & (df['Method'].isin(decisions))].groupby(['Full Name'])['Outcome'].count(),\n",
    "    'Wins By KO': df.loc[(df['Outcome'] == 'WIN') & (df['Method'].isin(kos))].groupby(['Full Name'])['Outcome'].count(),\n",
    "    'Wins By Submission': df.loc[(df['Outcome'] == 'WIN') & (df['Method'].isin(submissions))].groupby(['Full Name'])['Outcome'].count(),\n",
    "    'Loss By Decision': df.loc[(df['Outcome'] == 'LOSS') & (df['Method'].isin(decisions))].groupby(['Full Name'])['Outcome'].count(),\n",
    "    'Loss By KO': df.loc[(df['Outcome'] == 'LOSS') & (df['Method'].isin(kos))].groupby(['Full Name'])['Outcome'].count(),\n",
    "    'Loss By Submission': df.loc[(df['Outcome'] == 'LOSS') & (df['Method'].isin(submissions))].groupby(['Full Name'])['Outcome'].count()\n",
    "}\n",
    "    fighter_stats = pd.DataFrame(data)\n",
    "    fighter_stats.fillna(0, inplace=True)\n",
    "    return fighter_stats"
   ]
  },
  {
   "cell_type": "code",
   "execution_count": 176,
   "metadata": {},
   "outputs": [],
   "source": [
    "df = transform_dataset(df)"
   ]
  },
  {
   "cell_type": "code",
   "execution_count": 177,
   "metadata": {},
   "outputs": [
    {
     "data": {
      "text/html": [
       "<div>\n",
       "<style scoped>\n",
       "    .dataframe tbody tr th:only-of-type {\n",
       "        vertical-align: middle;\n",
       "    }\n",
       "\n",
       "    .dataframe tbody tr th {\n",
       "        vertical-align: top;\n",
       "    }\n",
       "\n",
       "    .dataframe thead th {\n",
       "        text-align: right;\n",
       "    }\n",
       "</style>\n",
       "<table border=\"1\" class=\"dataframe\">\n",
       "  <thead>\n",
       "    <tr style=\"text-align: right;\">\n",
       "      <th></th>\n",
       "      <th>Total Fights</th>\n",
       "      <th>Total Wins</th>\n",
       "      <th>Total Losses</th>\n",
       "      <th>Wins By Decision</th>\n",
       "      <th>Wins By KO</th>\n",
       "      <th>Wins By Submission</th>\n",
       "      <th>Loss By Decision</th>\n",
       "      <th>Loss By KO</th>\n",
       "      <th>Loss By Submission</th>\n",
       "    </tr>\n",
       "  </thead>\n",
       "  <tbody>\n",
       "    <tr>\n",
       "      <th>AJ Dobson</th>\n",
       "      <td>3</td>\n",
       "      <td>1.0</td>\n",
       "      <td>2.0</td>\n",
       "      <td>0.0</td>\n",
       "      <td>0.0</td>\n",
       "      <td>1.0</td>\n",
       "      <td>2.0</td>\n",
       "      <td>0.0</td>\n",
       "      <td>0.0</td>\n",
       "    </tr>\n",
       "    <tr>\n",
       "      <th>AJ Fletcher</th>\n",
       "      <td>4</td>\n",
       "      <td>2.0</td>\n",
       "      <td>2.0</td>\n",
       "      <td>0.0</td>\n",
       "      <td>1.0</td>\n",
       "      <td>1.0</td>\n",
       "      <td>2.0</td>\n",
       "      <td>0.0</td>\n",
       "      <td>0.0</td>\n",
       "    </tr>\n",
       "    <tr>\n",
       "      <th>AJ Fonseca</th>\n",
       "      <td>1</td>\n",
       "      <td>0.0</td>\n",
       "      <td>1.0</td>\n",
       "      <td>0.0</td>\n",
       "      <td>0.0</td>\n",
       "      <td>0.0</td>\n",
       "      <td>1.0</td>\n",
       "      <td>0.0</td>\n",
       "      <td>0.0</td>\n",
       "    </tr>\n",
       "    <tr>\n",
       "      <th>AJ Matthews</th>\n",
       "      <td>1</td>\n",
       "      <td>0.0</td>\n",
       "      <td>1.0</td>\n",
       "      <td>0.0</td>\n",
       "      <td>0.0</td>\n",
       "      <td>0.0</td>\n",
       "      <td>0.0</td>\n",
       "      <td>1.0</td>\n",
       "      <td>0.0</td>\n",
       "    </tr>\n",
       "    <tr>\n",
       "      <th>Aalon Cruz</th>\n",
       "      <td>3</td>\n",
       "      <td>1.0</td>\n",
       "      <td>2.0</td>\n",
       "      <td>0.0</td>\n",
       "      <td>1.0</td>\n",
       "      <td>0.0</td>\n",
       "      <td>0.0</td>\n",
       "      <td>2.0</td>\n",
       "      <td>0.0</td>\n",
       "    </tr>\n",
       "  </tbody>\n",
       "</table>\n",
       "</div>"
      ],
      "text/plain": [
       "             Total Fights  Total Wins  Total Losses  Wins By Decision  \\\n",
       "AJ Dobson               3         1.0           2.0               0.0   \n",
       "AJ Fletcher             4         2.0           2.0               0.0   \n",
       "AJ Fonseca              1         0.0           1.0               0.0   \n",
       "AJ Matthews             1         0.0           1.0               0.0   \n",
       "Aalon Cruz              3         1.0           2.0               0.0   \n",
       "\n",
       "             Wins By KO  Wins By Submission  Loss By Decision  Loss By KO  \\\n",
       "AJ Dobson           0.0                 1.0               2.0         0.0   \n",
       "AJ Fletcher         1.0                 1.0               2.0         0.0   \n",
       "AJ Fonseca          0.0                 0.0               1.0         0.0   \n",
       "AJ Matthews         0.0                 0.0               0.0         1.0   \n",
       "Aalon Cruz          1.0                 0.0               0.0         2.0   \n",
       "\n",
       "             Loss By Submission  \n",
       "AJ Dobson                   0.0  \n",
       "AJ Fletcher                 0.0  \n",
       "AJ Fonseca                  0.0  \n",
       "AJ Matthews                 0.0  \n",
       "Aalon Cruz                  0.0  "
      ]
     },
     "execution_count": 177,
     "metadata": {},
     "output_type": "execute_result"
    }
   ],
   "source": [
    "df.head()"
   ]
  },
  {
   "cell_type": "markdown",
   "metadata": {},
   "source": [
    "## Monte Carlo Simulation"
   ]
  },
  {
   "cell_type": "code",
   "execution_count": 178,
   "metadata": {},
   "outputs": [],
   "source": [
    "import math\n",
    "import random as rnd\n",
    "import numpy.random as npr"
   ]
  },
  {
   "cell_type": "code",
   "execution_count": 179,
   "metadata": {},
   "outputs": [],
   "source": [
    "def calculate_mean(statistic, total_fights):\n",
    "    return statistic/total_fights\n",
    "\n",
    "#def calculate_sd(statistic, total_fights):\n",
    " #   mean = calculate_mean(statistic, total_fights)\n",
    "  #  return math.sqrt((mean*(1-mean))/total_fights)\n",
    "\n",
    "def calculate_sd(statistic, total_fights):\n",
    "    mean = calculate_mean(statistic, total_fights)\n",
    "    return math.sqrt(mean*(1-mean))"
   ]
  },
  {
   "cell_type": "code",
   "execution_count": 180,
   "metadata": {},
   "outputs": [],
   "source": [
    "def get_fighter_parameters(fighter1, fighter2):\n",
    "    data = {\"Decision Wins Mean\" : [calculate_mean(df.loc[fighter1, \"Wins By Decision\"], df.loc[fighter1, \"Total Fights\"]),\n",
    "                                   calculate_mean(df.loc[fighter2, \"Wins By Decision\"], df.loc[fighter2, \"Total Fights\"])], \n",
    "            \n",
    "           \"Decision Wins SD\" : [calculate_sd(df.loc[fighter1, \"Wins By Decision\"], df.loc[fighter1, \"Total Fights\"]),\n",
    "                                   calculate_sd(df.loc[fighter2, \"Wins By Decision\"], df.loc[fighter2, \"Total Fights\"])],\n",
    "            \n",
    "           \"KO Wins Mean\" : [calculate_mean(df.loc[fighter1, \"Wins By KO\"], df.loc[fighter1, \"Total Fights\"]),\n",
    "                                   calculate_mean(df.loc[fighter2, \"Wins By KO\"], df.loc[fighter2, \"Total Fights\"])], \n",
    "            \n",
    "            'KO Wins SD' : [calculate_sd(df.loc[fighter1, \"Wins By KO\"], df.loc[fighter1, \"Total Fights\"]),\n",
    "                                   calculate_sd(df.loc[fighter2, \"Wins By KO\"], df.loc[fighter2, \"Total Fights\"])], \n",
    "           \n",
    "            'Sub Wins Mean' : [calculate_mean(df.loc[fighter1, \"Wins By Submission\"], df.loc[fighter1, \"Total Fights\"]),\n",
    "                                   calculate_mean(df.loc[fighter2, \"Wins By Submission\"], df.loc[fighter2, \"Total Fights\"])],\n",
    "           \n",
    "            'Sub Wins SD' : [calculate_sd(df.loc[fighter1, \"Wins By Submission\"], df.loc[fighter1, \"Total Fights\"]),\n",
    "                                   calculate_sd(df.loc[fighter2, \"Wins By Submission\"], df.loc[fighter2, \"Total Fights\"])], \n",
    "            \n",
    "            'Decision Loss Mean' : [calculate_mean(df.loc[fighter1, \"Loss By Decision\"], df.loc[fighter1, \"Total Fights\"]),\n",
    "                                   calculate_mean(df.loc[fighter2, \"Loss By Decision\"], df.loc[fighter2, \"Total Fights\"])], \n",
    "            \n",
    "            'Decision Loss SD' : [calculate_sd(df.loc[fighter1, \"Loss By Decision\"], df.loc[fighter1, \"Total Fights\"]),\n",
    "                                   calculate_sd(df.loc[fighter2, \"Loss By Decision\"], df.loc[fighter2, \"Total Fights\"])], \n",
    "            \n",
    "            'KO Loss Mean' : [calculate_mean(df.loc[fighter1, \"Loss By KO\"], df.loc[fighter1, \"Total Fights\"]),\n",
    "                                   calculate_mean(df.loc[fighter2, \"Loss By KO\"], df.loc[fighter2, \"Total Fights\"])], \n",
    "            \n",
    "            'KO Loss SD' : [calculate_sd(df.loc[fighter1, \"Loss By KO\"], df.loc[fighter1, \"Total Fights\"]),\n",
    "                                   calculate_sd(df.loc[fighter2, \"Loss By KO\"], df.loc[fighter2, \"Total Fights\"])], \n",
    "           \n",
    "            'Sub Loss Mean' : [calculate_mean(df.loc[fighter1, \"Loss By Submission\"], df.loc[fighter1, \"Total Fights\"]),\n",
    "                                   calculate_mean(df.loc[fighter2, \"Loss By Submission\"], df.loc[fighter2, \"Total Fights\"])], \n",
    "            \n",
    "            'Sub Loss SD' : [calculate_sd(df.loc[fighter1, \"Loss By Submission\"], df.loc[fighter1, \"Total Fights\"]),\n",
    "                                   calculate_sd(df.loc[fighter2, \"Loss By Submission\"], df.loc[fighter2, \"Total Fights\"])],\n",
    "            'Number of Matches' : [df.loc[fighter1, \"Total Fights\"], df.loc[fighter2, \"Total Fights\"]]\n",
    "           \n",
    "           }\n",
    "    \n",
    "    fighter_parameter_df = pd.DataFrame(data=data, index = [fighter1, fighter2])\n",
    "    return fighter_parameter_df"
   ]
  },
  {
   "cell_type": "code",
   "execution_count": 181,
   "metadata": {},
   "outputs": [],
   "source": [
    "def gameSim():\n",
    "    results = []\n",
    "    fighter1_dec_score = (rnd.gauss(matchup_df.iloc[0]['Decision Wins Mean'],matchup_df.iloc[0]['Decision Wins SD'])+ \n",
    "                          rnd.gauss(matchup_df.iloc[1]['Decision Loss Mean'],matchup_df.iloc[1]['Decision Loss SD']))/2\n",
    "    fighter1_ko_score = (rnd.gauss(matchup_df.iloc[0]['KO Wins Mean'],matchup_df.iloc[0]['KO Wins SD'])+ \n",
    "                          rnd.gauss(matchup_df.iloc[1]['KO Loss Mean'],matchup_df.iloc[1]['KO Loss SD']))/2\n",
    "    fighter1_sub_score = (rnd.gauss(matchup_df.iloc[0]['Sub Wins Mean'],matchup_df.iloc[0]['Sub Wins SD'])+ \n",
    "                          rnd.gauss(matchup_df.iloc[1]['Sub Loss Mean'],matchup_df.iloc[1]['Sub Loss SD']))/2\n",
    "    fighter2_dec_score = (rnd.gauss(matchup_df.iloc[1]['Decision Wins Mean'],matchup_df.iloc[1]['Decision Wins SD'])+ \n",
    "                          rnd.gauss(matchup_df.iloc[0]['Decision Loss Mean'],matchup_df.iloc[0]['Decision Loss SD']))/2\n",
    "    fighter2_ko_score = (rnd.gauss(matchup_df.iloc[1]['KO Wins Mean'],matchup_df.iloc[1]['KO Wins SD'])+ \n",
    "                          rnd.gauss(matchup_df.iloc[0]['KO Loss Mean'],matchup_df.iloc[0]['KO Loss SD']))/2\n",
    "    fighter2_sub_score = (rnd.gauss(matchup_df.iloc[1]['Sub Wins Mean'],matchup_df.iloc[1]['Sub Wins SD'])+ \n",
    "                          rnd.gauss(matchup_df.iloc[0]['Sub Loss Mean'],matchup_df.iloc[0]['Sub Loss SD']))/2   \n",
    "    \n",
    "    results.append(fighter1_dec_score)\n",
    "    results.append(fighter1_ko_score)\n",
    "    results.append(fighter1_sub_score)    \n",
    "    results.append(fighter2_dec_score)    \n",
    "    results.append(fighter2_ko_score)    \n",
    "    results.append(fighter2_sub_score)\n",
    "    \n",
    "    \n",
    "    if max(results) == results[0]:\n",
    "        return \"f1_dec\"\n",
    "    elif max(results) == results[1]:\n",
    "        return \"f1_ko\"\n",
    "    elif max(results) == results[2]:\n",
    "        return \"f1_sub\"\n",
    "    elif max(results) == results[3]:\n",
    "        return \"f2_dec\"\n",
    "    elif max(results) == results[4]:\n",
    "        return \"f2_ko\"\n",
    "    elif max(results) == results[5]:\n",
    "        return \"f2_sub\"\n",
    "    else: return rnd.choice([\"f1_dec\", \"f1_ko\", \"f1_sub\", \"f2_dec\", \"f2_ko\", \"f2_sub\"])"
   ]
  },
  {
   "cell_type": "code",
   "execution_count": 182,
   "metadata": {},
   "outputs": [],
   "source": [
    "#def gameSim():\n",
    " #   results = []\n",
    "  #  fighter1_dec_score = (npr.binomial(matchup_df.iloc[0][\"Number of Matches\"], matchup_df.iloc[0]['Decision Wins Mean'])+ \n",
    "   #                       npr.binomial(matchup_df.iloc[1]['Number of Matches'], matchup_df.iloc[1]['Decision Loss Mean']))/2\n",
    "    #fighter1_ko_score = (npr.binomial(matchup_df.iloc[0][\"Number of Matches\"], matchup_df.iloc[0]['KO Wins Mean'])+ \n",
    "   #                       npr.binomial(matchup_df.iloc[1]['Number of Matches'], matchup_df.iloc[1]['KO Loss Mean']))/2\n",
    "    #fighter1_sub_score = (npr.binomial(matchup_df.iloc[0][\"Number of Matches\"], matchup_df.iloc[0]['Sub Wins Mean'])+ \n",
    "     #                     npr.binomial(matchup_df.iloc[1]['Number of Matches'], matchup_df.iloc[1]['Sub Loss Mean']))/2\n",
    "    #fighter2_dec_score = (npr.binomial(matchup_df.iloc[1]['Number of Matches'], matchup_df.iloc[1]['Decision Wins Mean'])+ \n",
    "    #                      npr.binomial(matchup_df.iloc[0]['Number of Matches'], matchup_df.iloc[0]['Decision Loss Mean']))/2\n",
    "    #fighter2_ko_score = (npr.binomial(matchup_df.iloc[1]['Number of Matches'], matchup_df.iloc[1]['KO Wins Mean'])+ \n",
    "     #                     npr.binomial(matchup_df.iloc[0]['Number of Matches'], matchup_df.iloc[0]['KO Loss Mean']))/2\n",
    "    #fighter2_sub_score = (npr.binomial(matchup_df.iloc[1]['Number of Matches'], matchup_df.iloc[1]['Sub Wins Mean'])+ \n",
    "     #                     npr.binomial(matchup_df.iloc[0]['Number of Matches'], matchup_df.iloc[0]['Sub Loss Mean']))/2 \n",
    "    \n",
    "    #results.append(fighter1_dec_score)\n",
    "    #results.append(fighter1_ko_score)\n",
    "    #results.append(fighter1_sub_score)    \n",
    "    #results.append(fighter2_dec_score)    \n",
    "    #results.append(fighter2_ko_score)    \n",
    "    #results.append(fighter2_sub_score)\n",
    "    \n",
    "    \n",
    "    #if max(results) == results[0]:\n",
    "     #   return \"f1_dec\"\n",
    "    #elif max(results) == results[1]:\n",
    "     #   return \"f1_ko\"\n",
    "    #elif max(results) == results[2]:\n",
    "     #   return \"f1_sub\"\n",
    "    #elif max(results) == results[3]:\n",
    "     #   return \"f2_dec\"\n",
    "    #elif max(results) == results[4]:\n",
    "     #   return \"f2_ko\"\n",
    "    #elif max(results) == results[5]:\n",
    "     #   return \"f2_sub\"\n",
    "    #else: return \"tie\""
   ]
  },
  {
   "cell_type": "code",
   "execution_count": 183,
   "metadata": {},
   "outputs": [],
   "source": [
    "def gamesSim(ns):\n",
    "    matchesout = []\n",
    "    fighter1_decwin = 0\n",
    "    fighter1_kowin = 0\n",
    "    fighter1_subwin = 0\n",
    "    fighter2_decwin = 0\n",
    "    fighter2_kowin = 0\n",
    "    fighter2_subwin = 0\n",
    "    tie = 0\n",
    "    for i in range(ns):\n",
    "        gm = gameSim()\n",
    "        matchesout.append(gm)\n",
    "        if gm == \"f1_dec\":\n",
    "            fighter1_decwin +=1 \n",
    "        elif gm == \"f1_ko\":\n",
    "            fighter1_kowin +=1 \n",
    "        elif gm == \"f1_sub\":\n",
    "            fighter1_subwin +=1 \n",
    "        elif gm == \"f2_dec\":\n",
    "            fighter2_decwin +=1 \n",
    "        elif gm == \"f2_ko\":\n",
    "            fighter2_kowin +=1 \n",
    "        else:\n",
    "            fighter2_subwin +=1 \n",
    "\n",
    "    \n",
    "    print(matchup_df.index[0] +' Decision Win ', round((fighter1_decwin/ns)*100,2),'%')\n",
    "    print(matchup_df.index[0] +' KO Win ', round((fighter1_kowin/ns)*100,2),'%')\n",
    "    print(matchup_df.index[0] +' Submission Win ', round((fighter1_subwin/ns)*100,2),'%')\n",
    "    print(matchup_df.index[1] +' Decision Win ', round((fighter2_decwin/ns)*100,2),'%')\n",
    "    print(matchup_df.index[1] +' KO Win ', round((fighter2_kowin/ns)*100,2),'%')\n",
    "    print(matchup_df.index[1] +' Submission Win ', round((fighter2_subwin/ns)*100,2),'%')\n",
    "    #print('Tie ', (tie/ns)*100, '%')\n",
    "    \n",
    "    #return matchesout"
   ]
  },
  {
   "cell_type": "markdown",
   "metadata": {},
   "source": [
    "## Predictions on UFC Fight Night: Pavlovich vs Blaydes"
   ]
  },
  {
   "cell_type": "markdown",
   "metadata": {},
   "source": [
    "### Sergei Pavlovich vs Curtis Blaydes"
   ]
  },
  {
   "cell_type": "code",
   "execution_count": 184,
   "metadata": {},
   "outputs": [
    {
     "name": "stdout",
     "output_type": "stream",
     "text": [
      "Sergei Pavlovich Decision Win  0.09 %\n",
      "Sergei Pavlovich KO Win  62.68 %\n",
      "Sergei Pavlovich Submission Win  0.0 %\n",
      "Curtis Blaydes Decision Win  9.05 %\n",
      "Curtis Blaydes KO Win  28.18 %\n",
      "Curtis Blaydes Submission Win  0.0 %\n"
     ]
    }
   ],
   "source": [
    "matchup_df = get_fighter_parameters(\"Sergei Pavlovich\", \"Curtis Blaydes\")\n",
    "gamesSim(10000)\n",
    "#sergei ko\n",
    "#all correct"
   ]
  },
  {
   "cell_type": "markdown",
   "metadata": {},
   "source": [
    "### Brad Tavares vs Bruno Silva"
   ]
  },
  {
   "cell_type": "code",
   "execution_count": 185,
   "metadata": {},
   "outputs": [
    {
     "name": "stdout",
     "output_type": "stream",
     "text": [
      "Brad Tavares Decision Win  44.46 %\n",
      "Brad Tavares KO Win  2.15 %\n",
      "Brad Tavares Submission Win  5.97 %\n",
      "Bruno Blindado Silva Decision Win  5.62 %\n",
      "Bruno Blindado Silva KO Win  41.74 %\n",
      "Bruno Blindado Silva Submission Win  0.06 %\n"
     ]
    }
   ],
   "source": [
    "matchup_df = get_fighter_parameters(\"Brad Tavares\", \"Bruno Blindado Silva\")\n",
    "gamesSim(10000)\n",
    "#bruno silva ko\n",
    "#all wrong\n",
    "#2nd highest option correct"
   ]
  },
  {
   "cell_type": "markdown",
   "metadata": {},
   "source": [
    "### Bobby Green vs Jared Gordon - No Contest"
   ]
  },
  {
   "cell_type": "code",
   "execution_count": 186,
   "metadata": {},
   "outputs": [
    {
     "name": "stdout",
     "output_type": "stream",
     "text": [
      "Bobby Green Decision Win  22.04 %\n",
      "Bobby Green KO Win  15.19 %\n",
      "Bobby Green Submission Win  6.99 %\n",
      "Jared Gordon Decision Win  47.9 %\n",
      "Jared Gordon KO Win  7.35 %\n",
      "Jared Gordon Submission Win  0.53 %\n"
     ]
    }
   ],
   "source": [
    "matchup_df = get_fighter_parameters(\"Bobby Green\", \"Jared Gordon\")\n",
    "gamesSim(10000)"
   ]
  },
  {
   "cell_type": "markdown",
   "metadata": {},
   "source": [
    "### Iasmin Lucindo vs Brogan Walker"
   ]
  },
  {
   "cell_type": "code",
   "execution_count": 187,
   "metadata": {},
   "outputs": [
    {
     "name": "stdout",
     "output_type": "stream",
     "text": [
      "Iasmin Lucindo Decision Win  0.0 %\n",
      "Iasmin Lucindo KO Win  100.0 %\n",
      "Iasmin Lucindo Submission Win  0.0 %\n",
      "Brogan Walker Decision Win  0.0 %\n",
      "Brogan Walker KO Win  0.0 %\n",
      "Brogan Walker Submission Win  0.0 %\n"
     ]
    }
   ],
   "source": [
    "matchup_df = get_fighter_parameters(\"Iasmin Lucindo\", \"Brogan Walker\")\n",
    "gamesSim(10000)\n",
    "#iasmin decision\n",
    "#winner correct, method wrong"
   ]
  },
  {
   "cell_type": "markdown",
   "metadata": {},
   "source": [
    "### Jeremiah Wells vs Matthew Semelsberger"
   ]
  },
  {
   "cell_type": "code",
   "execution_count": 188,
   "metadata": {},
   "outputs": [
    {
     "name": "stdout",
     "output_type": "stream",
     "text": [
      "Jeremiah Wells Decision Win  11.91 %\n",
      "Jeremiah Wells KO Win  39.93 %\n",
      "Jeremiah Wells Submission Win  15.05 %\n",
      "Matthew Semelsberger Decision Win  21.37 %\n",
      "Matthew Semelsberger KO Win  11.72 %\n",
      "Matthew Semelsberger Submission Win  0.02 %\n"
     ]
    }
   ],
   "source": [
    "matchup_df = get_fighter_parameters(\"Jeremiah Wells\", \"Matthew Semelsberger\")\n",
    "gamesSim(10000)\n",
    "#jeremiah decision\n",
    "#winner correct, method wrong"
   ]
  },
  {
   "cell_type": "markdown",
   "metadata": {},
   "source": [
    "### Rick Glenn vs Christos Giagos"
   ]
  },
  {
   "cell_type": "code",
   "execution_count": 189,
   "metadata": {},
   "outputs": [
    {
     "name": "stdout",
     "output_type": "stream",
     "text": [
      "Ricky Glenn Decision Win  33.85 %\n",
      "Ricky Glenn KO Win  9.21 %\n",
      "Ricky Glenn Submission Win  9.62 %\n",
      "Christos Giagos Decision Win  41.48 %\n",
      "Christos Giagos KO Win  0.09 %\n",
      "Christos Giagos Submission Win  5.75 %\n"
     ]
    }
   ],
   "source": [
    "matchup_df = get_fighter_parameters(\"Ricky Glenn\", \"Christos Giagos\")\n",
    "gamesSim(10000)\n",
    "#christos ko\n",
    "#winner correct, method wrong"
   ]
  },
  {
   "cell_type": "markdown",
   "metadata": {},
   "source": [
    "### Rani Yahya vs Montel Jackson"
   ]
  },
  {
   "cell_type": "code",
   "execution_count": 190,
   "metadata": {},
   "outputs": [
    {
     "name": "stdout",
     "output_type": "stream",
     "text": [
      "Rani Yahya Decision Win  24.9 %\n",
      "Rani Yahya KO Win  0.12 %\n",
      "Rani Yahya Submission Win  20.51 %\n",
      "Montel Jackson Decision Win  40.9 %\n",
      "Montel Jackson KO Win  10.62 %\n",
      "Montel Jackson Submission Win  2.95 %\n"
     ]
    }
   ],
   "source": [
    "matchup_df = get_fighter_parameters(\"Rani Yahya\", \"Montel Jackson\")\n",
    "gamesSim(10000)\n",
    "#montel ko \n",
    "#winner correct, method wrong"
   ]
  },
  {
   "cell_type": "markdown",
   "metadata": {},
   "source": [
    "### Karol Rosa vs Norma Dumont"
   ]
  },
  {
   "cell_type": "code",
   "execution_count": 191,
   "metadata": {},
   "outputs": [
    {
     "name": "stdout",
     "output_type": "stream",
     "text": [
      "Karol Rosa Decision Win  55.48 %\n",
      "Karol Rosa KO Win  3.38 %\n",
      "Karol Rosa Submission Win  0.09 %\n",
      "Norma Dumont Decision Win  41.05 %\n",
      "Norma Dumont KO Win  0.0 %\n",
      "Norma Dumont Submission Win  0.0 %\n"
     ]
    }
   ],
   "source": [
    "matchup_df = get_fighter_parameters(\"Karol Rosa\", \"Norma Dumont\")\n",
    "gamesSim(10000)\n",
    "#norma decision\n",
    "#all wrong\n",
    "#2nd highest option was correct"
   ]
  },
  {
   "cell_type": "markdown",
   "metadata": {},
   "source": [
    "### Mohammed Usman vs Junior Tafa - N/A (Junior Tafa's first fight recorded on fightmetric)"
   ]
  },
  {
   "cell_type": "markdown",
   "metadata": {},
   "source": [
    "### Francis Marshall vs William Gomis"
   ]
  },
  {
   "cell_type": "code",
   "execution_count": 192,
   "metadata": {},
   "outputs": [
    {
     "name": "stdout",
     "output_type": "stream",
     "text": [
      "Francis Marshall Decision Win  14.54 %\n",
      "Francis Marshall KO Win  14.38 %\n",
      "Francis Marshall Submission Win  0.0 %\n",
      "William Gomis Decision Win  71.08 %\n",
      "William Gomis KO Win  0.0 %\n",
      "William Gomis Submission Win  0.0 %\n"
     ]
    }
   ],
   "source": [
    "matchup_df = get_fighter_parameters(\"Francis Marshall\", \"William Gomis\")\n",
    "gamesSim(10000)\n",
    "#william decision\n",
    "#all correct"
   ]
  },
  {
   "cell_type": "markdown",
   "metadata": {},
   "source": [
    "### Brady Hiestand vs Batgerel Danaa"
   ]
  },
  {
   "cell_type": "code",
   "execution_count": 193,
   "metadata": {},
   "outputs": [
    {
     "name": "stdout",
     "output_type": "stream",
     "text": [
      "Brady Hiestand Decision Win  51.41 %\n",
      "Brady Hiestand KO Win  5.15 %\n",
      "Brady Hiestand Submission Win  0.07 %\n",
      "Batgerel Danaa Decision Win  22.23 %\n",
      "Batgerel Danaa KO Win  21.14 %\n",
      "Batgerel Danaa Submission Win  0.0 %\n"
     ]
    }
   ],
   "source": [
    "matchup_df = get_fighter_parameters(\"Brady Hiestand\", \"Batgerel Danaa\")\n",
    "gamesSim(10000)\n",
    "#brady ko\n",
    "#winner correct, method wrong"
   ]
  },
  {
   "cell_type": "code",
   "execution_count": 194,
   "metadata": {},
   "outputs": [],
   "source": [
    "#2/9 perfect\n",
    "#4/9 if 2nd highest outcome is accepted\n",
    "#7/9 winner correct"
   ]
  },
  {
   "cell_type": "markdown",
   "metadata": {},
   "source": [
    "## Predictions on UFC Fight Night: Song vs Simón"
   ]
  },
  {
   "cell_type": "markdown",
   "metadata": {},
   "source": [
    "### Song Yadong vs Ricky Simón"
   ]
  },
  {
   "cell_type": "code",
   "execution_count": 195,
   "metadata": {},
   "outputs": [
    {
     "name": "stdout",
     "output_type": "stream",
     "text": [
      "Song Yadong Decision Win  20.0 %\n",
      "Song Yadong KO Win  27.33 %\n",
      "Song Yadong Submission Win  2.28 %\n",
      "Ricky Simon Decision Win  31.56 %\n",
      "Ricky Simon KO Win  7.48 %\n",
      "Ricky Simon Submission Win  11.35 %\n"
     ]
    }
   ],
   "source": [
    "matchup_df = get_fighter_parameters(\"Song Yadong\", \"Ricky Simon\")\n",
    "gamesSim(10000)\n",
    "#song ko\n",
    "#all wrong\n",
    "#2nd option was correct "
   ]
  },
  {
   "cell_type": "markdown",
   "metadata": {},
   "source": [
    "### Caio Borralho vs Michal Oleksiejczuk"
   ]
  },
  {
   "cell_type": "code",
   "execution_count": 196,
   "metadata": {},
   "outputs": [
    {
     "name": "stdout",
     "output_type": "stream",
     "text": [
      "Caio Borralho Decision Win  59.58 %\n",
      "Caio Borralho KO Win  6.12 %\n",
      "Caio Borralho Submission Win  7.23 %\n",
      "Michal Oleksiejczuk Decision Win  2.19 %\n",
      "Michal Oleksiejczuk KO Win  24.87 %\n",
      "Michal Oleksiejczuk Submission Win  0.01 %\n"
     ]
    }
   ],
   "source": [
    "matchup_df = get_fighter_parameters(\"Caio Borralho\", \"Michal Oleksiejczuk\")\n",
    "gamesSim(10000)\n",
    "#caio submission\n",
    "#winner correct, method wrong "
   ]
  },
  {
   "cell_type": "markdown",
   "metadata": {},
   "source": [
    "### Rodolfo Vieira vs Cody Brundage"
   ]
  },
  {
   "cell_type": "code",
   "execution_count": 197,
   "metadata": {},
   "outputs": [
    {
     "name": "stdout",
     "output_type": "stream",
     "text": [
      "Rodolfo Vieira Decision Win  7.25 %\n",
      "Rodolfo Vieira KO Win  19.11 %\n",
      "Rodolfo Vieira Submission Win  35.37 %\n",
      "Cody Brundage Decision Win  7.36 %\n",
      "Cody Brundage KO Win  7.59 %\n",
      "Cody Brundage Submission Win  23.32 %\n"
     ]
    }
   ],
   "source": [
    "matchup_df = get_fighter_parameters(\"Rodolfo Vieira\", \"Cody Brundage\")\n",
    "gamesSim(10000)\n",
    "#rodolfo submission\n",
    "#all correct"
   ]
  },
  {
   "cell_type": "markdown",
   "metadata": {},
   "source": [
    "### Julian Erosa vs Fernando Padilla - N/A (Fernando Padilla's first fight recorded on fightmetric)"
   ]
  },
  {
   "cell_type": "markdown",
   "metadata": {},
   "source": [
    "### Marcos Rogério de Lima vs Waldo Cortes-Acosta"
   ]
  },
  {
   "cell_type": "code",
   "execution_count": 198,
   "metadata": {},
   "outputs": [
    {
     "name": "stdout",
     "output_type": "stream",
     "text": [
      "Marcos Rogerio de Lima Decision Win  15.48 %\n",
      "Marcos Rogerio de Lima KO Win  42.64 %\n",
      "Marcos Rogerio de Lima Submission Win  3.28 %\n",
      "Cody Brundage Decision Win  3.5 %\n",
      "Cody Brundage KO Win  6.57 %\n",
      "Cody Brundage Submission Win  28.53 %\n"
     ]
    }
   ],
   "source": [
    "matchup_df = get_fighter_parameters(\"Marcos Rogerio de Lima\", \"Cody Brundage\")\n",
    "gamesSim(10000)\n",
    "#marcos decision\n",
    "#winner correct, method wrong"
   ]
  },
  {
   "cell_type": "markdown",
   "metadata": {},
   "source": [
    "### Josh Quinlan vs Trey Waters"
   ]
  },
  {
   "cell_type": "code",
   "execution_count": 199,
   "metadata": {},
   "outputs": [
    {
     "name": "stdout",
     "output_type": "stream",
     "text": [
      "Josh Quinlan Decision Win  0.0 %\n",
      "Josh Quinlan KO Win  100.0 %\n",
      "Josh Quinlan Submission Win  0.0 %\n",
      "Trey Waters Decision Win  0.0 %\n",
      "Trey Waters KO Win  0.0 %\n",
      "Trey Waters Submission Win  0.0 %\n"
     ]
    }
   ],
   "source": [
    "matchup_df = get_fighter_parameters(\"Josh Quinlan\", \"Trey Waters\")\n",
    "gamesSim(10000)\n",
    "#trey decision\n",
    "#all wrong "
   ]
  },
  {
   "cell_type": "markdown",
   "metadata": {},
   "source": [
    "### Martin Buday vs Jake Collier"
   ]
  },
  {
   "cell_type": "code",
   "execution_count": 200,
   "metadata": {},
   "outputs": [
    {
     "name": "stdout",
     "output_type": "stream",
     "text": [
      "Martin Buday Decision Win  53.96 %\n",
      "Martin Buday KO Win  34.07 %\n",
      "Martin Buday Submission Win  0.04 %\n",
      "Jake Collier Decision Win  8.23 %\n",
      "Jake Collier KO Win  1.77 %\n",
      "Jake Collier Submission Win  1.93 %\n"
     ]
    }
   ],
   "source": [
    "matchup_df = get_fighter_parameters(\"Martin Buday\", \"Jake Collier\")\n",
    "gamesSim(10000)\n",
    "#martin decision\n",
    "#all correct"
   ]
  },
  {
   "cell_type": "markdown",
   "metadata": {},
   "source": [
    "### Cody Durden vs Charles Johnson"
   ]
  },
  {
   "cell_type": "code",
   "execution_count": 201,
   "metadata": {},
   "outputs": [
    {
     "name": "stdout",
     "output_type": "stream",
     "text": [
      "Cody Durden Decision Win  58.8 %\n",
      "Cody Durden KO Win  6.99 %\n",
      "Cody Durden Submission Win  0.06 %\n",
      "Charles Johnson Decision Win  8.47 %\n",
      "Charles Johnson KO Win  9.11 %\n",
      "Charles Johnson Submission Win  16.57 %\n"
     ]
    }
   ],
   "source": [
    "matchup_df = get_fighter_parameters(\"Cody Durden\", \"Charles Johnson\")\n",
    "gamesSim(10000)\n",
    "#cody decision\n",
    "#all correct"
   ]
  },
  {
   "cell_type": "code",
   "execution_count": 202,
   "metadata": {},
   "outputs": [],
   "source": [
    "#3/7 perfect\n",
    "#4/7 if 2nd highest outcome is accepted\n",
    "#5/7 winner correct"
   ]
  },
  {
   "cell_type": "markdown",
   "metadata": {},
   "source": [
    "### Stephanie Egger vs Irina Alekseeva - N/A (Irina Alekseeva first fight recorded on fightmetric)"
   ]
  },
  {
   "cell_type": "markdown",
   "metadata": {},
   "source": [
    "### Journey Newson vs Marcus McGhee - N/A (Marcus McGhee first fight recorded on fightmetric)"
   ]
  },
  {
   "cell_type": "markdown",
   "metadata": {},
   "source": [
    "### Hailey Cowan vs Jamey-Lyn Horth - N/A (Jamey-Lyn Horth first fight recorded on fightmetric)"
   ]
  },
  {
   "cell_type": "markdown",
   "metadata": {},
   "source": [
    "## Predictions on UFC 288: Sterling vs. Cejudo"
   ]
  },
  {
   "cell_type": "markdown",
   "metadata": {},
   "source": [
    "### Aljamain Sterling vs Henry Cejudo"
   ]
  },
  {
   "cell_type": "code",
   "execution_count": 203,
   "metadata": {},
   "outputs": [
    {
     "name": "stdout",
     "output_type": "stream",
     "text": [
      "Aljamain Sterling Decision Win  27.77 %\n",
      "Aljamain Sterling KO Win  7.9 %\n",
      "Aljamain Sterling Submission Win  9.12 %\n",
      "Henry Cejudo Decision Win  35.88 %\n",
      "Henry Cejudo KO Win  19.31 %\n",
      "Henry Cejudo Submission Win  0.02 %\n"
     ]
    }
   ],
   "source": [
    "matchup_df = get_fighter_parameters(\"Aljamain Sterling\", \"Henry Cejudo\")\n",
    "gamesSim(10000)"
   ]
  },
  {
   "cell_type": "markdown",
   "metadata": {},
   "source": [
    "### Belal Muhammad vs Gilbert Burns"
   ]
  },
  {
   "cell_type": "code",
   "execution_count": 204,
   "metadata": {},
   "outputs": [
    {
     "name": "stdout",
     "output_type": "stream",
     "text": [
      "Belal Muhammad Decision Win  48.66 %\n",
      "Belal Muhammad KO Win  8.81 %\n",
      "Belal Muhammad Submission Win  0.89 %\n",
      "Gilbert Burns Decision Win  24.92 %\n",
      "Gilbert Burns KO Win  8.06 %\n",
      "Gilbert Burns Submission Win  8.66 %\n"
     ]
    }
   ],
   "source": [
    "matchup_df = get_fighter_parameters(\"Belal Muhammad\", \"Gilbert Burns\")\n",
    "gamesSim(10000)"
   ]
  },
  {
   "cell_type": "markdown",
   "metadata": {},
   "source": [
    "### Jessica Andrade vs Yan Xiaonan"
   ]
  },
  {
   "cell_type": "code",
   "execution_count": 205,
   "metadata": {},
   "outputs": [
    {
     "name": "stdout",
     "output_type": "stream",
     "text": [
      "Jessica Andrade Decision Win  19.93 %\n",
      "Jessica Andrade KO Win  13.78 %\n",
      "Jessica Andrade Submission Win  3.05 %\n",
      "Yan Xiaonan Decision Win  57.3 %\n",
      "Yan Xiaonan KO Win  2.69 %\n",
      "Yan Xiaonan Submission Win  3.25 %\n"
     ]
    }
   ],
   "source": [
    "matchup_df = get_fighter_parameters(\"Jessica Andrade\", \"Yan Xiaonan\")\n",
    "gamesSim(10000)"
   ]
  },
  {
   "cell_type": "markdown",
   "metadata": {},
   "source": [
    "### Movsar Evloev vs Bryce Mitchell"
   ]
  },
  {
   "cell_type": "code",
   "execution_count": 206,
   "metadata": {},
   "outputs": [
    {
     "name": "stdout",
     "output_type": "stream",
     "text": [
      "Movsar Evloev Decision Win  72.68 %\n",
      "Movsar Evloev KO Win  0.0 %\n",
      "Movsar Evloev Submission Win  0.67 %\n",
      "Bryce Mitchell Decision Win  26.11 %\n",
      "Bryce Mitchell KO Win  0.0 %\n",
      "Bryce Mitchell Submission Win  0.54 %\n"
     ]
    }
   ],
   "source": [
    "matchup_df = get_fighter_parameters(\"Movsar Evloev\", \"Bryce Mitchell\")\n",
    "gamesSim(10000)"
   ]
  },
  {
   "cell_type": "markdown",
   "metadata": {},
   "source": [
    "### Kron Gracie vs Charles Jourdain"
   ]
  },
  {
   "cell_type": "code",
   "execution_count": 207,
   "metadata": {},
   "outputs": [
    {
     "name": "stdout",
     "output_type": "stream",
     "text": [
      "Kron Gracie Decision Win  20.56 %\n",
      "Kron Gracie KO Win  0.11 %\n",
      "Kron Gracie Submission Win  34.95 %\n",
      "Charles Jourdain Decision Win  33.71 %\n",
      "Charles Jourdain KO Win  7.98 %\n",
      "Charles Jourdain Submission Win  2.69 %\n"
     ]
    }
   ],
   "source": [
    "matchup_df = get_fighter_parameters(\"Kron Gracie\", \"Charles Jourdain\")\n",
    "gamesSim(10000)"
   ]
  },
  {
   "cell_type": "markdown",
   "metadata": {},
   "source": [
    "### Drew Dober vs Matt Frevola"
   ]
  },
  {
   "cell_type": "code",
   "execution_count": 208,
   "metadata": {},
   "outputs": [
    {
     "name": "stdout",
     "output_type": "stream",
     "text": [
      "Drew Dober Decision Win  11.97 %\n",
      "Drew Dober KO Win  42.98 %\n",
      "Drew Dober Submission Win  0.88 %\n",
      "Matt Frevola Decision Win  19.7 %\n",
      "Matt Frevola KO Win  9.47 %\n",
      "Matt Frevola Submission Win  15.0 %\n"
     ]
    }
   ],
   "source": [
    "matchup_df = get_fighter_parameters(\"Drew Dober\", \"Matt Frevola\")\n",
    "gamesSim(10000)"
   ]
  },
  {
   "cell_type": "markdown",
   "metadata": {},
   "source": [
    "### Kennedy Nzechukwu vs Devin Clark"
   ]
  },
  {
   "cell_type": "code",
   "execution_count": 209,
   "metadata": {},
   "outputs": [
    {
     "name": "stdout",
     "output_type": "stream",
     "text": [
      "Kennedy Nzechukwu Decision Win  10.98 %\n",
      "Kennedy Nzechukwu KO Win  42.91 %\n",
      "Kennedy Nzechukwu Submission Win  6.71 %\n",
      "Devin Clark Decision Win  31.46 %\n",
      "Devin Clark KO Win  5.87 %\n",
      "Devin Clark Submission Win  2.07 %\n"
     ]
    }
   ],
   "source": [
    "matchup_df = get_fighter_parameters(\"Kennedy Nzechukwu\", \"Devin Clark\")\n",
    "gamesSim(10000)"
   ]
  },
  {
   "cell_type": "markdown",
   "metadata": {},
   "source": [
    "### Khaos Williams vs Rolando Bedoya - N/A (Rolando Bedoya first fight recorded on fightmetric)"
   ]
  },
  {
   "cell_type": "markdown",
   "metadata": {},
   "source": [
    "### Marina Rodriguez vs Virna Jandiroba"
   ]
  },
  {
   "cell_type": "code",
   "execution_count": 210,
   "metadata": {},
   "outputs": [
    {
     "name": "stdout",
     "output_type": "stream",
     "text": [
      "Marina Rodriguez Decision Win  63.64 %\n",
      "Marina Rodriguez KO Win  6.94 %\n",
      "Marina Rodriguez Submission Win  0.08 %\n",
      "Virna Jandiroba Decision Win  9.76 %\n",
      "Virna Jandiroba KO Win  9.53 %\n",
      "Virna Jandiroba Submission Win  10.05 %\n"
     ]
    }
   ],
   "source": [
    "matchup_df = get_fighter_parameters(\"Marina Rodriguez\", \"Virna Jandiroba\")\n",
    "gamesSim(10000)"
   ]
  },
  {
   "cell_type": "markdown",
   "metadata": {},
   "source": [
    "### Braxton Smith vs Parker Porter - N/A (Braxton Smith first fight recorded on fightmetric)"
   ]
  },
  {
   "cell_type": "markdown",
   "metadata": {},
   "source": [
    "### Phil Hawes vs Ikram Aliskerov"
   ]
  },
  {
   "cell_type": "code",
   "execution_count": 211,
   "metadata": {},
   "outputs": [
    {
     "name": "stdout",
     "output_type": "stream",
     "text": [
      "Phil Hawes Decision Win  3.49 %\n",
      "Phil Hawes KO Win  9.04 %\n",
      "Phil Hawes Submission Win  0.0 %\n",
      "Ikram Aliskerov Decision Win  0.0 %\n",
      "Ikram Aliskerov KO Win  8.77 %\n",
      "Ikram Aliskerov Submission Win  78.7 %\n"
     ]
    }
   ],
   "source": [
    "matchup_df = get_fighter_parameters(\"Phil Hawes\", \"Ikram Aliskerov\")\n",
    "gamesSim(10000)"
   ]
  },
  {
   "cell_type": "markdown",
   "metadata": {},
   "source": [
    "### Rafael Estevam vs Zhalgas Zhumagulov"
   ]
  },
  {
   "cell_type": "code",
   "execution_count": 212,
   "metadata": {},
   "outputs": [
    {
     "name": "stdout",
     "output_type": "stream",
     "text": [
      "Rafael Estevam Decision Win  20.79 %\n",
      "Rafael Estevam KO Win  77.6 %\n",
      "Rafael Estevam Submission Win  0.01 %\n",
      "Zhalgas Zhumagulov Decision Win  0.0 %\n",
      "Zhalgas Zhumagulov KO Win  0.0 %\n",
      "Zhalgas Zhumagulov Submission Win  1.6 %\n"
     ]
    }
   ],
   "source": [
    "matchup_df = get_fighter_parameters(\"Rafael Estevam\", \"Zhalgas Zhumagulov\")\n",
    "gamesSim(10000)"
   ]
  },
  {
   "cell_type": "markdown",
   "metadata": {},
   "source": [
    "### Joseph Holmes vs Claudio Ribeiro"
   ]
  },
  {
   "cell_type": "code",
   "execution_count": 213,
   "metadata": {},
   "outputs": [
    {
     "name": "stdout",
     "output_type": "stream",
     "text": [
      "Joseph Holmes Decision Win  0.07 %\n",
      "Joseph Holmes KO Win  26.93 %\n",
      "Joseph Holmes Submission Win  26.24 %\n",
      "Claudio Ribeiro Decision Win  10.14 %\n",
      "Claudio Ribeiro KO Win  26.25 %\n",
      "Claudio Ribeiro Submission Win  10.37 %\n"
     ]
    }
   ],
   "source": [
    "matchup_df = get_fighter_parameters(\"Joseph Holmes\", \"Claudio Ribeiro\")\n",
    "gamesSim(10000)"
   ]
  },
  {
   "cell_type": "markdown",
   "metadata": {},
   "source": [
    "### Daniel Santos vs Johnny Munoz"
   ]
  },
  {
   "cell_type": "code",
   "execution_count": 214,
   "metadata": {},
   "outputs": [
    {
     "name": "stdout",
     "output_type": "stream",
     "text": [
      "Daniel Santos Decision Win  8.04 %\n",
      "Daniel Santos KO Win  41.84 %\n",
      "Daniel Santos Submission Win  0.11 %\n",
      "Johnny Munoz Decision Win  41.41 %\n",
      "Johnny Munoz KO Win  0.0 %\n",
      "Johnny Munoz Submission Win  8.6 %\n"
     ]
    }
   ],
   "source": [
    "matchup_df = get_fighter_parameters(\"Daniel Santos\", \"Johnny Munoz\")\n",
    "gamesSim(10000)"
   ]
  }
 ],
 "metadata": {
  "kernelspec": {
   "display_name": "Python 3",
   "language": "python",
   "name": "python3"
  },
  "language_info": {
   "codemirror_mode": {
    "name": "ipython",
    "version": 3
   },
   "file_extension": ".py",
   "mimetype": "text/x-python",
   "name": "python",
   "nbconvert_exporter": "python",
   "pygments_lexer": "ipython3",
   "version": "3.8.3"
  }
 },
 "nbformat": 4,
 "nbformat_minor": 4
}
