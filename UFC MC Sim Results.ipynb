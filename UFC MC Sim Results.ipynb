{
 "cells": [
  {
   "cell_type": "code",
   "execution_count": 310,
   "metadata": {},
   "outputs": [],
   "source": [
    "from UFC_MC_Simulator import *"
   ]
  },
  {
   "cell_type": "markdown",
   "metadata": {},
   "source": [
    "## Predictions on UFC Fight Night: Pavlovich vs Blaydes"
   ]
  },
  {
   "cell_type": "markdown",
   "metadata": {},
   "source": [
    "### Sergei Pavlovich vs Curtis Blaydes"
   ]
  },
  {
   "cell_type": "code",
   "execution_count": 278,
   "metadata": {
    "scrolled": true
   },
   "outputs": [
    {
     "name": "stdout",
     "output_type": "stream",
     "text": [
      "╒══════════════════╤══════════════╤═══════════════╕\n",
      "│ Fighter          │ Win Method   │ Probability   │\n",
      "╞══════════════════╪══════════════╪═══════════════╡\n",
      "│ Sergei Pavlovich │ Decision     │ 0.0%          │\n",
      "├──────────────────┼──────────────┼───────────────┤\n",
      "│ Sergei Pavlovich │ KO           │ 92.92%        │\n",
      "├──────────────────┼──────────────┼───────────────┤\n",
      "│ Sergei Pavlovich │ Submission   │ 0.0%          │\n",
      "├──────────────────┼──────────────┼───────────────┤\n",
      "│ Curtis Blaydes   │ Decision     │ 0.04%         │\n",
      "├──────────────────┼──────────────┼───────────────┤\n",
      "│ Curtis Blaydes   │ KO           │ 7.04%         │\n",
      "├──────────────────┼──────────────┼───────────────┤\n",
      "│ Curtis Blaydes   │ Submission   │ 0.0%          │\n",
      "╘══════════════════╧══════════════╧═══════════════╛\n"
     ]
    }
   ],
   "source": [
    "matchup_df = get_fighter_parameters(\"Sergei Pavlovich\", \"Curtis Blaydes\")\n",
    "gamesSim(matchup_df, 10000)"
   ]
  },
  {
   "cell_type": "markdown",
   "metadata": {},
   "source": [
    "Actual Outcome: Sergei Pavlovich KO\n",
    "\n",
    "Score: Perfect"
   ]
  },
  {
   "cell_type": "markdown",
   "metadata": {},
   "source": [
    "### Brad Tavares vs Bruno Silva"
   ]
  },
  {
   "cell_type": "code",
   "execution_count": 279,
   "metadata": {
    "scrolled": false
   },
   "outputs": [
    {
     "name": "stdout",
     "output_type": "stream",
     "text": [
      "╒══════════════════════╤══════════════╤═══════════════╕\n",
      "│ Fighter              │ Win Method   │ Probability   │\n",
      "╞══════════════════════╪══════════════╪═══════════════╡\n",
      "│ Brad Tavares         │ Decision     │ 53.53%        │\n",
      "├──────────────────────┼──────────────┼───────────────┤\n",
      "│ Brad Tavares         │ KO           │ 0.0%          │\n",
      "├──────────────────────┼──────────────┼───────────────┤\n",
      "│ Brad Tavares         │ Submission   │ 0.27%         │\n",
      "├──────────────────────┼──────────────┼───────────────┤\n",
      "│ Bruno Blindado Silva │ Decision     │ 0.01%         │\n",
      "├──────────────────────┼──────────────┼───────────────┤\n",
      "│ Bruno Blindado Silva │ KO           │ 46.19%        │\n",
      "├──────────────────────┼──────────────┼───────────────┤\n",
      "│ Bruno Blindado Silva │ Submission   │ 0.0%          │\n",
      "╘══════════════════════╧══════════════╧═══════════════╛\n"
     ]
    }
   ],
   "source": [
    "matchup_df = get_fighter_parameters(\"Brad Tavares\", \"Bruno Blindado Silva\")\n",
    "gamesSim(matchup_df, 10000)"
   ]
  },
  {
   "cell_type": "markdown",
   "metadata": {},
   "source": [
    "Actual Outcome: Bruno Blindado Silva KO\n",
    "    \n",
    "Score: Winner incorrect, 2nd option correct"
   ]
  },
  {
   "cell_type": "markdown",
   "metadata": {},
   "source": [
    "### Bobby Green vs Jared Gordon - No Contest"
   ]
  },
  {
   "cell_type": "code",
   "execution_count": 280,
   "metadata": {},
   "outputs": [],
   "source": [
    "#matchup_df = get_fighter_parameters(\"Bobby Green\", \"Jared Gordon\")\n",
    "#gamesSim(10000)"
   ]
  },
  {
   "cell_type": "markdown",
   "metadata": {},
   "source": [
    "### Iasmin Lucindo vs Brogan Walker"
   ]
  },
  {
   "cell_type": "code",
   "execution_count": 281,
   "metadata": {},
   "outputs": [
    {
     "name": "stdout",
     "output_type": "stream",
     "text": [
      "╒════════════════╤══════════════╤═══════════════╕\n",
      "│ Fighter        │ Win Method   │ Probability   │\n",
      "╞════════════════╪══════════════╪═══════════════╡\n",
      "│ Iasmin Lucindo │ Decision     │ 0.0%          │\n",
      "├────────────────┼──────────────┼───────────────┤\n",
      "│ Iasmin Lucindo │ KO           │ 100.0%        │\n",
      "├────────────────┼──────────────┼───────────────┤\n",
      "│ Iasmin Lucindo │ Submission   │ 0.0%          │\n",
      "├────────────────┼──────────────┼───────────────┤\n",
      "│ Brogan Walker  │ Decision     │ 0.0%          │\n",
      "├────────────────┼──────────────┼───────────────┤\n",
      "│ Brogan Walker  │ KO           │ 0.0%          │\n",
      "├────────────────┼──────────────┼───────────────┤\n",
      "│ Brogan Walker  │ Submission   │ 0.0%          │\n",
      "╘════════════════╧══════════════╧═══════════════╛\n"
     ]
    }
   ],
   "source": [
    "matchup_df = get_fighter_parameters(\"Iasmin Lucindo\", \"Brogan Walker\")\n",
    "gamesSim(matchup_df, 10000)"
   ]
  },
  {
   "cell_type": "markdown",
   "metadata": {},
   "source": [
    "Actual Outcome: Iasmin Lucindo Decision\n",
    "\n",
    "Score: Winner correct, method wrong"
   ]
  },
  {
   "cell_type": "markdown",
   "metadata": {},
   "source": [
    "### Jeremiah Wells vs Matthew Semelsberger"
   ]
  },
  {
   "cell_type": "code",
   "execution_count": 282,
   "metadata": {},
   "outputs": [
    {
     "name": "stdout",
     "output_type": "stream",
     "text": [
      "╒══════════════════════╤══════════════╤═══════════════╕\n",
      "│ Fighter              │ Win Method   │ Probability   │\n",
      "╞══════════════════════╪══════════════╪═══════════════╡\n",
      "│ Jeremiah Wells       │ Decision     │ 3.68%         │\n",
      "├──────────────────────┼──────────────┼───────────────┤\n",
      "│ Jeremiah Wells       │ KO           │ 63.77%        │\n",
      "├──────────────────────┼──────────────┼───────────────┤\n",
      "│ Jeremiah Wells       │ Submission   │ 13.49%        │\n",
      "├──────────────────────┼──────────────┼───────────────┤\n",
      "│ Matthew Semelsberger │ Decision     │ 14.92%        │\n",
      "├──────────────────────┼──────────────┼───────────────┤\n",
      "│ Matthew Semelsberger │ KO           │ 4.14%         │\n",
      "├──────────────────────┼──────────────┼───────────────┤\n",
      "│ Matthew Semelsberger │ Submission   │ 0.0%          │\n",
      "╘══════════════════════╧══════════════╧═══════════════╛\n"
     ]
    }
   ],
   "source": [
    "matchup_df = get_fighter_parameters(\"Jeremiah Wells\", \"Matthew Semelsberger\")\n",
    "gamesSim(matchup_df, 10000)"
   ]
  },
  {
   "cell_type": "markdown",
   "metadata": {},
   "source": [
    "Actual Outcome: Jeremiah Wells Decision\n",
    "\n",
    "Score: Winner correct, method wrong"
   ]
  },
  {
   "cell_type": "markdown",
   "metadata": {},
   "source": [
    "### Rick Glenn vs Christos Giagos"
   ]
  },
  {
   "cell_type": "code",
   "execution_count": 283,
   "metadata": {},
   "outputs": [
    {
     "name": "stdout",
     "output_type": "stream",
     "text": [
      "╒═════════════════╤══════════════╤═══════════════╕\n",
      "│ Fighter         │ Win Method   │ Probability   │\n",
      "╞═════════════════╪══════════════╪═══════════════╡\n",
      "│ Ricky Glenn     │ Decision     │ 37.63%        │\n",
      "├─────────────────┼──────────────┼───────────────┤\n",
      "│ Ricky Glenn     │ KO           │ 0.99%         │\n",
      "├─────────────────┼──────────────┼───────────────┤\n",
      "│ Ricky Glenn     │ Submission   │ 1.07%         │\n",
      "├─────────────────┼──────────────┼───────────────┤\n",
      "│ Christos Giagos │ Decision     │ 60.16%        │\n",
      "├─────────────────┼──────────────┼───────────────┤\n",
      "│ Christos Giagos │ KO           │ 0.0%          │\n",
      "├─────────────────┼──────────────┼───────────────┤\n",
      "│ Christos Giagos │ Submission   │ 0.15%         │\n",
      "╘═════════════════╧══════════════╧═══════════════╛\n"
     ]
    }
   ],
   "source": [
    "matchup_df = get_fighter_parameters(\"Ricky Glenn\", \"Christos Giagos\")\n",
    "gamesSim(matchup_df, 10000)"
   ]
  },
  {
   "cell_type": "markdown",
   "metadata": {},
   "source": [
    "Actual Outcome: Christos Giagos KO\n",
    "\n",
    "Score: Winner correct, method wrong"
   ]
  },
  {
   "cell_type": "markdown",
   "metadata": {},
   "source": [
    "### Rani Yahya vs Montel Jackson"
   ]
  },
  {
   "cell_type": "code",
   "execution_count": 284,
   "metadata": {},
   "outputs": [
    {
     "name": "stdout",
     "output_type": "stream",
     "text": [
      "╒════════════════╤══════════════╤═══════════════╕\n",
      "│ Fighter        │ Win Method   │ Probability   │\n",
      "╞════════════════╪══════════════╪═══════════════╡\n",
      "│ Rani Yahya     │ Decision     │ 15.9%         │\n",
      "├────────────────┼──────────────┼───────────────┤\n",
      "│ Rani Yahya     │ KO           │ 0.0%          │\n",
      "├────────────────┼──────────────┼───────────────┤\n",
      "│ Rani Yahya     │ Submission   │ 7.86%         │\n",
      "├────────────────┼──────────────┼───────────────┤\n",
      "│ Montel Jackson │ Decision     │ 75.2%         │\n",
      "├────────────────┼──────────────┼───────────────┤\n",
      "│ Montel Jackson │ KO           │ 1.04%         │\n",
      "├────────────────┼──────────────┼───────────────┤\n",
      "│ Montel Jackson │ Submission   │ 0.0%          │\n",
      "╘════════════════╧══════════════╧═══════════════╛\n"
     ]
    }
   ],
   "source": [
    "matchup_df = get_fighter_parameters(\"Rani Yahya\", \"Montel Jackson\")\n",
    "gamesSim(matchup_df, 10000)"
   ]
  },
  {
   "cell_type": "markdown",
   "metadata": {},
   "source": [
    "Actual Outcome: Montel Jackson KO \n",
    "\n",
    "Score: Winner correct, method wrong"
   ]
  },
  {
   "cell_type": "markdown",
   "metadata": {},
   "source": [
    "### Karol Rosa vs Norma Dumont"
   ]
  },
  {
   "cell_type": "code",
   "execution_count": 285,
   "metadata": {},
   "outputs": [
    {
     "name": "stdout",
     "output_type": "stream",
     "text": [
      "╒══════════════╤══════════════╤═══════════════╕\n",
      "│ Fighter      │ Win Method   │ Probability   │\n",
      "╞══════════════╪══════════════╪═══════════════╡\n",
      "│ Karol Rosa   │ Decision     │ 69.48%        │\n",
      "├──────────────┼──────────────┼───────────────┤\n",
      "│ Karol Rosa   │ KO           │ 0.01%         │\n",
      "├──────────────┼──────────────┼───────────────┤\n",
      "│ Karol Rosa   │ Submission   │ 0.0%          │\n",
      "├──────────────┼──────────────┼───────────────┤\n",
      "│ Norma Dumont │ Decision     │ 30.51%        │\n",
      "├──────────────┼──────────────┼───────────────┤\n",
      "│ Norma Dumont │ KO           │ 0.0%          │\n",
      "├──────────────┼──────────────┼───────────────┤\n",
      "│ Norma Dumont │ Submission   │ 0.0%          │\n",
      "╘══════════════╧══════════════╧═══════════════╛\n"
     ]
    }
   ],
   "source": [
    "matchup_df = get_fighter_parameters(\"Karol Rosa\", \"Norma Dumont\")\n",
    "gamesSim(matchup_df, 10000)"
   ]
  },
  {
   "cell_type": "markdown",
   "metadata": {},
   "source": [
    "Actual Outcome: Norma Dumont Decision\n",
    "\n",
    "Score: Winner incorrect, 2nd option correct"
   ]
  },
  {
   "cell_type": "markdown",
   "metadata": {},
   "source": [
    "### Mohammed Usman vs Junior Tafa - N/A (Junior Tafa's first fight recorded on fightmetric)"
   ]
  },
  {
   "cell_type": "markdown",
   "metadata": {},
   "source": [
    "### Francis Marshall vs William Gomis"
   ]
  },
  {
   "cell_type": "code",
   "execution_count": 286,
   "metadata": {},
   "outputs": [
    {
     "name": "stdout",
     "output_type": "stream",
     "text": [
      "╒══════════════════╤══════════════╤═══════════════╕\n",
      "│ Fighter          │ Win Method   │ Probability   │\n",
      "╞══════════════════╪══════════════╪═══════════════╡\n",
      "│ Francis Marshall │ Decision     │ 7.42%         │\n",
      "├──────────────────┼──────────────┼───────────────┤\n",
      "│ Francis Marshall │ KO           │ 8.01%         │\n",
      "├──────────────────┼──────────────┼───────────────┤\n",
      "│ Francis Marshall │ Submission   │ 0.0%          │\n",
      "├──────────────────┼──────────────┼───────────────┤\n",
      "│ William Gomis    │ Decision     │ 84.57%        │\n",
      "├──────────────────┼──────────────┼───────────────┤\n",
      "│ William Gomis    │ KO           │ 0.0%          │\n",
      "├──────────────────┼──────────────┼───────────────┤\n",
      "│ William Gomis    │ Submission   │ 0.0%          │\n",
      "╘══════════════════╧══════════════╧═══════════════╛\n"
     ]
    }
   ],
   "source": [
    "matchup_df = get_fighter_parameters(\"Francis Marshall\", \"William Gomis\")\n",
    "gamesSim(matchup_df, 10000)"
   ]
  },
  {
   "cell_type": "markdown",
   "metadata": {},
   "source": [
    "Actual Outcome: William Gomis Decision\n",
    "\n",
    "Score: Perfect"
   ]
  },
  {
   "cell_type": "markdown",
   "metadata": {},
   "source": [
    "### Brady Hiestand vs Batgerel Danaa"
   ]
  },
  {
   "cell_type": "code",
   "execution_count": 287,
   "metadata": {},
   "outputs": [
    {
     "name": "stdout",
     "output_type": "stream",
     "text": [
      "╒════════════════╤══════════════╤═══════════════╕\n",
      "│ Fighter        │ Win Method   │ Probability   │\n",
      "╞════════════════╪══════════════╪═══════════════╡\n",
      "│ Brady Hiestand │ Decision     │ 65.25%        │\n",
      "├────────────────┼──────────────┼───────────────┤\n",
      "│ Brady Hiestand │ KO           │ 0.26%         │\n",
      "├────────────────┼──────────────┼───────────────┤\n",
      "│ Brady Hiestand │ Submission   │ 0.0%          │\n",
      "├────────────────┼──────────────┼───────────────┤\n",
      "│ Batgerel Danaa │ Decision     │ 20.06%        │\n",
      "├────────────────┼──────────────┼───────────────┤\n",
      "│ Batgerel Danaa │ KO           │ 14.43%        │\n",
      "├────────────────┼──────────────┼───────────────┤\n",
      "│ Batgerel Danaa │ Submission   │ 0.0%          │\n",
      "╘════════════════╧══════════════╧═══════════════╛\n"
     ]
    }
   ],
   "source": [
    "matchup_df = get_fighter_parameters(\"Brady Hiestand\", \"Batgerel Danaa\")\n",
    "gamesSim(matchup_df, 10000)"
   ]
  },
  {
   "cell_type": "markdown",
   "metadata": {},
   "source": [
    "Actual Outcome: Brady Danaa KO\n",
    "\n",
    "Score: Winner correct, method wrong"
   ]
  },
  {
   "cell_type": "markdown",
   "metadata": {},
   "source": [
    "### Final prediction scores for UFC Fight Night: Pavlovich vs Blaydes\n",
    "\n",
    "Perfect: 2/9 \n",
    "\n",
    "If 2nd outcome is accepted: 4/9 \n",
    "\n",
    "Winner Only: 7/9 "
   ]
  },
  {
   "cell_type": "markdown",
   "metadata": {},
   "source": [
    "## Predictions on UFC Fight Night: Song vs Simón"
   ]
  },
  {
   "cell_type": "markdown",
   "metadata": {},
   "source": [
    "### Song Yadong vs Ricky Simón"
   ]
  },
  {
   "cell_type": "code",
   "execution_count": 289,
   "metadata": {},
   "outputs": [
    {
     "name": "stdout",
     "output_type": "stream",
     "text": [
      "╒═════════════╤══════════════╤═══════════════╕\n",
      "│ Fighter     │ Win Method   │ Probability   │\n",
      "╞═════════════╪══════════════╪═══════════════╡\n",
      "│ Song Yadong │ Decision     │ 13.85%        │\n",
      "├─────────────┼──────────────┼───────────────┤\n",
      "│ Song Yadong │ KO           │ 32.73%        │\n",
      "├─────────────┼──────────────┼───────────────┤\n",
      "│ Song Yadong │ Submission   │ 0.03%         │\n",
      "├─────────────┼──────────────┼───────────────┤\n",
      "│ Ricky Simon │ Decision     │ 50.6%         │\n",
      "├─────────────┼──────────────┼───────────────┤\n",
      "│ Ricky Simon │ KO           │ 0.45%         │\n",
      "├─────────────┼──────────────┼───────────────┤\n",
      "│ Ricky Simon │ Submission   │ 2.34%         │\n",
      "╘═════════════╧══════════════╧═══════════════╛\n"
     ]
    }
   ],
   "source": [
    "matchup_df = get_fighter_parameters(\"Song Yadong\", \"Ricky Simon\")\n",
    "gamesSim(matchup_df, 10000) "
   ]
  },
  {
   "cell_type": "markdown",
   "metadata": {},
   "source": [
    "Actual Outcome: Song Yadong KO\n",
    "\n",
    "Score: Winner incorrect, 2nd option correct"
   ]
  },
  {
   "cell_type": "markdown",
   "metadata": {},
   "source": [
    "### Caio Borralho vs Michal Oleksiejczuk"
   ]
  },
  {
   "cell_type": "code",
   "execution_count": 290,
   "metadata": {},
   "outputs": [
    {
     "name": "stdout",
     "output_type": "stream",
     "text": [
      "╒═════════════════════╤══════════════╤═══════════════╕\n",
      "│ Fighter             │ Win Method   │ Probability   │\n",
      "╞═════════════════════╪══════════════╪═══════════════╡\n",
      "│ Caio Borralho       │ Decision     │ 91.0%         │\n",
      "├─────────────────────┼──────────────┼───────────────┤\n",
      "│ Caio Borralho       │ KO           │ 0.2%          │\n",
      "├─────────────────────┼──────────────┼───────────────┤\n",
      "│ Caio Borralho       │ Submission   │ 0.06%         │\n",
      "├─────────────────────┼──────────────┼───────────────┤\n",
      "│ Michal Oleksiejczuk │ Decision     │ 0.0%          │\n",
      "├─────────────────────┼──────────────┼───────────────┤\n",
      "│ Michal Oleksiejczuk │ KO           │ 8.74%         │\n",
      "├─────────────────────┼──────────────┼───────────────┤\n",
      "│ Michal Oleksiejczuk │ Submission   │ 0.0%          │\n",
      "╘═════════════════════╧══════════════╧═══════════════╛\n"
     ]
    }
   ],
   "source": [
    "matchup_df = get_fighter_parameters(\"Caio Borralho\", \"Michal Oleksiejczuk\")\n",
    "gamesSim(matchup_df, 10000)"
   ]
  },
  {
   "cell_type": "markdown",
   "metadata": {},
   "source": [
    "Actual Outcome: Caio Borralho Submission\n",
    "\n",
    "Score: Winner correct, method wrong"
   ]
  },
  {
   "cell_type": "markdown",
   "metadata": {},
   "source": [
    "### Rodolfo Vieira vs Cody Brundage"
   ]
  },
  {
   "cell_type": "code",
   "execution_count": 291,
   "metadata": {},
   "outputs": [
    {
     "name": "stdout",
     "output_type": "stream",
     "text": [
      "╒════════════════╤══════════════╤═══════════════╕\n",
      "│ Fighter        │ Win Method   │ Probability   │\n",
      "╞════════════════╪══════════════╪═══════════════╡\n",
      "│ Rodolfo Vieira │ Decision     │ 2.42%         │\n",
      "├────────────────┼──────────────┼───────────────┤\n",
      "│ Rodolfo Vieira │ KO           │ 17.97%        │\n",
      "├────────────────┼──────────────┼───────────────┤\n",
      "│ Rodolfo Vieira │ Submission   │ 55.38%        │\n",
      "├────────────────┼──────────────┼───────────────┤\n",
      "│ Cody Brundage  │ Decision     │ 2.01%         │\n",
      "├────────────────┼──────────────┼───────────────┤\n",
      "│ Cody Brundage  │ KO           │ 2.02%         │\n",
      "├────────────────┼──────────────┼───────────────┤\n",
      "│ Cody Brundage  │ Submission   │ 20.2%         │\n",
      "╘════════════════╧══════════════╧═══════════════╛\n"
     ]
    }
   ],
   "source": [
    "matchup_df = get_fighter_parameters(\"Rodolfo Vieira\", \"Cody Brundage\")\n",
    "gamesSim(matchup_df, 10000)"
   ]
  },
  {
   "cell_type": "markdown",
   "metadata": {},
   "source": [
    "Actual Outcome: Rodolfo Vieira Submission\n",
    "\n",
    "Score: Perfect"
   ]
  },
  {
   "cell_type": "markdown",
   "metadata": {},
   "source": [
    "### Julian Erosa vs Fernando Padilla - N/A (Fernando Padilla's first fight recorded on fightmetric)"
   ]
  },
  {
   "cell_type": "markdown",
   "metadata": {},
   "source": [
    "### Marcos Rogério de Lima vs Waldo Cortes-Acosta"
   ]
  },
  {
   "cell_type": "code",
   "execution_count": 292,
   "metadata": {},
   "outputs": [
    {
     "name": "stdout",
     "output_type": "stream",
     "text": [
      "╒════════════════════════╤══════════════╤═══════════════╕\n",
      "│ Fighter                │ Win Method   │ Probability   │\n",
      "╞════════════════════════╪══════════════╪═══════════════╡\n",
      "│ Marcos Rogerio de Lima │ Decision     │ 5.52%         │\n",
      "├────────────────────────┼──────────────┼───────────────┤\n",
      "│ Marcos Rogerio de Lima │ KO           │ 68.81%        │\n",
      "├────────────────────────┼──────────────┼───────────────┤\n",
      "│ Marcos Rogerio de Lima │ Submission   │ 0.02%         │\n",
      "├────────────────────────┼──────────────┼───────────────┤\n",
      "│ Cody Brundage          │ Decision     │ 0.02%         │\n",
      "├────────────────────────┼──────────────┼───────────────┤\n",
      "│ Cody Brundage          │ KO           │ 1.44%         │\n",
      "├────────────────────────┼──────────────┼───────────────┤\n",
      "│ Cody Brundage          │ Submission   │ 24.19%        │\n",
      "╘════════════════════════╧══════════════╧═══════════════╛\n"
     ]
    }
   ],
   "source": [
    "matchup_df = get_fighter_parameters(\"Marcos Rogerio de Lima\", \"Cody Brundage\")\n",
    "gamesSim(matchup_df, 10000)"
   ]
  },
  {
   "cell_type": "markdown",
   "metadata": {},
   "source": [
    "Actual Outcome: Marcos Rogerio de Lima Decision\n",
    "\n",
    "Score: Winner correct, method wrong"
   ]
  },
  {
   "cell_type": "markdown",
   "metadata": {},
   "source": [
    "### Josh Quinlan vs Trey Waters"
   ]
  },
  {
   "cell_type": "code",
   "execution_count": 293,
   "metadata": {},
   "outputs": [
    {
     "name": "stdout",
     "output_type": "stream",
     "text": [
      "╒══════════════╤══════════════╤═══════════════╕\n",
      "│ Fighter      │ Win Method   │ Probability   │\n",
      "╞══════════════╪══════════════╪═══════════════╡\n",
      "│ Josh Quinlan │ Decision     │ 0.0%          │\n",
      "├──────────────┼──────────────┼───────────────┤\n",
      "│ Josh Quinlan │ KO           │ 100.0%        │\n",
      "├──────────────┼──────────────┼───────────────┤\n",
      "│ Josh Quinlan │ Submission   │ 0.0%          │\n",
      "├──────────────┼──────────────┼───────────────┤\n",
      "│ Trey Waters  │ Decision     │ 0.0%          │\n",
      "├──────────────┼──────────────┼───────────────┤\n",
      "│ Trey Waters  │ KO           │ 0.0%          │\n",
      "├──────────────┼──────────────┼───────────────┤\n",
      "│ Trey Waters  │ Submission   │ 0.0%          │\n",
      "╘══════════════╧══════════════╧═══════════════╛\n"
     ]
    }
   ],
   "source": [
    "matchup_df = get_fighter_parameters(\"Josh Quinlan\", \"Trey Waters\")\n",
    "gamesSim(matchup_df, 10000)"
   ]
  },
  {
   "cell_type": "markdown",
   "metadata": {},
   "source": [
    "Actual Outcome: Trey Waters Decision\n",
    "\n",
    "Score: All incorrect "
   ]
  },
  {
   "cell_type": "markdown",
   "metadata": {},
   "source": [
    "### Martin Buday vs Jake Collier"
   ]
  },
  {
   "cell_type": "code",
   "execution_count": 294,
   "metadata": {},
   "outputs": [
    {
     "name": "stdout",
     "output_type": "stream",
     "text": [
      "╒══════════════╤══════════════╤═══════════════╕\n",
      "│ Fighter      │ Win Method   │ Probability   │\n",
      "╞══════════════╪══════════════╪═══════════════╡\n",
      "│ Martin Buday │ Decision     │ 71.28%        │\n",
      "├──────────────┼──────────────┼───────────────┤\n",
      "│ Martin Buday │ KO           │ 28.37%        │\n",
      "├──────────────┼──────────────┼───────────────┤\n",
      "│ Martin Buday │ Submission   │ 0.0%          │\n",
      "├──────────────┼──────────────┼───────────────┤\n",
      "│ Jake Collier │ Decision     │ 0.35%         │\n",
      "├──────────────┼──────────────┼───────────────┤\n",
      "│ Jake Collier │ KO           │ 0.0%          │\n",
      "├──────────────┼──────────────┼───────────────┤\n",
      "│ Jake Collier │ Submission   │ 0.0%          │\n",
      "╘══════════════╧══════════════╧═══════════════╛\n"
     ]
    }
   ],
   "source": [
    "matchup_df = get_fighter_parameters(\"Martin Buday\", \"Jake Collier\")\n",
    "gamesSim(matchup_df, 10000)"
   ]
  },
  {
   "cell_type": "markdown",
   "metadata": {},
   "source": [
    "Actual Outcome: Martin Buday Decision\n",
    "\n",
    "Score: Perfect"
   ]
  },
  {
   "cell_type": "markdown",
   "metadata": {},
   "source": [
    "### Cody Durden vs Charles Johnson"
   ]
  },
  {
   "cell_type": "code",
   "execution_count": 295,
   "metadata": {},
   "outputs": [
    {
     "name": "stdout",
     "output_type": "stream",
     "text": [
      "╒═════════════════╤══════════════╤═══════════════╕\n",
      "│ Fighter         │ Win Method   │ Probability   │\n",
      "╞═════════════════╪══════════════╪═══════════════╡\n",
      "│ Cody Durden     │ Decision     │ 85.18%        │\n",
      "├─────────────────┼──────────────┼───────────────┤\n",
      "│ Cody Durden     │ KO           │ 0.89%         │\n",
      "├─────────────────┼──────────────┼───────────────┤\n",
      "│ Cody Durden     │ Submission   │ 0.0%          │\n",
      "├─────────────────┼──────────────┼───────────────┤\n",
      "│ Charles Johnson │ Decision     │ 2.64%         │\n",
      "├─────────────────┼──────────────┼───────────────┤\n",
      "│ Charles Johnson │ KO           │ 2.9%          │\n",
      "├─────────────────┼──────────────┼───────────────┤\n",
      "│ Charles Johnson │ Submission   │ 8.39%         │\n",
      "╘═════════════════╧══════════════╧═══════════════╛\n"
     ]
    }
   ],
   "source": [
    "matchup_df = get_fighter_parameters(\"Cody Durden\", \"Charles Johnson\")\n",
    "gamesSim(matchup_df, 10000)"
   ]
  },
  {
   "cell_type": "markdown",
   "metadata": {},
   "source": [
    "Actual Outcome: Cody Durden Decision\n",
    "\n",
    "Score: Perfect"
   ]
  },
  {
   "cell_type": "markdown",
   "metadata": {},
   "source": [
    "### Final prediction scores for UFC Fight Night: Song vs Simón\n",
    "\n",
    "Perfect: 3/7 \n",
    "\n",
    "If 2nd outcome is accepted: 4/7\n",
    "\n",
    "Winner only: 5/7"
   ]
  },
  {
   "cell_type": "markdown",
   "metadata": {},
   "source": [
    "### Stephanie Egger vs Irina Alekseeva - N/A (Irina Alekseeva first fight recorded on fightmetric)"
   ]
  },
  {
   "cell_type": "markdown",
   "metadata": {},
   "source": [
    "### Journey Newson vs Marcus McGhee - N/A (Marcus McGhee first fight recorded on fightmetric)"
   ]
  },
  {
   "cell_type": "markdown",
   "metadata": {},
   "source": [
    "### Hailey Cowan vs Jamey-Lyn Horth - N/A (Jamey-Lyn Horth first fight recorded on fightmetric)"
   ]
  },
  {
   "cell_type": "markdown",
   "metadata": {},
   "source": [
    "## Predictions on UFC 288: Sterling vs. Cejudo"
   ]
  },
  {
   "cell_type": "markdown",
   "metadata": {},
   "source": [
    "### Aljamain Sterling vs Henry Cejudo"
   ]
  },
  {
   "cell_type": "code",
   "execution_count": 297,
   "metadata": {},
   "outputs": [
    {
     "name": "stdout",
     "output_type": "stream",
     "text": [
      "╒═══════════════════╤══════════════╤═══════════════╕\n",
      "│ Fighter           │ Win Method   │ Probability   │\n",
      "╞═══════════════════╪══════════════╪═══════════════╡\n",
      "│ Aljamain Sterling │ Decision     │ 28.46%        │\n",
      "├───────────────────┼──────────────┼───────────────┤\n",
      "│ Aljamain Sterling │ KO           │ 0.28%         │\n",
      "├───────────────────┼──────────────┼───────────────┤\n",
      "│ Aljamain Sterling │ Submission   │ 0.36%         │\n",
      "├───────────────────┼──────────────┼───────────────┤\n",
      "│ Henry Cejudo      │ Decision     │ 62.48%        │\n",
      "├───────────────────┼──────────────┼───────────────┤\n",
      "│ Henry Cejudo      │ KO           │ 8.42%         │\n",
      "├───────────────────┼──────────────┼───────────────┤\n",
      "│ Henry Cejudo      │ Submission   │ 0.0%          │\n",
      "╘═══════════════════╧══════════════╧═══════════════╛\n"
     ]
    }
   ],
   "source": [
    "matchup_df = get_fighter_parameters(\"Aljamain Sterling\", \"Henry Cejudo\")\n",
    "gamesSim(matchup_df, 10000)"
   ]
  },
  {
   "cell_type": "markdown",
   "metadata": {},
   "source": [
    "Actual Outcome: Aljamain Sterling Decision\n",
    "\n",
    "Score: Winner incorrect, 2nd option correct"
   ]
  },
  {
   "cell_type": "markdown",
   "metadata": {},
   "source": [
    "### Belal Muhammad vs Gilbert Burns"
   ]
  },
  {
   "cell_type": "code",
   "execution_count": 298,
   "metadata": {},
   "outputs": [
    {
     "name": "stdout",
     "output_type": "stream",
     "text": [
      "╒════════════════╤══════════════╤═══════════════╕\n",
      "│ Fighter        │ Win Method   │ Probability   │\n",
      "╞════════════════╪══════════════╪═══════════════╡\n",
      "│ Belal Muhammad │ Decision     │ 93.17%        │\n",
      "├────────────────┼──────────────┼───────────────┤\n",
      "│ Belal Muhammad │ KO           │ 0.0%          │\n",
      "├────────────────┼──────────────┼───────────────┤\n",
      "│ Belal Muhammad │ Submission   │ 0.0%          │\n",
      "├────────────────┼──────────────┼───────────────┤\n",
      "│ Gilbert Burns  │ Decision     │ 6.77%         │\n",
      "├────────────────┼──────────────┼───────────────┤\n",
      "│ Gilbert Burns  │ KO           │ 0.01%         │\n",
      "├────────────────┼──────────────┼───────────────┤\n",
      "│ Gilbert Burns  │ Submission   │ 0.05%         │\n",
      "╘════════════════╧══════════════╧═══════════════╛\n"
     ]
    }
   ],
   "source": [
    "matchup_df = get_fighter_parameters(\"Belal Muhammad\", \"Gilbert Burns\")\n",
    "gamesSim(matchup_df, 10000)"
   ]
  },
  {
   "cell_type": "markdown",
   "metadata": {},
   "source": [
    "Actual Outcome: Belal Muhammad Decision\n",
    "\n",
    "Score: Perfect"
   ]
  },
  {
   "cell_type": "markdown",
   "metadata": {},
   "source": [
    "### Jessica Andrade vs Yan Xiaonan"
   ]
  },
  {
   "cell_type": "code",
   "execution_count": 299,
   "metadata": {
    "scrolled": true
   },
   "outputs": [
    {
     "name": "stdout",
     "output_type": "stream",
     "text": [
      "╒═════════════════╤══════════════╤═══════════════╕\n",
      "│ Fighter         │ Win Method   │ Probability   │\n",
      "╞═════════════════╪══════════════╪═══════════════╡\n",
      "│ Jessica Andrade │ Decision     │ 1.34%         │\n",
      "├─────────────────┼──────────────┼───────────────┤\n",
      "│ Jessica Andrade │ KO           │ 0.35%         │\n",
      "├─────────────────┼──────────────┼───────────────┤\n",
      "│ Jessica Andrade │ Submission   │ 0.0%          │\n",
      "├─────────────────┼──────────────┼───────────────┤\n",
      "│ Yan Xiaonan     │ Decision     │ 98.31%        │\n",
      "├─────────────────┼──────────────┼───────────────┤\n",
      "│ Yan Xiaonan     │ KO           │ 0.0%          │\n",
      "├─────────────────┼──────────────┼───────────────┤\n",
      "│ Yan Xiaonan     │ Submission   │ 0.0%          │\n",
      "╘═════════════════╧══════════════╧═══════════════╛\n"
     ]
    }
   ],
   "source": [
    "matchup_df = get_fighter_parameters(\"Jessica Andrade\", \"Yan Xiaonan\")\n",
    "gamesSim(matchup_df, 10000)"
   ]
  },
  {
   "cell_type": "markdown",
   "metadata": {},
   "source": [
    "Actual Outcome: Yan Xiaonan KO\n",
    "\n",
    "Score: Winner correct, method wrong"
   ]
  },
  {
   "cell_type": "markdown",
   "metadata": {},
   "source": [
    "### Movsar Evloev vs Bryce Mitchell"
   ]
  },
  {
   "cell_type": "code",
   "execution_count": 300,
   "metadata": {},
   "outputs": [
    {
     "name": "stdout",
     "output_type": "stream",
     "text": [
      "╒════════════════╤══════════════╤═══════════════╕\n",
      "│ Fighter        │ Win Method   │ Probability   │\n",
      "╞════════════════╪══════════════╪═══════════════╡\n",
      "│ Movsar Evloev  │ Decision     │ 95.3%         │\n",
      "├────────────────┼──────────────┼───────────────┤\n",
      "│ Movsar Evloev  │ KO           │ 0.0%          │\n",
      "├────────────────┼──────────────┼───────────────┤\n",
      "│ Movsar Evloev  │ Submission   │ 0.0%          │\n",
      "├────────────────┼──────────────┼───────────────┤\n",
      "│ Bryce Mitchell │ Decision     │ 4.7%          │\n",
      "├────────────────┼──────────────┼───────────────┤\n",
      "│ Bryce Mitchell │ KO           │ 0.0%          │\n",
      "├────────────────┼──────────────┼───────────────┤\n",
      "│ Bryce Mitchell │ Submission   │ 0.0%          │\n",
      "╘════════════════╧══════════════╧═══════════════╛\n"
     ]
    }
   ],
   "source": [
    "matchup_df = get_fighter_parameters(\"Movsar Evloev\", \"Bryce Mitchell\")\n",
    "gamesSim(matchup_df, 10000)"
   ]
  },
  {
   "cell_type": "markdown",
   "metadata": {},
   "source": [
    "Actual Outcome: Movsar Evloev Decision\n",
    "\n",
    "Score: Perfect"
   ]
  },
  {
   "cell_type": "markdown",
   "metadata": {},
   "source": [
    "### Kron Gracie vs Charles Jourdain"
   ]
  },
  {
   "cell_type": "code",
   "execution_count": 313,
   "metadata": {},
   "outputs": [
    {
     "name": "stdout",
     "output_type": "stream",
     "text": [
      "╒══════════════════╤══════════════╤═══════════════╕\n",
      "│ Fighter          │ Win Method   │ Probability   │\n",
      "╞══════════════════╪══════════════╪═══════════════╡\n",
      "│ Kron Gracie      │ Decision     │ 12.72%        │\n",
      "├──────────────────┼──────────────┼───────────────┤\n",
      "│ Kron Gracie      │ KO           │ 0.0%          │\n",
      "├──────────────────┼──────────────┼───────────────┤\n",
      "│ Kron Gracie      │ Submission   │ 43.01%        │\n",
      "├──────────────────┼──────────────┼───────────────┤\n",
      "│ Charles Jourdain │ Decision     │ 43.12%        │\n",
      "├──────────────────┼──────────────┼───────────────┤\n",
      "│ Charles Jourdain │ KO           │ 1.05%         │\n",
      "├──────────────────┼──────────────┼───────────────┤\n",
      "│ Charles Jourdain │ Submission   │ 0.1%          │\n",
      "╘══════════════════╧══════════════╧═══════════════╛\n"
     ]
    }
   ],
   "source": [
    "matchup_df = get_fighter_parameters(\"Kron Gracie\", \"Charles Jourdain\")\n",
    "gamesSim(matchup_df, 10000)"
   ]
  },
  {
   "cell_type": "markdown",
   "metadata": {},
   "source": [
    "Actual Outcome: Charles Jourdain Decision\n",
    "\n",
    "Score: perfect"
   ]
  },
  {
   "cell_type": "markdown",
   "metadata": {},
   "source": [
    "### Drew Dober vs Matt Frevola"
   ]
  },
  {
   "cell_type": "code",
   "execution_count": 302,
   "metadata": {},
   "outputs": [
    {
     "name": "stdout",
     "output_type": "stream",
     "text": [
      "╒══════════════╤══════════════╤═══════════════╕\n",
      "│ Fighter      │ Win Method   │ Probability   │\n",
      "╞══════════════╪══════════════╪═══════════════╡\n",
      "│ Drew Dober   │ Decision     │ 1.91%         │\n",
      "├──────────────┼──────────────┼───────────────┤\n",
      "│ Drew Dober   │ KO           │ 82.77%        │\n",
      "├──────────────┼──────────────┼───────────────┤\n",
      "│ Drew Dober   │ Submission   │ 0.0%          │\n",
      "├──────────────┼──────────────┼───────────────┤\n",
      "│ Matt Frevola │ Decision     │ 10.21%        │\n",
      "├──────────────┼──────────────┼───────────────┤\n",
      "│ Matt Frevola │ KO           │ 1.68%         │\n",
      "├──────────────┼──────────────┼───────────────┤\n",
      "│ Matt Frevola │ Submission   │ 3.43%         │\n",
      "╘══════════════╧══════════════╧═══════════════╛\n"
     ]
    }
   ],
   "source": [
    "matchup_df = get_fighter_parameters(\"Drew Dober\", \"Matt Frevola\")\n",
    "gamesSim(matchup_df, 10000)"
   ]
  },
  {
   "cell_type": "markdown",
   "metadata": {},
   "source": [
    "Actual Outcome: Matt Frevola KO\n",
    "\n",
    "Score: All incorrect"
   ]
  },
  {
   "cell_type": "markdown",
   "metadata": {},
   "source": [
    "### Kennedy Nzechukwu vs Devin Clark"
   ]
  },
  {
   "cell_type": "code",
   "execution_count": 303,
   "metadata": {},
   "outputs": [
    {
     "name": "stdout",
     "output_type": "stream",
     "text": [
      "╒═══════════════════╤══════════════╤═══════════════╕\n",
      "│ Fighter           │ Win Method   │ Probability   │\n",
      "╞═══════════════════╪══════════════╪═══════════════╡\n",
      "│ Kennedy Nzechukwu │ Decision     │ 0.89%         │\n",
      "├───────────────────┼──────────────┼───────────────┤\n",
      "│ Kennedy Nzechukwu │ KO           │ 69.5%         │\n",
      "├───────────────────┼──────────────┼───────────────┤\n",
      "│ Kennedy Nzechukwu │ Submission   │ 0.1%          │\n",
      "├───────────────────┼──────────────┼───────────────┤\n",
      "│ Devin Clark       │ Decision     │ 29.45%        │\n",
      "├───────────────────┼──────────────┼───────────────┤\n",
      "│ Devin Clark       │ KO           │ 0.06%         │\n",
      "├───────────────────┼──────────────┼───────────────┤\n",
      "│ Devin Clark       │ Submission   │ 0.0%          │\n",
      "╘═══════════════════╧══════════════╧═══════════════╛\n"
     ]
    }
   ],
   "source": [
    "matchup_df = get_fighter_parameters(\"Kennedy Nzechukwu\", \"Devin Clark\")\n",
    "gamesSim(matchup_df, 10000)"
   ]
  },
  {
   "cell_type": "markdown",
   "metadata": {},
   "source": [
    "Actual Outcome: Kennedy Nzechukwu Submission\n",
    "\n",
    "Score: Winner correct, method wrong"
   ]
  },
  {
   "cell_type": "markdown",
   "metadata": {},
   "source": [
    "### Khaos Williams vs Rolando Bedoya - N/A (Rolando Bedoya first fight recorded on fightmetric)"
   ]
  },
  {
   "cell_type": "markdown",
   "metadata": {},
   "source": [
    "### Marina Rodriguez vs Virna Jandiroba"
   ]
  },
  {
   "cell_type": "code",
   "execution_count": 304,
   "metadata": {},
   "outputs": [
    {
     "name": "stdout",
     "output_type": "stream",
     "text": [
      "╒══════════════════╤══════════════╤═══════════════╕\n",
      "│ Fighter          │ Win Method   │ Probability   │\n",
      "╞══════════════════╪══════════════╪═══════════════╡\n",
      "│ Marina Rodriguez │ Decision     │ 98.1%         │\n",
      "├──────────────────┼──────────────┼───────────────┤\n",
      "│ Marina Rodriguez │ KO           │ 0.15%         │\n",
      "├──────────────────┼──────────────┼───────────────┤\n",
      "│ Marina Rodriguez │ Submission   │ 0.0%          │\n",
      "├──────────────────┼──────────────┼───────────────┤\n",
      "│ Virna Jandiroba  │ Decision     │ 0.46%         │\n",
      "├──────────────────┼──────────────┼───────────────┤\n",
      "│ Virna Jandiroba  │ KO           │ 0.54%         │\n",
      "├──────────────────┼──────────────┼───────────────┤\n",
      "│ Virna Jandiroba  │ Submission   │ 0.75%         │\n",
      "╘══════════════════╧══════════════╧═══════════════╛\n"
     ]
    }
   ],
   "source": [
    "matchup_df = get_fighter_parameters(\"Marina Rodriguez\", \"Virna Jandiroba\")\n",
    "gamesSim(matchup_df, 10000)"
   ]
  },
  {
   "cell_type": "markdown",
   "metadata": {},
   "source": [
    "Actual Outcome: Virna Jandiroba Decision\n",
    "\n",
    "Score: All incorrect"
   ]
  },
  {
   "cell_type": "markdown",
   "metadata": {},
   "source": [
    "### Braxton Smith vs Parker Porter - N/A (Braxton Smith first fight recorded on fightmetric)"
   ]
  },
  {
   "cell_type": "markdown",
   "metadata": {},
   "source": [
    "### Phil Hawes vs Ikram Aliskerov"
   ]
  },
  {
   "cell_type": "code",
   "execution_count": 305,
   "metadata": {},
   "outputs": [
    {
     "name": "stdout",
     "output_type": "stream",
     "text": [
      "╒═════════════════╤══════════════╤═══════════════╕\n",
      "│ Fighter         │ Win Method   │ Probability   │\n",
      "╞═════════════════╪══════════════╪═══════════════╡\n",
      "│ Phil Hawes      │ Decision     │ 0.0%          │\n",
      "├─────────────────┼──────────────┼───────────────┤\n",
      "│ Phil Hawes      │ KO           │ 0.01%         │\n",
      "├─────────────────┼──────────────┼───────────────┤\n",
      "│ Phil Hawes      │ Submission   │ 0.0%          │\n",
      "├─────────────────┼──────────────┼───────────────┤\n",
      "│ Ikram Aliskerov │ Decision     │ 0.0%          │\n",
      "├─────────────────┼──────────────┼───────────────┤\n",
      "│ Ikram Aliskerov │ KO           │ 0.01%         │\n",
      "├─────────────────┼──────────────┼───────────────┤\n",
      "│ Ikram Aliskerov │ Submission   │ 99.98%        │\n",
      "╘═════════════════╧══════════════╧═══════════════╛\n"
     ]
    }
   ],
   "source": [
    "matchup_df = get_fighter_parameters(\"Phil Hawes\", \"Ikram Aliskerov\")\n",
    "gamesSim(matchup_df, 10000)"
   ]
  },
  {
   "cell_type": "markdown",
   "metadata": {},
   "source": [
    "Actual Outcome: Ikram Aliskerov KO\n",
    "\n",
    "Score: Winner correct, method wrong"
   ]
  },
  {
   "cell_type": "markdown",
   "metadata": {},
   "source": [
    "### Rafael Estevam vs Zhalgas Zhumagulov - Cancelled"
   ]
  },
  {
   "cell_type": "markdown",
   "metadata": {},
   "source": [
    "### Joseph Holmes vs Claudio Ribeiro"
   ]
  },
  {
   "cell_type": "code",
   "execution_count": 306,
   "metadata": {},
   "outputs": [
    {
     "name": "stdout",
     "output_type": "stream",
     "text": [
      "╒═════════════════╤══════════════╤═══════════════╕\n",
      "│ Fighter         │ Win Method   │ Probability   │\n",
      "╞═════════════════╪══════════════╪═══════════════╡\n",
      "│ Joseph Holmes   │ Decision     │ 0.0%          │\n",
      "├─────────────────┼──────────────┼───────────────┤\n",
      "│ Joseph Holmes   │ KO           │ 32.23%        │\n",
      "├─────────────────┼──────────────┼───────────────┤\n",
      "│ Joseph Holmes   │ Submission   │ 26.53%        │\n",
      "├─────────────────┼──────────────┼───────────────┤\n",
      "│ Claudio Ribeiro │ Decision     │ 4.53%         │\n",
      "├─────────────────┼──────────────┼───────────────┤\n",
      "│ Claudio Ribeiro │ KO           │ 32.25%        │\n",
      "├─────────────────┼──────────────┼───────────────┤\n",
      "│ Claudio Ribeiro │ Submission   │ 4.46%         │\n",
      "╘═════════════════╧══════════════╧═══════════════╛\n"
     ]
    }
   ],
   "source": [
    "matchup_df = get_fighter_parameters(\"Joseph Holmes\", \"Claudio Ribeiro\")\n",
    "gamesSim(matchup_df, 10000)"
   ]
  },
  {
   "cell_type": "markdown",
   "metadata": {},
   "source": [
    "Actual Outcome: Claudio Ribeiro KO\n",
    "\n",
    "Score: Perfect"
   ]
  },
  {
   "cell_type": "markdown",
   "metadata": {},
   "source": [
    "### Daniel Santos vs Johnny Munoz - Cancelled"
   ]
  },
  {
   "cell_type": "markdown",
   "metadata": {},
   "source": [
    "### Final prediction scores for UFC 288: Sterling vs Cejudo\n",
    "\n",
    "Perfect: 4/10\n",
    "\n",
    "If 2nd outcome is accepted: 5/10\n",
    "\n",
    "Winner only: 7/10"
   ]
  }
 ],
 "metadata": {
  "kernelspec": {
   "display_name": "Python 3",
   "language": "python",
   "name": "python3"
  },
  "language_info": {
   "codemirror_mode": {
    "name": "ipython",
    "version": 3
   },
   "file_extension": ".py",
   "mimetype": "text/x-python",
   "name": "python",
   "nbconvert_exporter": "python",
   "pygments_lexer": "ipython3",
   "version": "3.8.3"
  }
 },
 "nbformat": 4,
 "nbformat_minor": 4
}
