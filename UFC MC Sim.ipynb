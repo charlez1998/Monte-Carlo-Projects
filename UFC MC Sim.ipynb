{
 "cells": [
  {
   "cell_type": "code",
   "execution_count": 200,
   "metadata": {},
   "outputs": [],
   "source": [
    "#get data on ways fighter won/lost through dec, won/lost through sub, won/lost through ko/tko  \n",
    "#tabulate outcomes in a table such as: Outcome, % chance, winner \n",
    "#FRONT END: give the user the ability to input two fighters (drop down menu)\n",
    "# ---- FINISHED --- \n",
    "#extra: prevent users from picking two fighters that are from different weight classes\n",
    "#--- LONG RUN --- \n",
    "# Improve model where it takes # of strikes (successful, attempted) , ground game/submissions duration, takedowns (successful, attempted)\n",
    "# into consideration "
   ]
  },
  {
   "cell_type": "code",
   "execution_count": 201,
   "metadata": {},
   "outputs": [],
   "source": [
    "#get accuracy of model by spitting data into train/test\n",
    "import pandas as pd "
   ]
  },
  {
   "cell_type": "code",
   "execution_count": 202,
   "metadata": {},
   "outputs": [],
   "source": [
    "df = pd.read_csv(\"UFC Matches April 2023.csv\", )"
   ]
  },
  {
   "cell_type": "code",
   "execution_count": 203,
   "metadata": {},
   "outputs": [
    {
     "data": {
      "text/html": [
       "<div>\n",
       "<style scoped>\n",
       "    .dataframe tbody tr th:only-of-type {\n",
       "        vertical-align: middle;\n",
       "    }\n",
       "\n",
       "    .dataframe tbody tr th {\n",
       "        vertical-align: top;\n",
       "    }\n",
       "\n",
       "    .dataframe thead th {\n",
       "        text-align: right;\n",
       "    }\n",
       "</style>\n",
       "<table border=\"1\" class=\"dataframe\">\n",
       "  <thead>\n",
       "    <tr style=\"text-align: right;\">\n",
       "      <th></th>\n",
       "      <th>Full Name</th>\n",
       "      <th>Weight</th>\n",
       "      <th>Matchup</th>\n",
       "      <th>Outcome</th>\n",
       "      <th>Method</th>\n",
       "      <th>Round</th>\n",
       "      <th>Time</th>\n",
       "    </tr>\n",
       "  </thead>\n",
       "  <tbody>\n",
       "    <tr>\n",
       "      <th>0</th>\n",
       "      <td>Tom Aaron</td>\n",
       "      <td>WEIGHT: 155 lbs.</td>\n",
       "      <td>NaN</td>\n",
       "      <td>NaN</td>\n",
       "      <td>NaN</td>\n",
       "      <td>NaN</td>\n",
       "      <td>NaN</td>\n",
       "    </tr>\n",
       "    <tr>\n",
       "      <th>1</th>\n",
       "      <td>Tom Aaron</td>\n",
       "      <td>WEIGHT: 155 lbs.</td>\n",
       "      <td>Tom Aaron\\n \\n Matt Ricehouse</td>\n",
       "      <td>LOSS</td>\n",
       "      <td>U-DEC</td>\n",
       "      <td>3.0</td>\n",
       "      <td>5:00</td>\n",
       "    </tr>\n",
       "    <tr>\n",
       "      <th>2</th>\n",
       "      <td>Tom Aaron</td>\n",
       "      <td>WEIGHT: 155 lbs.</td>\n",
       "      <td>Tom Aaron\\n \\n Eric Steenberg</td>\n",
       "      <td>WIN</td>\n",
       "      <td>SUB</td>\n",
       "      <td>1.0</td>\n",
       "      <td>0:56</td>\n",
       "    </tr>\n",
       "    <tr>\n",
       "      <th>3</th>\n",
       "      <td>Danny Abbadi</td>\n",
       "      <td>WEIGHT: 155 lbs.</td>\n",
       "      <td>NaN</td>\n",
       "      <td>NaN</td>\n",
       "      <td>NaN</td>\n",
       "      <td>NaN</td>\n",
       "      <td>NaN</td>\n",
       "    </tr>\n",
       "    <tr>\n",
       "      <th>4</th>\n",
       "      <td>Danny Abbadi</td>\n",
       "      <td>WEIGHT: 155 lbs.</td>\n",
       "      <td>Danny Abbadi\\n \\n Jorge Gurgel</td>\n",
       "      <td>LOSS</td>\n",
       "      <td>S-DEC</td>\n",
       "      <td>3.0</td>\n",
       "      <td>5:00</td>\n",
       "    </tr>\n",
       "  </tbody>\n",
       "</table>\n",
       "</div>"
      ],
      "text/plain": [
       "      Full Name            Weight                         Matchup Outcome  \\\n",
       "0     Tom Aaron  WEIGHT: 155 lbs.                             NaN     NaN   \n",
       "1     Tom Aaron  WEIGHT: 155 lbs.   Tom Aaron\\n \\n Matt Ricehouse    LOSS   \n",
       "2     Tom Aaron  WEIGHT: 155 lbs.   Tom Aaron\\n \\n Eric Steenberg     WIN   \n",
       "3  Danny Abbadi  WEIGHT: 155 lbs.                             NaN     NaN   \n",
       "4  Danny Abbadi  WEIGHT: 155 lbs.  Danny Abbadi\\n \\n Jorge Gurgel    LOSS   \n",
       "\n",
       "  Method  Round  Time  \n",
       "0    NaN    NaN   NaN  \n",
       "1  U-DEC    3.0  5:00  \n",
       "2    SUB    1.0  0:56  \n",
       "3    NaN    NaN   NaN  \n",
       "4  S-DEC    3.0  5:00  "
      ]
     },
     "execution_count": 203,
     "metadata": {},
     "output_type": "execute_result"
    }
   ],
   "source": [
    "df.head()"
   ]
  },
  {
   "cell_type": "markdown",
   "metadata": {},
   "source": [
    "## Data Cleaning"
   ]
  },
  {
   "cell_type": "markdown",
   "metadata": {},
   "source": [
    "We have to clean our dataset then group each fighter and get their distributions to determine their likelihood of winning/losing via decision, tko/ko or submission."
   ]
  },
  {
   "cell_type": "code",
   "execution_count": 204,
   "metadata": {},
   "outputs": [],
   "source": [
    "# delete first row of every fighter\n",
    "nulls = df[[\"Matchup\", \"Outcome\", 'Method', 'Round', 'Time']].isnull().all(axis=1) \n",
    "df = df.loc[~nulls, :]\n",
    "\n",
    "#find matches that are upcoming and delete them\n",
    "df = df[df[\"Outcome\"] != 'NEXT']\n",
    "\n",
    "# delete \"weight text\" in weight column\n",
    "df['Weight'] = df['Weight'].str.replace('WEIGHT: ', '')\n",
    "\n",
    "# keep only opponents name in matchup column\n",
    "def remove_name(orig_matchup):\n",
    "    last_index = orig_matchup.rfind('\\n')\n",
    "    new_string = orig_matchup[last_index +1:]\n",
    "    return new_string.strip()\n",
    "\n",
    "df['Matchup'] = df['Matchup'].apply(lambda x: remove_name(x))"
   ]
  },
  {
   "cell_type": "code",
   "execution_count": 205,
   "metadata": {},
   "outputs": [],
   "source": [
    "unique_methods = df['Method'].unique()"
   ]
  },
  {
   "cell_type": "code",
   "execution_count": 206,
   "metadata": {
    "scrolled": true
   },
   "outputs": [
    {
     "data": {
      "text/plain": [
       "array(['U-DEC', 'SUB', 'S-DEC', 'KO/TKO', 'Overturned', 'Other', 'M-DEC',\n",
       "       'CNC', 'DQ', 'SUB ', 'KO/TKO ', 'S-DEC ', 'Decision', 'U-DEC ',\n",
       "       'M-DEC ', 'Overturned ', 'CNC '], dtype=object)"
      ]
     },
     "execution_count": 206,
     "metadata": {},
     "output_type": "execute_result"
    }
   ],
   "source": [
    "unique_methods"
   ]
  },
  {
   "cell_type": "code",
   "execution_count": 207,
   "metadata": {},
   "outputs": [],
   "source": [
    "unique_outcomes = df['Outcome'].unique()"
   ]
  },
  {
   "cell_type": "code",
   "execution_count": 208,
   "metadata": {},
   "outputs": [
    {
     "data": {
      "text/plain": [
       "array(['LOSS', 'WIN', 'NC', 'DRAW'], dtype=object)"
      ]
     },
     "execution_count": 208,
     "metadata": {},
     "output_type": "execute_result"
    }
   ],
   "source": [
    "unique_outcomes"
   ]
  },
  {
   "cell_type": "code",
   "execution_count": 209,
   "metadata": {},
   "outputs": [],
   "source": [
    "removed_outcomes = ['NC', 'DRAW']\n",
    "removed_methods = ['Overturned', 'Other', 'CNC', 'DQ', 'Overturned ', 'CNC ']"
   ]
  },
  {
   "cell_type": "code",
   "execution_count": 210,
   "metadata": {},
   "outputs": [],
   "source": [
    "filtered_df1 = df.loc[~df['Method'].isin(removed_methods)]\n",
    "filtered_df2 = filtered_df1.loc[~df['Outcome'].isin(removed_outcomes)]"
   ]
  },
  {
   "cell_type": "code",
   "execution_count": 211,
   "metadata": {},
   "outputs": [
    {
     "data": {
      "text/html": [
       "<div>\n",
       "<style scoped>\n",
       "    .dataframe tbody tr th:only-of-type {\n",
       "        vertical-align: middle;\n",
       "    }\n",
       "\n",
       "    .dataframe tbody tr th {\n",
       "        vertical-align: top;\n",
       "    }\n",
       "\n",
       "    .dataframe thead th {\n",
       "        text-align: right;\n",
       "    }\n",
       "</style>\n",
       "<table border=\"1\" class=\"dataframe\">\n",
       "  <thead>\n",
       "    <tr style=\"text-align: right;\">\n",
       "      <th></th>\n",
       "      <th>Full Name</th>\n",
       "      <th>Weight</th>\n",
       "      <th>Matchup</th>\n",
       "      <th>Outcome</th>\n",
       "      <th>Method</th>\n",
       "      <th>Round</th>\n",
       "      <th>Time</th>\n",
       "    </tr>\n",
       "  </thead>\n",
       "  <tbody>\n",
       "    <tr>\n",
       "      <th>1</th>\n",
       "      <td>Tom Aaron</td>\n",
       "      <td>155 lbs.</td>\n",
       "      <td>Matt Ricehouse</td>\n",
       "      <td>LOSS</td>\n",
       "      <td>U-DEC</td>\n",
       "      <td>3.0</td>\n",
       "      <td>5:00</td>\n",
       "    </tr>\n",
       "    <tr>\n",
       "      <th>2</th>\n",
       "      <td>Tom Aaron</td>\n",
       "      <td>155 lbs.</td>\n",
       "      <td>Eric Steenberg</td>\n",
       "      <td>WIN</td>\n",
       "      <td>SUB</td>\n",
       "      <td>1.0</td>\n",
       "      <td>0:56</td>\n",
       "    </tr>\n",
       "    <tr>\n",
       "      <th>4</th>\n",
       "      <td>Danny Abbadi</td>\n",
       "      <td>155 lbs.</td>\n",
       "      <td>Jorge Gurgel</td>\n",
       "      <td>LOSS</td>\n",
       "      <td>S-DEC</td>\n",
       "      <td>3.0</td>\n",
       "      <td>5:00</td>\n",
       "    </tr>\n",
       "    <tr>\n",
       "      <th>5</th>\n",
       "      <td>Danny Abbadi</td>\n",
       "      <td>155 lbs.</td>\n",
       "      <td>Kalib Starnes</td>\n",
       "      <td>LOSS</td>\n",
       "      <td>SUB</td>\n",
       "      <td>1.0</td>\n",
       "      <td>2:56</td>\n",
       "    </tr>\n",
       "    <tr>\n",
       "      <th>7</th>\n",
       "      <td>Nariman Abbasov</td>\n",
       "      <td>155 lbs.</td>\n",
       "      <td>Ismael Bonfim</td>\n",
       "      <td>LOSS</td>\n",
       "      <td>U-DEC</td>\n",
       "      <td>3.0</td>\n",
       "      <td>5:00</td>\n",
       "    </tr>\n",
       "    <tr>\n",
       "      <th>...</th>\n",
       "      <td>...</td>\n",
       "      <td>...</td>\n",
       "      <td>...</td>\n",
       "      <td>...</td>\n",
       "      <td>...</td>\n",
       "      <td>...</td>\n",
       "      <td>...</td>\n",
       "    </tr>\n",
       "    <tr>\n",
       "      <th>22976</th>\n",
       "      <td>Alex Zuniga</td>\n",
       "      <td>145 lbs.</td>\n",
       "      <td>Bryan Caraway</td>\n",
       "      <td>LOSS</td>\n",
       "      <td>U-DEC</td>\n",
       "      <td>3.0</td>\n",
       "      <td>5:00</td>\n",
       "    </tr>\n",
       "    <tr>\n",
       "      <th>22979</th>\n",
       "      <td>Allan Zuniga</td>\n",
       "      <td>155 lbs.</td>\n",
       "      <td>John Gunther</td>\n",
       "      <td>LOSS</td>\n",
       "      <td>M-DEC</td>\n",
       "      <td>3.0</td>\n",
       "      <td>5:00</td>\n",
       "    </tr>\n",
       "    <tr>\n",
       "      <th>22981</th>\n",
       "      <td>Virgil Zwicker</td>\n",
       "      <td>205 lbs.</td>\n",
       "      <td>Guto Inocente</td>\n",
       "      <td>LOSS</td>\n",
       "      <td>U-DEC</td>\n",
       "      <td>3.0</td>\n",
       "      <td>5:00</td>\n",
       "    </tr>\n",
       "    <tr>\n",
       "      <th>22982</th>\n",
       "      <td>Virgil Zwicker</td>\n",
       "      <td>205 lbs.</td>\n",
       "      <td>Brett Albee</td>\n",
       "      <td>WIN</td>\n",
       "      <td>KO/TKO</td>\n",
       "      <td>1.0</td>\n",
       "      <td>1:46</td>\n",
       "    </tr>\n",
       "    <tr>\n",
       "      <th>22983</th>\n",
       "      <td>Virgil Zwicker</td>\n",
       "      <td>205 lbs.</td>\n",
       "      <td>Lavar Johnson</td>\n",
       "      <td>LOSS</td>\n",
       "      <td>KO/TKO</td>\n",
       "      <td>1.0</td>\n",
       "      <td>2:17</td>\n",
       "    </tr>\n",
       "  </tbody>\n",
       "</table>\n",
       "<p>18488 rows × 7 columns</p>\n",
       "</div>"
      ],
      "text/plain": [
       "             Full Name    Weight         Matchup Outcome  Method  Round  Time\n",
       "1            Tom Aaron  155 lbs.  Matt Ricehouse    LOSS   U-DEC    3.0  5:00\n",
       "2            Tom Aaron  155 lbs.  Eric Steenberg     WIN     SUB    1.0  0:56\n",
       "4         Danny Abbadi  155 lbs.    Jorge Gurgel    LOSS   S-DEC    3.0  5:00\n",
       "5         Danny Abbadi  155 lbs.   Kalib Starnes    LOSS     SUB    1.0  2:56\n",
       "7      Nariman Abbasov  155 lbs.   Ismael Bonfim    LOSS   U-DEC    3.0  5:00\n",
       "...                ...       ...             ...     ...     ...    ...   ...\n",
       "22976      Alex Zuniga  145 lbs.   Bryan Caraway    LOSS   U-DEC    3.0  5:00\n",
       "22979     Allan Zuniga  155 lbs.    John Gunther    LOSS   M-DEC    3.0  5:00\n",
       "22981   Virgil Zwicker  205 lbs.   Guto Inocente    LOSS   U-DEC    3.0  5:00\n",
       "22982   Virgil Zwicker  205 lbs.     Brett Albee     WIN  KO/TKO    1.0  1:46\n",
       "22983   Virgil Zwicker  205 lbs.   Lavar Johnson    LOSS  KO/TKO    1.0  2:17\n",
       "\n",
       "[18488 rows x 7 columns]"
      ]
     },
     "execution_count": 211,
     "metadata": {},
     "output_type": "execute_result"
    }
   ],
   "source": [
    "filtered_df2"
   ]
  },
  {
   "cell_type": "code",
   "execution_count": 212,
   "metadata": {},
   "outputs": [],
   "source": [
    "df = filtered_df2"
   ]
  },
  {
   "cell_type": "code",
   "execution_count": 213,
   "metadata": {},
   "outputs": [],
   "source": [
    "decisions = ['U-DEC', 'S-DEC', 'M-DEC', 'S-DEC ', 'U-DEC ', 'M-DEC ']\n",
    "kos = ['KO/TKO', 'KO/TKO ']\n",
    "submissions = ['SUB', 'SUB ']"
   ]
  },
  {
   "cell_type": "code",
   "execution_count": 214,
   "metadata": {},
   "outputs": [
    {
     "name": "stdout",
     "output_type": "stream",
     "text": [
      "0.4286023366508005\n",
      "0.34714409346603203\n",
      "0.223929035049762\n"
     ]
    }
   ],
   "source": [
    "decision_df = df[df['Method'].isin(decisions)]\n",
    "decision_count = decision_df['Method'].count()\n",
    "\n",
    "ko_df = df[df['Method'].isin(kos)]\n",
    "ko_count = ko_df['Method'].count()\n",
    "\n",
    "submission_df = df[df['Method'].isin(submissions)]\n",
    "submission_count = submission_df['Method'].count()\n",
    "\n",
    "print(decision_count/len(df))\n",
    "print(ko_count/len(df))\n",
    "print(submission_count/len(df))"
   ]
  },
  {
   "cell_type": "markdown",
   "metadata": {},
   "source": [
    "## Exploratory Data Analysis (EDA)"
   ]
  },
  {
   "cell_type": "code",
   "execution_count": 215,
   "metadata": {},
   "outputs": [],
   "source": [
    "#questions that could be of importance:\n",
    "#what is the most common method of winning?\n",
    "#for fighters that win through ko/submission what round does it typically occur in?\n",
    "#is there a discrepancy in the way fighters win across different weight classes?"
   ]
  },
  {
   "cell_type": "code",
   "execution_count": 216,
   "metadata": {},
   "outputs": [],
   "source": [
    "#Jan vs. Izzy:\n",
    "\n",
    "#Outcome\t% chance\tWinner\n",
    "#KO\t44.9%\tJan\n",
    "#DEC\t29.1%\tIsrael\n",
    "#DEC\t13.2%\tJan\n",
    "#KO\t9.48%\tIsrael\n",
    "#SUB\t2.9%\tIsrael\n",
    "#SUB\t.4%\tJan"
   ]
  },
  {
   "cell_type": "code",
   "execution_count": 217,
   "metadata": {},
   "outputs": [],
   "source": [
    "#name, total matches, wins, losses, wins by dec, wins by sub, wins by ko/tko, loss by dec, loss by sub, loss by ko/tko"
   ]
  },
  {
   "cell_type": "code",
   "execution_count": 218,
   "metadata": {},
   "outputs": [],
   "source": [
    "data = {\n",
    "    'Total Fights': df.groupby(['Full Name'])['Matchup'].count(),\n",
    "    'Total Wins': df.loc[df['Outcome'] == 'WIN'].groupby(['Full Name'])['Outcome'].count(),\n",
    "    'Total Losses': df.loc[df['Outcome'] == 'LOSS'].groupby(['Full Name'])['Outcome'].count(),\n",
    "    'Wins By Decision': df.loc[(df['Outcome'] == 'WIN') & (df['Method'].isin(decisions))].groupby(['Full Name'])['Outcome'].count(),\n",
    "    'Wins By KO': df.loc[(df['Outcome'] == 'WIN') & (df['Method'].isin(kos))].groupby(['Full Name'])['Outcome'].count(),\n",
    "    'Wins By Submission': df.loc[(df['Outcome'] == 'WIN') & (df['Method'].isin(submissions))].groupby(['Full Name'])['Outcome'].count(),\n",
    "    'Loss By Decision': df.loc[(df['Outcome'] == 'LOSS') & (df['Method'].isin(decisions))].groupby(['Full Name'])['Outcome'].count(),\n",
    "    'Loss By KO': df.loc[(df['Outcome'] == 'LOSS') & (df['Method'].isin(kos))].groupby(['Full Name'])['Outcome'].count(),\n",
    "    'Loss By Submission': df.loc[(df['Outcome'] == 'LOSS') & (df['Method'].isin(submissions))].groupby(['Full Name'])['Outcome'].count()\n",
    "}"
   ]
  },
  {
   "cell_type": "code",
   "execution_count": 219,
   "metadata": {},
   "outputs": [],
   "source": [
    "fighter_stats = pd.DataFrame(data)"
   ]
  },
  {
   "cell_type": "code",
   "execution_count": 220,
   "metadata": {},
   "outputs": [],
   "source": [
    "#df[df['Full Name'] == 'AJ Fonseca']"
   ]
  },
  {
   "cell_type": "code",
   "execution_count": 221,
   "metadata": {},
   "outputs": [],
   "source": [
    "fighter_stats.fillna(0, inplace=True)"
   ]
  },
  {
   "cell_type": "code",
   "execution_count": 222,
   "metadata": {},
   "outputs": [
    {
     "data": {
      "text/html": [
       "<div>\n",
       "<style scoped>\n",
       "    .dataframe tbody tr th:only-of-type {\n",
       "        vertical-align: middle;\n",
       "    }\n",
       "\n",
       "    .dataframe tbody tr th {\n",
       "        vertical-align: top;\n",
       "    }\n",
       "\n",
       "    .dataframe thead th {\n",
       "        text-align: right;\n",
       "    }\n",
       "</style>\n",
       "<table border=\"1\" class=\"dataframe\">\n",
       "  <thead>\n",
       "    <tr style=\"text-align: right;\">\n",
       "      <th></th>\n",
       "      <th>Total Fights</th>\n",
       "      <th>Total Wins</th>\n",
       "      <th>Total Losses</th>\n",
       "      <th>Wins By Decision</th>\n",
       "      <th>Wins By KO</th>\n",
       "      <th>Wins By Submission</th>\n",
       "      <th>Loss By Decision</th>\n",
       "      <th>Loss By KO</th>\n",
       "      <th>Loss By Submission</th>\n",
       "    </tr>\n",
       "  </thead>\n",
       "  <tbody>\n",
       "    <tr>\n",
       "      <th>AJ Dobson</th>\n",
       "      <td>3</td>\n",
       "      <td>1.0</td>\n",
       "      <td>2.0</td>\n",
       "      <td>0.0</td>\n",
       "      <td>0.0</td>\n",
       "      <td>1.0</td>\n",
       "      <td>2.0</td>\n",
       "      <td>0.0</td>\n",
       "      <td>0.0</td>\n",
       "    </tr>\n",
       "    <tr>\n",
       "      <th>AJ Fletcher</th>\n",
       "      <td>4</td>\n",
       "      <td>2.0</td>\n",
       "      <td>2.0</td>\n",
       "      <td>0.0</td>\n",
       "      <td>1.0</td>\n",
       "      <td>1.0</td>\n",
       "      <td>2.0</td>\n",
       "      <td>0.0</td>\n",
       "      <td>0.0</td>\n",
       "    </tr>\n",
       "    <tr>\n",
       "      <th>AJ Fonseca</th>\n",
       "      <td>1</td>\n",
       "      <td>0.0</td>\n",
       "      <td>1.0</td>\n",
       "      <td>0.0</td>\n",
       "      <td>0.0</td>\n",
       "      <td>0.0</td>\n",
       "      <td>1.0</td>\n",
       "      <td>0.0</td>\n",
       "      <td>0.0</td>\n",
       "    </tr>\n",
       "    <tr>\n",
       "      <th>AJ Matthews</th>\n",
       "      <td>1</td>\n",
       "      <td>0.0</td>\n",
       "      <td>1.0</td>\n",
       "      <td>0.0</td>\n",
       "      <td>0.0</td>\n",
       "      <td>0.0</td>\n",
       "      <td>0.0</td>\n",
       "      <td>1.0</td>\n",
       "      <td>0.0</td>\n",
       "    </tr>\n",
       "    <tr>\n",
       "      <th>Aalon Cruz</th>\n",
       "      <td>3</td>\n",
       "      <td>1.0</td>\n",
       "      <td>2.0</td>\n",
       "      <td>0.0</td>\n",
       "      <td>1.0</td>\n",
       "      <td>0.0</td>\n",
       "      <td>0.0</td>\n",
       "      <td>2.0</td>\n",
       "      <td>0.0</td>\n",
       "    </tr>\n",
       "    <tr>\n",
       "      <th>...</th>\n",
       "      <td>...</td>\n",
       "      <td>...</td>\n",
       "      <td>...</td>\n",
       "      <td>...</td>\n",
       "      <td>...</td>\n",
       "      <td>...</td>\n",
       "      <td>...</td>\n",
       "      <td>...</td>\n",
       "      <td>...</td>\n",
       "    </tr>\n",
       "    <tr>\n",
       "      <th>Zhang Tiequan</th>\n",
       "      <td>6</td>\n",
       "      <td>2.0</td>\n",
       "      <td>4.0</td>\n",
       "      <td>0.0</td>\n",
       "      <td>0.0</td>\n",
       "      <td>2.0</td>\n",
       "      <td>3.0</td>\n",
       "      <td>1.0</td>\n",
       "      <td>0.0</td>\n",
       "    </tr>\n",
       "    <tr>\n",
       "      <th>Zhang Weili</th>\n",
       "      <td>9</td>\n",
       "      <td>7.0</td>\n",
       "      <td>2.0</td>\n",
       "      <td>3.0</td>\n",
       "      <td>2.0</td>\n",
       "      <td>2.0</td>\n",
       "      <td>1.0</td>\n",
       "      <td>1.0</td>\n",
       "      <td>0.0</td>\n",
       "    </tr>\n",
       "    <tr>\n",
       "      <th>Zoila Frausto</th>\n",
       "      <td>2</td>\n",
       "      <td>1.0</td>\n",
       "      <td>1.0</td>\n",
       "      <td>1.0</td>\n",
       "      <td>0.0</td>\n",
       "      <td>0.0</td>\n",
       "      <td>0.0</td>\n",
       "      <td>0.0</td>\n",
       "      <td>1.0</td>\n",
       "    </tr>\n",
       "    <tr>\n",
       "      <th>Zubaira Tukhugov</th>\n",
       "      <td>8</td>\n",
       "      <td>5.0</td>\n",
       "      <td>3.0</td>\n",
       "      <td>3.0</td>\n",
       "      <td>2.0</td>\n",
       "      <td>0.0</td>\n",
       "      <td>3.0</td>\n",
       "      <td>0.0</td>\n",
       "      <td>0.0</td>\n",
       "    </tr>\n",
       "    <tr>\n",
       "      <th>Zviad Lazishvili</th>\n",
       "      <td>1</td>\n",
       "      <td>0.0</td>\n",
       "      <td>1.0</td>\n",
       "      <td>0.0</td>\n",
       "      <td>0.0</td>\n",
       "      <td>0.0</td>\n",
       "      <td>1.0</td>\n",
       "      <td>0.0</td>\n",
       "      <td>0.0</td>\n",
       "    </tr>\n",
       "  </tbody>\n",
       "</table>\n",
       "<p>3546 rows × 9 columns</p>\n",
       "</div>"
      ],
      "text/plain": [
       "                  Total Fights  Total Wins  Total Losses  Wins By Decision  \\\n",
       "AJ Dobson                    3         1.0           2.0               0.0   \n",
       "AJ Fletcher                  4         2.0           2.0               0.0   \n",
       "AJ Fonseca                   1         0.0           1.0               0.0   \n",
       "AJ Matthews                  1         0.0           1.0               0.0   \n",
       "Aalon Cruz                   3         1.0           2.0               0.0   \n",
       "...                        ...         ...           ...               ...   \n",
       "Zhang Tiequan                6         2.0           4.0               0.0   \n",
       "Zhang Weili                  9         7.0           2.0               3.0   \n",
       "Zoila Frausto                2         1.0           1.0               1.0   \n",
       "Zubaira Tukhugov             8         5.0           3.0               3.0   \n",
       "Zviad Lazishvili             1         0.0           1.0               0.0   \n",
       "\n",
       "                  Wins By KO  Wins By Submission  Loss By Decision  \\\n",
       "AJ Dobson                0.0                 1.0               2.0   \n",
       "AJ Fletcher              1.0                 1.0               2.0   \n",
       "AJ Fonseca               0.0                 0.0               1.0   \n",
       "AJ Matthews              0.0                 0.0               0.0   \n",
       "Aalon Cruz               1.0                 0.0               0.0   \n",
       "...                      ...                 ...               ...   \n",
       "Zhang Tiequan            0.0                 2.0               3.0   \n",
       "Zhang Weili              2.0                 2.0               1.0   \n",
       "Zoila Frausto            0.0                 0.0               0.0   \n",
       "Zubaira Tukhugov         2.0                 0.0               3.0   \n",
       "Zviad Lazishvili         0.0                 0.0               1.0   \n",
       "\n",
       "                  Loss By KO  Loss By Submission  \n",
       "AJ Dobson                0.0                 0.0  \n",
       "AJ Fletcher              0.0                 0.0  \n",
       "AJ Fonseca               0.0                 0.0  \n",
       "AJ Matthews              1.0                 0.0  \n",
       "Aalon Cruz               2.0                 0.0  \n",
       "...                      ...                 ...  \n",
       "Zhang Tiequan            1.0                 0.0  \n",
       "Zhang Weili              1.0                 0.0  \n",
       "Zoila Frausto            0.0                 1.0  \n",
       "Zubaira Tukhugov         0.0                 0.0  \n",
       "Zviad Lazishvili         0.0                 0.0  \n",
       "\n",
       "[3546 rows x 9 columns]"
      ]
     },
     "execution_count": 222,
     "metadata": {},
     "output_type": "execute_result"
    }
   ],
   "source": [
    "fighter_stats"
   ]
  },
  {
   "cell_type": "code",
   "execution_count": 223,
   "metadata": {},
   "outputs": [],
   "source": [
    "df = fighter_stats"
   ]
  },
  {
   "cell_type": "markdown",
   "metadata": {},
   "source": [
    "## Monte Carlo Simulation"
   ]
  },
  {
   "cell_type": "code",
   "execution_count": 224,
   "metadata": {},
   "outputs": [],
   "source": [
    "import math\n",
    "import random as rnd"
   ]
  },
  {
   "cell_type": "code",
   "execution_count": 225,
   "metadata": {},
   "outputs": [],
   "source": [
    "def calculate_mean(statistic, total_fights):\n",
    "    return statistic/total_fights\n",
    "\n",
    "def calculate_sd(statistic, total_fights):\n",
    "    mean = calculate_mean(statistic, total_fights)\n",
    "    return math.sqrt((mean*(1-mean))/total_fights)"
   ]
  },
  {
   "cell_type": "code",
   "execution_count": 289,
   "metadata": {},
   "outputs": [],
   "source": [
    "def get_fighter_parameters(fighter1, fighter2):\n",
    "    data = {\"Decision Wins Mean\" : [calculate_mean(df.loc[fighter1, \"Wins By Decision\"], df.loc[fighter1, \"Total Fights\"]),\n",
    "                                   calculate_mean(df.loc[fighter2, \"Wins By Decision\"], df.loc[fighter2, \"Total Fights\"])], \n",
    "            \n",
    "           \"Decision Wins SD\" : [calculate_sd(df.loc[fighter1, \"Wins By Decision\"], df.loc[fighter1, \"Total Fights\"]),\n",
    "                                   calculate_sd(df.loc[fighter2, \"Wins By Decision\"], df.loc[fighter2, \"Total Fights\"])],\n",
    "            \n",
    "           \"KO Wins Mean\" : [calculate_mean(df.loc[fighter1, \"Wins By KO\"], df.loc[fighter1, \"Total Fights\"]),\n",
    "                                   calculate_mean(df.loc[fighter2, \"Wins By KO\"], df.loc[fighter2, \"Total Fights\"])], \n",
    "            \n",
    "            'KO Wins SD' : [calculate_sd(df.loc[fighter1, \"Wins By KO\"], df.loc[fighter1, \"Total Fights\"]),\n",
    "                                   calculate_sd(df.loc[fighter2, \"Wins By KO\"], df.loc[fighter2, \"Total Fights\"])], \n",
    "           \n",
    "            'Sub Wins Mean' : [calculate_mean(df.loc[fighter1, \"Wins By Submission\"], df.loc[fighter1, \"Total Fights\"]),\n",
    "                                   calculate_mean(df.loc[fighter2, \"Wins By Submission\"], df.loc[fighter2, \"Total Fights\"])],\n",
    "           \n",
    "            'Sub Wins SD' : [calculate_sd(df.loc[fighter1, \"Wins By Submission\"], df.loc[fighter1, \"Total Fights\"]),\n",
    "                                   calculate_sd(df.loc[fighter2, \"Wins By Submission\"], df.loc[fighter2, \"Total Fights\"])], \n",
    "            \n",
    "            'Decision Loss Mean' : [calculate_mean(df.loc[fighter1, \"Loss By Decision\"], df.loc[fighter1, \"Total Fights\"]),\n",
    "                                   calculate_mean(df.loc[fighter2, \"Loss By Decision\"], df.loc[fighter2, \"Total Fights\"])], \n",
    "            \n",
    "            'Decision Loss SD' : [calculate_sd(df.loc[fighter1, \"Loss By Decision\"], df.loc[fighter1, \"Total Fights\"]),\n",
    "                                   calculate_sd(df.loc[fighter2, \"Loss By Decision\"], df.loc[fighter2, \"Total Fights\"])], \n",
    "            \n",
    "            'KO Loss Mean' : [calculate_mean(df.loc[fighter1, \"Loss By KO\"], df.loc[fighter1, \"Total Fights\"]),\n",
    "                                   calculate_mean(df.loc[fighter2, \"Loss By KO\"], df.loc[fighter2, \"Total Fights\"])], \n",
    "            \n",
    "            'KO Loss SD' : [calculate_sd(df.loc[fighter1, \"Loss By KO\"], df.loc[fighter1, \"Total Fights\"]),\n",
    "                                   calculate_sd(df.loc[fighter2, \"Loss By KO\"], df.loc[fighter2, \"Total Fights\"])], \n",
    "           \n",
    "            'Sub Loss Mean' : [calculate_mean(df.loc[fighter1, \"Loss By Submission\"], df.loc[fighter1, \"Total Fights\"]),\n",
    "                                   calculate_mean(df.loc[fighter2, \"Loss By Submission\"], df.loc[fighter2, \"Total Fights\"])], \n",
    "            \n",
    "            'Sub Loss SD' : [calculate_sd(df.loc[fighter1, \"Loss By Submission\"], df.loc[fighter1, \"Total Fights\"]),\n",
    "                                   calculate_sd(df.loc[fighter2, \"Loss By Submission\"], df.loc[fighter2, \"Total Fights\"])]}\n",
    "    \n",
    "    fighter_parameter_df = pd.DataFrame(data=data, index = [fighter1, fighter2])\n",
    "    return fighter_parameter_df"
   ]
  },
  {
   "cell_type": "code",
   "execution_count": 322,
   "metadata": {},
   "outputs": [],
   "source": [
    "matchup_df = get_fighter_parameters(\"Mateusz Gamrot\", \"Arman Tsarukyan\")"
   ]
  },
  {
   "cell_type": "code",
   "execution_count": 317,
   "metadata": {},
   "outputs": [],
   "source": [
    "#make multipliers?\n",
    "#0.4286023366508005 --> 43% end by decision\n",
    "#0.34714409346603203 --> 35% end by ko\n",
    "#0.223929035049762 --> 22% end by submission"
   ]
  },
  {
   "cell_type": "code",
   "execution_count": 226,
   "metadata": {},
   "outputs": [],
   "source": [
    "def gameSim():\n",
    "    results = []\n",
    "    fighter1_dec_score = (rnd.gauss(matchup_df.iloc[0]['Decision Wins Mean'],matchup_df.iloc[0]['Decision Wins SD'])+ \n",
    "                          rnd.gauss(matchup_df.iloc[1]['Decision Loss Mean'],matchup_df.iloc[1]['Decision Loss SD']))/2\n",
    "    fighter1_ko_score = (rnd.gauss(matchup_df.iloc[0]['KO Wins Mean'],matchup_df.iloc[0]['KO Wins SD'])+ \n",
    "                          rnd.gauss(matchup_df.iloc[1]['KO Loss Mean'],matchup_df.iloc[1]['KO Loss SD']))/2\n",
    "    fighter1_sub_score = (rnd.gauss(matchup_df.iloc[0]['Sub Wins Mean'],matchup_df.iloc[0]['Sub Wins SD'])+ \n",
    "                          rnd.gauss(matchup_df.iloc[1]['Sub Loss Mean'],matchup_df.iloc[1]['Sub Loss SD']))/2\n",
    "    fighter2_dec_score = (rnd.gauss(matchup_df.iloc[1]['Decision Wins Mean'],matchup_df.iloc[1]['Decision Wins SD'])+ \n",
    "                          rnd.gauss(matchup_df.iloc[0]['Decision Loss Mean'],matchup_df.iloc[0]['Decision Loss SD']))/2\n",
    "    fighter2_ko_score = (rnd.gauss(matchup_df.iloc[1]['KO Wins Mean'],matchup_df.iloc[1]['KO Wins SD'])+ \n",
    "                          rnd.gauss(matchup_df.iloc[0]['KO Loss Mean'],matchup_df.iloc[0]['KO Loss SD']))/2\n",
    "    fighter2_sub_score = (rnd.gauss(matchup_df.iloc[1]['Sub Wins Mean'],matchup_df.iloc[1]['Sub Wins SD'])+ \n",
    "                          rnd.gauss(matchup_df.iloc[0]['Sub Loss Mean'],matchup_df.iloc[0]['Sub Loss SD']))/2\n",
    "    \n",
    "    #results.append(fighter1_dec_score*0.5713976633491995)\n",
    "    #results.append(fighter1_ko_score*0.652855906533968)\n",
    "    #results.append(fighter1_sub_score*0.776070964950238)    \n",
    "    #results.append(fighter2_dec_score*0.5713976633491995)    \n",
    "    #results.append(fighter2_ko_score*0.652855906533968)    \n",
    "    #results.append(fighter2_sub_score*0.776070964950238)     \n",
    "    \n",
    "    results.append(fighter1_dec_score)\n",
    "    results.append(fighter1_ko_score)\n",
    "    results.append(fighter1_sub_score)    \n",
    "    results.append(fighter2_dec_score)    \n",
    "    results.append(fighter2_ko_score)    \n",
    "    results.append(fighter2_sub_score)\n",
    "    \n",
    "    #print(results)\n",
    "    if max(results) == results[0]:\n",
    "        return \"f1_dec\"\n",
    "    elif max(results) == results[1]:\n",
    "        return \"f1_ko\"\n",
    "    elif max(results) == results[2]:\n",
    "        return \"f1_sub\"\n",
    "    elif max(results) == results[3]:\n",
    "        return \"f2_dec\"\n",
    "    elif max(results) == results[4]:\n",
    "        return \"f2_ko\"\n",
    "    elif max(results) == results[5]:\n",
    "        return \"f2_sub\"\n",
    "    else: return \"tie\""
   ]
  },
  {
   "cell_type": "code",
   "execution_count": 227,
   "metadata": {},
   "outputs": [],
   "source": [
    "def gamesSim(ns):\n",
    "    matchesout = []\n",
    "    fighter1_decwin = 0\n",
    "    fighter1_kowin = 0\n",
    "    fighter1_subwin = 0\n",
    "    fighter2_decwin = 0\n",
    "    fighter2_kowin = 0\n",
    "    fighter2_subwin = 0\n",
    "    tie = 0\n",
    "    for i in range(ns):\n",
    "        gm = gameSim()\n",
    "        matchesout.append(gm)\n",
    "        if gm == \"f1_dec\":\n",
    "            fighter1_decwin +=1 \n",
    "        elif gm == \"f1_ko\":\n",
    "            fighter1_kowin +=1 \n",
    "        elif gm == \"f1_sub\":\n",
    "            fighter1_subwin +=1 \n",
    "        elif gm == \"f2_dec\":\n",
    "            fighter2_decwin +=1 \n",
    "        elif gm == \"f2_ko\":\n",
    "            fighter2_kowin +=1 \n",
    "        elif gm == \"f2_sub\":\n",
    "            fighter2_subwin +=1 \n",
    "        else: tie +=1 \n",
    "    \n",
    "    print(matchup_df.index[0] +' Decision Win ', round((fighter1_decwin/ns)*100,2),'%')\n",
    "    print(matchup_df.index[0] +' KO Win ', round((fighter1_kowin/ns)*100,2),'%')\n",
    "    print(matchup_df.index[0] +' Submission Win ', round((fighter1_subwin/ns)*100,2),'%')\n",
    "    print(matchup_df.index[1] +' Decision Win ', round((fighter2_decwin/ns)*100,2),'%')\n",
    "    print(matchup_df.index[1] +' KO Win ', round((fighter2_kowin/ns)*100,2),'%')\n",
    "    print(matchup_df.index[1] +' Submission Win ', round((fighter2_subwin/ns)*100,2),'%')\n",
    "    print('Tie ', (tie/ns)*100, '%')\n",
    "    \n",
    "    #return matchesout"
   ]
  },
  {
   "cell_type": "markdown",
   "metadata": {},
   "source": [
    "## Predictions on UFC Fight Night: Song vs Simón"
   ]
  },
  {
   "cell_type": "markdown",
   "metadata": {},
   "source": [
    "### Song Yadong vs Ricky Simón"
   ]
  },
  {
   "cell_type": "code",
   "execution_count": 229,
   "metadata": {},
   "outputs": [
    {
     "name": "stdout",
     "output_type": "stream",
     "text": [
      "Song Yadong Decision Win  13.7 %\n",
      "Song Yadong KO Win  32.91 %\n",
      "Song Yadong Submission Win  0.05 %\n",
      "Ricky Simon Decision Win  50.26 %\n",
      "Ricky Simon KO Win  0.62 %\n",
      "Ricky Simon Submission Win  2.46 %\n",
      "Tie  0.0 %\n"
     ]
    }
   ],
   "source": [
    "matchup_df = get_fighter_parameters(\"Song Yadong\", \"Ricky Simon\")\n",
    "gamesSim(10000)"
   ]
  },
  {
   "cell_type": "markdown",
   "metadata": {},
   "source": [
    "### Caio Borralho vs Michal Oleksiejczuk"
   ]
  },
  {
   "cell_type": "code",
   "execution_count": 231,
   "metadata": {},
   "outputs": [
    {
     "name": "stdout",
     "output_type": "stream",
     "text": [
      "Caio Borralho Decision Win  90.54 %\n",
      "Caio Borralho KO Win  0.19 %\n",
      "Caio Borralho Submission Win  0.06 %\n",
      "Michal Oleksiejczuk Decision Win  0.0 %\n",
      "Michal Oleksiejczuk KO Win  9.21 %\n",
      "Michal Oleksiejczuk Submission Win  0.0 %\n",
      "Tie  0.0 %\n"
     ]
    }
   ],
   "source": [
    "matchup_df = get_fighter_parameters(\"Caio Borralho\", \"Michal Oleksiejczuk\")\n",
    "gamesSim(10000)"
   ]
  },
  {
   "cell_type": "markdown",
   "metadata": {},
   "source": [
    "### Rodolfo Vieira vs Cody Brundage"
   ]
  },
  {
   "cell_type": "code",
   "execution_count": 232,
   "metadata": {},
   "outputs": [
    {
     "name": "stdout",
     "output_type": "stream",
     "text": [
      "Rodolfo Vieira Decision Win  2.14 %\n",
      "Rodolfo Vieira KO Win  17.2 %\n",
      "Rodolfo Vieira Submission Win  56.09 %\n",
      "Cody Brundage Decision Win  2.25 %\n",
      "Cody Brundage KO Win  2.08 %\n",
      "Cody Brundage Submission Win  20.24 %\n",
      "Tie  0.0 %\n"
     ]
    }
   ],
   "source": [
    "matchup_df = get_fighter_parameters(\"Rodolfo Vieira\", \"Cody Brundage\")\n",
    "gamesSim(10000)"
   ]
  },
  {
   "cell_type": "markdown",
   "metadata": {},
   "source": [
    "### Julian Erosa vs Fernando Padilla - N/A (Fernando Padilla's first fight recorded on fightmetric)"
   ]
  },
  {
   "cell_type": "markdown",
   "metadata": {},
   "source": [
    "### Marcos Rogério de Lima vs Waldo Cortes-Acosta"
   ]
  },
  {
   "cell_type": "code",
   "execution_count": 238,
   "metadata": {},
   "outputs": [
    {
     "name": "stdout",
     "output_type": "stream",
     "text": [
      "Marcos Rogerio de Lima Decision Win  5.49 %\n",
      "Marcos Rogerio de Lima KO Win  69.18 %\n",
      "Marcos Rogerio de Lima Submission Win  0.01 %\n",
      "Cody Brundage Decision Win  0.02 %\n",
      "Cody Brundage KO Win  1.38 %\n",
      "Cody Brundage Submission Win  23.92 %\n",
      "Tie  0.0 %\n"
     ]
    }
   ],
   "source": [
    "matchup_df = get_fighter_parameters(\"Marcos Rogerio de Lima\", \"Cody Brundage\")\n",
    "gamesSim(10000)"
   ]
  },
  {
   "cell_type": "markdown",
   "metadata": {},
   "source": [
    "### Josh Quinlan vs Trey Waters"
   ]
  },
  {
   "cell_type": "code",
   "execution_count": 239,
   "metadata": {},
   "outputs": [
    {
     "name": "stdout",
     "output_type": "stream",
     "text": [
      "Josh Quinlan Decision Win  0.0 %\n",
      "Josh Quinlan KO Win  100.0 %\n",
      "Josh Quinlan Submission Win  0.0 %\n",
      "Trey Waters Decision Win  0.0 %\n",
      "Trey Waters KO Win  0.0 %\n",
      "Trey Waters Submission Win  0.0 %\n",
      "Tie  0.0 %\n"
     ]
    }
   ],
   "source": [
    "matchup_df = get_fighter_parameters(\"Josh Quinlan\", \"Trey Waters\")\n",
    "gamesSim(10000)"
   ]
  },
  {
   "cell_type": "markdown",
   "metadata": {},
   "source": [
    "### Martin Buday vs Jake Collier"
   ]
  },
  {
   "cell_type": "code",
   "execution_count": 240,
   "metadata": {},
   "outputs": [
    {
     "name": "stdout",
     "output_type": "stream",
     "text": [
      "Martin Buday Decision Win  71.82 %\n",
      "Martin Buday KO Win  27.73 %\n",
      "Martin Buday Submission Win  0.0 %\n",
      "Jake Collier Decision Win  0.45 %\n",
      "Jake Collier KO Win  0.0 %\n",
      "Jake Collier Submission Win  0.0 %\n",
      "Tie  0.0 %\n"
     ]
    }
   ],
   "source": [
    "matchup_df = get_fighter_parameters(\"Martin Buday\", \"Jake Collier\")\n",
    "gamesSim(10000)"
   ]
  },
  {
   "cell_type": "markdown",
   "metadata": {},
   "source": [
    "### Cody Durden vs Charles Johnson"
   ]
  },
  {
   "cell_type": "code",
   "execution_count": 241,
   "metadata": {},
   "outputs": [
    {
     "name": "stdout",
     "output_type": "stream",
     "text": [
      "Cody Durden Decision Win  85.59 %\n",
      "Cody Durden KO Win  1.16 %\n",
      "Cody Durden Submission Win  0.0 %\n",
      "Charles Johnson Decision Win  2.52 %\n",
      "Charles Johnson KO Win  2.41 %\n",
      "Charles Johnson Submission Win  8.32 %\n",
      "Tie  0.0 %\n"
     ]
    }
   ],
   "source": [
    "matchup_df = get_fighter_parameters(\"Cody Durden\", \"Charles Johnson\")\n",
    "gamesSim(10000)"
   ]
  },
  {
   "cell_type": "markdown",
   "metadata": {},
   "source": [
    "### Stephanie Egger vs Irina Alekseeva - N/A (Irina Alekseeva first fight recorded on fightmetric)"
   ]
  },
  {
   "cell_type": "markdown",
   "metadata": {},
   "source": [
    "### Journey Newson vs Marcus McGhee - N/A (Marcus McGhee first fight recorded on fightmetric)"
   ]
  },
  {
   "cell_type": "markdown",
   "metadata": {},
   "source": [
    "### Hailey Cowan vs Jamey-Lyn Horth - N/A (Jamey-Lyn Horth first fight recorded on fightmetric)"
   ]
  },
  {
   "cell_type": "markdown",
   "metadata": {},
   "source": [
    "## Predictions on UFC 288: Sterling vs. Cejudo"
   ]
  },
  {
   "cell_type": "markdown",
   "metadata": {},
   "source": [
    "### Aljamain Sterling vs Henry Cejudo"
   ]
  },
  {
   "cell_type": "code",
   "execution_count": 244,
   "metadata": {},
   "outputs": [
    {
     "name": "stdout",
     "output_type": "stream",
     "text": [
      "Aljamain Sterling Decision Win  27.69 %\n",
      "Aljamain Sterling KO Win  0.29 %\n",
      "Aljamain Sterling Submission Win  0.28 %\n",
      "Henry Cejudo Decision Win  63.48 %\n",
      "Henry Cejudo KO Win  8.26 %\n",
      "Henry Cejudo Submission Win  0.0 %\n",
      "Tie  0.0 %\n"
     ]
    }
   ],
   "source": [
    "matchup_df = get_fighter_parameters(\"Aljamain Sterling\", \"Henry Cejudo\")\n",
    "gamesSim(10000)"
   ]
  },
  {
   "cell_type": "markdown",
   "metadata": {},
   "source": [
    "### Belal Muhammad vs Gilbert Burns"
   ]
  },
  {
   "cell_type": "code",
   "execution_count": 245,
   "metadata": {},
   "outputs": [
    {
     "name": "stdout",
     "output_type": "stream",
     "text": [
      "Belal Muhammad Decision Win  93.46 %\n",
      "Belal Muhammad KO Win  0.02 %\n",
      "Belal Muhammad Submission Win  0.0 %\n",
      "Gilbert Burns Decision Win  6.46 %\n",
      "Gilbert Burns KO Win  0.04 %\n",
      "Gilbert Burns Submission Win  0.02 %\n",
      "Tie  0.0 %\n"
     ]
    }
   ],
   "source": [
    "matchup_df = get_fighter_parameters(\"Belal Muhammad\", \"Gilbert Burns\")\n",
    "gamesSim(10000)"
   ]
  },
  {
   "cell_type": "markdown",
   "metadata": {},
   "source": [
    "### Jessica Andrade vs Yan Xiaonan"
   ]
  },
  {
   "cell_type": "code",
   "execution_count": 246,
   "metadata": {},
   "outputs": [
    {
     "name": "stdout",
     "output_type": "stream",
     "text": [
      "Jessica Andrade Decision Win  1.57 %\n",
      "Jessica Andrade KO Win  0.32 %\n",
      "Jessica Andrade Submission Win  0.0 %\n",
      "Yan Xiaonan Decision Win  98.11 %\n",
      "Yan Xiaonan KO Win  0.0 %\n",
      "Yan Xiaonan Submission Win  0.0 %\n",
      "Tie  0.0 %\n"
     ]
    }
   ],
   "source": [
    "matchup_df = get_fighter_parameters(\"Jessica Andrade\", \"Yan Xiaonan\")\n",
    "gamesSim(10000)"
   ]
  },
  {
   "cell_type": "markdown",
   "metadata": {},
   "source": [
    "### Movsar Evloev vs Bryce Mitchell"
   ]
  },
  {
   "cell_type": "code",
   "execution_count": 247,
   "metadata": {},
   "outputs": [
    {
     "name": "stdout",
     "output_type": "stream",
     "text": [
      "Movsar Evloev Decision Win  95.42 %\n",
      "Movsar Evloev KO Win  0.0 %\n",
      "Movsar Evloev Submission Win  0.0 %\n",
      "Bryce Mitchell Decision Win  4.58 %\n",
      "Bryce Mitchell KO Win  0.0 %\n",
      "Bryce Mitchell Submission Win  0.0 %\n",
      "Tie  0.0 %\n"
     ]
    }
   ],
   "source": [
    "matchup_df = get_fighter_parameters(\"Movsar Evloev\", \"Bryce Mitchell\")\n",
    "gamesSim(10000)"
   ]
  },
  {
   "cell_type": "markdown",
   "metadata": {},
   "source": [
    "### Kron Gracie vs Charles Jourdain"
   ]
  },
  {
   "cell_type": "code",
   "execution_count": 249,
   "metadata": {},
   "outputs": [
    {
     "name": "stdout",
     "output_type": "stream",
     "text": [
      "Kron Gracie Decision Win  13.53 %\n",
      "Kron Gracie KO Win  0.0 %\n",
      "Kron Gracie Submission Win  42.38 %\n",
      "Charles Jourdain Decision Win  42.72 %\n",
      "Charles Jourdain KO Win  1.27 %\n",
      "Charles Jourdain Submission Win  0.1 %\n",
      "Tie  0.0 %\n"
     ]
    }
   ],
   "source": [
    "matchup_df = get_fighter_parameters(\"Kron Gracie\", \"Charles Jourdain\")\n",
    "gamesSim(10000)"
   ]
  },
  {
   "cell_type": "markdown",
   "metadata": {},
   "source": [
    "### Drew Dober vs Matt Frevola"
   ]
  },
  {
   "cell_type": "code",
   "execution_count": null,
   "metadata": {},
   "outputs": [],
   "source": [
    "matchup_df = get_fighter_parameters(\"Kron Gracie\", \"Charles Jourdain\")\n",
    "gamesSim(10000)"
   ]
  },
  {
   "cell_type": "markdown",
   "metadata": {},
   "source": [
    "### Kennedy Nzechukwu vs Devin Clark"
   ]
  },
  {
   "cell_type": "code",
   "execution_count": 250,
   "metadata": {},
   "outputs": [
    {
     "name": "stdout",
     "output_type": "stream",
     "text": [
      "Kennedy Nzechukwu Decision Win  0.8 %\n",
      "Kennedy Nzechukwu KO Win  70.85 %\n",
      "Kennedy Nzechukwu Submission Win  0.09 %\n",
      "Devin Clark Decision Win  28.19 %\n",
      "Devin Clark KO Win  0.07 %\n",
      "Devin Clark Submission Win  0.0 %\n",
      "Tie  0.0 %\n"
     ]
    }
   ],
   "source": [
    "matchup_df = get_fighter_parameters(\"Kennedy Nzechukwu\", \"Devin Clark\")\n",
    "gamesSim(10000)"
   ]
  },
  {
   "cell_type": "markdown",
   "metadata": {},
   "source": [
    "### Khaos Williams vs Rolando Bedoya - N/A (Rolando Bedoya first fight recorded on fightmetric)"
   ]
  },
  {
   "cell_type": "markdown",
   "metadata": {},
   "source": [
    "### Marina Rodriguez vs Virna Jandiroba"
   ]
  },
  {
   "cell_type": "code",
   "execution_count": 252,
   "metadata": {},
   "outputs": [
    {
     "name": "stdout",
     "output_type": "stream",
     "text": [
      "Marina Rodriguez Decision Win  97.9 %\n",
      "Marina Rodriguez KO Win  0.24 %\n",
      "Marina Rodriguez Submission Win  0.0 %\n",
      "Virna Jandiroba Decision Win  0.41 %\n",
      "Virna Jandiroba KO Win  0.65 %\n",
      "Virna Jandiroba Submission Win  0.8 %\n",
      "Tie  0.0 %\n"
     ]
    }
   ],
   "source": [
    "matchup_df = get_fighter_parameters(\"Marina Rodriguez\", \"Virna Jandiroba\")\n",
    "gamesSim(10000)"
   ]
  },
  {
   "cell_type": "markdown",
   "metadata": {},
   "source": [
    "### Braxton Smith vs Parker Porter - N/A (Braxton Smith first fight recorded on fightmetric)"
   ]
  },
  {
   "cell_type": "markdown",
   "metadata": {},
   "source": [
    "### Phil Hawes vs Ikram Aliskerov"
   ]
  },
  {
   "cell_type": "code",
   "execution_count": 255,
   "metadata": {},
   "outputs": [
    {
     "name": "stdout",
     "output_type": "stream",
     "text": [
      "Phil Hawes Decision Win  0.0 %\n",
      "Phil Hawes KO Win  0.01 %\n",
      "Phil Hawes Submission Win  0.0 %\n",
      "Ikram Aliskerov Decision Win  0.0 %\n",
      "Ikram Aliskerov KO Win  0.02 %\n",
      "Ikram Aliskerov Submission Win  99.97 %\n",
      "Tie  0.0 %\n"
     ]
    }
   ],
   "source": [
    "matchup_df = get_fighter_parameters(\"Phil Hawes\", \"Ikram Aliskerov\")\n",
    "gamesSim(10000)"
   ]
  },
  {
   "cell_type": "markdown",
   "metadata": {},
   "source": [
    "### Rafael Estevam vs Zhalgas Zhumagulov"
   ]
  },
  {
   "cell_type": "code",
   "execution_count": 256,
   "metadata": {},
   "outputs": [
    {
     "name": "stdout",
     "output_type": "stream",
     "text": [
      "Rafael Estevam Decision Win  2.14 %\n",
      "Rafael Estevam KO Win  97.86 %\n",
      "Rafael Estevam Submission Win  0.0 %\n",
      "Zhalgas Zhumagulov Decision Win  0.0 %\n",
      "Zhalgas Zhumagulov KO Win  0.0 %\n",
      "Zhalgas Zhumagulov Submission Win  0.0 %\n",
      "Tie  0.0 %\n"
     ]
    }
   ],
   "source": [
    "matchup_df = get_fighter_parameters(\"Rafael Estevam\", \"Zhalgas Zhumagulov\")\n",
    "gamesSim(10000)"
   ]
  },
  {
   "cell_type": "markdown",
   "metadata": {},
   "source": [
    "### Joseph Holmes vs Claudio Ribeiro"
   ]
  },
  {
   "cell_type": "code",
   "execution_count": 257,
   "metadata": {},
   "outputs": [
    {
     "name": "stdout",
     "output_type": "stream",
     "text": [
      "Joseph Holmes Decision Win  0.0 %\n",
      "Joseph Holmes KO Win  31.85 %\n",
      "Joseph Holmes Submission Win  27.19 %\n",
      "Claudio Ribeiro Decision Win  4.97 %\n",
      "Claudio Ribeiro KO Win  31.26 %\n",
      "Claudio Ribeiro Submission Win  4.73 %\n",
      "Tie  0.0 %\n"
     ]
    }
   ],
   "source": [
    "matchup_df = get_fighter_parameters(\"Joseph Holmes\", \"Claudio Ribeiro\")\n",
    "gamesSim(10000)"
   ]
  },
  {
   "cell_type": "markdown",
   "metadata": {},
   "source": [
    "### Daniel Santos vs Johnny Munoz"
   ]
  },
  {
   "cell_type": "code",
   "execution_count": 258,
   "metadata": {},
   "outputs": [
    {
     "name": "stdout",
     "output_type": "stream",
     "text": [
      "Daniel Santos Decision Win  2.45 %\n",
      "Daniel Santos KO Win  47.41 %\n",
      "Daniel Santos Submission Win  0.0 %\n",
      "Johnny Munoz Decision Win  47.37 %\n",
      "Johnny Munoz KO Win  0.0 %\n",
      "Johnny Munoz Submission Win  2.77 %\n",
      "Tie  0.0 %\n"
     ]
    }
   ],
   "source": [
    "matchup_df = get_fighter_parameters(\"Daniel Santos\", \"Johnny Munoz\")\n",
    "gamesSim(10000)"
   ]
  },
  {
   "cell_type": "code",
   "execution_count": null,
   "metadata": {},
   "outputs": [],
   "source": []
  },
  {
   "cell_type": "code",
   "execution_count": null,
   "metadata": {},
   "outputs": [],
   "source": []
  }
 ],
 "metadata": {
  "kernelspec": {
   "display_name": "Python 3",
   "language": "python",
   "name": "python3"
  },
  "language_info": {
   "codemirror_mode": {
    "name": "ipython",
    "version": 3
   },
   "file_extension": ".py",
   "mimetype": "text/x-python",
   "name": "python",
   "nbconvert_exporter": "python",
   "pygments_lexer": "ipython3",
   "version": "3.8.3"
  }
 },
 "nbformat": 4,
 "nbformat_minor": 4
}
